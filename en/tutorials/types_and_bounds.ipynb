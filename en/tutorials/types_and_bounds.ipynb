{
 "cells": [
  {
   "cell_type": "markdown",
   "metadata": {},
   "source": [
    "# Types and Bounds\n",
    "\n",
    "`jijmodeling` supports integer `IntegerVar` and continuous variables `ContinuousVar` in addition to binary variables `BinaryVar` as decision variables. Different from `BinaryVar`, both `IntegerVar` and `ContinuousVar` requires lower and upper bounds:"
   ]
  },
  {
   "cell_type": "code",
   "execution_count": 2,
   "metadata": {},
   "outputs": [],
   "source": [
    "import jijmodeling as jm\n",
    "\n",
    "# Integer variable in [0, 10]\n",
    "x = jm.IntegerVar(\"x\", lower_bound=0, upper_bound=10)\n",
    "# Continuous variable in [0, 2.5]\n",
    "y = jm.ContinuousVar(\"y\", lower_bound=0.0, upper_bound=2.5)"
   ]
  },
  {
   "cell_type": "markdown",
   "metadata": {},
   "source": [
    "There are also semi-integer and semi-continuous variable which takes value in its bound or $0$:"
   ]
  },
  {
   "cell_type": "code",
   "execution_count": 3,
   "metadata": {},
   "outputs": [],
   "source": [
    "# Integer value in [3, 10] or 0\n",
    "sx = jm.SemiIntegerVar(\"x\", lower_bound=3, upper_bound=10)\n",
    "# Continuous value in [0.5, 2.0] or 0\n",
    "sy = jm.SemiContinuousVar(\"y\", lower_bound=0.5, upper_bound=2.0)"
   ]
  },
  {
   "cell_type": "markdown",
   "metadata": {},
   "source": [
    "Bound of variables can be `Placeholder` or scalar expression without decision variables."
   ]
  },
  {
   "cell_type": "code",
   "execution_count": 4,
   "metadata": {},
   "outputs": [],
   "source": [
    "L = jm.Placeholder(\"Lower\")\n",
    "U = jm.Placeholder(\"Upper\")\n",
    "x = jm.IntegerVar(\"x\", lower_bound=L, upper_bound=U)\n",
    "y = jm.ContinuousVar(\"y\", lower_bound=L/2, upper_bound=U*U)"
   ]
  },
  {
   "cell_type": "markdown",
   "metadata": {},
   "source": [
    "## Encoding to binary variables\n",
    "To be written."
   ]
  }
 ],
 "metadata": {
  "kernelspec": {
   "display_name": ".venv",
   "language": "python",
   "name": "python3"
  },
  "language_info": {
   "codemirror_mode": {
    "name": "ipython",
    "version": 3
   },
   "file_extension": ".py",
   "mimetype": "text/x-python",
   "name": "python",
   "nbconvert_exporter": "python",
   "pygments_lexer": "ipython3",
   "version": "3.11.5"
  }
 },
 "nbformat": 4,
 "nbformat_minor": 2
}
