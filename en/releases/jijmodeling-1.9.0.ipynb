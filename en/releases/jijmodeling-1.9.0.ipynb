{
 "cells": [
  {
   "cell_type": "markdown",
   "id": "04beff77-c455-41ed-becd-84c5a672b01b",
   "metadata": {
    "editable": true,
    "slideshow": {
     "slide_type": "slide"
    },
    "tags": []
   },
   "source": [
    "# JijModeling 1.9.0 Release Note"
   ]
  },
  {
   "cell_type": "code",
   "execution_count": null,
   "id": "648529c3-c8f5-4244-8840-d0585878f39d",
   "metadata": {
    "editable": true,
    "execution": {
     "iopub.execute_input": "2024-11-04T23:58:09.289297Z",
     "iopub.status.busy": "2024-11-04T23:58:09.289099Z",
     "iopub.status.idle": "2024-11-04T23:58:20.086704Z",
     "shell.execute_reply": "2024-11-04T23:58:20.086414Z"
    },
    "slideshow": {
     "slide_type": ""
    },
    "tags": []
   },
   "outputs": [],
   "source": [
    "import jijmodeling as jm"
   ]
  },
  {
   "cell_type": "markdown",
   "id": "95bfad0d-95a3-4cdd-9769-3ecdcaf2c189",
   "metadata": {
    "editable": true,
    "slideshow": {
     "slide_type": "slide"
    },
    "tags": []
   },
   "source": [
    "## Random Generation for Instance Data\n",
    "\n",
    "- `jijmodeling` now supports random data generation for placeholders!\n",
    "  - It can be useful to distribute your model with dummy data and/or test the behaviour of models against small toy inputs.\n",
    "- For more details see the API documentations of [`Problem.generate_random_dataset`](https://jij-inc.github.io/JijModeling-Tutorials/apis/jijmodeling.html#Problem.generate_random_dataset) and [`Problem.generate_random_instance`](https://jij-inc.github.io/JijModeling-Tutorials/apis/jijmodeling.html#Problem.generate_random_instance)."
   ]
  },
  {
   "cell_type": "markdown",
   "id": "e2e69160-259e-45d7-8174-f059b04090db",
   "metadata": {
    "editable": true,
    "slideshow": {
     "slide_type": "subslide"
    },
    "tags": []
   },
   "source": [
    "### [`Problem.generate_random_dataset`](https://jij-inc.github.io/JijModeling-Tutorials/apis/jijmodeling.html#Problem.generate_random_dataset) and [`Problem.generate_random_instance`](https://jij-inc.github.io/JijModeling-Tutorials/apis/jijmodeling.html#Problem.generate_random_instance)\n",
    "\n",
    "- The function `Problem.generate_random_dataset` generates a dictionary of input values to be fed into `jm.Interpreter`.\n",
    "- Use `Problem.generate_random_instance` to directly generating OMMX instance without manually initiating `Interpreter`."
   ]
  },
  {
   "cell_type": "markdown",
   "id": "b6ddf32e",
   "metadata": {},
   "source": [
    "#### Overview\n",
    "To use random generation feature, you should specify some information in `Placeholder` declaration.\n",
    "The following random-generation related attributes are added in this version:\n",
    "\n",
    "- `dtype`: The type of the element of an array (or scalar). Must be either `jm.DataType.INTEGER` or `jm.DataType.FLOAT`.\n",
    "- `jagged`: set to `True` to generate a jagged array. `False` by default.\n",
    "- `shape`: To generate an $n$-dimensional array or jagged array, you should specify the shape. This should be a tuple, with components dimension expression or `None`.\n",
    "  - `None` means the size of the axis is indeterminate. For $n$-dimensional array, each axis has random but fixed size regardless of parent axes; for jagged arrays, the same axis can have different size for each parent axes.\n",
    "\n",
    "If only `dtype` is specified, the placeholder is considered as a scalar value as in other cases."
   ]
  },
  {
   "cell_type": "markdown",
   "id": "1cb4949d",
   "metadata": {},
   "source": [
    "`Problem.generate_random_*` takes the following keyword arguments:\n",
    "\n",
    "- `seed` (optional): a seed for random data generation. If omitted, it samples from environmental entropy.\n",
    "- `options` (optional): ranges for values and axis size for each placeholder.\n",
    "- `default` (optional): default ranges option for placeholders absent in `options` argument.\n",
    "\n",
    "You will specify range objects in `options` and `default`. A concrete syntax is described in [\"Range Parameters and Range Syntax\" section of API Reference](https://jij-inc.github.io/JijModeling-Tutorials/apis/jijmodeling.html#range-parameters-and-range-syntax).\n",
    "In a nutshell, range object consists of the following fields:\n",
    "\n",
    "- `value`: range of the values in placeholder. (default: uniformly samples from closed interval $[-1, 1]$)\n",
    "- `size`: range of the size of each axis in placeholder - ignored for scalar placeholders. (default: uniformly samples from closed interval $[1, 5] \\cap \\mathbb{N}$)\n",
    "\n",
    "You can use functions from `jijmodeling.range`, `jijmodeling.range.value`, or `jijmodeling.range.size` modules and builtin `range(N, M)` function for `size` range."
   ]
  },
  {
   "cell_type": "markdown",
   "id": "e25480cb",
   "metadata": {},
   "source": [
    "#### Examples"
   ]
  },
  {
   "cell_type": "code",
   "execution_count": 2,
   "id": "733e7647",
   "metadata": {},
   "outputs": [
    {
     "data": {
      "text/latex": [
       "$$\\begin{array}{cccc}\\text{Problem:} & \\text{MyProblem} & & \\\\& & \\max \\quad \\displaystyle \\sum_{i = 0}^{n - 1} v_{i} \\cdot x_{i} & \\\\\\text{{s.t.}} & & & \\\\ & \\text{capacity} & \\displaystyle \\sum_{i = 0}^{n - 1} w_{i} \\cdot x_{i} \\leq C &  \\\\\\text{{where}} & & & \\\\& x & 1\\text{-dim binary variable}\\\\\\end{array}$$"
      ],
      "text/plain": [
       "<jijmodeling.Problem at 0x11bca60a0>"
      ]
     },
     "execution_count": 2,
     "metadata": {},
     "output_type": "execute_result"
    }
   ],
   "source": [
    "v = jm.Placeholder(\"v\", dtype=jm.DataType.INTEGER, shape=[None])\n",
    "N = v.len_at(0, latex=\"n\")\n",
    "w = jm.Placeholder(\"w\", dtype=jm.DataType.FLOAT, shape=[N])\n",
    "C = jm.Placeholder(\"C\", dtype=jm.DataType.FLOAT)\n",
    "x = jm.BinaryVar(\"x\", shape=[N])\n",
    "i = jm.Element(\"i\", belong_to=N)\n",
    "\n",
    "problem = jm.Problem(\"MyProblem\", sense=jm.ProblemSense.MAXIMIZE)\n",
    "problem += jm.sum(i, v[i] * x[i])\n",
    "problem += jm.Constraint(\"capacity\", jm.sum(i, w[i] * x[i]) <= C)\n",
    "\n",
    "problem"
   ]
  },
  {
   "cell_type": "code",
   "execution_count": 3,
   "id": "fd88afc4",
   "metadata": {},
   "outputs": [
    {
     "data": {
      "text/plain": [
       "{'C': 13.010242975288078,\n",
       " 'v': array([7120., 9322., 9926., 7927., 7473.]),\n",
       " 'w': array([13.50008444, 12.61374381, 10.8334931 , 11.8245287 ,  7.90677762])}"
      ]
     },
     "execution_count": 3,
     "metadata": {},
     "output_type": "execute_result"
    }
   ],
   "source": [
    "# Get the dictionary of generated data\n",
    "data_set = problem.generate_random_dataset(\n",
    "  seed=42,\n",
    "  # Default Options.\n",
    "  default={\n",
    "    \"value\": jm.range.open_closed(5, 15), # Samples values 5 < x <= 15\n",
    "  },\n",
    "  # Placheolder specific options.\n",
    "  options= {\n",
    "    \"v\": {\n",
    "      \"value\": range(1000, 10000), \n",
    "      \"size\": range(2, 10) # Each axis should be of length 2 <= n < 10\n",
    "    }\n",
    "  }\n",
    ")\n",
    "data_set"
   ]
  },
  {
   "cell_type": "code",
   "execution_count": 4,
   "id": "52c27896",
   "metadata": {},
   "outputs": [],
   "source": [
    "config = {\n",
    "  \"seed\": 42,\n",
    "  # Default Options.\n",
    "  \"default\": {\n",
    "    \"value\": jm.range.open_closed(5, 15), # Samples values 5 < x <= 15\n",
    "  },\n",
    "  # Placheolder specific options.\n",
    "  \"options\": {\n",
    "    \"v\": {\n",
    "      \"value\": range(1000, 10000), \n",
    "      \"size\": range(2, 10) # Each axis should be of length 2 <= n < 10\n",
    "    }\n",
    "  }\n",
    "}\n",
    "\n",
    "# `generate_random_instance` is just a wrapper around generate_random_dataset and `Interpreter.eval_problem`.\n",
    "instance = problem.generate_random_instance(**config)\n",
    "assert instance == jm.Interpreter(data_set).eval_problem(problem)"
   ]
  },
  {
   "cell_type": "code",
   "execution_count": 5,
   "id": "5b07cfd4",
   "metadata": {},
   "outputs": [],
   "source": [
    "# $n$-dimensionary array vs jagged array.\n",
    "\n",
    "N = jm.Placeholder(\"N\", dtype=jm.DataType.INTEGER)\n",
    "\n",
    "# When `jagged` unspecified (or set to `False`), the generated data will be a $n$-dimensionary array.\n",
    "ND = jm.Placeholder(\"ND\", dtype=jm.DataType.FLOAT, shape=[N, None])\n",
    "\n",
    "# When `jagged` is set to `True`, the generated data will be a jagged array.\n",
    "JD = jm.Placeholder(\n",
    "  \"JD\", dtype=jm.DataType.FLOAT, \n",
    "  shape=[N, None], jagged=True\n",
    ")\n",
    "\n",
    "W = jm.BinaryVar(\"W\", shape=[N])\n",
    "\n",
    "# Both ND and JD has ndim 3, but `None` has different meaning.\n",
    "\n",
    "# Create dummy problem\n",
    "\n",
    "problem = jm.Problem(\"MyProblem2\")\n",
    "problem += jm.sum(i, ND[i, 0] * JD[i, 0] * W[i])\n",
    "data_set = problem.generate_random_dataset(\n",
    "  seed=42,\n",
    "  default={\"size\": range(2,5)},\n",
    "  options={\"N\": {\"value\": range(2, 7)}}\n",
    ")"
   ]
  },
  {
   "cell_type": "code",
   "execution_count": 6,
   "id": "ff67b7ad",
   "metadata": {},
   "outputs": [
    {
     "data": {
      "text/plain": [
       "array([[ 0.43851716,  0.70001689,  0.52274876,  0.16669862],\n",
       "       [ 0.36490574, -0.41864448,  0.6020486 , -0.35717673],\n",
       "       [ 0.42229989,  0.75553446,  0.23352309,  0.70278017],\n",
       "       [ 0.41508094,  0.41565856, -0.81427987, -0.64195438],\n",
       "       [-0.12760731,  0.20402936, -0.37202221, -0.02161649],\n",
       "       [-0.20201642,  0.57824385,  0.27011351, -0.53733093]])"
      ]
     },
     "execution_count": 6,
     "metadata": {},
     "output_type": "execute_result"
    }
   ],
   "source": [
    "data_set[\"ND\"]"
   ]
  },
  {
   "cell_type": "code",
   "execution_count": 7,
   "id": "a051675b",
   "metadata": {},
   "outputs": [
    {
     "data": {
      "text/plain": [
       "2"
      ]
     },
     "execution_count": 7,
     "metadata": {},
     "output_type": "execute_result"
    }
   ],
   "source": [
    "jd = data_set[\"JD\"]\n",
    "assert type(jd) is jm.JaggedArray\n",
    "jd.dim"
   ]
  },
  {
   "cell_type": "code",
   "execution_count": 8,
   "id": "d25e7004",
   "metadata": {},
   "outputs": [
    {
     "data": {
      "text/plain": [
       "[[0.24546263509057664, 0.7263253599570634, 0.8895181708443229],\n",
       " [0.4939994897028319,\n",
       "  0.5691758844274051,\n",
       "  -0.9103425154924141,\n",
       "  -0.0625037501158896],\n",
       " [0.40134384632666964, 0.6071495573420034, 0.6363935389166486],\n",
       " [-0.748701159594753,\n",
       "  0.1299655840672893,\n",
       "  0.1084981932704634,\n",
       "  0.7144708283472148],\n",
       " [0.03940420021641855,\n",
       "  -0.3650379384649608,\n",
       "  -0.6156945696387756,\n",
       "  0.2877456030741061],\n",
       " [-0.2834771222423055, 0.13862576961911643]]"
      ]
     },
     "execution_count": 8,
     "metadata": {},
     "output_type": "execute_result"
    }
   ],
   "source": [
    "[[jd.get([i, j]) for j in range(jd.size_at([i]))] for i in range(jd.size_at([])) ]"
   ]
  }
 ],
 "metadata": {
  "kernelspec": {
   "display_name": ".venv",
   "language": "python",
   "name": "python3"
  },
  "language_info": {
   "codemirror_mode": {
    "name": "ipython",
    "version": 3
   },
   "file_extension": ".py",
   "mimetype": "text/x-python",
   "name": "python",
   "nbconvert_exporter": "python",
   "pygments_lexer": "ipython3",
   "version": "3.10.15"
  }
 },
 "nbformat": 4,
 "nbformat_minor": 5
}
