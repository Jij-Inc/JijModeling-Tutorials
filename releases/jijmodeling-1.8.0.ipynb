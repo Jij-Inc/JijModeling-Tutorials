{
 "cells": [
  {
   "cell_type": "markdown",
   "id": "04beff77-c455-41ed-becd-84c5a672b01b",
   "metadata": {
    "editable": true,
    "slideshow": {
     "slide_type": "slide"
    },
    "tags": []
   },
   "source": [
    "# JijModeling 1.8.0 Release Note"
   ]
  },
  {
   "cell_type": "markdown",
   "id": "95bfad0d-95a3-4cdd-9769-3ecdcaf2c189",
   "metadata": {
    "editable": true,
    "slideshow": {
     "slide_type": "slide"
    },
    "tags": []
   },
   "source": [
    "## `jijmodeling.Interpreter`\n",
    "\n",
    "- `jijmodeling` supports stand-alone compile\n",
    "  - [`jijmodeling_transpiler`](https://pypi.org/project/jijmodeling-transpiler/) or JijZept are not required now!\n",
    "- This evaluates an expression in `jijmodeling`, e.g. `x + y` into `ommx.v1.Function`\n",
    "- Also evaluates entire `jijmodeling.Problem` into `ommx.v1.Instance`"
   ]
  },
  {
   "cell_type": "markdown",
   "id": "e2e69160-259e-45d7-8174-f059b04090db",
   "metadata": {
    "editable": true,
    "slideshow": {
     "slide_type": "subslide"
    },
    "tags": []
   },
   "source": [
    "### Substitute instance data"
   ]
  },
  {
   "cell_type": "markdown",
   "id": "71ec4470-8821-4d8e-a922-6110d8fc7b21",
   "metadata": {
    "editable": true,
    "slideshow": {
     "slide_type": "fragment"
    },
    "tags": []
   },
   "source": [
    "JijModeling AST"
   ]
  },
  {
   "cell_type": "code",
   "execution_count": 2,
   "id": "648529c3-c8f5-4244-8840-d0585878f39d",
   "metadata": {
    "editable": true,
    "slideshow": {
     "slide_type": ""
    },
    "tags": []
   },
   "outputs": [],
   "source": [
    "import jijmodeling as jm\n",
    "import ommx.v1"
   ]
  },
  {
   "cell_type": "code",
   "execution_count": 3,
   "id": "99b52b79-6c2b-4f55-973e-88fdb8d868b6",
   "metadata": {},
   "outputs": [
    {
     "data": {
      "text/latex": [
       "$$\\displaystyle \\sum_{i = 0}^{n - 1} a_{i} \\cdot x_{i}$$"
      ],
      "text/plain": [
       "sum(Element(name='i', belong_to=(NumberLit(value=0), ArrayLength(array=Placeholder(name='a', ndim=1), axis=0, latex='n'))), Placeholder(name='a', ndim=1)[Element(name='i', belong_to=(NumberLit(value=0), ArrayLength(array=Placeholder(name='a', ndim=1), axis=0, latex='n')))] * BinaryVar(name='x', shape=[ArrayLength(array=Placeholder(name='a', ndim=1), axis=0, latex='n')])[Element(name='i', belong_to=(NumberLit(value=0), ArrayLength(array=Placeholder(name='a', ndim=1), axis=0, latex='n')))])"
      ]
     },
     "execution_count": 3,
     "metadata": {},
     "output_type": "execute_result"
    }
   ],
   "source": [
    "# Define coefficients\n",
    "a = jm.Placeholder(\"a\", ndim=1)\n",
    "n = a.len_at(0, latex=\"n\")\n",
    "i = jm.Element(\"i\", belong_to=n)\n",
    "\n",
    "# Decision variables\n",
    "x = jm.BinaryVar(\"x\", shape=(n,))\n",
    "\n",
    "# Linear function\n",
    "f = jm.sum(i, a[i] * x[i])\n",
    "f"
   ]
  },
  {
   "cell_type": "markdown",
   "id": "f9a7c575-9fac-4ff9-8f24-7708bd08c596",
   "metadata": {
    "editable": true,
    "slideshow": {
     "slide_type": "fragment"
    },
    "tags": []
   },
   "source": [
    "can be compiled by `Interpreter.eval_expr`"
   ]
  },
  {
   "cell_type": "code",
   "execution_count": 7,
   "id": "57b0539d-fb94-4b00-9622-9f5c998a2a67",
   "metadata": {},
   "outputs": [
    {
     "data": {
      "text/plain": [
       "Function(x0 + 2*x1 + 3*x2)"
      ]
     },
     "execution_count": 7,
     "metadata": {},
     "output_type": "execute_result"
    }
   ],
   "source": [
    "interpreter = jm.Interpreter({\"a\": [1, 2, 3]})\n",
    "f_ = interpreter.eval_expr(f)\n",
    "f_"
   ]
  },
  {
   "cell_type": "markdown",
   "id": "f0e63430-5882-4be1-bb5a-4d2597c5b65f",
   "metadata": {
    "editable": true,
    "slideshow": {
     "slide_type": "subslide"
    },
    "tags": []
   },
   "source": [
    "### Eval Problem into ommx.v1.Instance"
   ]
  },
  {
   "cell_type": "code",
   "execution_count": null,
   "id": "cabd239d-a7cf-4fab-bda8-1692d21f74be",
   "metadata": {},
   "outputs": [],
   "source": []
  },
  {
   "cell_type": "markdown",
   "id": "8518ebe0-cead-41d1-8cbf-c64bb7623406",
   "metadata": {
    "editable": true,
    "slideshow": {
     "slide_type": "subslide"
    },
    "tags": []
   },
   "source": [
    "### Limitations\n",
    "\n",
    "- `jijmodeling.CustomPenaltyTerm` is not supported yet.\n",
    "  - This will be supported in next version with OMMX update."
   ]
  }
 ],
 "metadata": {
  "kernelspec": {
   "display_name": "Python 3 (ipykernel)",
   "language": "python",
   "name": "python3"
  },
  "language_info": {
   "codemirror_mode": {
    "name": "ipython",
    "version": 3
   },
   "file_extension": ".py",
   "mimetype": "text/x-python",
   "name": "python",
   "nbconvert_exporter": "python",
   "pygments_lexer": "ipython3",
   "version": "3.11.4"
  }
 },
 "nbformat": 4,
 "nbformat_minor": 5
}
