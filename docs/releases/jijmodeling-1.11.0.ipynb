{
 "cells": [
  {
   "cell_type": "markdown",
   "metadata": {},
   "source": [
    "# JijModeling 1.11.0 Release Notes\n",
    "\n",
    "## Bugifx: `Interpreter` is now more liberal on duplicated constraint name\n",
    "\n",
    "Since JijModeling v1.10.0, `Interpreter` cannot have more than one constraints with the same name, which is not the case with <= 1.9.\n",
    "Now, `Interpreter` is more liberal on duplicated constraint names:\n",
    "\n",
    "- It now treats constraints seprately for each problem, so constraints from distinct problems won't cause any name collision.\n",
    "- If the newly evaluated constraint has the same name as the previously evaluated constraints, it won't cause error if either:\n",
    "    1. it has the same definition on the already-defined `forall` parameters, or\n",
    "    2. the `forall` parameter is previously undefined.\n",
    "\n",
    "This change allows more intuitive treatment of problem relaxation or partition.\n",
    "\n",
    "## Improvements in Hint Detection\n",
    "\n",
    "- You can now `hints` optional argument to `eval_problem`, which specifies the list of constraint types to be detected. This should be useful when you use specific solvers that supports only a subset of constraint types are supported.\n",
    "  + `hints = None` (default): Detects the default set of constraint types (currently, `OneHot` only).\n",
    "  + `hints = []`: Disables hint detection entirely.\n",
    "- Now hint detection mechanism can take into account some algebraic congruence (though not complete).\n",
    "  + For example, it can now detects the following as the one-hot constraint:\n",
    "    $$\n",
    "    0 = 1 - \\sum_i (2 - 1) x_i\\\\\n",
    "    \\sum_i 2 x_i + 1 = 3\n",
    "    $$\n",
    "- Now `jm.eval_problem()` can derive additional constraints for duplicated variables. For example, if you have $\\sum_{i < 3} x_i = 1$ with $x_1 = x_2$, then it outputs new constraint $x_1 = 0$.\n",
    "- `jm.eval_problem()` can now raise an exception when infeasible constraint is detected, e.g. $\\sum_{i < 0} x_i = 1$.\n",
    "\n",
    "## Other Improvements\n",
    "\n",
    "- Now stub file has more functions with type hints!"
   ]
  },
  {
   "cell_type": "markdown",
   "metadata": {},
   "source": []
  }
 ],
 "metadata": {
  "kernelspec": {
   "display_name": ".venv",
   "language": "python",
   "name": "python3"
  },
  "language_info": {
   "codemirror_mode": {
    "name": "ipython",
    "version": 3
   },
   "file_extension": ".py",
   "mimetype": "text/x-python",
   "name": "python",
   "nbconvert_exporter": "python",
   "pygments_lexer": "ipython3",
   "version": "3.10.12"
  }
 },
 "nbformat": 4,
 "nbformat_minor": 2
}
