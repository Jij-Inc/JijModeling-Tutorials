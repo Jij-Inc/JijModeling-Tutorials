{
 "cells": [
  {
   "cell_type": "markdown",
   "metadata": {},
   "source": [
    "# JijModeling 1.10.1 Release Notes\n",
    "\n",
    "Fixed an issue where the interpreter would fail to evaluate summation and product expressions if they included conditional statements referencing another index variable within their indexing sets. In previous versions (<= 1.10.0), applying conditions to one index in a summation that depended on another index in the same summation scope would cause an `InterpreterError`. This has now been resolved, allowing conditions within complex multi-index summations to be evaluated correctly."
   ]
  },
  {
   "cell_type": "code",
   "execution_count": 1,
   "metadata": {},
   "outputs": [],
   "source": [
    "import jijmodeling as jm\n",
    "\n",
    "n = jm.Placeholder(\"n\")\n",
    "m = jm.Placeholder(\"m\")\n",
    "x = jm.BinaryVar(\"x\", shape=(n, m))\n",
    "i = jm.Element(\"i\", belong_to=(0, n))\n",
    "j = jm.Element(\"j\", belong_to=(0, m))\n",
    "\n",
    "problem = jm.Problem(\"problem\")\n",
    "# Previously, the following summation would fail because it includes a condition\n",
    "# on j that depends on i, both defined within the same summation scope.\n",
    "problem += jm.sum([i, (j, j != i)], x[i, j])\n",
    "\n",
    "interpreter = jm.Interpreter({\"n\": 3, \"m\": 2})\n",
    "try:\n",
    "    # Before 1.10.1, this would raise an InterpreterError.\n",
    "    # Now, it evaluates successfully.\n",
    "    interpreter.eval_problem(problem)\n",
    "except jm.InterpreterError as e:\n",
    "    print(\"InterpreterError:\", e)"
   ]
  }
 ],
 "metadata": {
  "kernelspec": {
   "display_name": ".venv",
   "language": "python",
   "name": "python3"
  },
  "language_info": {
   "codemirror_mode": {
    "name": "ipython",
    "version": 3
   },
   "file_extension": ".py",
   "mimetype": "text/x-python",
   "name": "python",
   "nbconvert_exporter": "python",
   "pygments_lexer": "ipython3",
   "version": "3.10.12"
  }
 },
 "nbformat": 4,
 "nbformat_minor": 2
}
