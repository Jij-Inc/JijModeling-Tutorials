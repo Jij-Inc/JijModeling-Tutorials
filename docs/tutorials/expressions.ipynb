{
 "cells": [
  {
   "cell_type": "markdown",
   "metadata": {},
   "source": [
    "# 式\n",
    "\n",
    "## 式とは何か？\n",
    "\n",
    "数学では、整数または実数変数に対する二項演算または単項演算を考えます。例えば、$x + y$や$x^2$です。`jijmodeling`で定義された変数に対しても対応する演算が可能であり、その結果は「式」と呼ばれます。"
   ]
  },
  {
   "cell_type": "code",
   "execution_count": 1,
   "metadata": {},
   "outputs": [],
   "source": [
    "import jijmodeling as jm\n",
    "\n",
    "x = jm.BinaryVar(\"x\")\n",
    "y = jm.BinaryVar(\"y\")\n",
    "z = x + y\n",
    "w = x ** 2"
   ]
  },
  {
   "cell_type": "markdown",
   "metadata": {},
   "source": [
    "`x`と`y`は`BinaryVar`オブジェクトであり、`z`と`w`は表現です。これは「従属変数」とは少し異なります。`z`は、私たちが考えている問題の変数ではありません。\n",
    "\n",
    "![Expression Tree](./assets/expressions_01.png) <!-- https://docs.google.com/drawings/d/1g9hdbLD-nRSqPtLVU1NP1V-w0ITN0AAy4M4vV-0a4Ug/edit?usp=sharing -->"
   ]
  },
  {
   "cell_type": "markdown",
   "metadata": {},
   "source": [
    "## 組み込み演算\n",
    "\n",
    "Pythonの組み込み演算子（例：`+`）は、決定変数（例：`BinaryVar`）および`Placeholder`の両方に対してオーバーロードされています："
   ]
  },
  {
   "cell_type": "code",
   "execution_count": 2,
   "metadata": {},
   "outputs": [
    {
     "data": {
      "text/plain": [
       "\"BinaryVar(name='x', shape=[]) + BinaryVar(name='y', shape=[])\""
      ]
     },
     "execution_count": 2,
     "metadata": {},
     "output_type": "execute_result"
    }
   ],
   "source": [
    "x = jm.BinaryVar(\"x\")\n",
    "y = jm.BinaryVar(\"y\")\n",
    "z = x + y\n",
    "repr(z)  # \"BinaryVar(name='x', shape=[]) + BinaryVar(name='y', shape=[])\""
   ]
  },
  {
   "cell_type": "markdown",
   "metadata": {},
   "source": [
    "これは象徴的なプロセスです。つまり、`z`は上記のような表現ツリーです。Pythonの組み込み関数`repr`を使用して式木の内容を表示することができます。また、Jupyter環境にいる場合は、LaTeXを使用してより美しい表示を得ることができます。\n",
    "\n",
    ":::{admonition} 式の順序\n",
    ":class: tip \n",
    "演算子のオーバーロードは線形演算に限定されず、`is_linear`関数を使用して式が線形項のみを含むかどうかを確認できます："
   ]
  },
  {
   "cell_type": "code",
   "execution_count": 4,
   "metadata": {},
   "outputs": [
    {
     "data": {
      "text/plain": [
       "True"
      ]
     },
     "execution_count": 4,
     "metadata": {},
     "output_type": "execute_result"
    }
   ],
   "source": [
    "x = jm.BinaryVar(\"x\")\n",
    "jm.is_linear(x)  # True"
   ]
  },
  {
   "cell_type": "code",
   "execution_count": 5,
   "metadata": {},
   "outputs": [
    {
     "data": {
      "text/plain": [
       "False"
      ]
     },
     "execution_count": 5,
     "metadata": {},
     "output_type": "execute_result"
    }
   ],
   "source": [
    "w = x ** 2\n",
    "jm.is_linear(w)  # False"
   ]
  },
  {
   "cell_type": "markdown",
   "metadata": {},
   "source": [
    "式の次数を確認するために、`is_quadratic`や`is_higher_order`もあります。 :::"
   ]
  },
  {
   "cell_type": "markdown",
   "metadata": {},
   "source": [
    "### 比較演算\n",
    "\n",
    "等号演算子`==`および他の比較演算子（例：`<=`）も、等式および不等式制約を表すためにオーバーロードされています。2つの式木が同じかどうかを確認したい場合は、`is_same`関数を使用できます。"
   ]
  },
  {
   "cell_type": "code",
   "execution_count": 6,
   "metadata": {},
   "outputs": [
    {
     "data": {
      "text/plain": [
       "False"
      ]
     },
     "execution_count": 6,
     "metadata": {},
     "output_type": "execute_result"
    }
   ],
   "source": [
    "x = jm.BinaryVar(\"x\")\n",
    "y = jm.BinaryVar(\"y\")\n",
    "repr(x == y) # \"BinaryVar(name='x', shape=[]) == BinaryVar(name='y', shape=[])\"\n",
    "jm.is_same(x, y) # False"
   ]
  },
  {
   "cell_type": "markdown",
   "metadata": {},
   "source": [
    "## インデックスと総和\n",
    "\n",
    "Pythonの組み込み`list`や`numpy.ndarray`と同様に、`jijmodeling`は多次元の決定変数やパラメータの要素にアクセスするためのインデックスをサポートしています："
   ]
  },
  {
   "cell_type": "code",
   "execution_count": null,
   "metadata": {},
   "outputs": [
    {
     "data": {
      "text/latex": [
       "$$\\displaystyle x_{0, 2}$$"
      ],
      "text/plain": [
       "BinaryVar(name='x', shape=[NumberLit(value=3), NumberLit(value=4)])[NumberLit(value=0), NumberLit(value=2)]"
      ]
     },
     "execution_count": 7,
     "metadata": {},
     "output_type": "execute_result"
    }
   ],
   "source": [
    "x = jm.BinaryVar(\"x\", shape=(3, 4))\n",
    "x[0, 2]"
   ]
  },
  {
   "cell_type": "markdown",
   "metadata": {},
   "source": [
    ":::{note}\n",
    "`x[0][2]`と`x[0, 2]`は同じものを指しています。\n",
    ":::\n",
    "\n",
    "`x[0, 2]`も表現です。これは、単項演算子`**2`が適用された`x`の式木の場合と似ています。`x[0]`は、`x`に適用された「0番目の要素を取る」単項演算子`[0]`の式木です。添字は決定変数を含まない式であることができます："
   ]
  },
  {
   "cell_type": "code",
   "execution_count": 8,
   "metadata": {},
   "outputs": [
    {
     "data": {
      "text/latex": [
       "$$\\displaystyle x_{2 \\cdot n, 3 \\cdot n}$$"
      ],
      "text/plain": [
       "BinaryVar(name='x', shape=[NumberLit(value=3), NumberLit(value=4)])[NumberLit(value=2) * Placeholder(name='n', ndim=0), NumberLit(value=3) * Placeholder(name='n', ndim=0)]"
      ]
     },
     "execution_count": 8,
     "metadata": {},
     "output_type": "execute_result"
    }
   ],
   "source": [
    "x = jm.BinaryVar(\"x\", shape=(3, 4))\n",
    "n = jm.Placeholder(\"n\")\n",
    "x[2*n, 3*n]"
   ]
  },
  {
   "cell_type": "markdown",
   "metadata": {},
   "source": [
    "インデックス付けのための別のタイプの変数`Element`があります。これは、次のような内部変数$n$を表すために使用されます：\n",
    "\n",
    "$$\n",
    "\\sum_{n=0}^{N-1} x_n .\n",
    "$$\n",
    "\n",
    "この総和を表現するために、jijmodelingは3つのステップを取ります："
   ]
  },
  {
   "cell_type": "code",
   "execution_count": 9,
   "metadata": {},
   "outputs": [
    {
     "data": {
      "text/latex": [
       "$$\\displaystyle \\sum_{n = 0}^{N - 1} x_{n}$$"
      ],
      "text/plain": [
       "sum(Element(name='n', belong_to=(NumberLit(value=0), Placeholder(name='N', ndim=0))), BinaryVar(name='x', shape=[Placeholder(name='N', ndim=0)])[Element(name='n', belong_to=(NumberLit(value=0), Placeholder(name='N', ndim=0)))])"
      ]
     },
     "execution_count": 9,
     "metadata": {},
     "output_type": "execute_result"
    }
   ],
   "source": [
    "N = jm.Placeholder(\"N\")\n",
    "x = jm.BinaryVar(\"x\", shape=(N,))\n",
    "\n",
    "# Introduce an internal variable $n$ with its range $[0, N-1]$\n",
    "n = jm.Element('n', belong_to=(0, N))\n",
    "\n",
    "# Create operand expression $x_n$ using indexing expression\n",
    "xn = x[n]\n",
    "\n",
    "# Sum up integrand expression $x_n$ about the index $n$\n",
    "jm.sum(n, xn)"
   ]
  },
  {
   "cell_type": "markdown",
   "metadata": {},
   "source": [
    "$$\n",
    "\\mathrm{jm.sum(\\overbrace{n}^{subscript}, \\underbrace{x[n]}_{operand})}\n",
    "$$"
   ]
  },
  {
   "cell_type": "markdown",
   "metadata": {},
   "source": [
    ":::{tip}\n",
    "このような単純な総和は、次のように省略形で書くことができます:"
   ]
  },
  {
   "cell_type": "code",
   "execution_count": 10,
   "metadata": {},
   "outputs": [],
   "source": [
    "N = jm.Placeholder('N')\n",
    "x = jm.BinaryVar(name='x', shape=(N,))\n",
    "sum_x = x[:].sum()"
   ]
  },
  {
   "cell_type": "markdown",
   "metadata": {},
   "source": [
    ":::\n",
    "\n",
    "`Element`オブジェクト自体が式として扱えるため、$\\sum_n n x_n$を次のように書くことができます："
   ]
  },
  {
   "cell_type": "code",
   "execution_count": null,
   "metadata": {},
   "outputs": [
    {
     "data": {
      "text/latex": [
       "$$\\displaystyle \\sum_{n = 0}^{N - 1} n \\cdot x_{n}$$"
      ],
      "text/plain": [
       "sum(Element(name='n', belong_to=(NumberLit(value=0), Placeholder(name='N', ndim=0))), Element(name='n', belong_to=(NumberLit(value=0), Placeholder(name='N', ndim=0))) * BinaryVar(name='x', shape=[Placeholder(name='N', ndim=0)])[Element(name='n', belong_to=(NumberLit(value=0), Placeholder(name='N', ndim=0)))])"
      ]
     },
     "execution_count": 11,
     "metadata": {},
     "output_type": "execute_result"
    }
   ],
   "source": [
    "jm.sum(n, n * x[n])"
   ]
  },
  {
   "cell_type": "markdown",
   "metadata": {},
   "source": [
    "`jm.sum`の結果も表現です。これは、次のような同じ部分を繰り返す複雑な関数をモデル化するのに役立ちます：\n",
    "\n",
    "$$\n",
    "\\left(\\sum_{n=0}^{N-1} x_n \\right)\n",
    "\\left(1 - \\sum_{n=0}^{N-1} x_n \\right)\n",
    "$$\n",
    "\n",
    "これをシンプルなコードに変換します："
   ]
  },
  {
   "cell_type": "code",
   "execution_count": null,
   "metadata": {},
   "outputs": [
    {
     "data": {
      "text/latex": [
       "$$\\displaystyle \\sum_{n = 0}^{N - 1} x_{n} \\cdot \\left(- \\sum_{n = 0}^{N - 1} x_{n} + 1\\right)$$"
      ],
      "text/plain": [
       "sum(Element(name='n', belong_to=(NumberLit(value=0), Placeholder(name='N', ndim=0))), BinaryVar(name='x', shape=[Placeholder(name='N', ndim=0)])[Element(name='n', belong_to=(NumberLit(value=0), Placeholder(name='N', ndim=0)))]) * (- sum(Element(name='n', belong_to=(NumberLit(value=0), Placeholder(name='N', ndim=0))), BinaryVar(name='x', shape=[Placeholder(name='N', ndim=0)])[Element(name='n', belong_to=(NumberLit(value=0), Placeholder(name='N', ndim=0)))]) + NumberLit(value=1))"
      ]
     },
     "execution_count": 12,
     "metadata": {},
     "output_type": "execute_result"
    }
   ],
   "source": [
    "n = jm.Element('n', belong_to=(0, N))\n",
    "sum_x = jm.sum(n, x[n])\n",
    "sum_x * (1 - sum_x)"
   ]
  },
  {
   "cell_type": "markdown",
   "metadata": {},
   "source": [
    "## 集合に沿ったイテレーション\n",
    "数学モデルでは、しばしば集合$V$に対する総和を取ります。例えば、\n",
    "\n",
    "$$ \n",
    "\\sum_{v \\in V} x_v .\n",
    "$$\n",
    "\n",
    "非連続のインデックス（例：$[1, 4, 5, 9]$や$[2, 6]$）が集合$V$として使用されます。\n",
    "\n",
    ":::{tip}\n",
    "このようなカスタム総和は、与えられたインデックス集合$V$に対するワンホット制約のような制約でよく見られます：\n",
    "\n",
    "$$ \n",
    "\\sum_{v \\in V} x_v = 1\n",
    "$$\n",
    "\n",
    "このページで説明されているすべての表現は、Constraintオブジェクトでも使用できます\n",
    ":::"
   ]
  },
  {
   "cell_type": "code",
   "execution_count": 13,
   "metadata": {},
   "outputs": [],
   "source": [
    "N = jm.Placeholder('N')\n",
    "x = jm.BinaryVar('x', shape=(N,))\n",
    "\n",
    "# `V` is defined as a `Placeholder` object\n",
    "V = jm.Placeholder('V', ndim=1)\n",
    "\n",
    "# `V` can be passed as the argument of `belong_to` option\n",
    "v = jm.Element('v', belong_to=V)\n",
    "\n",
    "# This `Element` object can be used for summation\n",
    "sum_v = jm.sum(v, x[v])"
   ]
  },
  {
   "cell_type": "markdown",
   "metadata": {},
   "source": []
  },
  {
   "cell_type": "markdown",
   "metadata": {},
   "source": [
    "その後、実際のデータは次のように渡されます："
   ]
  },
  {
   "cell_type": "code",
   "execution_count": 14,
   "metadata": {},
   "outputs": [],
   "source": [
    "import jijmodeling_transpiler as jmt\n",
    "\n",
    "problem = jm.Problem('Iterating over a Set')\n",
    "problem += sum_v\n",
    "\n",
    "instance_data = { \"N\": 10, \"V\": [1, 4, 5, 9]}\n",
    "compiled_model = jmt.core.compile_model(problem, instance_data)"
   ]
  },
  {
   "cell_type": "markdown",
   "metadata": {},
   "source": [
    "### Jagged配列\n",
    "\n",
    "時々、$C_\\alpha$のようなインデックスセットのシリーズを考慮する必要があります。例えば、Kホット制約を課すために：\n",
    "\n",
    "$$\n",
    "\\sum_{i \\in C_\\alpha} x_i = K_\\alpha.\n",
    "$$\n",
    "\n",
    "これらのインデックスセットは異なる長さを持つことがあります。例えば、\n",
    "\n",
    "$$\n",
    "\\begin{align*}\n",
    "C_1 &= [1, 4, 5, 9], \\\\\n",
    "C_2 &= [2, 6], \\\\\n",
    "C_3 &= [3, 7, 8]\n",
    "\\end{align*}\n",
    "$$\n",
    "\n",
    "`Placeholder`オブジェクトを使用して、このようなジャギー配列を表現できます："
   ]
  },
  {
   "cell_type": "code",
   "execution_count": 15,
   "metadata": {},
   "outputs": [],
   "source": [
    "N = jm.Placeholder('N')\n",
    "x = jm.BinaryVar('x', shape=(N,))\n",
    "\n",
    "# Define as 2-dim parameter\n",
    "C = jm.Placeholder('C', ndim=2)\n",
    "\n",
    "# Number of K-hot constraints\n",
    "# Be sure we cannot take `C.len_at(1)` since `C` will be a jagged array\n",
    "M = C.len_at(0, latex=\"M\")\n",
    "\n",
    "K = jm.Placeholder('K', ndim=1)\n",
    "\n",
    "# Usual index\n",
    "a = jm.Element(name='a', belong_to=(0, M), latex=r\"\\alpha\")\n",
    "# `belong_to` can take expression, `C[a]`\n",
    "i = jm.Element(name='i', belong_to=C[a]) \n",
    "\n",
    "# K-hot constraint\n",
    "k_hot = jm.Constraint('k-hot_constraint', jm.sum(i, x[i]) == K[a], forall=a)"
   ]
  },
  {
   "cell_type": "markdown",
   "metadata": {},
   "source": [
    "その後、実際のデータは次のように渡されます："
   ]
  },
  {
   "cell_type": "code",
   "execution_count": 16,
   "metadata": {},
   "outputs": [],
   "source": [
    "problem = jm.Problem('K-hot')\n",
    "problem += k_hot\n",
    "\n",
    "instance_data = {\n",
    "    \"N\": 4,\n",
    "    \"C\": [[1, 4, 5, 9],\n",
    "          [2, 6],\n",
    "          [3, 7, 8]],\n",
    "    \"K\": [1, 1, 2],\n",
    "}\n",
    "compiled_model = jmt.core.compile_model(problem, instance_data)"
   ]
  },
  {
   "cell_type": "markdown",
   "metadata": {},
   "source": [
    "## 複数のインデックスに対する総和\n",
    "\n",
    "複数の総和を計算するために、次のように式で表すことができます：\n",
    "\n",
    "$$\n",
    "\\sum_{i, j} Q_{ij} x_{ij}\n",
    "$$\n",
    "\n",
    "これは`jijmodeling`で次のように実装できます。"
   ]
  },
  {
   "cell_type": "code",
   "execution_count": 17,
   "metadata": {},
   "outputs": [],
   "source": [
    "# set variables\n",
    "Q = jm.Placeholder('Q', ndim=2)\n",
    "I = Q.shape[0]\n",
    "J = Q.shape[1]\n",
    "x = jm.BinaryVar('x', shape=(I, J))\n",
    "i = jm.Element(name='i', belong_to=(0, I))\n",
    "j = jm.Element(name='j', belong_to=(0, J))\n",
    "# compute the sum over the two indices i, j\n",
    "sum_ij = jm.sum([i, j], Q[i, j]*x[i, j])"
   ]
  },
  {
   "cell_type": "markdown",
   "metadata": {},
   "source": [
    "複数の総和がある場合、複数の`jm.sum`を省略して、添字をリスト`[subscript1, subscript2, ...]`にすることができます。 もちろん、これは$\\sum_{i, j} = \\sum_{i} \\sum_{j}$と書くことができることがわかります。"
   ]
  },
  {
   "cell_type": "code",
   "execution_count": 18,
   "metadata": {},
   "outputs": [],
   "source": [
    "sum_ij = jm.sum(i, jm.sum(j, Q[i, j]*x[i, j]))"
   ]
  },
  {
   "cell_type": "markdown",
   "metadata": {},
   "source": [
    "## 条件付き総和\n",
    "\n",
    "可能なインデックスの全範囲にわたる総和に加えて、次のようにインデックスが特定の条件を満たす場合にのみ総和を取ることができます。\n",
    "\n",
    "$$\n",
    "\\sum_{i<U} x_i \n",
    "$$\n",
    "\n",
    "これは`jijmodeling`を使用して次のように実装できます。"
   ]
  },
  {
   "cell_type": "code",
   "execution_count": 19,
   "metadata": {},
   "outputs": [],
   "source": [
    "# Define variables to be used\n",
    "I = jm.Placeholder('I')\n",
    "x = jm.BinaryVar('x', shape=(I,))\n",
    "i = jm.Element(name='i', belong_to=(0, I))\n",
    "U = jm.Placeholder('U')\n",
    "# Calculate sum only for parts satisfying i<U\n",
    "sum_i = jm.sum((i, i<U), x[i])"
   ]
  },
  {
   "cell_type": "markdown",
   "metadata": {},
   "source": [
    "`jm.sum`のインデックスを指定する部分では、次のようにタプルを使用して`(index, condition)`を指定します。\n",
    "\n",
    "$$\n",
    "\\mathrm{jm.sum((\\underbrace{i}_{index}, \\overbrace{i<U}^{condition}), \\underbrace{x[i]}_{operand})}\n",
    "$$\n",
    "\n",
    "比較演算子`<`、`<=`、`>=`、`>`、`==`、`!=`および論理演算子`&`、`|`およびそれらの組み合わせを、添字が満たす条件式に使用できます。例えば、\n",
    "\n",
    "$$\n",
    "\\sum_{\\substack{i < U \\\\ i!=N}} d_i x_i\n",
    "$$\n",
    "\n",
    "は次のように実装できます。"
   ]
  },
  {
   "cell_type": "code",
   "execution_count": 20,
   "metadata": {},
   "outputs": [],
   "source": [
    "# Define variables to be used\n",
    "d = jm.Placeholder('d', ndim=1)\n",
    "I = d.shape[0]\n",
    "x = jm.BinaryVar('x', shape=(I,))\n",
    "U = jm.Placeholder('U')\n",
    "N = jm.Placeholder('N')\n",
    "i = jm.Element(name='i', belong_to=(0, I))\n",
    "# Calculate sum only for the part satisfying i<U and i≠N\n",
    "sum_i = jm.sum((i, (i<U)&(i!=N)), d[i]*x[i])"
   ]
  },
  {
   "cell_type": "markdown",
   "metadata": {},
   "source": [
    "$$\n",
    "\\mathrm{jm.sum((\\underbrace{i}_{subscript}, \\overbrace{(i<U)}^{condition 1} \\underbrace{\\&}_{logical operator} \\overbrace{(i!=N)}^{condition 2}), \\underbrace{d[i]*x[i ]}_{operand})}\n",
    "$$"
   ]
  },
  {
   "cell_type": "markdown",
   "metadata": {},
   "source": [
    "### 複数条件付きの総和\n",
    "複数の添字に対する総和演算に条件がある場合、例えば\n",
    "\n",
    "$$\n",
    "\\sum_{\\substack{i>L \\\\ i!=N}} \\sum_{j<i} R_{ij} x_{ij}\n",
    "$$\n",
    "\n",
    "次のような式を実装することができます。"
   ]
  },
  {
   "cell_type": "code",
   "execution_count": 21,
   "metadata": {},
   "outputs": [],
   "source": [
    "# Define variables to be used\n",
    "R = jm.Placeholder('R', ndim=2)\n",
    "I = R.shape[0]\n",
    "J = R.shape[1]\n",
    "x = jm.BinaryVar('x', shape=(I, J))\n",
    "i = jm.Element(name='i', belong_to=(0, I))\n",
    "j = jm.Element(name='j', belong_to=(0, J))\n",
    "N = jm.Placeholder('N')\n",
    "L = jm.Placeholder('L')\n",
    "# Calculate sum only for the part satisfying i>L and i!=N and j<i\n",
    "sum_ij = jm.sum([(i, (i>L)&(i!=N)), (j, j<i)], R[i, j]*x[i, j])"
   ]
  },
  {
   "cell_type": "markdown",
   "metadata": {},
   "source": [
    "`jm.sum`でインデックスを指定する部分は、`[[(index 1, condition of index 1), (index 2, condition of index 2), ...]]`のように置き換える必要があります。`[(index1, condition of index1), (index2, condition of index2), ...]`のように見えるようにすることで、各インデックスに条件を付けた複数の総和演算を記述できます。\n",
    "\n",
    ":::{caution} `[(j, j<i), (i, (i>L)&(i!=N))]`はエラーが発生します。なぜなら、$i$はまだ$j<i$の部分で定義されていないからです。 これは$\\sum_{\\substack{i>L \\\\ i!=N}} \\left( \\sum_{j<i} \\cdots \\right)$のように式で書くことができますが、$\\sum_{j<i} \\left( \\sum_{\\substack{i>L \\\\ i!=N}} \\cdots \\right)$は書くことができないことに対応します。複数の総和において添字に条件を課す順序に注意してください。 :::"
   ]
  }
 ],
 "metadata": {
  "kernelspec": {
   "display_name": ".venv",
   "language": "python",
   "name": "python3"
  },
  "language_info": {
   "codemirror_mode": {
    "name": "ipython",
    "version": 3
   },
   "file_extension": ".py",
   "mimetype": "text/x-python",
   "name": "python",
   "nbconvert_exporter": "python",
   "pygments_lexer": "ipython3",
   "version": "3.11.5"
  }
 },
 "nbformat": 4,
 "nbformat_minor": 2
}
