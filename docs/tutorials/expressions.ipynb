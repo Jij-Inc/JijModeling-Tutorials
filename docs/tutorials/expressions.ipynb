{
 "cells": [
  {
   "cell_type": "markdown",
   "metadata": {},
   "source": [
    "# 式\n",
    "\n",
    "## 式とは\n",
    "\n",
    "整数または実数変数に対する二項演算または単行演算を考えてみましょう。例えば$x+y$や$x^2$です。`jijmodeling`で定義された変数に対しても対応する演算が可能であり、その結果は「式」と呼ばれます。"
   ]
  },
  {
   "cell_type": "code",
   "execution_count": 1,
   "metadata": {},
   "outputs": [],
   "source": [
    "import jijmodeling as jm\n",
    "\n",
    "x = jm.BinaryVar(\"x\")\n",
    "y = jm.BinaryVar(\"y\")\n",
    "z = x + y\n",
    "w = x ** 2"
   ]
  },
  {
   "cell_type": "markdown",
   "metadata": {},
   "source": [
    "`x`と`y`は`BinaryVar`オブジェクトであり、`z`と`w`は「式」です。これらは「従属変数」であり、私たちが「決定変数」と呼んでいるものとは異なることに注意してください。\n",
    "\n",
    "![Expression Tree](./assets/expressions_01.png) <!-- https://docs.google.com/drawings/d/1g9hdbLD-nRSqPtLVU1NP1V-w0ITN0AAy4M4vV-0a4Ug/edit?usp=sharing -->"
   ]
  },
  {
   "cell_type": "markdown",
   "metadata": {},
   "source": [
    "## 組み込み演算\n",
    "\n",
    "Pythonの組み込み演算子（例：`+`）は、決定変数（例：`BinaryVar`）および`Placeholder`の両方に対して利用することができます。"
   ]
  },
  {
   "cell_type": "code",
   "execution_count": 2,
   "metadata": {},
   "outputs": [
    {
     "data": {
      "text/plain": [
       "\"BinaryVar(name='x', shape=[]) + BinaryVar(name='y', shape=[])\""
      ]
     },
     "execution_count": 2,
     "metadata": {},
     "output_type": "execute_result"
    }
   ],
   "source": [
    "x = jm.BinaryVar(\"x\")\n",
    "y = jm.BinaryVar(\"y\")\n",
    "z = x + y\n",
    "repr(z)"
   ]
  },
  {
   "cell_type": "markdown",
   "metadata": {},
   "source": [
    "上記のような演算は代数的な処理（つまり、式木を構成する処理）になります。Pythonの組み込み関数`repr`を使用して式木の内容を確認することができます。また、Jupyter環境の場合はLaTeXを使用してより美しい表示を得ることができます。\n",
    "\n",
    ":::{admonition} 式の次数\n",
    ":class: tip \n",
    "組み込み演算は線形演算に限定されないため、式が線形であるかどうかを判別するための関数`is_linear`が提供されています。\n",
    "\n",
    "```python\n",
    "x = jm.BinaryVar(\"x\")\n",
    "jm.is_linear(x)  # True\n",
    "\n",
    "w = x ** 2\n",
    "jm.is_linear(w)  # False\n",
    "```\n",
    "\n",
    "式の次数を確認する関数として`is_quadratic`や`is_higher_order`も提供されています。\n",
    ":::"
   ]
  },
  {
   "cell_type": "markdown",
   "metadata": {},
   "source": [
    "### 比較演算\n",
    "\n",
    "等価演算子`==`および他の比較演算子（例：`<=`）についても、等式制約および不等式制約を構築するために利用することができます。2つの式木が同じかどうかを確認したい場合は、等価演算子`==`ではなく`is_same`関数を使用するように注意してください。"
   ]
  },
  {
   "cell_type": "code",
   "execution_count": 5,
   "metadata": {},
   "outputs": [
    {
     "data": {
      "text/plain": [
       "\"BinaryVar(name='x', shape=[]) == BinaryVar(name='y', shape=[])\""
      ]
     },
     "execution_count": 5,
     "metadata": {},
     "output_type": "execute_result"
    }
   ],
   "source": [
    "x = jm.BinaryVar(\"x\")\n",
    "y = jm.BinaryVar(\"y\")\n",
    "repr(x == y)"
   ]
  },
  {
   "cell_type": "code",
   "execution_count": 6,
   "metadata": {},
   "outputs": [
    {
     "data": {
      "text/plain": [
       "False"
      ]
     },
     "execution_count": 6,
     "metadata": {},
     "output_type": "execute_result"
    }
   ],
   "source": [
    "jm.is_same(x, y)"
   ]
  },
  {
   "cell_type": "markdown",
   "metadata": {},
   "source": [
    "## インデックスと総和\n",
    "\n",
    "Pythonの組み込み`list`や`numpy.ndarray`と同様に、`jijmodeling`は多次元の決定変数やパラメータの要素にインデックスアクセスする機能をサポートしています。"
   ]
  },
  {
   "cell_type": "code",
   "execution_count": 7,
   "metadata": {},
   "outputs": [
    {
     "data": {
      "text/latex": [
       "$$\\displaystyle x_{0, 2}$$"
      ],
      "text/plain": [
       "BinaryVar(name='x', shape=[NumberLit(value=3), NumberLit(value=4)])[NumberLit(value=0), NumberLit(value=2)]"
      ]
     },
     "execution_count": 7,
     "metadata": {},
     "output_type": "execute_result"
    }
   ],
   "source": [
    "x = jm.BinaryVar(\"x\", shape=(3, 4))\n",
    "x[0, 2]"
   ]
  },
  {
   "cell_type": "markdown",
   "metadata": {},
   "source": [
    ":::{note}\n",
    "`x[0][2]`と`x[0, 2]`は同じものを指しています。\n",
    ":::\n",
    "\n",
    "`x[0, 2]`も式です。これは単項演算子`**2`が適用された`x`の式木の場合と似ています。`x[0]`は、`x`に適用された「0番目の要素を取る」単項演算子`[0]`の式木です。また、決定変数を含まない式であれば添字として指定することができます。"
   ]
  },
  {
   "cell_type": "code",
   "execution_count": 8,
   "metadata": {},
   "outputs": [
    {
     "data": {
      "text/latex": [
       "$$\\displaystyle x_{2 \\cdot n, 3 \\cdot n}$$"
      ],
      "text/plain": [
       "BinaryVar(name='x', shape=[NumberLit(value=3), NumberLit(value=4)])[NumberLit(value=2) * Placeholder(name='n', ndim=0), NumberLit(value=3) * Placeholder(name='n', ndim=0)]"
      ]
     },
     "execution_count": 8,
     "metadata": {},
     "output_type": "execute_result"
    }
   ],
   "source": [
    "x = jm.BinaryVar(\"x\", shape=(3, 4))\n",
    "n = jm.Placeholder(\"n\")\n",
    "x[2*n, 3*n]"
   ]
  },
  {
   "cell_type": "markdown",
   "metadata": {},
   "source": [
    "インデックス付けのためのクラスとして`Element`があります。これは総和の中の変数$n$を表すために利用できます。\n",
    "\n",
    "$$\n",
    "\\sum_{n=0}^{N-1} x_n .\n",
    "$$\n",
    "\n",
    "`jijmodeling`では総和を表現するために3つのステップを経る必要があります。"
   ]
  },
  {
   "cell_type": "code",
   "execution_count": 9,
   "metadata": {},
   "outputs": [
    {
     "data": {
      "text/latex": [
       "$$\\displaystyle \\sum_{n = 0}^{N - 1} x_{n}$$"
      ],
      "text/plain": [
       "sum(Element(name='n', belong_to=(NumberLit(value=0), Placeholder(name='N', ndim=0))), BinaryVar(name='x', shape=[Placeholder(name='N', ndim=0)])[Element(name='n', belong_to=(NumberLit(value=0), Placeholder(name='N', ndim=0)))])"
      ]
     },
     "execution_count": 9,
     "metadata": {},
     "output_type": "execute_result"
    }
   ],
   "source": [
    "N = jm.Placeholder(\"N\")\n",
    "x = jm.BinaryVar(\"x\", shape=(N,))\n",
    "\n",
    "# Step1. [0, N-1]を取りうる範囲とする総和の中の変数$n$を導入\n",
    "n = jm.Element('n', belong_to=(0, N))\n",
    "\n",
    "# Step2. インデックスアクセスを用いて式$x_n$を作成\n",
    "xn = x[n]\n",
    "\n",
    "# Step3. 変数$n$に沿って$x_n$の総和を取る\n",
    "jm.sum(n, xn)"
   ]
  },
  {
   "cell_type": "markdown",
   "metadata": {},
   "source": [
    "$$\n",
    "\\mathrm{jm.sum(\\overbrace{n}^{subscript}, \\underbrace{x[n]}_{operand})}\n",
    "$$"
   ]
  },
  {
   "cell_type": "markdown",
   "metadata": {},
   "source": [
    ":::{tip}\n",
    "上記のような単純な総和は省略形で書くことができます。\n",
    "\n",
    "```python\n",
    "N = jm.Placeholder('N')\n",
    "x = jm.BinaryVar(name='x', shape=(N,))\n",
    "sum_x = x[:].sum()\n",
    "```\n",
    "\n",
    ":::"
   ]
  },
  {
   "cell_type": "markdown",
   "metadata": {},
   "source": [
    "`Element`オブジェクト自体が式として扱えるため、$\\sum_n n x_n$を次のように書くこともできます。"
   ]
  },
  {
   "cell_type": "code",
   "execution_count": 11,
   "metadata": {},
   "outputs": [
    {
     "data": {
      "text/latex": [
       "$$\\displaystyle \\sum_{n = 0}^{N - 1} n \\cdot x_{n}$$"
      ],
      "text/plain": [
       "sum(Element(name='n', belong_to=(NumberLit(value=0), Placeholder(name='N', ndim=0))), Element(name='n', belong_to=(NumberLit(value=0), Placeholder(name='N', ndim=0))) * BinaryVar(name='x', shape=[Placeholder(name='N', ndim=0)])[Element(name='n', belong_to=(NumberLit(value=0), Placeholder(name='N', ndim=0)))])"
      ]
     },
     "execution_count": 11,
     "metadata": {},
     "output_type": "execute_result"
    }
   ],
   "source": [
    "jm.sum(n, n * x[n])"
   ]
  },
  {
   "cell_type": "markdown",
   "metadata": {},
   "source": [
    "`jm.sum`の結果も式になります。そのため、次のような同じ式を含むモデルも簡単に記述することができます。"
   ]
  },
  {
   "cell_type": "code",
   "execution_count": 12,
   "metadata": {},
   "outputs": [
    {
     "data": {
      "text/latex": [
       "$$\\displaystyle \\sum_{n = 0}^{N - 1} x_{n} \\cdot \\left(- \\sum_{n = 0}^{N - 1} x_{n} + 1\\right)$$"
      ],
      "text/plain": [
       "sum(Element(name='n', belong_to=(NumberLit(value=0), Placeholder(name='N', ndim=0))), BinaryVar(name='x', shape=[Placeholder(name='N', ndim=0)])[Element(name='n', belong_to=(NumberLit(value=0), Placeholder(name='N', ndim=0)))]) * (- sum(Element(name='n', belong_to=(NumberLit(value=0), Placeholder(name='N', ndim=0))), BinaryVar(name='x', shape=[Placeholder(name='N', ndim=0)])[Element(name='n', belong_to=(NumberLit(value=0), Placeholder(name='N', ndim=0)))]) + NumberLit(value=1))"
      ]
     },
     "execution_count": 12,
     "metadata": {},
     "output_type": "execute_result"
    }
   ],
   "source": [
    "n = jm.Element('n', belong_to=(0, N))\n",
    "sum_x = jm.sum(n, x[n])\n",
    "sum_x * (1 - sum_x)"
   ]
  },
  {
   "cell_type": "markdown",
   "metadata": {},
   "source": [
    "## 集合に沿った総和\n",
    "数理モデルでは、しばしば集合$V$に沿った総和を取ります。例えば、以下のような総和です。\n",
    "\n",
    "$$ \n",
    "\\sum_{v \\in V} x_v .\n",
    "$$\n",
    "\n",
    "この総和では集合$V$に沿って非連続なインデックス（例: $[1, 4, 5, 9]$や$[2, 6]$など）が使用されます。\n",
    "\n",
    ":::{tip}\n",
    "集合に沿った総和は、与えられた集合$V$に対するone-hot制約などでよく利用されます。\n",
    "\n",
    "$$ \n",
    "\\sum_{v \\in V} x_v = 1\n",
    "$$\n",
    "\n",
    "このページで説明されているすべての式はConstraintオブジェクトの第2引数の値としても使えます。\n",
    ":::"
   ]
  },
  {
   "cell_type": "code",
   "execution_count": 13,
   "metadata": {},
   "outputs": [],
   "source": [
    "N = jm.Placeholder('N')\n",
    "x = jm.BinaryVar('x', shape=(N,))\n",
    "\n",
    "# 集合$V$をPlaceholderオブジェクトとして定義\n",
    "V = jm.Placeholder('V', ndim=1)\n",
    "\n",
    "# $V$に沿って動く変数$v$を定義\n",
    "v = jm.Element('v', belong_to=V)\n",
    "\n",
    "# $V$に沿って総和を取る\n",
    "sum_v = jm.sum(v, x[v])"
   ]
  },
  {
   "cell_type": "markdown",
   "metadata": {},
   "source": [
    "また、集合$V$の実際のデータは以下のように指定する必要があります。"
   ]
  },
  {
   "cell_type": "code",
   "execution_count": 14,
   "metadata": {},
   "outputs": [],
   "source": [
    "import jijmodeling_transpiler as jmt\n",
    "\n",
    "problem = jm.Problem('Iterating over a Set')\n",
    "problem += sum_v\n",
    "\n",
    "instance_data = { \"N\": 10, \"V\": [1, 4, 5, 9]}\n",
    "compiled_model = jmt.core.compile_model(problem, instance_data)"
   ]
  },
  {
   "cell_type": "markdown",
   "metadata": {},
   "source": [
    "### Jagged配列\n",
    "\n",
    "時々、$C_\\alpha$のような集合のまとまりを考慮する必要があります。例えば、K-hot制約を設定するような場合です。\n",
    "\n",
    "$$\n",
    "\\sum_{i \\in C_\\alpha} x_i = K_\\alpha.\n",
    "$$\n",
    "\n",
    "これらの集合$C_\\alpha$は異なる要素数を持つことがあります。例えば、以下のような場合です。\n",
    "\n",
    "$$\n",
    "\\begin{align*}\n",
    "C_1 &= [1, 4, 5, 9], \\\\\n",
    "C_2 &= [2, 6], \\\\\n",
    "C_3 &= [3, 7, 8]\n",
    "\\end{align*}\n",
    "$$\n",
    "\n",
    "`Placeholder`オブジェクトを利用すれば、このような\"いびつな”配列を表現することができます。"
   ]
  },
  {
   "cell_type": "code",
   "execution_count": 15,
   "metadata": {},
   "outputs": [],
   "source": [
    "N = jm.Placeholder('N')\n",
    "x = jm.BinaryVar('x', shape=(N,))\n",
    "\n",
    "# 2次元のPlaceholderオブジェクトを定義\n",
    "C = jm.Placeholder('C', ndim=2)\n",
    "\n",
    "# K-hot制約の本数を定義\n",
    "# 0次元方向の長さは”いびつな”配列であるために取得できないことに注意\n",
    "M = C.len_at(0, latex=\"M\")\n",
    "\n",
    "K = jm.Placeholder('K', ndim=1)\n",
    "\n",
    "# $/alpha$のインデックスを定義\n",
    "a = jm.Element(name='a', belong_to=(0, M), latex=r\"\\alpha\")\n",
    "# $C_/alpha$毎の要素に沿った変数を定義\n",
    "i = jm.Element(name='i', belong_to=C[a]) \n",
    "\n",
    "# K-hot制約の定義\n",
    "k_hot = jm.Constraint('k-hot_constraint', jm.sum(i, x[i]) == K[a], forall=a)"
   ]
  },
  {
   "cell_type": "markdown",
   "metadata": {},
   "source": [
    "また、$C$に対する実際のデータは以下のように渡す必要があります。"
   ]
  },
  {
   "cell_type": "code",
   "execution_count": 16,
   "metadata": {},
   "outputs": [],
   "source": [
    "problem = jm.Problem('K-hot')\n",
    "problem += k_hot\n",
    "\n",
    "instance_data = {\n",
    "    \"N\": 4,\n",
    "    \"C\": [[1, 4, 5, 9],\n",
    "          [2, 6],\n",
    "          [3, 7, 8]],\n",
    "    \"K\": [1, 1, 2],\n",
    "}\n",
    "compiled_model = jmt.core.compile_model(problem, instance_data)"
   ]
  },
  {
   "cell_type": "markdown",
   "metadata": {},
   "source": [
    "## 複数のインデックスに対する総和\n",
    "\n",
    "次のような複数の総和が含まれるケースを考えてみましょう。\n",
    "\n",
    "$$\n",
    "\\sum_{i, j} Q_{ij} x_{ij}\n",
    "$$\n",
    "\n",
    "上記のようなケースは`jijmodeling`で次のように実装できます。"
   ]
  },
  {
   "cell_type": "code",
   "execution_count": 17,
   "metadata": {},
   "outputs": [],
   "source": [
    "# 変数の定義\n",
    "Q = jm.Placeholder('Q', ndim=2)\n",
    "I = Q.shape[0]\n",
    "J = Q.shape[1]\n",
    "x = jm.BinaryVar('x', shape=(I, J))\n",
    "i = jm.Element(name='i', belong_to=(0, I))\n",
    "j = jm.Element(name='j', belong_to=(0, J))\n",
    "# $i$と$j$に沿った総和を取る\n",
    "sum_ij = jm.sum([i, j], Q[i, j]*x[i, j])"
   ]
  },
  {
   "cell_type": "markdown",
   "metadata": {},
   "source": [
    "複数の総和がある場合、`jm.sum`を複数回使用するのではなく、第1引数をリスト`[subscript1, subscript2, ...]`にすることもできます。 もちろん、これは$\\sum_{i, j} = \\sum_{i} \\sum_{j}$であるため、`jm.sum`を複数回使用するのと同じ数理モデルになります。"
   ]
  },
  {
   "cell_type": "code",
   "execution_count": 18,
   "metadata": {},
   "outputs": [],
   "source": [
    "sum_ij = jm.sum(i, jm.sum(j, Q[i, j]*x[i, j]))"
   ]
  },
  {
   "cell_type": "markdown",
   "metadata": {},
   "source": [
    "## 条件付き総和\n",
    "\n",
    "次のようにインデックスが特定の条件を満たす部分の総和を取るケースを考えてみましょう。\n",
    "\n",
    "$$\n",
    "\\sum_{i<U} x_i \n",
    "$$\n",
    "\n",
    "上記のようなケースは`jijmodeling`を使用して次のように実装できます。"
   ]
  },
  {
   "cell_type": "code",
   "execution_count": 19,
   "metadata": {},
   "outputs": [],
   "source": [
    "# 変数を定義\n",
    "I = jm.Placeholder('I')\n",
    "x = jm.BinaryVar('x', shape=(I,))\n",
    "i = jm.Element(name='i', belong_to=(0, I))\n",
    "U = jm.Placeholder('U')\n",
    "# $i<U$を満たすインデックスについて総和を取る\n",
    "sum_i = jm.sum((i, i<U), x[i])"
   ]
  },
  {
   "cell_type": "markdown",
   "metadata": {},
   "source": [
    "インデックスが特定の条件を満たす部分の総和を取るには、`jm.sum`の第1引数にタプル`(index, condition)`を指定する必要があります。\n",
    "\n",
    "$$\n",
    "\\mathrm{jm.sum((\\underbrace{i}_{index}, \\overbrace{i<U}^{condition}), \\underbrace{x[i]}_{operand})}\n",
    "$$\n",
    "\n",
    "比較演算子`<`、`<=`、`>=`、`>`、`==`、`!=`および論理演算子`&`、`|`およびそれらの組み合わせを条件式として使用できます。例えば、\n",
    "\n",
    "$$\n",
    "\\sum_{\\substack{i < U \\\\ i!=N}} d_i x_i\n",
    "$$\n",
    "\n",
    "は次のように実装できます。"
   ]
  },
  {
   "cell_type": "code",
   "execution_count": 24,
   "metadata": {},
   "outputs": [],
   "source": [
    "# 変数の定義\n",
    "d = jm.Placeholder('d', ndim=1)\n",
    "I = d.shape[0]\n",
    "x = jm.BinaryVar('x', shape=(I,))\n",
    "U = jm.Placeholder('U')\n",
    "N = jm.Placeholder('N')\n",
    "i = jm.Element(name='i', belong_to=(0, I))\n",
    "# 条件$i<U$と条件$i≠N$を満たす部分について総和を取る\n",
    "sum_i = jm.sum((i, (i<U)&(i!=N)), d[i]*x[i])"
   ]
  },
  {
   "cell_type": "markdown",
   "metadata": {},
   "source": [
    "$$\n",
    "\\mathrm{jm.sum((\\underbrace{i}_{subscript}, \\overbrace{(i<U)}^{condition 1} \\underbrace{\\&}_{logical operator} \\overbrace{(i!=N)}^{condition 2}), \\underbrace{d[i]*x[i ]}_{operand})}\n",
    "$$"
   ]
  },
  {
   "cell_type": "markdown",
   "metadata": {},
   "source": [
    "### 複数条件付きの総和\n",
    "複数の添字に対する総和演算に条件がある場合、例えば\n",
    "\n",
    "$$\n",
    "\\sum_{\\substack{i>L \\\\ i!=N}} \\sum_{j<i} R_{ij} x_{ij}\n",
    "$$\n",
    "\n",
    "のようなケースを考えてみましょう。これは`jijmodeling`で次のように実装することができます。"
   ]
  },
  {
   "cell_type": "code",
   "execution_count": 21,
   "metadata": {},
   "outputs": [],
   "source": [
    "# 変数を定義\n",
    "R = jm.Placeholder('R', ndim=2)\n",
    "I = R.shape[0]\n",
    "J = R.shape[1]\n",
    "x = jm.BinaryVar('x', shape=(I, J))\n",
    "i = jm.Element(name='i', belong_to=(0, I))\n",
    "j = jm.Element(name='j', belong_to=(0, J))\n",
    "N = jm.Placeholder('N')\n",
    "L = jm.Placeholder('L')\n",
    "# $i>L$かつ$i≠N$かつ$j<i$を満たす部分について総和を取る\n",
    "sum_ij = jm.sum([(i, (i>L)&(i!=N)), (j, j<i)], R[i, j]*x[i, j])"
   ]
  },
  {
   "cell_type": "markdown",
   "metadata": {},
   "source": [
    "`jm.sum`の第1引数には、`[[(index 1, condition of index 1), (index 2, condition of index 2), ...]]`のように指定する必要があります。`[(index1, condition of index1), (index2, condition of index2), ...]`のように指定することで、各インデックスに条件を付けた複数の総和演算を記述できます。\n",
    "\n",
    ":::{caution}\n",
    "`[(j, j<i), (i, (i>L)&(i!=N))]`はエラーが発生します。なぜなら、$i$はまだ$j<i$の時点で定義されていないからです。 これは$\\sum_{\\substack{i>L \\\\ i!=N}} \\left( \\sum_{j<i} \\cdots \\right)$のように式で書くことができますが、$\\sum_{j<i} \\left( \\sum_{\\substack{i>L \\\\ i!=N}} \\cdots \\right)$は書くことができないことに対応します。複数の総和において添字に条件を課す順序に注意してください。 \n",
    ":::"
   ]
  }
 ],
 "metadata": {
  "kernelspec": {
   "display_name": ".venv",
   "language": "python",
   "name": "python3"
  },
  "language_info": {
   "codemirror_mode": {
    "name": "ipython",
    "version": 3
   },
   "file_extension": ".py",
   "mimetype": "text/x-python",
   "name": "python",
   "nbconvert_exporter": "python",
   "pygments_lexer": "ipython3",
   "version": "3.9.16"
  }
 },
 "nbformat": 4,
 "nbformat_minor": 2
}
