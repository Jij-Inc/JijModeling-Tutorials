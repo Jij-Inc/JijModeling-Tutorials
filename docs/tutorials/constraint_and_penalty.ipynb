{
 "cells": [
  {
   "cell_type": "markdown",
   "id": "1822dbba-75f4-4658-ab75-e760ebb6790d",
   "metadata": {},
   "source": [
    "# Constraint and Penalty\n",
    "\n",
    "## Constrained Optimization Problem\n",
    "\n",
    "In mathematical optimization, a constraint is a condition that the solution must satisfy. For example, the following problem is a constrained optimization problem:\n",
    "\n",
    "$$\n",
    "\\begin{aligned}\n",
    "\\text{Minimize} & \\quad f(x) \\\\\n",
    "\\text{subject to} & \\quad g(x) = 0\n",
    "\\end{aligned}\n",
    "$$\n",
    "\n",
    "where $f$ and $g$ are functions of the decision variable $x$. The condition $g(x) = 0$ is called an equality constraint. The set of all $x$ that satisfy $g(x) = 0$ is called the feasible set. The constraint may be an equality constraint like $g(x) = 0$ or an inequality constraint like $g(x) \\leq 0$. For example, the following problem is also a constrained optimization problem:\n",
    "\n",
    "$$\n",
    "\\begin{aligned}\n",
    "\\text{Minimize} & \\quad f(x) \\\\\n",
    "\\text{subject to} & \\quad g(x) \\leq 0\n",
    "\\end{aligned}\n",
    "$$\n",
    "\n",
    "In `jijmodeling`, you can describe both equality and inequality constraints with the `Constraint` class. For example, an equality constraint $\\sum_i x_i = 1$ can be represented as follows:"
   ]
  },
  {
   "cell_type": "code",
   "execution_count": null,
   "id": "950b552b-8399-4c26-9a2b-1759457fd222",
   "metadata": {},
   "outputs": [],
   "source": [
    "import jijmodeling as jm\n",
    "\n",
    "N = jm.Placeholder(\"N\")\n",
    "x = jm.BinaryVar(\"x\", shape=(N,))\n",
    "n = jm.Element('n', belong_to=(0, N))\n",
    "\n",
    "jm.Constraint(\"onehot\", jm.sum(n, x[n]) == 1)"
   ]
  },
  {
   "cell_type": "markdown",
   "id": "be4e1b56-775a-4ebb-bff2-6774bebe9097",
   "metadata": {},
   "source": [
    "Please note that in the aforementioned code, there is a string \"onehot\" as the first argument of `jm.Constraint`. A constraint object has a name as well as a constraint expression. These names are used during the sampling phase to check whether the constraints are satisfied. The constraint expression must be a boolean expression using only one of the three comparison operators `==`, `<=`, or `>=`. You can impose multiple constraints on a single problem as follows:"
   ]
  },
  {
   "cell_type": "code",
   "execution_count": null,
   "id": "affcab7c-20e8-41d7-b17b-5ac94c4a5d19",
   "metadata": {},
   "outputs": [],
   "source": [
    "x = jm.BinaryVar(\"x\", shape=(4,))\n",
    "problem = jm.Problem(\"constraint_sample\")\n",
    "problem += jm.Constraint(\"c01\", x[0] + x[1] <= 1)\n",
    "problem += jm.Constraint(\"c12\", x[1] + x[2] <= 1)\n",
    "problem += jm.Constraint(\"c23\", x[2] + x[3] >= 0)"
   ]
  },
  {
   "cell_type": "markdown",
   "id": "46b36de9-fe08-4f71-896b-60ebb630ca5d",
   "metadata": {},
   "source": [
    ":::{tip}\n",
    "\n",
    "Other comparison operators, such as `>`, and logical operators are not supported.\n",
    "```python\n",
    "x = jm.BinaryVar(\"x\", shape=(4,))\n",
    "jm.Constraint(\"unsupported\", (x[0] + x[1] <= 1) | (x[1] + x[2] <= 1))\n",
    "```\n",
    ":::"
   ]
  },
  {
   "cell_type": "markdown",
   "id": "476ca2df-d817-490a-8ffa-4418b30d4e1d",
   "metadata": {},
   "source": [
    "### `forall` Constraint\n",
    "Often constraints are indexed by some variables. For example, the following problem is a constrained optimization problem:\n",
    "\n",
    "$$\n",
    "\\begin{aligned}\n",
    "\\text{Minimize} & \\quad \\sum_{i=0}^{N-1} \\sum_{j=0}^{M-1} a_{ij} x_{ij} \\\\\n",
    "\\text{subject to} & \\quad \\sum_{j = 0}^{M - 1} x_{ij} = 1 \\quad \\forall i \\in \\left\\{0, \\ldots, N - 1\\right\\}\n",
    "\\end{aligned}\n",
    "$$\n",
    "\n",
    "To represent such a $\\forall$ constraint, there is a `forall` option in the `Constraint` object. For example, the above problem can be represented as follows:\n"
   ]
  },
  {
   "cell_type": "code",
   "execution_count": null,
   "id": "a69bfcfb-3206-4f2b-ae64-ecc9f8b1e3d2",
   "metadata": {},
   "outputs": [],
   "source": [
    "N = jm.Placeholder(\"N\")\n",
    "M = jm.Placeholder(\"M\")\n",
    "a = jm.Placeholder(\"a\", ndim=2)\n",
    "x = jm.BinaryVar(\"x\", shape=(N, M))\n",
    "i = jm.Element('i', belong_to=(0, N))\n",
    "j = jm.Element('j', belong_to=(0, M))\n",
    "\n",
    "problem = jm.Problem(\"forall_sample\")\n",
    "problem += jm.sum([i, j], a[i, j] * x[i, j])\n",
    "problem += jm.Constraint(\"onehot\", jm.sum(j, x[i, j]) == 1, forall=i)"
   ]
  },
  {
   "cell_type": "markdown",
   "id": "27d9f939-573b-4279-9964-3d3902d4277c",
   "metadata": {},
   "source": [
    "## What is Penalty?\n",
    "\n",
    "The [Penalty method](https://en.wikipedia.org/wiki/Penalty_method) and the [Lagrange multiplier method](https://en.wikipedia.org/wiki/Lagrange_multiplier) are the most popular methods for converting constrained optimization problems into unconstrained ones. In the penalty method, a constraint optimization problem is represented as follows:\n",
    "\n",
    "$$\n",
    "\\begin{aligned}\n",
    "\\text{Minimize} & \\quad f(x) \\\\\n",
    "\\text{subject to} & \\quad g(x) = 0\n",
    "\\end{aligned}\n",
    "$$\n",
    "\n",
    "This problem is transformed into an unconstrained optimization problem of the form:\n",
    "\n",
    "$$\n",
    "\\text{Minimize} \\quad f(x) + \\alpha p(x),\n",
    "$$\n",
    "\n",
    "where $\\alpha$ (penalty coefficient or Lagrangian multiplier) and $p(x)$ (penalty term) play crucial roles. Typically, $p(x)$ is chosen as $p(x) = g(x)^2$. If the minimum of $f(x) + \\alpha p(x)$ is found and satisfies $p(x) = 0$, then the minimum of the original constrained optimization problem is found. If the penalty $p(x)$ is positive, increase the value of the penalty coefficient $\\alpha$ and rerun the optimization problem.\n",
    "\n",
    "It's important to note that some solvers only accept unconstrained problems. The \"U\" in QUBO stands for \"Unconstrained.\" To solve constrained problems defined in `jijmodeling` using these solvers, they are translated into unconstrained problems by `jijmodeling-transpiler` or the transpiler layer of JijZept with the default penalty term $p$. However, the choice of $p$ is critical for real-world optimization problems, and `jijmodeling` provides a way to customize the penalty term using `CustomPenaltyTerm`.\n"
   ]
  },
  {
   "cell_type": "markdown",
   "id": "f2322ccf-cc5d-4f5d-995e-a7d29f951c88",
   "metadata": {},
   "source": [
    "### Translate Constraint to Penalty\n",
    "The translation of constraints into penalty terms is handled by transpilers, not `jijmodeling` itself. Here, we explain how `jijmodeling-transpiler` translates constraints into penalty terms. Let's consider a small problem:\n",
    "\n",
    "$$\n",
    "\\begin{aligned}\n",
    "\\text{Minimize} & \\quad \\sum_{i=0}^{N-1} a_i x_i \\\\\n",
    "\\text{subject to} & \\quad \\sum_{i = 0}^{N - 1} x_i = 1\n",
    "\\end{aligned}\n",
    "$$\n",
    "\n",
    "to see the behavior of `jijmodeling-transpiler`:"
   ]
  },
  {
   "cell_type": "code",
   "execution_count": null,
   "id": "b5cbc45d-7e1a-4c7a-b3ac-4dbeb5a7152f",
   "metadata": {},
   "outputs": [],
   "source": [
    "import jijmodeling as jm\n",
    "\n",
    "a = jm.Placeholder(\"a\", ndim=1)\n",
    "N = a.len_at(0, latex=\"N\")\n",
    "\n",
    "i = jm.Element('i', belong_to=(0, N))\n",
    "x = jm.BinaryVar('x', shape=(N,))\n",
    "\n",
    "problem = jm.Problem('translate_constraint_to_penalty')\n",
    "problem += jm.sum(i, a[i]*x[i])\n",
    "problem += jm.Constraint(\n",
    "    'onehot',\n",
    "    jm.sum(i, x[i]) == 1,\n",
    ")\n",
    "problem"
   ]
  },
  {
   "cell_type": "markdown",
   "id": "3ad65535-6e38-45fd-ad69-628dc49d822d",
   "metadata": {},
   "source": [
    "This problem is converted into an unconstrained problem:\n",
    "\n",
    "$$\n",
    "\\text{Minimize} \\quad \\sum_{i=0}^{N-1} a_i x_i + \\alpha \\left(\\sum_{i = 0}^{N - 1} x_i - 1\\right)^2\n",
    "$$\n",
    "\n",
    "with $a = [1, 2]$ and $\\alpha = 5$ as follows:"
   ]
  },
  {
   "cell_type": "code",
   "execution_count": null,
   "id": "18e5a4d6-abe3-439f-950c-fd63a6f5c5c9",
   "metadata": {},
   "outputs": [],
   "source": [
    "import jijmodeling_transpiler as jmt\n",
    "\n",
    "instance_data = {\n",
    "    \"a\": [1, 2],\n",
    "}\n",
    "\n",
    "compiled_model = jmt.core.compile_model(problem, instance_data)\n",
    "pubo_builder = jmt.core.pubo.transpile_to_pubo(\n",
    "    compiled_model,\n",
    "    normalize=False  # Disable normalization for simplicity\n",
    ")\n",
    "qubo, constant = pubo_builder.get_qubo_dict(multipliers={ 'onehot': 5 })"
   ]
  },
  {
   "cell_type": "markdown",
   "id": "21a919ed-f93a-4349-801f-396bf304a84d",
   "metadata": {},
   "source": [
    "This yields:\n",
    "\n",
    "```\n",
    "qubo     = {(0, 0): -4.0, (1, 1): -3.0, (0, 1): 10.0}\n",
    "constant = 5.0\n",
    "```\n",
    "\n",
    "because:\n",
    "\n",
    "$$\n",
    "\\begin{aligned}\n",
    "\\sum_{i=0}^{N-1} a_i x_i + \\alpha \\left(\\sum_{i = 0}^{N - 1} x_i - 1\\right)^2\n",
    "&= x_1 + 2 x_2 + 5 (x_1 + x_2 - 1)^2 \\\\\n",
    "&= -4 x_1 - 3 x_2 + 10 x_1 x_2 + 5 \\\\\n",
    "&= \\begin{bmatrix}\n",
    "    x_1 & x_2 \\end{bmatrix}\n",
    "\\begin{bmatrix}\n",
    "    -4 & 10 \\\\\n",
    "     0 & -3\n",
    "\\end{bmatrix}\n",
    "\\begin{bmatrix}\n",
    "    x_1 \\\\\n",
    "    x_2\n",
    "\\end{bmatrix}\n",
    "+ 5\n",
    "\\end{aligned}\n",
    "$$\n",
    "\n",
    "Be sure that $x_i^2 = x_i$ for binary variables.\n",
    "\n",
    "This instantiation phase is separated into two phases where:\n",
    "\n",
    "- Convert the `Problem` object into a `CompiledInstance` object with `instance_data`.\n",
    "- Convert the `CompiledInstance` object into a QUBO with multipliers.\n",
    "\n",
    "Since the `CompiledInstance` represents \"what to be solved,\" and the actual QUBO coefficients with the multiplier represent \"how to be solved.\""
   ]
  },
  {
   "cell_type": "markdown",
   "id": "c1c8bedb-da30-4473-931d-c733bb4f1798",
   "metadata": {},
   "source": [
    ":::{note}\n",
    "\n",
    "`jijmodeling-transpiler` provides a way to set multipliers for each penalty term using the `detail_parameters` option of the `get_qubo_dict` method. Another relaxation method like the [Augmented Lagrangian method](https://en.wikipedia.org/wiki/Augmented_Lagrangian_method) is also supported. Please see [the reference of `jijmodeling-transpiler`](https://www.documentation.jijzept.com/docs/jijmodelingtranspiler/references/jijmodeling_transpiler/core/pubo/) for details.\n",
    "\n",
    ":::"
   ]
  },
  {
   "cell_type": "markdown",
   "id": "25bb0d89-ffd6-4a8d-9968-9593f069b12a",
   "metadata": {},
   "source": [
    "### `CustomPenaltyTerm`\n",
    "\n",
    "Although translating constraints into penalty terms is the responsibility of transpilers, one may want to use an original penalty term without creating another transpiler from scratch. `jijmodeling` provides a way to customize the penalty term using `CustomPenaltyTerm`. Here, we explain how to use `CustomPenaltyTerm` to define the same penalty term as in the previous example:\n",
    "\n",
    "$$\n",
    "\\text{Minimize} \\quad \\sum_{i=0}^{N-1} a_i x_i + \\alpha \\left(\\sum_{i = 0}^{N - 1} x_i - 1\\right)^2\n",
    "$$\n",
    "\n",
    "This problem can be represented using `CustomPenaltyTerm` as follows:"
   ]
  },
  {
   "cell_type": "code",
   "execution_count": null,
   "id": "0950ad6a-6a95-4f4c-8b7b-62dc2f06e8d1",
   "metadata": {},
   "outputs": [],
   "source": [
    "import jijmodeling as jm\n",
    "\n",
    "a = jm.Placeholder(\"a\", ndim=1)\n",
    "N = a.len_at(0, latex=\"N\")\n",
    "\n",
    "i = jm.Element('i', belong_to=(0, N))\n",
    "x = jm.BinaryVar('x', shape=(N,))\n",
    "\n",
    "problem = jm.Problem('penalty_sample')\n",
    "problem += jm.sum(i, a[i]*x[i])\n",
    "problem += jm.CustomPenaltyTerm(\n",
    "    'onehot',\n",
    "    (jm.sum(i, x[i]) - 1)**2,\n",
    ")"
   ]
  },
  {
   "cell_type": "markdown",
   "id": "ded0e121-e881-4a2e-9e57-f36fc2f747f0",
   "metadata": {},
   "source": [
    "Note that the multiplier $\\alpha$ does not appear here. This can be instantiated in the exact same way as the previous example:"
   ]
  },
  {
   "cell_type": "code",
   "execution_count": null,
   "id": "39ab04e0-a45a-411c-afd7-15010a80d56e",
   "metadata": {},
   "outputs": [],
   "source": [
    "import jijmodeling_transpiler as jmt\n",
    "\n",
    "instance_data = {\n",
    "    \"a\": [1, 2],\n",
    "}\n",
    "\n",
    "compiled_model = jmt.core.compile_model(problem, instance_data)\n",
    "pubo_builder = jmt.core.pubo.transpile_to_pubo(\n",
    "    compiled_model,\n",
    "    normalize=False  # Disable normalization for simplicity\n",
    ")\n",
    "qubo, constant = pubo_builder.get_qubo_dict(multipliers={ 'onehot': 5 })"
   ]
  },
  {
   "cell_type": "markdown",
   "id": "3e6ec543-b68a-4ef2-823c-75879644a355",
   "metadata": {},
   "source": [
    "This yields the same result:\n",
    "\n",
    "```\n",
    "qubo     = {(0, 0): -4.0, (1, 1): -3.0, (0, 1): 10.0}\n",
    "constant = 5.0\n",
    "```\n",
    "\n",
    "There is also a `forall` option for `CustomPenaltyTerm`:"
   ]
  },
  {
   "cell_type": "code",
   "execution_count": 1,
   "id": "09ee70c1-7a14-4e22-ab92-49be8dcb768a",
   "metadata": {},
   "outputs": [
    {
     "data": {
      "text/latex": [
       "$$\\begin{array}{cccc}\\text{Problem:} & \\text{forall\\_penalty\\_sample} & & \\\\& & \\min \\quad \\displaystyle \\sum_{i = 0}^{N - 1} \\sum_{j = 0}^{M - 1} a_{i, j} \\cdot x_{i, j} & \\\\\\text{{penalty terms}} & & & \\\\ & \\text{onehot} & \\displaystyle \\left(\\left(\\sum_{j = 0}^{M - 1} x_{i, j} - 1\\right)^{2}\\right) & \\forall i \\in \\left\\{0,\\ldots,N - 1\\right\\} \\\\\\text{{where}} & & & \\\\& x & 2\\text{-dim binary variable}\\\\\\end{array}$$"
      ],
      "text/plain": [
       "<jijmodeling.Problem at 0x104740d00>"
      ]
     },
     "execution_count": 1,
     "metadata": {},
     "output_type": "execute_result"
    }
   ],
   "source": [
    "import jijmodeling as jm\n",
    "\n",
    "a = jm.Placeholder(\"a\", ndim=2)\n",
    "N = a.len_at(0, latex=\"N\")\n",
    "M = a.len_at(1, latex=\"M\")\n",
    "\n",
    "i = jm.Element('i', belong_to=(0, N))\n",
    "j = jm.Element('j', belong_to=(0, M))\n",
    "x = jm.BinaryVar('x', shape=(N, M))\n",
    "\n",
    "problem = jm.Problem('forall_penalty_sample')\n",
    "problem += jm.sum([i, j], a[i, j]*x[i, j])\n",
    "problem += jm.CustomPenaltyTerm(\n",
    "    'onehot',\n",
    "    (jm.sum(j, x[i, j]) - 1)**2,\n",
    "    forall=i\n",
    ")\n",
    "problem"
   ]
  }
 ],
 "metadata": {
  "kernelspec": {
   "display_name": ".venv",
   "language": "python",
   "name": "python3"
  },
  "language_info": {
   "codemirror_mode": {
    "name": "ipython",
    "version": 3
   },
   "file_extension": ".py",
   "mimetype": "text/x-python",
   "name": "python",
   "nbconvert_exporter": "python",
   "pygments_lexer": "ipython3",
   "version": "3.11.5"
  }
 },
 "nbformat": 4,
 "nbformat_minor": 5
}
