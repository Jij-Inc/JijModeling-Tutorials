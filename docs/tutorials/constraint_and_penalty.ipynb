{
 "cells": [
  {
   "cell_type": "markdown",
   "id": "1822dbba-75f4-4658-ab75-e760ebb6790d",
   "metadata": {},
   "source": [
    "# 制約条件とペナルティ\n",
    "\n",
    "## 制約条件付き最適化問題\n",
    "\n",
    "数学的最適化において、制約とは解が満たさなければならない条件のことです。例えば、次の問題は制約付き最適化問題です：\n",
    "\n",
    "$$\n",
    "\\begin{aligned}\n",
    "\\text{Minimize} & \\quad f(x) \\\\\n",
    "\\text{subject to} & \\quad g(x) = 0\n",
    "\\end{aligned}\n",
    "$$\n",
    "\n",
    "ここで、$f$と$g$は決定変数$x$の関数です。条件$g(x) = 0$は等式制約と呼ばれます。$g(x) = 0$を満たすすべての$x$の集合は実行可能集合と呼ばれます。制約は$g(x) = 0$のような等式制約や、$g(x) \\leq 0$のような不等式制約である場合があります。例えば、次の問題も制約付き最適化問題です：\n",
    "\n",
    "$$\n",
    "\\begin{aligned}\n",
    "\\text{Minimize} & \\quad f(x) \\\\\n",
    "\\text{subject to} & \\quad g(x) \\leq 0\n",
    "\\end{aligned}\n",
    "$$\n",
    "\n",
    "`jijmodeling`では、`Constraint`クラスを使用して等式制約と不等式制約の両方を記述できます。例えば、等式制約$\\sum_i x_i = 1$は次のように表現できます："
   ]
  },
  {
   "cell_type": "code",
   "execution_count": null,
   "id": "950b552b-8399-4c26-9a2b-1759457fd222",
   "metadata": {},
   "outputs": [],
   "source": [
    "import jijmodeling as jm\n",
    "\n",
    "N = jm.Placeholder(\"N\")\n",
    "x = jm.BinaryVar(\"x\", shape=(N,))\n",
    "n = jm.Element('n', belong_to=(0, N))\n",
    "\n",
    "jm.Constraint(\"onehot\", jm.sum(n, x[n]) == 1)"
   ]
  },
  {
   "cell_type": "markdown",
   "id": "be4e1b56-775a-4ebb-bff2-6774bebe9097",
   "metadata": {},
   "source": [
    "上記のコードでは、`jm.Constraint`の最初の引数として文字列\"onehot\"があることに注意してください。制約オブジェクトには名前と制約式があります。これらの名前はサンプリングフェーズで制約が満たされているかどうかを確認するために使用されます。制約式は、`==`、`<=`、または`>=`の3つの比較演算子のいずれかを使用するブール式でなければなりません。次のようにして、1つの問題に複数の制約を課すことができます："
   ]
  },
  {
   "cell_type": "code",
   "execution_count": null,
   "id": "affcab7c-20e8-41d7-b17b-5ac94c4a5d19",
   "metadata": {},
   "outputs": [],
   "source": [
    "x = jm.BinaryVar(\"x\", shape=(4,))\n",
    "problem = jm.Problem(\"constraint_sample\")\n",
    "problem += jm.Constraint(\"c01\", x[0] + x[1] <= 1)\n",
    "problem += jm.Constraint(\"c12\", x[1] + x[2] <= 1)\n",
    "problem += jm.Constraint(\"c23\", x[2] + x[3] >= 0)"
   ]
  },
  {
   "cell_type": "markdown",
   "id": "46b36de9-fe08-4f71-896b-60ebb630ca5d",
   "metadata": {},
   "source": [
    ":::{tip}\n",
    "\n",
    "他の比較演算子（例えば`>`）や論理演算子はサポートされていません。"
   ]
  },
  {
   "cell_type": "code",
   "execution_count": null,
   "id": "25115db5",
   "metadata": {},
   "outputs": [],
   "source": [
    "x = jm.BinaryVar(\"x\", shape=(4,))\n",
    "jm.Constraint(\"unsupported\", (x[0] + x[1] <= 1) | (x[1] + x[2] <= 1))"
   ]
  },
  {
   "cell_type": "markdown",
   "id": "c2c78d0a",
   "metadata": {},
   "source": [
    ":::"
   ]
  },
  {
   "cell_type": "markdown",
   "id": "476ca2df-d817-490a-8ffa-4418b30d4e1d",
   "metadata": {},
   "source": [
    "### `forall`制約\n",
    "しばしば制約は変数によってインデックス付けされます。例えば、次の問題は制約付き最適化問題です：\n",
    "\n",
    "$$\n",
    "\\begin{aligned}\n",
    "\\text{Minimize} & \\quad \\sum_{i=0}^{N-1} \\sum_{j=0}^{M-1} a_{ij} x_{ij} \\\\\n",
    "\\text{subject to} & \\quad \\sum_{j = 0}^{M - 1} x_{ij} = 1 \\quad \\forall i \\in \\left\\{0, \\ldots, N - 1\\right\\}\n",
    "\\end{aligned}\n",
    "$$\n",
    "\n",
    "このような$\\forall$制約を表現するために、`Constraint`オブジェクトには`forall`オプションがあります。例えば、上記の問題は次のように表現できます："
   ]
  },
  {
   "cell_type": "code",
   "execution_count": null,
   "id": "a69bfcfb-3206-4f2b-ae64-ecc9f8b1e3d2",
   "metadata": {},
   "outputs": [],
   "source": [
    "N = jm.Placeholder(\"N\")\n",
    "M = jm.Placeholder(\"M\")\n",
    "a = jm.Placeholder(\"a\", ndim=2)\n",
    "x = jm.BinaryVar(\"x\", shape=(N, M))\n",
    "i = jm.Element('i', belong_to=(0, N))\n",
    "j = jm.Element('j', belong_to=(0, M))\n",
    "\n",
    "problem = jm.Problem(\"forall_sample\")\n",
    "problem += jm.sum([i, j], a[i, j] * x[i, j])\n",
    "problem += jm.Constraint(\"onehot\", jm.sum(j, x[i, j]) == 1, forall=i)"
   ]
  },
  {
   "cell_type": "markdown",
   "id": "27d9f939-573b-4279-9964-3d3902d4277c",
   "metadata": {},
   "source": [
    "## ペナルティとは\n",
    "\n",
    "[ペナルティ法](https://en.wikipedia.org/wiki/Penalty_method)と[ラグランジュ乗数法](https://en.wikipedia.org/wiki/Lagrange_multiplier) は、制約付き最適化問題を無制約のものに変換するための最も一般的な方法です。ペナルティ法では、制約付き最適化問題は次のように表現されます：\n",
    "\n",
    "$$\n",
    "\\begin{aligned}\n",
    "\\text{Minimize} & \\quad f(x) \\\\\n",
    "\\text{subject to} & \\quad g(x) = 0\n",
    "\\end{aligned}\n",
    "$$\n",
    "\n",
    "この問題は次の形式の無制約最適化問題に変換されます：\n",
    "\n",
    "$$\n",
    "\\text{Minimize} \\quad f(x) + \\alpha p(x),\n",
    "$$\n",
    "\n",
    "ここで、$\\alpha$（ペナルティ係数またはラグランジュ乗数）と$p(x)$（ペナルティ項）が重要な役割を果たします。通常、$p(x)$は$p(x) = g(x)^2$として選ばれます。$f(x) + \\alpha p(x)$の最小値が見つかり、$p(x) = 0$を満たす場合、元の制約付き最適化問題の最小値が見つかります。ペナルティ$p(x)$が正の場合、ペナルティ係数$\\alpha$の値を増やして最適化問題を再実行します。\n",
    "\n",
    "一部のソルバーは無制約問題のみを受け入れることに注意が必要です。QUBOの「U」は「Unconstrained（無制約）」を意味します。これらのソルバーを使用して`jijmodeling`で定義された制約付き問題を解決するために、`jijmodeling-transpiler`またはJijZeptのトランスパイラーレイヤーによって、デフォルトのペナルティ項$p$を使用して無制約問題に変換されます。しかし、実際の最適化問題において$p$の選択は重要であり、`jijmodeling`は`CustomPenaltyTerm`を使用してペナルティ項をカスタマイズする方法を提供します。\n"
   ]
  },
  {
   "cell_type": "markdown",
   "id": "f2322ccf-cc5d-4f5d-995e-a7d29f951c88",
   "metadata": {},
   "source": [
    "### 制約条件をペナルティに変換する\n",
    "\n",
    "制約をペナルティ項に変換する作業は、`jijmodeling`自体ではなく、トランスパイラーによって処理されます。ここでは、`jijmodeling-transpiler`が制約をペナルティ項に変換する方法を説明します。小さな問題を考えてみましょう：\n",
    "\n",
    "$$\n",
    "\\begin{aligned}\n",
    "\\text{Minimize} & \\quad \\sum_{i=0}^{N-1} a_i x_i \\\\\n",
    "\\text{subject to} & \\quad \\sum_{i = 0}^{N - 1} x_i = 1\n",
    "\\end{aligned}\n",
    "$$\n",
    "\n",
    "`jijmodeling-transpiler`の動作を確認するために："
   ]
  },
  {
   "cell_type": "code",
   "execution_count": null,
   "id": "b5cbc45d-7e1a-4c7a-b3ac-4dbeb5a7152f",
   "metadata": {},
   "outputs": [],
   "source": [
    "import jijmodeling as jm\n",
    "\n",
    "a = jm.Placeholder(\"a\", ndim=1)\n",
    "N = a.len_at(0, latex=\"N\")\n",
    "\n",
    "i = jm.Element('i', belong_to=(0, N))\n",
    "x = jm.BinaryVar('x', shape=(N,))\n",
    "\n",
    "problem = jm.Problem('translate_constraint_to_penalty')\n",
    "problem += jm.sum(i, a[i]*x[i])\n",
    "problem += jm.Constraint(\n",
    "    'onehot',\n",
    "    jm.sum(i, x[i]) == 1,\n",
    ")\n",
    "problem"
   ]
  },
  {
   "cell_type": "markdown",
   "id": "3ad65535-6e38-45fd-ad69-628dc49d822d",
   "metadata": {},
   "source": [
    "この問題は次の形式の制約なし問題に変換されます：\n",
    "\n",
    "$$\n",
    "\\text{Minimize} \\quad \\sum_{i=0}^{N-1} a_i x_i + \\alpha \\left(\\sum_{i = 0}^{N - 1} x_i - 1\\right)^2\n",
    "$$\n",
    "\n",
    "$a = [1, 2]$および$\\alpha = 5$の場合は次のようになります："
   ]
  },
  {
   "cell_type": "code",
   "execution_count": null,
   "id": "18e5a4d6-abe3-439f-950c-fd63a6f5c5c9",
   "metadata": {},
   "outputs": [],
   "source": [
    "import jijmodeling_transpiler as jmt\n",
    "\n",
    "instance_data = {\n",
    "    \"a\": [1, 2],\n",
    "}\n",
    "\n",
    "compiled_model = jmt.core.compile_model(problem, instance_data)\n",
    "pubo_builder = jmt.core.pubo.transpile_to_pubo(\n",
    "    compiled_model,\n",
    "    normalize=False  # Disable normalization for simplicity\n",
    ")\n",
    "qubo, constant = pubo_builder.get_qubo_dict(multipliers={ 'onehot': 5 })"
   ]
  },
  {
   "cell_type": "markdown",
   "id": "21a919ed-f93a-4349-801f-396bf304a84d",
   "metadata": {},
   "source": [
    "結果は次の通りです：\n",
    "\n",
    "```\n",
    "qubo     = {(0, 0): -4.0, (1, 1): -3.0, (0, 1): 10.0}\n",
    "constant = 5.0\n",
    "```\n",
    "\n",
    "なぜなら：\n",
    "\n",
    "$$\n",
    "\\begin{aligned}\n",
    "\\sum_{i=0}^{N-1} a_i x_i + \\alpha \\left(\\sum_{i = 0}^{N - 1} x_i - 1\\right)^2\n",
    "&= x_1 + 2 x_2 + 5 (x_1 + x_2 - 1)^2 \\\\\n",
    "&= -4 x_1 - 3 x_2 + 10 x_1 x_2 + 5 \\\\\n",
    "&= \\begin{bmatrix}\n",
    "    x_1 & x_2 \\end{bmatrix}\n",
    "\\begin{bmatrix}\n",
    "    -4 & 10 \\\\\n",
    "     0 & -3\n",
    "\\end{bmatrix}\n",
    "\\begin{bmatrix}\n",
    "    x_1 \\\\\n",
    "    x_2\n",
    "\\end{bmatrix}\n",
    "+ 5\n",
    "\\end{aligned}\n",
    "$$\n",
    "\n",
    "バイナリ変数の場合、$x_i^2 = x_i$であることを確認してください。\n",
    "\n",
    "このインスタンス化フェーズは2つのフェーズに分かれています：\n",
    "\n",
    "- `Problem`オブジェクトと`instance_data`を使用して`CompiledInstance`オブジェクトに変換します。\n",
    "- `CompiledInstance`オブジェクトを乗数を使用してQUBOに変換します。\n",
    "\n",
    "`CompiledInstance`は「解決すべきもの」を表し、実際のQUBO係数は「どのように解決するか」を表します。"
   ]
  },
  {
   "cell_type": "markdown",
   "id": "c1c8bedb-da30-4473-931d-c733bb4f1798",
   "metadata": {},
   "source": [
    ":::{note}\n",
    "\n",
    "`jijmodeling-transpiler`は、`get_qubo_dict`メソッドの`detail_parameters`オプションを使用して、各ペナルティ項の乗数を設定する方法を提供します。[拡張ラグランジュ法](https://en.wikipedia.org/wiki/Augmented_Lagrangian_method)のような他の緩和方法もサポートされています。詳細については[jijmodeling-transpilerのリファレンス](https://www.documentation.jijzept.com/docs/jijmodelingtranspiler/references/jijmodeling_transpiler/core/pubo/)をご覧ください。\n",
    "\n",
    ":::"
   ]
  },
  {
   "cell_type": "markdown",
   "id": "25bb0d89-ffd6-4a8d-9968-9593f069b12a",
   "metadata": {},
   "source": [
    "### `CustomPenaltyTerm`\n",
    "\n",
    "制約をペナルティ項に変換する作業はトランスパイラーの責任ですが、最初から別のトランスパイラーを作成せずに独自のペナルティ項を使用したい場合があります。`jijmodeling`は`CustomPenaltyTerm`を使用してペナルティ項をカスタマイズする方法を提供します。ここでは、前の例と同じペナルティ項を定義するために`CustomPenaltyTerm`を使用する方法を説明します：\n",
    "\n",
    "$$\n",
    "\\text{Minimize} \\quad \\sum_{i=0}^{N-1} a_i x_i + \\alpha \\left(\\sum_{i = 0}^{N - 1} x_i - 1\\right)^2\n",
    "$$\n",
    "\n",
    "この問題は次のように`CustomPenaltyTerm`を使用して表現できます："
   ]
  },
  {
   "cell_type": "code",
   "execution_count": null,
   "id": "0950ad6a-6a95-4f4c-8b7b-62dc2f06e8d1",
   "metadata": {},
   "outputs": [],
   "source": [
    "import jijmodeling as jm\n",
    "\n",
    "a = jm.Placeholder(\"a\", ndim=1)\n",
    "N = a.len_at(0, latex=\"N\")\n",
    "\n",
    "i = jm.Element('i', belong_to=(0, N))\n",
    "x = jm.BinaryVar('x', shape=(N,))\n",
    "\n",
    "problem = jm.Problem('penalty_sample')\n",
    "problem += jm.sum(i, a[i]*x[i])\n",
    "problem += jm.CustomPenaltyTerm(\n",
    "    'onehot',\n",
    "    (jm.sum(i, x[i]) - 1)**2,\n",
    ")"
   ]
  },
  {
   "cell_type": "markdown",
   "id": "ded0e121-e881-4a2e-9e57-f36fc2f747f0",
   "metadata": {},
   "source": [
    "ここでは乗数$\\alpha$は表示されていないことに注意してください。これは前の例と同じ方法でインスタンス化できます："
   ]
  },
  {
   "cell_type": "code",
   "execution_count": null,
   "id": "39ab04e0-a45a-411c-afd7-15010a80d56e",
   "metadata": {},
   "outputs": [],
   "source": [
    "import jijmodeling_transpiler as jmt\n",
    "\n",
    "instance_data = {\n",
    "    \"a\": [1, 2],\n",
    "}\n",
    "\n",
    "compiled_model = jmt.core.compile_model(problem, instance_data)\n",
    "pubo_builder = jmt.core.pubo.transpile_to_pubo(\n",
    "    compiled_model,\n",
    "    normalize=False  # Disable normalization for simplicity\n",
    ")\n",
    "qubo, constant = pubo_builder.get_qubo_dict(multipliers={ 'onehot': 5 })"
   ]
  },
  {
   "cell_type": "markdown",
   "id": "3e6ec543-b68a-4ef2-823c-75879644a355",
   "metadata": {},
   "source": [
    "結果は同じです：\n",
    "\n",
    "```\n",
    "qubo     = {(0, 0): -4.0, (1, 1): -3.0, (0, 1): 10.0}\n",
    "constant = 5.0\n",
    "```\n",
    "\n",
    "`CustomPenaltyTerm`には`forall`オプションもあります："
   ]
  },
  {
   "cell_type": "code",
   "execution_count": 1,
   "id": "09ee70c1-7a14-4e22-ab92-49be8dcb768a",
   "metadata": {},
   "outputs": [
    {
     "data": {
      "text/latex": [
       "$$\\begin{array}{cccc}\\text{Problem:} & \\text{forall\\_penalty\\_sample} & & \\\\& & \\min \\quad \\displaystyle \\sum_{i = 0}^{N - 1} \\sum_{j = 0}^{M - 1} a_{i, j} \\cdot x_{i, j} & \\\\\\text{{penalty terms}} & & & \\\\ & \\text{onehot} & \\displaystyle \\left(\\left(\\sum_{j = 0}^{M - 1} x_{i, j} - 1\\right)^{2}\\right) & \\forall i \\in \\left\\{0,\\ldots,N - 1\\right\\} \\\\\\text{{where}} & & & \\\\& x & 2\\text{-dim binary variable}\\\\\\end{array}$$"
      ],
      "text/plain": [
       "<jijmodeling.Problem at 0x104740d00>"
      ]
     },
     "execution_count": 1,
     "metadata": {},
     "output_type": "execute_result"
    }
   ],
   "source": [
    "import jijmodeling as jm\n",
    "\n",
    "a = jm.Placeholder(\"a\", ndim=2)\n",
    "N = a.len_at(0, latex=\"N\")\n",
    "M = a.len_at(1, latex=\"M\")\n",
    "\n",
    "i = jm.Element('i', belong_to=(0, N))\n",
    "j = jm.Element('j', belong_to=(0, M))\n",
    "x = jm.BinaryVar('x', shape=(N, M))\n",
    "\n",
    "problem = jm.Problem('forall_penalty_sample')\n",
    "problem += jm.sum([i, j], a[i, j]*x[i, j])\n",
    "problem += jm.CustomPenaltyTerm(\n",
    "    'onehot',\n",
    "    (jm.sum(j, x[i, j]) - 1)**2,\n",
    "    forall=i\n",
    ")\n",
    "problem"
   ]
  }
 ],
 "metadata": {
  "kernelspec": {
   "display_name": ".venv",
   "language": "python",
   "name": "python3"
  },
  "language_info": {
   "codemirror_mode": {
    "name": "ipython",
    "version": 3
   },
   "file_extension": ".py",
   "mimetype": "text/x-python",
   "name": "python",
   "nbconvert_exporter": "python",
   "pygments_lexer": "ipython3",
   "version": "3.11.5"
  }
 },
 "nbformat": 4,
 "nbformat_minor": 5
}
