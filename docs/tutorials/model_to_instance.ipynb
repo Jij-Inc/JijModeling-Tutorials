{
 "cells": [
  {
   "cell_type": "markdown",
   "metadata": {},
   "source": [
    "# 数理モデルからインスタンスを生成\n",
    "\n",
    "JijModelingで数理モデルを記述した後、ソルバーで解くには、その数理モデルが持つPlaceholderにデータを代入する必要があります。この操作を実現するのが `Interpreter.eval_problem` メソッドです。このページでは、ナップサック問題を例に、OMMX Adapter経由でソルバーに解かせる方法を説明します。\n",
    "\n",
    "ナップサック問題を定式化して得られる数理モデルは次の通りです：\n",
    "\n",
    "$$\n",
    "\\begin{align*}\n",
    "\\mathrm{maximize} \\quad & \\sum_{i=0}^{N-1} v_i x_i \\\\\n",
    "\\mathrm{s.t.} \\quad & \\sum_{i=0}^{n-1} w_i x_i \\leq W, \\\\\n",
    "& x_{i} \\in \\{ 0, 1\\} \n",
    "\\end{align*}\n",
    "$$\n",
    "\n",
    ":::{note}\n",
    "ナップサック問題の定式化について詳しく知りたい場合は [こちら](https://www.documentation.jijzept.com/docs/tutorial/knapsack/) を参照してください。\n",
    ":::\n",
    "\n",
    "この数理モデルにあるそれぞれの文字の意味は以下の通りです：\n",
    "\n",
    "| 文字 | 説明 |\n",
    "| --- | --- |\n",
    "| $N$ |\tアイテムの総数 |\n",
    "| $v_{i}$ | アイテム $i$ の価値 |\n",
    "| $w_{i}$ | アイテム $i$ の重さ |\n",
    "| $W$ | ナップサックの耐荷重 |\n",
    "\n",
    "この数理モデルの係数 $v_{i}, w_{i}, W$ に、次のインスタンスデータを入力して得られるインスタンスをソルバーで解くことを考えます：\n",
    "\n",
    "\n",
    "| 文字 | 説明 |\n",
    "| --- | --- |\n",
    "| $\\boldsymbol{v}$ | `[10, 13, 18, 31, 7, 15]` |\n",
    "| $\\boldsymbol{w}$ | `[11, 15, 20, 35, 10, 33]` |\n",
    "| $W$ | `47` |\n",
    "\n",
    "JijModelingを使うと、ソルバーに入力するためのインスタンスを次の3ステップで生成できます：\n",
    "\n",
    "1. JijModelingでナップサック問題を定式化する\n",
    "2. `Interpreter` オブジェクトにインスタンスデータを登録する\n",
    "3. `Interpreter` オブジェクトを使って数理モデルをインスタンスに変換する\n",
    "\n",
    "![Diagram of the process to generate an instance from a mathematical model](./assets/model_to_instance_01.png)\n",
    "\n",
    "## Step1. JijModelingでナップサック問題を定式化する\n",
    "\n",
    "JijModelingを使用してナップサック問題を定式化すると、以下のPythonコードになります："
   ]
  },
  {
   "cell_type": "code",
   "execution_count": 1,
   "metadata": {},
   "outputs": [
    {
     "data": {
      "text/latex": [
       "$$\\begin{array}{cccc}\\text{Problem:} & \\text{problem} & & \\\\& & \\max \\quad \\displaystyle \\sum_{i = 0}^{N - 1} v_{i} \\cdot x_{i} & \\\\\\text{{s.t.}} & & & \\\\ & \\text{重量制限} & \\displaystyle \\sum_{i = 0}^{N - 1} w_{i} \\cdot x_{i} \\leq W &  \\\\\\text{{where}} & & & \\\\& x & 1\\text{-dim binary variable}\\\\\\end{array}$$"
      ],
      "text/plain": [
       "<jijmodeling.Problem at 0x560c949d7010>"
      ]
     },
     "execution_count": 1,
     "metadata": {},
     "output_type": "execute_result"
    }
   ],
   "source": [
    "import jijmodeling as jm\n",
    "\n",
    "# アイテムの価値\n",
    "v = jm.Placeholder(\"v\", ndim=1)\n",
    "# アイテムの重さ\n",
    "w = jm.Placeholder(\"w\", ndim=1)\n",
    "# ナップサックの耐荷重\n",
    "W = jm.Placeholder(\"W\")\n",
    "# アイテムの総数\n",
    "N = v.len_at(0, latex=\"N\")\n",
    "# アイテムiをナップサックに入れる場合は1, 入れない場合は0を取る決定変数\n",
    "x = jm.BinaryVar(\"x\", shape=(N,)) \n",
    "# アイテムに割り当てられた番号を走る添え字\n",
    "i = jm.Element(\"i\", belong_to=(0, N))\n",
    "\n",
    "problem = jm.Problem(\"problem\", sense=jm.ProblemSense.MAXIMIZE)\n",
    "# 目的関数\n",
    "problem += jm.sum(i, v[i] * x[i])\n",
    "# 制約条件: ナップサックの耐荷重を超えない\n",
    "problem += jm.Constraint(\"重量制限\", jm.sum(i, w[i] * x[i]) <= W)\n",
    "problem"
   ]
  },
  {
   "cell_type": "markdown",
   "metadata": {},
   "source": [
    "## Step2. Interpreter オブジェクトにインスタンスデータを登録する\n",
    "\n",
    "Step1で定式化した数理モデルの係数に入力するデータ（インスタンスデータ）を用意します。これは `Interpreter` オブジェクトを使用して実現できます。\n",
    "\n",
    "`Interpreter` クラスのコンストラクタの引数に、以下のペアを持つ辞書を渡すことでインスタンスデータを登録できます：\n",
    "\n",
    "- キー：`Placeholder` オブジェクトの `name` プロパティに設定した文字列\n",
    "- 値：入力するデータ"
   ]
  },
  {
   "cell_type": "code",
   "execution_count": 2,
   "metadata": {},
   "outputs": [],
   "source": [
    "interpreter = jm.Interpreter({\n",
    "    \"v\": [10, 13, 18, 31, 7, 15],  # アイテムの価値のデータ\n",
    "    \"w\": [11, 15, 20, 35, 10, 33], # アイテムの重さのデータ\n",
    "    \"W\": 47,                       # ナップサックの耐荷重のデータ\n",
    "})"
   ]
  },
  {
   "cell_type": "markdown",
   "metadata": {},
   "source": [
    "## Step3. Interpreter オブジェクトを使って数理モデルをインスタンスに変換する\n",
    "\n",
    "数理モデルをインスタンスデータに変換するには、Interpreter.eval_problem メソッドを使用します。インスタンスデータが登録された Interpreter オブジェクトの eval_problem メソッドに Problem オブジェクトを渡すと、その Problem オブジェクトが持つ Placeholder にデータを入力し、インスタンスに変換して ommx.v1.Instance オブジェクトとして返します："
   ]
  },
  {
   "cell_type": "code",
   "execution_count": 3,
   "metadata": {},
   "outputs": [],
   "source": [
    "instance = interpreter.eval_problem(problem)"
   ]
  },
  {
   "cell_type": "markdown",
   "metadata": {},
   "source": [
    "## OMMX Adapterに入力して最適化問題を解く\n",
    "\n",
    "Step3で得られた `ommx.v1.Instance` オブジェクトをOMMX Adapterに入力することで、最適化計算を実行できます。\n",
    "例えば、OMMX Adapterの一つである `ommx-python-mip-adapter` ([GitHub](https://github.com/Jij-Inc/ommx/tree/main/python/ommx-python-mip-adapter), [PyPI](https://pypi.org/project/ommx-python-mip-adapter/)) を使用して、そのインスタンスの最適解と最適値を求めるPythonコードは次の通りです："
   ]
  },
  {
   "cell_type": "code",
   "execution_count": 4,
   "metadata": {},
   "outputs": [],
   "source": [
    "import numpy as np\n",
    "from ommx_python_mip_adapter import instance_to_model, model_to_solution\n",
    "\n",
    "# ommx.v1.instanceオブジェクトからPython-MIPのModelオブジェクトに変換する\n",
    "model = instance_to_model(instance)\n",
    "# Python-MIPのデフォルトソルバー (SCIP) で最適化を実行する\n",
    "model.optimize()\n",
    "# Python-MIPによる最適化計算の結果をommx.v1.Solutionオブジェクトとして取得する\n",
    "solution = model_to_solution(model, instance)\n",
    "\n",
    "# 最適値は41である\n",
    "assert np.isclose(solution.raw.objective, 41.0)\n",
    "# x0 = x3 = 1, x1 = x2 = x4 = x5 = 0\n",
    "assert solution.raw.state.entries == {0: 1, 1: 0, 2: 0, 3: 1, 4: 0, 5: 0}"
   ]
  },
  {
   "cell_type": "markdown",
   "metadata": {},
   "source": [
    "補足として、 `ommx.v1.Solution` の `decision_variables` プロパティを使うことで、pandas.DataFrame オブジェクトとして最適解を取得・表示できます:"
   ]
  },
  {
   "cell_type": "code",
   "execution_count": 5,
   "metadata": {},
   "outputs": [
    {
     "data": {
      "text/html": [
       "<div>\n",
       "<style scoped>\n",
       "    .dataframe tbody tr th:only-of-type {\n",
       "        vertical-align: middle;\n",
       "    }\n",
       "\n",
       "    .dataframe tbody tr th {\n",
       "        vertical-align: top;\n",
       "    }\n",
       "\n",
       "    .dataframe thead tr th {\n",
       "        text-align: left;\n",
       "    }\n",
       "\n",
       "    .dataframe thead tr:last-of-type th {\n",
       "        text-align: right;\n",
       "    }\n",
       "</style>\n",
       "<table border=\"1\" class=\"dataframe\">\n",
       "  <thead>\n",
       "    <tr>\n",
       "      <th></th>\n",
       "      <th>name</th>\n",
       "      <th>subscripts</th>\n",
       "      <th>value</th>\n",
       "    </tr>\n",
       "    <tr>\n",
       "      <th></th>\n",
       "      <th></th>\n",
       "      <th></th>\n",
       "      <th></th>\n",
       "    </tr>\n",
       "    <tr>\n",
       "      <th>id</th>\n",
       "      <th></th>\n",
       "      <th></th>\n",
       "      <th></th>\n",
       "    </tr>\n",
       "  </thead>\n",
       "  <tbody>\n",
       "    <tr>\n",
       "      <th>0</th>\n",
       "      <td>x</td>\n",
       "      <td>[0]</td>\n",
       "      <td>1.0</td>\n",
       "    </tr>\n",
       "    <tr>\n",
       "      <th>1</th>\n",
       "      <td>x</td>\n",
       "      <td>[1]</td>\n",
       "      <td>0.0</td>\n",
       "    </tr>\n",
       "    <tr>\n",
       "      <th>2</th>\n",
       "      <td>x</td>\n",
       "      <td>[2]</td>\n",
       "      <td>0.0</td>\n",
       "    </tr>\n",
       "    <tr>\n",
       "      <th>3</th>\n",
       "      <td>x</td>\n",
       "      <td>[3]</td>\n",
       "      <td>1.0</td>\n",
       "    </tr>\n",
       "    <tr>\n",
       "      <th>4</th>\n",
       "      <td>x</td>\n",
       "      <td>[4]</td>\n",
       "      <td>0.0</td>\n",
       "    </tr>\n",
       "    <tr>\n",
       "      <th>5</th>\n",
       "      <td>x</td>\n",
       "      <td>[5]</td>\n",
       "      <td>0.0</td>\n",
       "    </tr>\n",
       "  </tbody>\n",
       "</table>\n",
       "</div>"
      ],
      "text/plain": [
       "   name subscripts value\n",
       "                        \n",
       "id                      \n",
       "0     x        [0]   1.0\n",
       "1     x        [1]   0.0\n",
       "2     x        [2]   0.0\n",
       "3     x        [3]   1.0\n",
       "4     x        [4]   0.0\n",
       "5     x        [5]   0.0"
      ]
     },
     "execution_count": 5,
     "metadata": {},
     "output_type": "execute_result"
    }
   ],
   "source": [
    "solution.decision_variables[[\"name\", \"subscripts\", \"value\"]]"
   ]
  }
 ],
 "metadata": {
  "kernelspec": {
   "display_name": ".venv",
   "language": "python",
   "name": "python3"
  },
  "language_info": {
   "codemirror_mode": {
    "name": "ipython",
    "version": 3
   },
   "file_extension": ".py",
   "mimetype": "text/x-python",
   "name": "python",
   "nbconvert_exporter": "python",
   "pygments_lexer": "ipython3",
   "version": "3.10.12"
  }
 },
 "nbformat": 4,
 "nbformat_minor": 2
}
