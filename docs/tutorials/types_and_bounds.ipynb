{
 "cells": [
  {
   "cell_type": "markdown",
   "metadata": {},
   "source": [
    "# 決定変数の種類\n",
    "\n",
    "`jijmodeling`は、決定変数としてバイナリ変数`BinaryVar`に加えて、整数変数`IntegerVar`および連続変数`ContinuousVar`をサポートしています。`BinaryVar`とは異なり、`IntegerVar`と`ContinuousVar`には下限と上限の設定が必要です。"
   ]
  },
  {
   "cell_type": "code",
   "execution_count": 1,
   "metadata": {},
   "outputs": [],
   "source": [
    "import jijmodeling as jm\n",
    "\n",
    "# 下限を0、上限を10とする整数変数\n",
    "x = jm.IntegerVar(\"x\", lower_bound=0, upper_bound=10)\n",
    "# 下限を0、上限を2.5とする実数変数\n",
    "y = jm.ContinuousVar(\"y\", lower_bound=0.0, upper_bound=2.5)"
   ]
  },
  {
   "cell_type": "markdown",
   "metadata": {},
   "source": [
    "また、`jijmodeling`は範囲内の値または$0$を取る半整数変数および半連続変数もサポートしています。"
   ]
  },
  {
   "cell_type": "code",
   "execution_count": 2,
   "metadata": {},
   "outputs": [],
   "source": [
    "# 区間[3, 10]または0を取る整数変数\n",
    "sx = jm.SemiIntegerVar(\"x\", lower_bound=3, upper_bound=10)\n",
    "# 区間[0.5, 2.0]または0を取る実数変数\n",
    "sy = jm.SemiContinuousVar(\"y\", lower_bound=0.5, upper_bound=2.0)"
   ]
  },
  {
   "cell_type": "markdown",
   "metadata": {},
   "source": [
    "変数の下限と上限には決定変数を含まない`Placeholder`または数値を設定することができます。"
   ]
  },
  {
   "cell_type": "code",
   "execution_count": 3,
   "metadata": {},
   "outputs": [],
   "source": [
    "L = jm.Placeholder(\"Lower\")\n",
    "U = jm.Placeholder(\"Upper\")\n",
    "x = jm.IntegerVar(\"x\", lower_bound=L, upper_bound=U)\n",
    "y = jm.ContinuousVar(\"y\", lower_bound=L/2, upper_bound=U*U)"
   ]
  }
 ],
 "metadata": {
  "kernelspec": {
   "display_name": ".venv",
   "language": "python",
   "name": "python3"
  },
  "language_info": {
   "codemirror_mode": {
    "name": "ipython",
    "version": 3
   },
   "file_extension": ".py",
   "mimetype": "text/x-python",
   "name": "python",
   "nbconvert_exporter": "python",
   "pygments_lexer": "ipython3",
   "version": "3.9.16"
  }
 },
 "nbformat": 4,
 "nbformat_minor": 2
}
