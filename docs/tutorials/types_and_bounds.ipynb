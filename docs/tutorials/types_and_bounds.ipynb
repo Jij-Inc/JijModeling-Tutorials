{
 "cells": [
  {
   "cell_type": "markdown",
   "metadata": {},
   "source": [
    "# 型と上限・下限\n",
    "\n",
    "`jijmodeling`は、決定変数としてバイナリ変数`BinaryVar`に加えて、整数変数`IntegerVar`および連続変数`ContinuousVar`をサポートしています。`BinaryVar`とは異なり、`IntegerVar`と`ContinuousVar`の両方には下限と上限が必要です："
   ]
  },
  {
   "cell_type": "code",
   "execution_count": 2,
   "metadata": {},
   "outputs": [],
   "source": [
    "import jijmodeling as jm\n",
    "\n",
    "# Integer variable in [0, 10]\n",
    "x = jm.IntegerVar(\"x\", lower_bound=0, upper_bound=10)\n",
    "# Continuous variable in [0, 2.5]\n",
    "y = jm.ContinuousVar(\"y\", lower_bound=0.0, upper_bound=2.5)"
   ]
  },
  {
   "cell_type": "markdown",
   "metadata": {},
   "source": [
    "また、境界内の値または$0$を取る半整数変数および半連続変数もあります："
   ]
  },
  {
   "cell_type": "code",
   "execution_count": 3,
   "metadata": {},
   "outputs": [],
   "source": [
    "# Integer value in [3, 10] or 0\n",
    "sx = jm.SemiIntegerVar(\"x\", lower_bound=3, upper_bound=10)\n",
    "# Continuous value in [0.5, 2.0] or 0\n",
    "sy = jm.SemiContinuousVar(\"y\", lower_bound=0.5, upper_bound=2.0)"
   ]
  },
  {
   "cell_type": "markdown",
   "metadata": {},
   "source": [
    "変数の境界は、決定変数を含まない`Placeholder`またはスカラーにすることができます。"
   ]
  },
  {
   "cell_type": "code",
   "execution_count": 4,
   "metadata": {},
   "outputs": [],
   "source": [
    "L = jm.Placeholder(\"Lower\")\n",
    "U = jm.Placeholder(\"Upper\")\n",
    "x = jm.IntegerVar(\"x\", lower_bound=L, upper_bound=U)\n",
    "y = jm.ContinuousVar(\"y\", lower_bound=L/2, upper_bound=U*U)"
   ]
  }
 ],
 "metadata": {
  "kernelspec": {
   "display_name": ".venv",
   "language": "python",
   "name": "python3"
  },
  "language_info": {
   "codemirror_mode": {
    "name": "ipython",
    "version": 3
   },
   "file_extension": ".py",
   "mimetype": "text/x-python",
   "name": "python",
   "nbconvert_exporter": "python",
   "pygments_lexer": "ipython3",
   "version": "3.11.5"
  }
 },
 "nbformat": 4,
 "nbformat_minor": 2
}
