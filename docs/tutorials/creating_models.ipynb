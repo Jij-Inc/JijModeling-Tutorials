{
 "cells": [
  {
   "cell_type": "markdown",
   "id": "a2261f59-bb99-4459-a176-d28e8cf95ebc",
   "metadata": {},
   "source": [
    "# Creating models\n",
    "\n",
    "## What is a model?  Why not use solvers directly?\n",
    "\n",
    "![Why not use solvers directly?](./assets/creating_models_01.png)\n",
    "\n",
    "`jijmodeling` is a “modeler” library which translates human-readable mathematical models into a computer-readable data format. There are several types of optimization problems and corresponding problem-specific solvers which only accept their own specific data format, which in turn require incorporating data specific to a given problem instance. Using `jijmodeling`, you can write your optimization model in a single and mathematical way, then adapt it to solver and instance-specific details later."
   ]
  },
  {
   "cell_type": "markdown",
   "id": "e11414fe-6780-4fbe-b3ec-77757c9801c3",
   "metadata": {},
   "source": [
    "## Example model\n",
    "\n",
    "Let us consider a simple binary linear minimization problem with $N$ real coefficients $d_n$:\n",
    "\n",
    "$$\n",
    "\\min \\sum_{n=0}^{N−1}d_n x_n, \\\\\n",
    "\\text{s.t.} \\space \\sum_{n=0}^{N-1} x_n = 1, \\\\\n",
    "\\text{where} \\space x_n \\in \\{0,1\\} \\space \\forall n \\in [0, N-1]\n",
    "$$\n",
    "\n",
    "as an example for demonstrating the basic usage of `jijmodeling` including\n",
    "\n",
    "- Define the decision variable $x_n$ and parameters $N$ and $d_n$\n",
    "- Set the objective function as the minimization of $\\sum_{n=0}^{N-1} d_n x_n$\n",
    "- Add the equality constraint $\\sum_{n=0}^{N-1} x_n = 1$\n",
    "\n",
    "You can find more practical and comprehensive examples on the [Learn](../../tutorial) page."
   ]
  },
  {
   "cell_type": "markdown",
   "id": "a6adedec-f3a5-489a-9ea0-75034ee26ba9",
   "metadata": {},
   "source": [
    "## Create `Problem` object\n",
    "\n",
    "Let’s start talking with code. First, we need to import `jijmodeling`"
   ]
  },
  {
   "cell_type": "code",
   "execution_count": null,
   "id": "87018bf3-c292-406d-8c35-b2af119ce214",
   "metadata": {},
   "outputs": [],
   "source": [
    "import jijmodeling as jm\n",
    "jm.__version__   # 1.8.0"
   ]
  },
  {
   "cell_type": "markdown",
   "id": "6e0dbf78-5e3d-4bff-9781-f979a60dcad1",
   "metadata": {},
   "source": [
    "We strongly encourage you to check the version of `jijmodeling` in your environment is match to this document before trying to run following codes.\n",
    "\n",
    "The role of `Problem` is to represent the mathematical model as a Python object."
   ]
  },
  {
   "cell_type": "code",
   "execution_count": null,
   "id": "64448e12-b170-4e56-ae92-58c35386c900",
   "metadata": {},
   "outputs": [],
   "source": [
    "# Define parameters\n",
    "d = jm.Placeholder(\"d\", ndim=1)\n",
    "N = d.len_at(0, latex=\"N\")\n",
    "\n",
    "# Define decision variables\n",
    "x = jm.BinaryVar(\"x\", shape=(N,))\n",
    "\n",
    "# Index for calc sum\n",
    "n = jm.Element('n', belong_to=(0, N))\n",
    "\n",
    "# create problem instance \n",
    "problem = jm.Problem('my_first_problem')\n",
    "# Set objective\n",
    "problem += jm.sum(n, d[n] * x[n])\n",
    "# Set constraint\n",
    "problem += jm.Constraint(\"onehot\", jm.sum(n, x[n]) == 1)\n",
    "\n",
    "# See problem on REPL/Jupyter\n",
    "problem"
   ]
  },
  {
   "cell_type": "markdown",
   "id": "0336992b-b861-4449-8b27-670cc23efbb8",
   "metadata": {},
   "source": [
    "We believe you can find which part of code corresponds to the above mathematical model. This document discusses the concept of each type and their operations a little deeper.\n",
    "\n",
    ":::{admonition} [Jupyter](https://jupyter.org/) Integration\n",
    ":class: note\n",
    "\n",
    "In jupyter or related environment, you can show the contents of a `problem` object as follows. This will help you to debug your model interactively.\n",
    "\n",
    "![Jupyter example](./assets/creating_models_02.png)\n",
    "\n",
    ":::"
   ]
  },
  {
   "cell_type": "markdown",
   "id": "c343e3ef-d1a2-458e-bfb3-5442ed66be7e",
   "metadata": {},
   "source": [
    "## Decision variables and Parameters\n",
    "\n",
    "There two kinds of \"variables\" in the above model: Decision variables and parameters. In `jijmodeling` this is determined by the class used when declaring the object.\n",
    "\n",
    "![Decision variables and Parameters](./assets/creating_models_03.png) <!-- https://docs.google.com/drawings/d/1MZwFljVOV0XZpTB_vYpOtd7_2jqn3xM3Wx1IAwB55EM/edit?usp=sharing -->\n",
    "\n",
    "- The values of $x_n$ are determined by solving the problem. These are called “decision variables”.\n",
    "    - In this problem we're using binary variables $x_n \\in \\{0, 1\\}$ represented by `BinaryVar`. There are other types to choose from to define decision variables, like `IntegerVar` or `ContinuousVar`. \n",
    "    - We'll talk more about the different variable types in [Variable types and Bounds](../tutorials/expressions#variable-types-and-bounds). \n",
    "- The values of $N$ and $d$ are \"blanks\" left to be specified by the user.\n",
    "    - We say the problem is *parametrized* by $N$ and $d$. \n",
    "    - Their actual numerical values are not specified within the `Problem` object.\n",
    "    - These can be thought of as part of the \"instance data\" of the problem. Specific instances will have different values, but we can write the model in a way that is agnostic to those specific values.\n",
    "    - Most parameters are represented by `Placeholder` objects defined explicitly, like `d` in the above code.\n",
    "    - We defined `N` as the number of elements in `d` (it's an `ArrayLength` object). This makes `N` an implicit parameter: we only have to specify `d` to define an instance. This also makes the _meaning_ of $N$ within the mathematical model a clear part of our code.\n",
    "\n",
    ":::{admonition} What is an Object?\n",
    ":class: tip\n",
    "\n",
    "In Python, every *value* has its type. For example, `1` is of type `int`, and `1.0` is of type `float`. We can get it by built-in function `type` like `type(1.0)`. For some type `A`, we call a value of type `A` as “`A` object“.\n",
    "\n",
    ":::"
   ]
  },
  {
   "cell_type": "markdown",
   "id": "f296e18f-4ef9-4090-abd3-f08ca3794949",
   "metadata": {},
   "source": [
    "### Multidimensional variables\n",
    "\n",
    "We can define variables that can be used with indices. This is analogous to having an array or matrix of variables. We want there to be $N$ coefficients $d_n$ and $N$ decision variables $x_n$, so we write them as a one-dimensional `Placeholder` `d` and a one-dimensional `BinaryVar` `x`. With `Placeholder`s we can just say that it's one-dimensional, without specifying how many values there will be. With decision variables, however, their _amount_ must be specified along with the number of dimensions. But that amount can be defined in relation to parameters, you don't have to use literal numerical value, like so: \n",
    "\n",
    "```python\n",
    "# we first define d\n",
    "d = jm.Placeholder(\"d\", ndim=1)\n",
    "# and then take the size of it as N\n",
    "N = d.len_at(0, latex=\"N\")\n",
    "# x is defined with this size\n",
    "x = jm.BinaryVar(\"x\", shape=(N,))\n",
    "```\n",
    "\n",
    "The object `N` is of type `ArrayLength`, which represents the number of elements in the `Placeholder` `d`. The `0` parameter given to `len_at` is because `Placeholder`s can have any number of dimensions, but for the length to be well-defined we need to specify along the axis we're counting. \n",
    "\n",
    ":::{note}\n",
    "Indexing and summation will be discussed more deeply in [the next page](../tutorials/expressions#indexing-and-summation).\n",
    ":::"
   ]
  },
  {
   "cell_type": "markdown",
   "id": "d4275d0b-a1b9-450b-b9f8-76c123cb6edc",
   "metadata": {},
   "source": [
    "## Objective function\n",
    "\n",
    "Next, we want to set $\\sum_{n=0}^{N-1} d_n x_n$ as the minimization target of the problem. But $N$ is not fixed yet, and thus we cannot write a `for` loop in Python. How do we sum up them?\n",
    "\n",
    "`jm.sum` exists for resolving this problem:"
   ]
  },
  {
   "cell_type": "code",
   "execution_count": null,
   "id": "4618a778-14f8-4f9e-808f-b6df2795f49f",
   "metadata": {},
   "outputs": [],
   "source": [
    "n = jm.Element('n', belong_to=(0, N))\n",
    "sum_dx = jm.sum(n, d[n] * x[n])"
   ]
  },
  {
   "cell_type": "markdown",
   "id": "d2e6f987-3c3d-4940-b982-2b14e1f33541",
   "metadata": {},
   "source": [
    "`Element` is a new variable type corresponding to indices within some range. In mathematics, we usually consider\n",
    "\n",
    "> For a given $n \\in [0, N-1]$, take $n$-th element of $d \\in \\mathbb{R}^N$.\n",
    "\n",
    "In `jijmodeling` that is represented with an `Element` object `n` corresponding to $n \\in [0, N-1]$ and an expression `d[n]` corresponding to $d_n$. Be sure that a valid range of indices is stored in `Element` object. `sum` takes the element `n` as its index and expression `d[n] * x[n]` and returns new expression correspond to $\\sum_n d_n x_n$.\n",
    "\n",
    ":::{note}\n",
    "\"Expressions\" are discussed deeply in [the next page](../tutorials/expressions).\n",
    ":::\n",
    "\n",
    "Here we can create `Problem` instance and set $\\sum_n d_n x_n$ as the objective function:"
   ]
  },
  {
   "cell_type": "code",
   "execution_count": null,
   "id": "690932b1-2f07-440c-9e64-a4e5ae9c7339",
   "metadata": {},
   "outputs": [],
   "source": [
    "problem = jm.Problem('my_first_problem')\n",
    "problem += sum_dx"
   ]
  },
  {
   "cell_type": "markdown",
   "id": "f38c7757-dc1f-43ee-a866-009355c7c44b",
   "metadata": {},
   "source": [
    "If you want to maximize the objective function, you can set the `sense` parameter when constructing a `Problem`:"
   ]
  },
  {
   "cell_type": "code",
   "execution_count": null,
   "id": "1aaaf233-e038-4f37-a03c-c02f25d7e971",
   "metadata": {},
   "outputs": [],
   "source": [
    "problem = jm.Problem('my_first_problem', sense=jm.ProblemSense.MAXIMIZE)"
   ]
  },
  {
   "cell_type": "markdown",
   "id": "29940aac-e039-40c8-925d-e86f7b731e7b",
   "metadata": {},
   "source": [
    "## Equality constraint\n",
    "\n",
    "Finally, let’s create a `Constraint` object corresponding to the equality constraint\n",
    "\n",
    "$$\n",
    "\\sum_{n=0}^{N-1} x_n = 1\n",
    "$$\n",
    "\n",
    "Using `sum` expression as discussed above, this constraint can be written as an expression:"
   ]
  },
  {
   "cell_type": "code",
   "execution_count": null,
   "id": "39edb10b-8be1-429f-903a-da68446ab074",
   "metadata": {},
   "outputs": [],
   "source": [
    "jm.sum(n, x[n]) == 1"
   ]
  },
  {
   "cell_type": "markdown",
   "id": "c7235ef8-8a17-4fc0-895d-29225bf58989",
   "metadata": {},
   "source": [
    "Different from usual Python types whose `==` return `bool` value, `==` for `jijmodeling` expressions returns a new expression which represents the equality comparison. A `Constraint` object is created with a name and valid comparison expression (using `==`, `<=` or `>=`). We can then add it to our `problem`:"
   ]
  },
  {
   "cell_type": "code",
   "execution_count": null,
   "id": "b7432ad5-6d38-498b-b31e-f48f16ff598b",
   "metadata": {},
   "outputs": [],
   "source": [
    "problem += jm.Constraint(\"onehot\", jm.sum(n, x[n]) == 1)"
   ]
  },
  {
   "cell_type": "markdown",
   "id": "5277cb70-615a-4027-a2fc-817af2877dd8",
   "metadata": {},
   "source": [
    ":::{note}\n",
    "This topic will be discussed more deeply in [Constraint and Penalty](../tutorials/constraint_and_penalty) page.\n",
    ":::"
   ]
  },
  {
   "cell_type": "markdown",
   "id": "5aa745f9",
   "metadata": {},
   "source": []
  }
 ],
 "metadata": {
  "kernelspec": {
   "display_name": "Python 3 (ipykernel)",
   "language": "python",
   "name": "python3"
  },
  "language_info": {
   "codemirror_mode": {
    "name": "ipython",
    "version": 3
   },
   "file_extension": ".py",
   "mimetype": "text/x-python",
   "name": "python",
   "nbconvert_exporter": "python",
   "pygments_lexer": "ipython3",
   "version": "3.9.18"
  }
 },
 "nbformat": 4,
 "nbformat_minor": 5
}
