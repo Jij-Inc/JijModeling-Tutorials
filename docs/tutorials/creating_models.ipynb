{
 "cells": [
  {
   "cell_type": "markdown",
   "id": "a2261f59-bb99-4459-a176-d28e8cf95ebc",
   "metadata": {},
   "source": [
    "# モデルの定式化\n",
    "\n",
    "## モデルとは何か?  なぜ直接ソルバーを使わないのか?\n",
    "\n",
    "![Why not use solvers directly?](./assets/creating_models_01.png)\n",
    "\n",
    "`jijmodeling`は、人間が読みやすい数学モデルをコンピュータが読み取れるデータ形式に変換する「モデラー」ライブラリです。最適化問題にはいくつかの種類があり、それぞれに対応する問題固有のソルバーが存在しますが、これらのソルバーは特定のデータ形式のみを受け入れます。そのため、特定の問題インスタンスに固有のデータを組み込む必要があります。`jijmodeling`を使用すると、最適化モデルを単一の数学的な方法で記述し、その後でソルバーやインスタンス固有の詳細に適応させることができます。"
   ]
  },
  {
   "cell_type": "markdown",
   "id": "e11414fe-6780-4fbe-b3ec-77757c9801c3",
   "metadata": {},
   "source": [
    "## 定式化の例\n",
    "\n",
    "$N$個の実数係数$d_n$を持つ単純なバイナリ線形最小化問題を考えます：\n",
    "\n",
    "$$\n",
    "\\min \\sum_{n=0}^{N−1}d_n x_n, \\\\\n",
    "\\text{s.t.} \\space \\sum_{n=0}^{N-1} x_n = 1, \\\\\n",
    "\\text{where} \\space x_n \\in \\{0,1\\} \\space \\forall n \\in [0, N-1]\n",
    "$$\n",
    "\n",
    "これは`jijmodeling`の基本的な使用方法を示す例です。以下を含みます：\n",
    "\n",
    "- 決定変数$x_n$とパラメータ$N$および$d_n$を定義する\n",
    "- 目的関数を$\\sum_{n=0}^{N-1} d_n x_n$の最小化として設定する\n",
    "- 等式制約$\\sum_{n=0}^{N-1} x_n = 1$を追加する\n",
    "\n",
    "より実践的で包括的な例は、JijZeptのドキュメントサイトの[Learn](https://www.documentation.jijzept.com/docs/category/learn)で確認することができます。"
   ]
  },
  {
   "cell_type": "markdown",
   "id": "a6adedec-f3a5-489a-9ea0-75034ee26ba9",
   "metadata": {},
   "source": [
    "## `Problem`オブジェクトを作る\n",
    "\n",
    "コードを使って話し始めましょう。まず、jijmodelingをインポートする必要があります。"
   ]
  },
  {
   "cell_type": "code",
   "execution_count": null,
   "id": "87018bf3-c292-406d-8c35-b2af119ce214",
   "metadata": {},
   "outputs": [],
   "source": [
    "import jijmodeling as jm\n",
    "jm.__version__   # 1.8.0"
   ]
  },
  {
   "cell_type": "markdown",
   "id": "6e0dbf78-5e3d-4bff-9781-f979a60dcad1",
   "metadata": {},
   "source": [
    "jijmodelingのバージョンがこのドキュメントに対応していることを確認することを強くお勧めします。その後、以下のコードを実行してください。\n",
    "\n",
    "`Problem`の役割は、数学モデルをPythonオブジェクトとして表現することです。"
   ]
  },
  {
   "cell_type": "code",
   "execution_count": null,
   "id": "64448e12-b170-4e56-ae92-58c35386c900",
   "metadata": {},
   "outputs": [],
   "source": [
    "# Define parameters\n",
    "d = jm.Placeholder(\"d\", ndim=1)\n",
    "N = d.len_at(0, latex=\"N\")\n",
    "\n",
    "# Define decision variables\n",
    "x = jm.BinaryVar(\"x\", shape=(N,))\n",
    "\n",
    "# Index for calc sum\n",
    "n = jm.Element('n', belong_to=(0, N))\n",
    "\n",
    "# create problem instance \n",
    "problem = jm.Problem('my_first_problem')\n",
    "# Set objective\n",
    "problem += jm.sum(n, d[n] * x[n])\n",
    "# Set constraint\n",
    "problem += jm.Constraint(\"onehot\", jm.sum(n, x[n]) == 1)\n",
    "\n",
    "# See problem on REPL/Jupyter\n",
    "problem"
   ]
  },
  {
   "cell_type": "markdown",
   "id": "0336992b-b861-4449-8b27-670cc23efbb8",
   "metadata": {},
   "source": [
    "上記の数学モデルに対応するコードの部分を見つけることができると考えています。このドキュメントでは、各タイプの概念とその操作についてもう少し詳しく説明しています。\n",
    "\n",
    ":::{admonition} [Jupyter](https://jupyter.org/)環境\n",
    ":class: note\n",
    "\n",
    "Jupyterや関連する環境では、以下のようにして`Problem`オブジェクトの内容を表示できます。これにより、モデルを対話的にデバッグするのに役立ちます。\n",
    "\n",
    "![Jupyter example](./assets/creating_models_02.png)\n",
    "\n",
    ":::"
   ]
  },
  {
   "cell_type": "markdown",
   "id": "c343e3ef-d1a2-458e-bfb3-5442ed66be7e",
   "metadata": {},
   "source": [
    "## 決定変数とパラメータ\n",
    "\n",
    "上記のモデルには2種類の「変数」があります：決定変数とパラメータです。jijmodelingでは、オブジェクトを宣言する際に使用するクラスによってこれが決まります。\n",
    "\n",
    "![Decision variables and Parameters](./assets/creating_models_03.png) <!-- https://docs.google.com/drawings/d/1MZwFljVOV0XZpTB_vYpOtd7_2jqn3xM3Wx1IAwB55EM/edit?usp=sharing -->\n",
    "\n",
    "- $x_n$の値は問題を解くことで決定されます。これらは「決定変数」と呼ばれます。\n",
    "    - この問題では、$x_n \\in \\{0, 1\\}$のバイナリ変数を`BinaryVar`で表現しています。決定変数を定義するために選択できる他のタイプには、`IntegerVar`や`ContinuousVar`があります。\n",
    "    - [変数の種類と境界](./types_and_bounds.ipynb)で異なる変数タイプについてさらに詳しく説明します。\n",
    "- $N$と$d$の値はユーザーによって指定される「空欄」です。\n",
    "    - この問題は$N$と$d$によってパラメータ化されていると言います。\n",
    "    - これらの実際の数値は`Problem`オブジェクト内で指定されていません。\n",
    "    - これらは問題の「インスタンスデータ」の一部と見なすことができます。特定のインスタンスは異なる値を持ちますが、特定の値に依存しない方法でモデルを記述することができます。\n",
    "    - ほとんどのパラメータは、上記のコードのようにdとして明示的に定義された`Placeholder`オブジェクトで表されます。\n",
    "    - Nは$d$の要素数として定義しました（これは`ArrayLength`オブジェクトです）。これにより、$N$は暗黙のパラメータとなります：インスタンスを定義するために$d$を指定するだけで済みます。これにより、数学モデル内の$N$の意味がコードの明確な部分となります。\n",
    "\n",
    ":::{admonition} オブジェクトとは何か？\n",
    ":class: tip\n",
    "\n",
    "Pythonでは、すべての値には型があります。例えば、`1`は`int`型であり、`1.0`は`float`型です。組み込み関数`type`を使用して、`type(1.0)`のように型を取得できます。ある型`A`に対して、型Aの値を「`A`オブジェクト」と呼びます。\n",
    "\n",
    ":::"
   ]
  },
  {
   "cell_type": "markdown",
   "id": "f296e18f-4ef9-4090-abd3-f08ca3794949",
   "metadata": {},
   "source": [
    "### 多次元変数\n",
    "\n",
    "インデックスを使用できる変数を定義することができます。これは、変数の配列や行列を持つことに類似しています。$N$個の係数$d_n$と$N$個の決定変数$x_n$があると仮定し、それらを一次元の`Placeholder` `d`と一次元の`BinaryVar` `x`として記述します。`Placeholder`の場合、値の数を指定せずに一次元であることを示すだけで済みます。しかし、決定変数の場合、その数は次元数とともに指定する必要があります。ただし、その数はパラメータに関連して定義することができ、具体的な数値を使用する必要はありません。例えば、次のように："
   ]
  },
  {
   "cell_type": "code",
   "execution_count": null,
   "id": "34521b8a",
   "metadata": {},
   "outputs": [],
   "source": [
    "# we first define d\n",
    "d = jm.Placeholder(\"d\", ndim=1)\n",
    "# and then take the size of it as N\n",
    "N = d.len_at(0, latex=\"N\")\n",
    "# x is defined with this size\n",
    "x = jm.BinaryVar(\"x\", shape=(N,))"
   ]
  },
  {
   "cell_type": "markdown",
   "id": "1f481d27",
   "metadata": {},
   "source": [
    "オブジェクト`N`は`ArrayLength`型であり、これは`Placeholder` `d`の要素数を表します。`len_at`に与えられた`0`パラメータは、`Placeholder`が任意の次元数を持つことができるためですが、長さを明確に定義するためには、カウントする軸を指定する必要があります。\n",
    "\n",
    ":::{note} インデックス付けと総和については、[次のページ](./expressions.ipynb)でさらに詳しく説明します。 :::"
   ]
  },
  {
   "cell_type": "markdown",
   "id": "d4275d0b-a1b9-450b-b9f8-76c123cb6edc",
   "metadata": {},
   "source": [
    "## 目的関数\n",
    "\n",
    "次に、$\\sum_{n=0}^{N-1} d_n x_n$を問題の最小化対象として設定したいと考えます。しかし、$N$はまだ固定されていないため、Pythonで`for`ループを書くことができません。では、どのようにしてこれらを合計するのでしょうか？\n",
    "\n",
    "この問題を解決するためにjm.sumが存在します："
   ]
  },
  {
   "cell_type": "code",
   "execution_count": null,
   "id": "4618a778-14f8-4f9e-808f-b6df2795f49f",
   "metadata": {},
   "outputs": [],
   "source": [
    "n = jm.Element('n', belong_to=(0, N))\n",
    "sum_dx = jm.sum(n, d[n] * x[n])"
   ]
  },
  {
   "cell_type": "markdown",
   "id": "d2e6f987-3c3d-4940-b982-2b14e1f33541",
   "metadata": {},
   "source": [
    "`Element`は、ある範囲内のインデックスに対応する新しい変数タイプです。数学では通常、\n",
    "\n",
    "> 与えられた$n \\in [0, N-1]$に対して、$d \\in \\mathbb{R}^N$の$n$番目の要素を取ります。\n",
    "\n",
    "`jijmodeling`では、これは$n \\in [0, N-1]$に対応する`Element`オブジェクト`n`と、$d_n$に対応する表現`d[n]`で表されます。`Element`オブジェクトに有効なインデックス範囲が格納されていることを確認してください。`sum`はインデックスとして要素nを取り、表現`d[n] * x[n]`を取り、$\\sum_n d_n x_n$に対応する新しい表現を返します。\n",
    "\n",
    ":::{note}\n",
    "「表現」については[次のページ](./expressions.ipynb)で詳しく説明します。\n",
    ":::\n",
    "\n",
    "ここで、`Problem`インスタンスを作成し、$\\sum_n d_n x_n$を目的関数として設定できます："
   ]
  },
  {
   "cell_type": "code",
   "execution_count": null,
   "id": "690932b1-2f07-440c-9e64-a4e5ae9c7339",
   "metadata": {},
   "outputs": [],
   "source": [
    "problem = jm.Problem('my_first_problem')\n",
    "problem += sum_dx"
   ]
  },
  {
   "cell_type": "markdown",
   "id": "f38c7757-dc1f-43ee-a866-009355c7c44b",
   "metadata": {},
   "source": [
    "目的関数を最大化したい場合は、`Problem`を構築する際に`sense`パラメータを設定できます。"
   ]
  },
  {
   "cell_type": "code",
   "execution_count": null,
   "id": "1aaaf233-e038-4f37-a03c-c02f25d7e971",
   "metadata": {},
   "outputs": [],
   "source": [
    "problem = jm.Problem('my_first_problem', sense=jm.ProblemSense.MAXIMIZE)"
   ]
  },
  {
   "cell_type": "markdown",
   "id": "29940aac-e039-40c8-925d-e86f7b731e7b",
   "metadata": {},
   "source": [
    "## 等式制約\n",
    "\n",
    "最後に、等式制約に対応する`Constraint`オブジェクトを作成しましょう。\n",
    "\n",
    "$$\n",
    "\\sum_{n=0}^{N-1} x_n = 1\n",
    "$$\n",
    "\n",
    "上記で説明した`sum`表現を使用して、この制約を表現として記述できます。"
   ]
  },
  {
   "cell_type": "code",
   "execution_count": null,
   "id": "39edb10b-8be1-429f-903a-da68446ab074",
   "metadata": {},
   "outputs": [],
   "source": [
    "jm.sum(n, x[n]) == 1"
   ]
  },
  {
   "cell_type": "markdown",
   "id": "c7235ef8-8a17-4fc0-895d-29225bf58989",
   "metadata": {},
   "source": [
    "通常のPythonの型とは異なり、`==`がbool値を返すのに対し、`jijmodeling`の表現における`==`は等式比較を表す新しい表現を返します。`Constraint`オブジェクトは名前と有効な比較表現（`==`、`<=`、または`>=`を使用）で作成されます。これを`problem`に追加することができます。"
   ]
  },
  {
   "cell_type": "code",
   "execution_count": null,
   "id": "b7432ad5-6d38-498b-b31e-f48f16ff598b",
   "metadata": {},
   "outputs": [],
   "source": [
    "problem += jm.Constraint(\"onehot\", jm.sum(n, x[n]) == 1)"
   ]
  },
  {
   "cell_type": "markdown",
   "id": "5277cb70-615a-4027-a2fc-817af2877dd8",
   "metadata": {},
   "source": [
    ":::{note}\n",
    "このトピックについては[制約条件とペナルティ](./constraint_and_penalty.ipynb)ページでさらに詳しく説明します。\n",
    ":::"
   ]
  }
 ],
 "metadata": {
  "kernelspec": {
   "display_name": "Python 3 (ipykernel)",
   "language": "python",
   "name": "python3"
  },
  "language_info": {
   "codemirror_mode": {
    "name": "ipython",
    "version": 3
   },
   "file_extension": ".py",
   "mimetype": "text/x-python",
   "name": "python",
   "nbconvert_exporter": "python",
   "pygments_lexer": "ipython3",
   "version": "3.9.18"
  }
 },
 "nbformat": 4,
 "nbformat_minor": 5
}
