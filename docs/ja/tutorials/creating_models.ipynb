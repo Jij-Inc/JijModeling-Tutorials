{
 "cells": [
  {
   "cell_type": "markdown",
   "id": "a2261f59-bb99-4459-a176-d28e8cf95ebc",
   "metadata": {},
   "source": [
    "# モデルの定式化\n",
    "\n",
    "## モデルとは何か?  なぜ直接ソルバーを使わないのか?\n",
    "\n",
    "![Why not use solvers directly?](./assets/creating_models_01.png)\n",
    "\n",
    "`jijmodeling`は、人間が読みやすい数理モデルをコンピュータが読み取れるデータ形式に変換する「モデラー」ライブラリです。最適化問題にはいくつかの種類があり、それに対応する問題固有のソルバーはソルバー固有のデータ形式しか受け付けません。そのため、数理モデルをソルバー固有のデータ形式に変換する必要があります。`jijmodeling`を使用すると数理モデルを単一の数学的な方法で記述することができ、その後、ソルバーやインスタンス固有の詳細に適合させることもできます。"
   ]
  },
  {
   "cell_type": "markdown",
   "id": "e11414fe-6780-4fbe-b3ec-77757c9801c3",
   "metadata": {},
   "source": [
    "## 数理モデルの例\n",
    "\n",
    "ここでは$N$個の実数係数$d_n$を持つ単純なバイナリ線形最小化問題を考えます。\n",
    "\n",
    "$$\n",
    "\\min \\sum_{n=0}^{N−1}d_n x_n, \\\\\n",
    "\\text{s.t.} \\space \\sum_{n=0}^{N-1} x_n = 1, \\\\\n",
    "\\text{where} \\space x_n \\in \\{0,1\\} \\space \\forall n \\in [0, N-1]\n",
    "$$\n",
    "\n",
    "この問題は`jijmodeling`の基本的な使用方法を学べる良い例です。具体的には、\n",
    "\n",
    "- 決定変数$x_n$とプレースホルダー$N$および$d_n$を定義する\n",
    "- $\\sum_{n=0}^{N-1} d_n x_n$の最小化を目的関数として設定する\n",
    "- 等式制約$\\sum_{n=0}^{N-1} x_n = 1$を設定する\n",
    "\n",
    "という内容を学ぶことができます。より実践的で包括的な例は、JijZeptのドキュメントサイトの[Learn](https://www.documentation.jijzept.com/docs/category/learn)を確認してください。"
   ]
  },
  {
   "cell_type": "markdown",
   "id": "a6adedec-f3a5-489a-9ea0-75034ee26ba9",
   "metadata": {},
   "source": [
    "## `Problem`オブジェクトを作る\n",
    "\n",
    "実際に`jijmodeling`を使っていきましょう。まずはインポートする必要があります。"
   ]
  },
  {
   "cell_type": "code",
   "execution_count": null,
   "id": "87018bf3-c292-406d-8c35-b2af119ce214",
   "metadata": {},
   "outputs": [],
   "source": [
    "import jijmodeling as jm\n",
    "jm.__version__   # 1.8.0"
   ]
  },
  {
   "cell_type": "markdown",
   "id": "6e0dbf78-5e3d-4bff-9781-f979a60dcad1",
   "metadata": {},
   "source": [
    ":::{caution}\n",
    "以下のコードを実行する前に、あなたの環境の`jijmodeling`のバージョンがこのドキュメントと一致していることを確認することを強く推奨します。\n",
    ":::\n",
    "\n",
    "では、`jijmodeling`を用いて数理モデルを構築してみましょう。"
   ]
  },
  {
   "cell_type": "code",
   "execution_count": null,
   "id": "64448e12-b170-4e56-ae92-58c35386c900",
   "metadata": {},
   "outputs": [],
   "source": [
    "# 「パラメータ」を定義\n",
    "d = jm.Placeholder(\"d\", ndim=1)\n",
    "N = d.len_at(0, latex=\"N\")\n",
    "\n",
    "# 「決定変数」を定義\n",
    "x = jm.BinaryVar(\"x\", shape=(N,))\n",
    "\n",
    "# 総和をするためのインデックスを準備\n",
    "n = jm.Element('n', belong_to=(0, N))\n",
    "\n",
    "# 数理モデルを管理するオブジェクトを生成\n",
    "problem = jm.Problem('my_first_problem')\n",
    "# 目的関数を設定\n",
    "problem += jm.sum(n, d[n] * x[n])\n",
    "# 制約条件を設定\n",
    "problem += jm.Constraint(\"onehot\", jm.sum(n, x[n]) == 1)\n",
    "\n",
    "# 数理モデルを表示\n",
    "problem"
   ]
  },
  {
   "cell_type": "markdown",
   "id": "0336992b-b861-4449-8b27-670cc23efbb8",
   "metadata": {},
   "source": [
    "コードのどの部分が上記の数理モデルに対応するか分かりましたか？　このページではコードの各部分の内容と操作についてもう少し深く説明していきます。\n",
    "\n",
    ":::{admonition} [Jupyter](https://jupyter.org/)環境\n",
    ":class: note\n",
    "\n",
    "Jupyter Notebook等の環境では、以下の画像のように`Problem`オブジェクトの内容を表示できます。これにより、モデルを対話的にデバッグすることができます。\n",
    "\n",
    "![Jupyter example](./assets/creating_models_02.png)\n",
    "\n",
    ":::"
   ]
  },
  {
   "cell_type": "markdown",
   "id": "c343e3ef-d1a2-458e-bfb3-5442ed66be7e",
   "metadata": {},
   "source": [
    "## 決定変数とパラメータ\n",
    "\n",
    "上記の数理モデルには「決定変数」と「パラメータ」という2種類の「変数」があります。`jijmodeling`では、「変数」を宣言する際に使用するクラスによってこれを識別します。\n",
    "\n",
    "![Decision variables and Parameters](./assets/creating_models_03.png) <!-- https://docs.google.com/drawings/d/1MZwFljVOV0XZpTB_vYpOtd7_2jqn3xM3Wx1IAwB55EM/edit?usp=sharing -->\n",
    "\n",
    "- $x_n$の値は問題を解くことで決まるもののため、これを「決定変数」と呼びます。\n",
    "    - 今回の問題では、バイナリ変数$x_n \\in \\{0, 1\\}$を`BinaryVar`で宣言しています。決定変数を定義できるクラスとして他にも`IntegerVar`や`ContinuousVar`があります。\n",
    "    - さらに詳しい説明は[決定変数の種類](./types_and_bounds.ipynb)を参照してください。\n",
    "- $N$と$d$の値はユーザーによって指定される「パラメータ」です。\n",
    "    - この問題は$N$と$d$によってパラメータ化されていると言います。\n",
    "    - 「パラメータ」の実際の値は`Problem`オブジェクト内では指定しません。\n",
    "    - 「パラメータ」は問題の「インスタンスデータ」の入れ物と見なすことができます。特定のインスタンスは異なる値を持ちますが、`jijmodeling`は特定の値に依存しない方法で数理モデルを記述することができます。\n",
    "    - ほとんどの「パラメータ」は、上記のコードの`d`のように明示的に定義された`Placeholder`オブジェクトで表されます。\n",
    "    - $N$は$d$の要素数として定義されており、$N$は「暗黙的なパラメータ」として扱われます。これにより、数理モデル内の$N$の意味がコード上で明確になり、インスタンスを生成するためには$d$を指定するだけで良くなります。\n",
    "\n",
    "\n",
    ":::{admonition} オブジェクトとは何か？\n",
    ":class: tip\n",
    "\n",
    "Pythonではすべての値には型があります。例えば、`1`は`int`型であり、`1.0`は`float`型です。組み込み関数`type`を使用して、`type(1.0)`のように型を取得できます。ある型`A`に対して、型Aの値を「`A`オブジェクト」と呼びます。\n",
    "\n",
    ":::"
   ]
  },
  {
   "cell_type": "markdown",
   "id": "f296e18f-4ef9-4090-abd3-f08ca3794949",
   "metadata": {},
   "source": [
    "### 多次元変数\n",
    "\n",
    "配列や行列のようなインデックスを使用できる変数を定義することができます。\n",
    "上記の数理モデルでは、$N$個の係数$d_n$と$N$個の決定変数$x_n$を定義したいので、1次元の`Placeholder`オブジェクト`d`と1次元の`BinaryVar`オブジェクト`x`を定義しましょう。`Placeholder`の場合は値がいくつかあるかを指定せずに、ただ1次元であることを指定すれば十分です。一方、決定変数の場合は次元数とともにその長さを指定しなければなりません。ですが、`jijmodeling`ではその長さも「パラメータ」として定義することができるので、数値を使わずに以下のように書くことができます。"
   ]
  },
  {
   "cell_type": "code",
   "execution_count": null,
   "id": "34521b8a",
   "metadata": {},
   "outputs": [],
   "source": [
    "# 係数dの定義\n",
    "d = jm.Placeholder(\"d\", ndim=1)\n",
    "# $d$の長さとして$N$を定義\n",
    "N = d.len_at(0, latex=\"N\")\n",
    "# $N$を用いて決定変数$x$を定義\n",
    "x = jm.BinaryVar(\"x\", shape=(N,))"
   ]
  },
  {
   "cell_type": "markdown",
   "id": "1f481d27",
   "metadata": {},
   "source": [
    "`N`は`ArrayLength`型であり、`Placeholder`オブジェクト`d`の要素数を表しています。`len_at`の第1引数に与えられた`0`は0次元方向の要素数をカウントすることを意味しており、これは`Placeholder`が任意の次元数を持つことができるために指定が必要になっています。\n",
    "\n",
    ":::{note} \n",
    "インデックスと総和については、[次のページ](./expressions.ipynb)でさらに詳しく説明します。 \n",
    ":::"
   ]
  },
  {
   "cell_type": "markdown",
   "id": "d4275d0b-a1b9-450b-b9f8-76c123cb6edc",
   "metadata": {},
   "source": [
    "## 目的関数\n",
    "次に、最小化する目的関数として$\\sum_{n=0}^{N-1} d_n x_n$を`Problem`オブジェクトに設定しましょう。しかし、$N$は`Problem`オブジェクトの構築段階では固定されていないため、Pythonの`for`ループを書くことはできません。では、どのように総和を行えば良いでしょうか？\n",
    "\n",
    "この疑問を解決するために`jijmodeling`専用の`sum`が存在します。"
   ]
  },
  {
   "cell_type": "code",
   "execution_count": null,
   "id": "4618a778-14f8-4f9e-808f-b6df2795f49f",
   "metadata": {},
   "outputs": [],
   "source": [
    "n = jm.Element('n', belong_to=(0, N))\n",
    "sum_dx = jm.sum(n, d[n] * x[n])"
   ]
  },
  {
   "cell_type": "markdown",
   "id": "d2e6f987-3c3d-4940-b982-2b14e1f33541",
   "metadata": {},
   "source": [
    "`Element`は、ある範囲内のインデックスに対応する新しいタイプの変数です。以下のようなケースを考えてみましょう。\n",
    "\n",
    "> 与えられた$n \\in [0, N-1]$に対し、$d \\in \\mathbb{R}^N$の$n$番目の要素$d_n$を取る\n",
    "\n",
    "`jijmodeling`では、$n \\in [0, N-1]$に対応する`Element`オブジェクト`n`と$d$に対応する`Placeholder`オブジェクト`d`を用いて、$d_n$を`d[n]`で表現します。`Element`オブジェクトに有効な範囲が指定されていることに注意してください。\n",
    "そして、総和$\\sum_{n} d_n x_n$を表現するために`jijmodeling`専用の`sum`を利用します。第1引数として和を取る範囲を表す`Element`オブジェクト`n`を指定し、第2引数として和を取る式`d[n] * x[n]`を指定します。これにより、$\\sum_{n} d_n x_n$を表現する式`sum_dx`が定義できます。\n",
    "\n",
    ":::{note}\n",
    "「式」については[次のページ](./expressions.ipynb)で詳しく説明します。\n",
    ":::\n",
    "\n",
    "そして、以下のように`Problem`インスタンスを作成して、`sum_dx`を加えることで$\\sum_n d_n x_n$を目的関数として設定できます。"
   ]
  },
  {
   "cell_type": "code",
   "execution_count": null,
   "id": "690932b1-2f07-440c-9e64-a4e5ae9c7339",
   "metadata": {},
   "outputs": [],
   "source": [
    "problem = jm.Problem('my_first_problem')\n",
    "problem += sum_dx"
   ]
  },
  {
   "cell_type": "markdown",
   "id": "f38c7757-dc1f-43ee-a866-009355c7c44b",
   "metadata": {},
   "source": [
    "`Problem`オブジェクトはデフォルトでは最小化問題になります。目的関数を最大化したい場合は`Problem`を構築する際に`sense`引数を以下のように指定してください。"
   ]
  },
  {
   "cell_type": "code",
   "execution_count": null,
   "id": "1aaaf233-e038-4f37-a03c-c02f25d7e971",
   "metadata": {},
   "outputs": [],
   "source": [
    "problem = jm.Problem('my_first_problem', sense=jm.ProblemSense.MAXIMIZE)"
   ]
  },
  {
   "cell_type": "markdown",
   "id": "29940aac-e039-40c8-925d-e86f7b731e7b",
   "metadata": {},
   "source": [
    "## 等式制約\n",
    "\n",
    "最後に、等式制約に対応する`Constraint`オブジェクトを作成しましょう。\n",
    "\n",
    "$$\n",
    "\\sum_{n=0}^{N-1} x_n = 1\n",
    "$$\n",
    "\n",
    "上記で説明した`sum`を使用して、この制約を次のように記述できます。"
   ]
  },
  {
   "cell_type": "code",
   "execution_count": null,
   "id": "39edb10b-8be1-429f-903a-da68446ab074",
   "metadata": {},
   "outputs": [],
   "source": [
    "jm.sum(n, x[n]) == 1"
   ]
  },
  {
   "cell_type": "markdown",
   "id": "c7235ef8-8a17-4fc0-895d-29225bf58989",
   "metadata": {},
   "source": [
    "`jijmodeling`の式における`==`は、通常のPythonとは異なり、新しい`jijmodeling`の式を返すことに注意してください。また、`Constraint`オブジェクトは第1引数に制約の名前を指定し、第2引数に比較式を指定する必要があります。（`jijmodeling`では比較式として`==`、`<=`、`>=`を利用できます）\n",
    "このようにして構築した`Constraint`オブジェクトを`Problem`オブジェクトに追加することで数理モデルに制約を加えることができます。"
   ]
  },
  {
   "cell_type": "code",
   "execution_count": null,
   "id": "b7432ad5-6d38-498b-b31e-f48f16ff598b",
   "metadata": {},
   "outputs": [],
   "source": [
    "problem += jm.Constraint(\"onehot\", jm.sum(n, x[n]) == 1)"
   ]
  },
  {
   "cell_type": "markdown",
   "id": "5277cb70-615a-4027-a2fc-817af2877dd8",
   "metadata": {},
   "source": [
    ":::{note}\n",
    "「制約条件とペナルティ」については[次のページ](./constraint_and_penalty.ipynb)でさらに詳しく説明します。\n",
    ":::"
   ]
  }
 ],
 "metadata": {
  "kernelspec": {
   "display_name": "Python 3 (ipykernel)",
   "language": "python",
   "name": "python3"
  },
  "language_info": {
   "codemirror_mode": {
    "name": "ipython",
    "version": 3
   },
   "file_extension": ".py",
   "mimetype": "text/x-python",
   "name": "python",
   "nbconvert_exporter": "python",
   "pygments_lexer": "ipython3",
   "version": "3.9.18"
  }
 },
 "nbformat": 4,
 "nbformat_minor": 5
}
