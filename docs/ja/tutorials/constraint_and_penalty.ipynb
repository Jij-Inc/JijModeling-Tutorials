{
 "cells": [
  {
   "cell_type": "markdown",
   "id": "1822dbba-75f4-4658-ab75-e760ebb6790d",
   "metadata": {},
   "source": [
    "# 制約とペナルティ\n",
    "\n",
    "## 制約付き最適化問題\n",
    "\n",
    "数理最適化において、制約とは解が満たさなければならない条件のことです。例えば、次の問題は制約付き最適化問題になります。\n",
    "\n",
    "$$\n",
    "\\begin{aligned}\n",
    "\\text{Minimize} & \\quad f(x) \\\\\n",
    "\\text{subject to} & \\quad g(x) = 0\n",
    "\\end{aligned}\n",
    "$$\n",
    "\n",
    "ここで$f$と$g$は決定変数$x$の関数です。条件$g(x) = 0$は等式制約と呼ばれます。$g(x) = 0$を満たすすべての$x$の集合は実行可能集合と呼ばれます。制約は$g(x) = 0$のような等式制約に限らず、$g(x) \\leq 0$のような不等式制約である場合もあります。例えば、次の問題も制約付き最適化問題です。\n",
    "\n",
    "$$\n",
    "\\begin{aligned}\n",
    "\\text{Minimize} & \\quad f(x) \\\\\n",
    "\\text{subject to} & \\quad g(x) \\leq 0\n",
    "\\end{aligned}\n",
    "$$\n",
    "\n",
    "`jijmodeling`では、`Constraint`クラスを使用して等式制約と不等式制約の両方を記述できます。例えば、等式制約$\\sum_i x_i = 1$は次のように表現できます。"
   ]
  },
  {
   "cell_type": "code",
   "execution_count": 1,
   "id": "950b552b-8399-4c26-9a2b-1759457fd222",
   "metadata": {},
   "outputs": [
    {
     "data": {
      "text/latex": [
       "\\begin{array}{cccc}\n",
       " & \\text{onehot} & \\displaystyle \\sum_{n = 0}^{N - 1} x_{n} = 1 &  \\\\\n",
       "\\end{array}"
      ],
      "text/plain": [
       "Constraint(name=\"onehot\", expression=sum(n in [0..N), x[n]) == 1)"
      ]
     },
     "execution_count": 1,
     "metadata": {},
     "output_type": "execute_result"
    }
   ],
   "source": [
    "import jijmodeling as jm\n",
    "\n",
    "N = jm.Placeholder(\"N\")\n",
    "x = jm.BinaryVar(\"x\", shape=(N,))\n",
    "n = jm.Element('n', belong_to=(0, N))\n",
    "\n",
    "jm.Constraint(\"onehot\", jm.sum(n, x[n]) == 1)"
   ]
  },
  {
   "cell_type": "markdown",
   "id": "be4e1b56-775a-4ebb-bff2-6774bebe9097",
   "metadata": {},
   "source": [
    "上記のコードでは、`jm.Constraint`の第1引数として文字列\"onehot\"を指定していることに注意してください。制約オブジェクトには名前と制約式があります。これらの名前は制約が満たされているかどうかを確認する際に使用されます。制約式は、`==`、`<=`、または`>=`の3つの比較演算子のいずれかを使用する論理式でなければなりません。また、次のようにして1つの問題に複数の制約を課すことができます。"
   ]
  },
  {
   "cell_type": "code",
   "execution_count": 2,
   "id": "affcab7c-20e8-41d7-b17b-5ac94c4a5d19",
   "metadata": {},
   "outputs": [],
   "source": [
    "x = jm.BinaryVar(\"x\", shape=(4,))\n",
    "problem = jm.Problem(\"constraint_sample\")\n",
    "problem += jm.Constraint(\"c01\", x[0] + x[1] <= 1)\n",
    "problem += jm.Constraint(\"c12\", x[1] + x[2] <= 1)\n",
    "problem += jm.Constraint(\"c23\", x[2] + x[3] >= 0)"
   ]
  },
  {
   "cell_type": "markdown",
   "id": "46b36de9-fe08-4f71-896b-60ebb630ca5d",
   "metadata": {},
   "source": [
    ":::{tip}\n",
    "\n",
    "他の比較演算子（例えば`>`）や論理演算子はサポートされていません。\n",
    "\n",
    "```python\n",
    "x = jm.BinaryVar(\"x\", shape=(4,))\n",
    "jm.Constraint(\"unsupported\", (x[0] + x[1] <= 1) | (x[1] + x[2] <= 1))\n",
    "```"
   ]
  },
  {
   "cell_type": "markdown",
   "id": "c2c78d0a",
   "metadata": {},
   "source": [
    ":::"
   ]
  },
  {
   "cell_type": "markdown",
   "id": "476ca2df-d817-490a-8ffa-4418b30d4e1d",
   "metadata": {},
   "source": [
    "### `forall`制約\n",
    "しばしば制約は変数によってインデックス付けされます。例えば、次のような問題は制約付き最適化問題です。\n",
    "\n",
    "$$\n",
    "\\begin{aligned}\n",
    "\\text{Minimize} & \\quad \\sum_{i=0}^{N-1} \\sum_{j=0}^{M-1} a_{ij} x_{ij} \\\\\n",
    "\\text{subject to} & \\quad \\sum_{j = 0}^{M - 1} x_{ij} = 1 \\quad \\forall i \\in \\left\\{0, \\ldots, N - 1\\right\\}\n",
    "\\end{aligned}\n",
    "$$\n",
    "\n",
    "このような$\\forall i \\in \\left\\{0, \\ldots, N - 1\\right\\}$を表現するために、`Constraint`オブジェクトには`forall`オプションがあります。例えば、上記の問題は次のように表現できます。"
   ]
  },
  {
   "cell_type": "code",
   "execution_count": null,
   "id": "a69bfcfb-3206-4f2b-ae64-ecc9f8b1e3d2",
   "metadata": {},
   "outputs": [],
   "source": [
    "N = jm.Placeholder(\"N\")\n",
    "M = jm.Placeholder(\"M\")\n",
    "a = jm.Placeholder(\"a\", ndim=2)\n",
    "x = jm.BinaryVar(\"x\", shape=(N, M))\n",
    "i = jm.Element('i', belong_to=(0, N))\n",
    "j = jm.Element('j', belong_to=(0, M))\n",
    "\n",
    "problem = jm.Problem(\"forall_sample\")\n",
    "problem += jm.sum([i, j], a[i, j] * x[i, j])\n",
    "problem += jm.Constraint(\"onehot\", jm.sum(j, x[i, j]) == 1, forall=i)"
   ]
  },
  {
   "cell_type": "markdown",
   "id": "27d9f939-573b-4279-9964-3d3902d4277c",
   "metadata": {},
   "source": [
    "## ペナルティとは\n",
    "\n",
    "[ペナルティ法](https://en.wikipedia.org/wiki/Penalty_method)と[ラグランジュ乗数法](https://en.wikipedia.org/wiki/Lagrange_multiplier) は制約付き最適化問題を制約なし最適化問題に変換するための最も一般的な方法です。ここではペナルティ法について見ていきましょう。\n",
    "\n",
    "$$\n",
    "\\begin{aligned}\n",
    "\\text{Minimize} & \\quad f(x) \\\\\n",
    "\\text{subject to} & \\quad g(x) = 0\n",
    "\\end{aligned}\n",
    "$$\n",
    "\n",
    "この問題は次のような制約なし最適化問題に変換されます。\n",
    "\n",
    "$$\n",
    "\\text{Minimize} \\quad f(x) + \\alpha p(x),\n",
    "$$\n",
    "\n",
    "この変換では$\\alpha$（ペナルティ係数またはラグランジュ乗数）と$p(x)$（ペナルティ項）が重要な役割を果たします。通常、$p(x)$は$p(x) = g(x)^2$として定義されます。$f(x) + \\alpha p(x)$の最小値が$p(x) = 0$を満たす場合、その$x$は元の制約付き最適化問題の最小値になります。ペナルティ$p(x)$が正の場合、ペナルティ係数$\\alpha$の値を増やして上記の制約なし最適化問題を解くと元の最適化問題の解を得られる可能性が高まります。\n",
    "\n",
    "一部のソルバーは制約なし最適化問題のみしか受け入れません。QUBOの「U」は「Unconstrained（無制約）」を意味しています。`jijmodeling`で制約付き最適化問題として定式化した数理モデルを入力形式がQUBOのソルバーに与えるためには、`jijmodeling_transpiler`またはJijZeptを利用して制約なし最適化問題に変換する必要があります。しかし、実際の最適化問題においては$p$の定義も重要であり、そのため、`jijmodeling`ではペナルティ項をカスタマイズする機能を提供しています。"
   ]
  },
  {
   "cell_type": "markdown",
   "id": "f2322ccf-cc5d-4f5d-995e-a7d29f951c88",
   "metadata": {},
   "source": [
    "### 制約をペナルティ項に変換する\n",
    "\n",
    "`jijmodeling`は制約をペナルティ項に変換する機能を持ちません。ここでは`jijmodeling_transpiler`が制約をペナルティ項に変換する方法を説明します。以下のような簡単な問題を考えてみましょう。\n",
    "\n",
    "$$\n",
    "\\begin{aligned}\n",
    "\\text{Minimize} & \\quad \\sum_{i=0}^{N-1} a_i x_i \\\\\n",
    "\\text{subject to} & \\quad \\sum_{i = 0}^{N - 1} x_i = 1\n",
    "\\end{aligned}\n",
    "$$\n",
    "\n",
    "この問題は`jijmodeling`で次のように定式化できます。"
   ]
  },
  {
   "cell_type": "code",
   "execution_count": 4,
   "id": "b5cbc45d-7e1a-4c7a-b3ac-4dbeb5a7152f",
   "metadata": {},
   "outputs": [
    {
     "data": {
      "text/latex": [
       "$$\\begin{array}{cccc}\\text{Problem:} & \\text{translate\\_constraint\\_to\\_penalty} & & \\\\& & \\min \\quad \\displaystyle \\sum_{i = 0}^{N - 1} a_{i} \\cdot x_{i} & \\\\\\text{{s.t.}} & & & \\\\ & \\text{onehot} & \\displaystyle \\sum_{i = 0}^{N - 1} x_{i} = 1 &  \\\\\\text{{where}} & & & \\\\& x & 1\\text{-dim binary variable}\\\\\\end{array}$$"
      ],
      "text/plain": [
       "<jijmodeling.Problem at 0x14b6c16e0>"
      ]
     },
     "execution_count": 4,
     "metadata": {},
     "output_type": "execute_result"
    }
   ],
   "source": [
    "import jijmodeling as jm\n",
    "\n",
    "a = jm.Placeholder(\"a\", ndim=1)\n",
    "N = a.len_at(0, latex=\"N\")\n",
    "\n",
    "i = jm.Element('i', belong_to=(0, N))\n",
    "x = jm.BinaryVar('x', shape=(N,))\n",
    "\n",
    "problem = jm.Problem('translate_constraint_to_penalty')\n",
    "problem += jm.sum(i, a[i]*x[i])\n",
    "problem += jm.Constraint(\n",
    "    'onehot',\n",
    "    jm.sum(i, x[i]) == 1,\n",
    ")\n",
    "problem"
   ]
  },
  {
   "cell_type": "markdown",
   "id": "3ad65535-6e38-45fd-ad69-628dc49d822d",
   "metadata": {},
   "source": [
    "`jijmodeling_transpiler`では、この制約付き最適化問題は次の制約なし最適化問題に変換されます。\n",
    "\n",
    "$$\n",
    "\\text{Minimize} \\quad \\sum_{i=0}^{N-1} a_i x_i + \\alpha \\left(\\sum_{i = 0}^{N - 1} x_i - 1\\right)^2\n",
    "$$\n",
    "\n",
    "ここでは、$a = [1, 2]$とし、$\\alpha = 5$とする場合を見てみましょう。"
   ]
  },
  {
   "cell_type": "code",
   "execution_count": null,
   "id": "18e5a4d6-abe3-439f-950c-fd63a6f5c5c9",
   "metadata": {},
   "outputs": [],
   "source": [
    "import jijmodeling_transpiler as jmt\n",
    "\n",
    "instance_data = {\n",
    "    \"a\": [1, 2],\n",
    "}\n",
    "\n",
    "compiled_model = jmt.core.compile_model(problem, instance_data)\n",
    "pubo_builder = jmt.core.pubo.transpile_to_pubo(\n",
    "    compiled_model,\n",
    "    normalize=False  # 簡単のために正規化を無効化\n",
    ")\n",
    "qubo, constant = pubo_builder.get_qubo_dict(multipliers={ 'onehot': 5 })"
   ]
  },
  {
   "cell_type": "markdown",
   "id": "c1f8e1db",
   "metadata": {},
   "source": [
    "結果は次のようになります。"
   ]
  },
  {
   "cell_type": "code",
   "execution_count": 6,
   "id": "5d99026f",
   "metadata": {},
   "outputs": [
    {
     "data": {
      "text/plain": [
       "{(0, 0): -4.0, (1, 1): -3.0, (0, 1): 10.0}"
      ]
     },
     "execution_count": 6,
     "metadata": {},
     "output_type": "execute_result"
    }
   ],
   "source": [
    "qubo"
   ]
  },
  {
   "cell_type": "code",
   "execution_count": 7,
   "id": "7859ea27",
   "metadata": {},
   "outputs": [
    {
     "data": {
      "text/plain": [
       "5.0"
      ]
     },
     "execution_count": 7,
     "metadata": {},
     "output_type": "execute_result"
    }
   ],
   "source": [
    "constant"
   ]
  },
  {
   "cell_type": "markdown",
   "id": "21a919ed-f93a-4349-801f-396bf304a84d",
   "metadata": {},
   "source": [
    "なぜ、このような`qubo`と`constant`が得られるのかというと、以下のような計算が行われたからです。\n",
    "\n",
    "$$\n",
    "\\begin{aligned}\n",
    "\\sum_{i=0}^{N-1} a_i x_i + \\alpha \\left(\\sum_{i = 0}^{N - 1} x_i - 1\\right)^2\n",
    "&= x_1 + 2 x_2 + 5 (x_1 + x_2 - 1)^2 \\\\\n",
    "&= -4 x_1 - 3 x_2 + 10 x_1 x_2 + 5 \\\\\n",
    "&= \\begin{bmatrix}\n",
    "    x_1 & x_2 \\end{bmatrix}\n",
    "\\begin{bmatrix}\n",
    "    -4 & 10 \\\\\n",
    "     0 & -3\n",
    "\\end{bmatrix}\n",
    "\\begin{bmatrix}\n",
    "    x_1 \\\\\n",
    "    x_2\n",
    "\\end{bmatrix}\n",
    "+ 5\n",
    "\\end{aligned}\n",
    "$$\n",
    "\n",
    "上記の計算は、バイナリ変数$x_i$が$x_i^2 = x_i$であることを使って式変形しています。\n",
    "\n",
    "`jijmodeling_transpiler`の変換過程には2つのフェーズに分かれています。\n",
    "\n",
    "- `Problem`オブジェクトと`instance_data`を使用して`CompiledInstance`オブジェクトに変換する。\n",
    "- `CompiledInstance`オブジェクトに未定乗数を指定してQUBOに変換する。"
   ]
  },
  {
   "cell_type": "markdown",
   "id": "c1c8bedb-da30-4473-931d-c733bb4f1798",
   "metadata": {},
   "source": [
    ":::{note}\n",
    "\n",
    "`jijmodeling_transpiler`では、`get_qubo_dict`メソッドの`multipilers`引数を使用することで各ペナルティ項の未定乗数を設定することができます。また、`jijmodeling_transpiler`では[拡張ラグランジュ法](https://en.wikipedia.org/wiki/Augmented_Lagrangian_method)のような他の緩和方法もサポートされています。詳細については[jijmodeling_transpilerのリファレンス](https://www.documentation.jijzept.com/docs/jijmodelingtranspiler/references/jijmodeling_transpiler/core/pubo/)を確認してください。\n",
    "\n",
    ":::"
   ]
  },
  {
   "cell_type": "markdown",
   "id": "25bb0d89-ffd6-4a8d-9968-9593f069b12a",
   "metadata": {},
   "source": [
    "### `CustomPenaltyTerm`\n",
    "\n",
    "制約をペナルティ項に変換する作業は`jijmodeling_transpiler`やJijZeptの各種サービスの役割ですが、必要に応じてオリジナルのペナルティ項を設定したい場合も存在します。`jijmodeling`では`CustomPenaltyTerm`を使用することでペナルティ項のカスタマイズが可能になります。ここでは、前述の例と同じペナルティ項を`CustomPenaltyTerm`で定義する方法を説明します。\n",
    "\n",
    "$$\n",
    "\\text{Minimize} \\quad \\sum_{i=0}^{N-1} a_i x_i + \\alpha \\left(\\sum_{i = 0}^{N - 1} x_i - 1\\right)^2\n",
    "$$\n",
    "\n",
    "この問題は次のように`CustomPenaltyTerm`を使用して表現できます。"
   ]
  },
  {
   "cell_type": "code",
   "execution_count": null,
   "id": "0950ad6a-6a95-4f4c-8b7b-62dc2f06e8d1",
   "metadata": {},
   "outputs": [],
   "source": [
    "import jijmodeling as jm\n",
    "\n",
    "a = jm.Placeholder(\"a\", ndim=1)\n",
    "N = a.len_at(0, latex=\"N\")\n",
    "\n",
    "i = jm.Element('i', belong_to=(0, N))\n",
    "x = jm.BinaryVar('x', shape=(N,))\n",
    "\n",
    "problem = jm.Problem('penalty_sample')\n",
    "problem += jm.sum(i, a[i]*x[i])\n",
    "problem += jm.CustomPenaltyTerm(\n",
    "    'onehot',\n",
    "    (jm.sum(i, x[i]) - 1)**2,\n",
    ")"
   ]
  },
  {
   "cell_type": "markdown",
   "id": "ded0e121-e881-4a2e-9e57-f36fc2f747f0",
   "metadata": {},
   "source": [
    "この時点では未定乗数$\\alpha$が設定されていないことに注意してください。この場合においても前述と同じように`jijmodeling_transpiler`を利用することができます。"
   ]
  },
  {
   "cell_type": "code",
   "execution_count": 9,
   "id": "39ab04e0-a45a-411c-afd7-15010a80d56e",
   "metadata": {},
   "outputs": [],
   "source": [
    "import jijmodeling_transpiler as jmt\n",
    "\n",
    "instance_data = {\n",
    "    \"a\": [1, 2],\n",
    "}\n",
    "\n",
    "compiled_model = jmt.core.compile_model(problem, instance_data)\n",
    "pubo_builder = jmt.core.pubo.transpile_to_pubo(\n",
    "    compiled_model,\n",
    "    normalize=False  # 簡単のために正規化を無効化\n",
    ")\n",
    "qubo, constant = pubo_builder.get_qubo_dict(multipliers={ 'onehot': 5 })"
   ]
  },
  {
   "cell_type": "markdown",
   "id": "63d59c4a",
   "metadata": {},
   "source": [
    "当然、結果は同じになります。"
   ]
  },
  {
   "cell_type": "code",
   "execution_count": 10,
   "id": "0b029506",
   "metadata": {},
   "outputs": [
    {
     "data": {
      "text/plain": [
       "{(0, 0): -4.0, (1, 1): -3.0, (0, 1): 10.0}"
      ]
     },
     "execution_count": 10,
     "metadata": {},
     "output_type": "execute_result"
    }
   ],
   "source": [
    "qubo"
   ]
  },
  {
   "cell_type": "code",
   "execution_count": 11,
   "id": "4215230e",
   "metadata": {},
   "outputs": [
    {
     "data": {
      "text/plain": [
       "5.0"
      ]
     },
     "execution_count": 11,
     "metadata": {},
     "output_type": "execute_result"
    }
   ],
   "source": [
    "constant"
   ]
  },
  {
   "cell_type": "markdown",
   "id": "3e6ec543-b68a-4ef2-823c-75879644a355",
   "metadata": {},
   "source": [
    "また、`CustomPenaltyTerm`にも`forall`引数があります。"
   ]
  },
  {
   "cell_type": "code",
   "execution_count": 12,
   "id": "09ee70c1-7a14-4e22-ab92-49be8dcb768a",
   "metadata": {},
   "outputs": [
    {
     "data": {
      "text/latex": [
       "$$\\begin{array}{cccc}\\text{Problem:} & \\text{forall\\_penalty\\_sample} & & \\\\& & \\min \\quad \\displaystyle \\sum_{i = 0}^{N - 1} \\sum_{j = 0}^{M - 1} a_{i, j} \\cdot x_{i, j} & \\\\\\text{{penalty terms}} & & & \\\\ & \\text{onehot} & \\displaystyle \\left(\\left(\\sum_{j = 0}^{M - 1} x_{i, j} - 1\\right)^{2}\\right) & \\forall i \\in \\left\\{0,\\ldots,N - 1\\right\\} \\\\\\text{{where}} & & & \\\\& x & 2\\text{-dim binary variable}\\\\\\end{array}$$"
      ],
      "text/plain": [
       "<jijmodeling.Problem at 0x13b6e8ce0>"
      ]
     },
     "execution_count": 12,
     "metadata": {},
     "output_type": "execute_result"
    }
   ],
   "source": [
    "import jijmodeling as jm\n",
    "\n",
    "a = jm.Placeholder(\"a\", ndim=2)\n",
    "N = a.len_at(0, latex=\"N\")\n",
    "M = a.len_at(1, latex=\"M\")\n",
    "\n",
    "i = jm.Element('i', belong_to=(0, N))\n",
    "j = jm.Element('j', belong_to=(0, M))\n",
    "x = jm.BinaryVar('x', shape=(N, M))\n",
    "\n",
    "problem = jm.Problem('forall_penalty_sample')\n",
    "problem += jm.sum([i, j], a[i, j]*x[i, j])\n",
    "problem += jm.CustomPenaltyTerm(\n",
    "    'onehot',\n",
    "    (jm.sum(j, x[i, j]) - 1)**2,\n",
    "    forall=i\n",
    ")\n",
    "problem"
   ]
  }
 ],
 "metadata": {
  "kernelspec": {
   "display_name": ".venv",
   "language": "python",
   "name": "python3"
  },
  "language_info": {
   "codemirror_mode": {
    "name": "ipython",
    "version": 3
   },
   "file_extension": ".py",
   "mimetype": "text/x-python",
   "name": "python",
   "nbconvert_exporter": "python",
   "pygments_lexer": "ipython3",
   "version": "3.9.16"
  }
 },
 "nbformat": 4,
 "nbformat_minor": 5
}
