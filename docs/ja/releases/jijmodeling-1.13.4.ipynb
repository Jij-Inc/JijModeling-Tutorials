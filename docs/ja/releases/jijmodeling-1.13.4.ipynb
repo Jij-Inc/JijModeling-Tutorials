{
 "cells": [
  {
   "cell_type": "markdown",
   "metadata": {
    "vscode": {
     "languageId": "plaintext"
    }
   },
   "source": [
    "# JijModeling 1.13.4 リリースノート"
   ]
  },
  {
   "cell_type": "markdown",
   "metadata": {},
   "source": [
    "## その他の変更\n",
    "\n",
    "- QPLIBデータセットのハッシュを最新版のデータセットを反映するよう更新"
   ]
  }
 ],
 "metadata": {
  "language_info": {
   "name": "python"
  }
 },
 "nbformat": 4,
 "nbformat_minor": 2
}