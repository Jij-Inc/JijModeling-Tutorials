{
 "cells": [
  {
   "cell_type": "markdown",
   "metadata": {},
   "source": [
    "# JijModeling X.XX.X リリースノート\n",
    "\n",
    "## 機能強化"
   ]
  },
  {
   "cell_type": "markdown",
   "metadata": {},
   "source": [
    "### Interpreter エラーの可読性向上\n",
    "\n",
    "[`Interpreter`](https://jij-inc.github.io/JijModeling-Tutorials/apis/jijmodeling.html#Interpreter) で評価エラーが発生した場合、より可読性の高いエラーが表示されるようになりました。例："
   ]
  },
  {
   "cell_type": "code",
   "execution_count": 15,
   "metadata": {},
   "outputs": [
    {
     "data": {
      "text/latex": [
       "$$\\begin{array}{cccc}\\text{Problem:} & \\text{shift\\_optimization} & & \\\\& & \\min \\quad \\displaystyle \\sum_{d = 0}^{D - 1} \\sum_{t = 0}^{T - 1} \\sum_{i = 0}^{N - 1} x_{d, t, i} & \\\\\\text{{s.t.}} & & & \\\\ & \\text{night\\_shift} & \\displaystyle R_{d + 1, i} \\leq x_{d, T - 1, i} & \\forall d \\in \\left\\{0,\\ldots,D - 1\\right\\} \\forall i \\in \\left\\{0,\\ldots,N - 1\\right\\} \\\\\\text{{where}} & & & \\\\& x & 3\\text{-dim binary variable}\\\\\\end{array}$$"
      ],
      "text/plain": [
       "<jijmodeling.Problem at 0x105472000>"
      ]
     },
     "execution_count": 15,
     "metadata": {},
     "output_type": "execute_result"
    }
   ],
   "source": [
    "import jijmodeling as jm\n",
    "\n",
    "D = jm.Placeholder(\"D\", dtype=jm.DataType.INTEGER)\n",
    "T = jm.Placeholder(\"T\", dtype=jm.DataType.INTEGER)\n",
    "N = jm.Placeholder(\"N\", dtype=jm.DataType.INTEGER)\n",
    "H = jm.Placeholder(\"H\", shape=(D, T, N))\n",
    "R = jm.Placeholder(\"R\", shape=(D, N))\n",
    "\n",
    "x = jm.BinaryVar(\"x\", shape=(D, T, N))\n",
    "d = jm.Element(\"d\", belong_to=(0, D))\n",
    "t = jm.Element(\"t\", belong_to=(0, T))\n",
    "i = jm.Element(\"i\", belong_to=(0, N))\n",
    "\n",
    "problem = jm.Problem(name=\"shift_optimization\")\n",
    "problem += jm.Constraint(\"night_shift\", R[d+1, i] <= x[d, T-1, i], forall=[d, i])\n",
    "problem += jm.sum([d, t, i], x[d, t, i])\n",
    "\n",
    "problem"
   ]
  },
  {
   "cell_type": "code",
   "execution_count": 17,
   "metadata": {},
   "outputs": [
    {
     "name": "stdout",
     "output_type": "stream",
     "text": [
      "Traceback (most recent last):\n",
      "    while evaluating Problem `shift_optimization',\n",
      "    while evaluating constraint: `night_shift',\n",
      "    while evaluating expression `R[d + 1, i] - x[d, T - 1, i]',\n",
      "    while evaluating expression `R[d + 1, i]',\n",
      "\n",
      "IndexError: Index [7, 0] is out of range for shape [7, 5]\n"
     ]
    }
   ],
   "source": [
    "num_days = 7\n",
    "num_times = 3\n",
    "num_people = 5\n",
    "\n",
    "data = problem.generate_random_dataset(\n",
    "    options={\n",
    "        \"D\": {\"value\": num_days},\n",
    "        \"T\": {\"value\": num_times},\n",
    "        \n",
    "        \"N\": {\"value\": num_people},\n",
    "    }\n",
    ")\n",
    "interp = jm.Interpreter(data)\n",
    "\n",
    "try:\n",
    "    interp.eval_problem(problem)\n",
    "except Exception as e:\n",
    "    print(e)"
   ]
  },
  {
   "cell_type": "markdown",
   "metadata": {},
   "source": [
    "## バグ修正"
   ]
  },
  {
   "cell_type": "markdown",
   "metadata": {},
   "source": [
    "### バグ修正1："
   ]
  },
  {
   "cell_type": "markdown",
   "metadata": {},
   "source": [
    "## その他の変更\n",
    "\n",
    "- 変更1：..."
   ]
  }
 ],
 "metadata": {
  "kernelspec": {
   "display_name": ".venv",
   "language": "python",
   "name": "python3"
  },
  "language_info": {
   "codemirror_mode": {
    "name": "ipython",
    "version": 3
   },
   "file_extension": ".py",
   "mimetype": "text/x-python",
   "name": "python",
   "nbconvert_exporter": "python",
   "pygments_lexer": "ipython3",
   "version": "3.9.20"
  }
 },
 "nbformat": 4,
 "nbformat_minor": 2
}
