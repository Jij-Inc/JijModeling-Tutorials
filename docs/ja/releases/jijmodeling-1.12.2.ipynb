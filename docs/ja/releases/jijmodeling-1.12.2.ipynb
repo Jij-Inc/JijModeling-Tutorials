{
 "cells": [
  {
   "cell_type": "markdown",
   "metadata": {
    "vscode": {
     "languageId": "plaintext"
    }
   },
   "source": [
    "# JijModeling X.XX.X Release Notes\n",
    "\n",
    "## 機能強化"
   ]
  },
  {
   "cell_type": "markdown",
   "metadata": {},
   "source": [
    "### エラーメッセージがコード上の位置が含まれるように\n",
    "\n",
    "`Interpreter.eval_*` 系の関数の投げる例外が、可能な限りソースコード上の位置の情報も出力するようになりました。\n",
    "ソースコードの詳細な位置情報は Python 3.11 以降でのみ利用可能になるため、より有用な情報を得るには Python 3.11 以降の利用を推奨します。\n",
    "\n",
    "以下は Python 3.11 でのエラーメッセージの例です："
   ]
  },
  {
   "cell_type": "code",
   "execution_count": null,
   "metadata": {},
   "outputs": [
    {
     "data": {
      "text/latex": [
       "$$\\begin{array}{cccc}\\text{Problem:} & \\text{shift\\_optimization} & & \\\\& & \\min \\quad \\displaystyle \\sum_{d = 0}^{D - 1} \\sum_{t = 0}^{T - 1} \\sum_{i = 0}^{N - 1} x_{d, t, i} & \\\\\\text{{s.t.}} & & & \\\\ & \\text{night\\_shift} & \\displaystyle R_{d + 1, i} \\leq x_{d, T - 1, i} & \\forall d \\in \\left\\{0,\\ldots,D - 1\\right\\} \\forall i \\in \\left\\{0,\\ldots,N - 1\\right\\} \\\\\\text{{where}} & & & \\\\& x & 3\\text{-dim binary variable}\\\\\\end{array}$$"
      ],
      "text/plain": [
       "<jijmodeling.Problem at 0x14aa99600>"
      ]
     },
     "metadata": {},
     "output_type": "display_data"
    }
   ],
   "source": [
    "import jijmodeling as jm\n",
    "\n",
    "D = jm.Placeholder(\"D\", dtype=jm.DataType.INTEGER)\n",
    "T = jm.Placeholder(\"T\", dtype=jm.DataType.INTEGER)\n",
    "N = jm.Placeholder(\"N\", dtype=jm.DataType.INTEGER)\n",
    "H = jm.Placeholder(\"H\", shape=(D, T, N))\n",
    "R = jm.Placeholder(\"R\", shape=(D, N))\n",
    "\n",
    "x = jm.BinaryVar(\"x\", shape=(D, T, N))\n",
    "d = jm.Element(\"d\", belong_to=(0, D))\n",
    "t = jm.Element(\"t\", belong_to=(0, T))\n",
    "i = jm.Element(\"i\", belong_to=(0, N))\n",
    "\n",
    "problem = jm.Problem(name=\"shift_optimization\")\n",
    "problem += jm.Constraint(\"night_shift\", R[d+1, i] <= x[d, T-1, i], forall=[d, i])\n",
    "problem += jm.sum([d, t, i], x[d, t, i])\n",
    "\n",
    "problem"
   ]
  },
  {
   "cell_type": "code",
   "execution_count": null,
   "metadata": {},
   "outputs": [
    {
     "name": "stdout",
     "output_type": "stream",
     "text": [
      "Traceback (most recent last):\n",
      "    while evaluating Problem `shift_optimization',\n",
      "        defeind at File \"/var/folders/mg/mg6st30d18s7pxjjrk6pkxym0000gn/T/ipykernel_49615/2988517098.py\", line 14, col 11-48\n",
      "    while evaluating constraint: `night_shift',\n",
      "        defeind at File \"/var/folders/mg/mg6st30d18s7pxjjrk6pkxym0000gn/T/ipykernel_49615/2988517098.py\", line 15, col 12-82\n",
      "    while evaluating expression `R[d + 1, i] - x[d, T - 1, i]',\n",
      "        defeind at File \"/var/folders/mg/mg6st30d18s7pxjjrk6pkxym0000gn/T/ipykernel_49615/2988517098.py\", line 15, col 41-66\n",
      "    while evaluating expression `R[d + 1, i]',\n",
      "        defeind at File \"/var/folders/mg/mg6st30d18s7pxjjrk6pkxym0000gn/T/ipykernel_49615/2988517098.py\", line 15, col 41-50\n",
      "\n",
      "File \"/var/folders/mg/mg6st30d18s7pxjjrk6pkxym0000gn/T/ipykernel_49615/2988517098.py\", line 15, col 41-50:\n",
      "\n",
      "    15  |  problem += jm.Constraint(\"night_shift\", R[d+1, i] <= x[d, T-1, i], forall=[d, i])\n",
      "                                                   ^^^^^^^^^\n",
      "\n",
      "IndexError: Index (7, 0) is out of range for shape (7, 5)\n"
     ]
    }
   ],
   "source": [
    "num_days = 7\n",
    "num_times = 3\n",
    "num_people = 5\n",
    "\n",
    "data = problem.generate_random_dataset(\n",
    "    options={\n",
    "        \"D\": {\"value\": num_days},\n",
    "        \"T\": {\"value\": num_times},\n",
    "        \n",
    "        \"N\": {\"value\": num_people},\n",
    "    }\n",
    ")\n",
    "interp = jm.Interpreter(data)\n",
    "\n",
    "try:\n",
    "    interp.eval_problem(problem)\n",
    "except Exception as e:\n",
    "    print(e)"
   ]
  },
  {
   "cell_type": "markdown",
   "metadata": {},
   "source": [
    "Python 3.11未満では、以下のように行単位での情報しか出力されません："
   ]
  },
  {
   "cell_type": "raw",
   "metadata": {},
   "source": [
    "Traceback (most recent last):\n",
    "    while evaluating Problem `shift_optimization',\n",
    "        defeind at File \"/var/folders/mg/mg6st30d18s7pxjjrk6pkxym0000gn/T/ipykernel_62580/2988517098.py\", line 14, col 1-49\n",
    "    while evaluating constraint: `night_shift',\n",
    "        defeind at File \"/var/folders/mg/mg6st30d18s7pxjjrk6pkxym0000gn/T/ipykernel_62580/2988517098.py\", line 15, col 1-83\n",
    "    while evaluating expression `R[d + 1, i] - x[d, T - 1, i]',\n",
    "        defeind at File \"/var/folders/mg/mg6st30d18s7pxjjrk6pkxym0000gn/T/ipykernel_62580/2988517098.py\", line 15, col 1-83\n",
    "    while evaluating expression `R[d + 1, i]',\n",
    "        defeind at File \"/var/folders/mg/mg6st30d18s7pxjjrk6pkxym0000gn/T/ipykernel_62580/2988517098.py\", line 15, col 1-83\n",
    "\n",
    "File \"/var/folders/mg/mg6st30d18s7pxjjrk6pkxym0000gn/T/ipykernel_62580/2988517098.py\", line 15, col 1-83:\n",
    "\n",
    "    15  |  problem += jm.Constraint(\"night_shift\", R[d+1, i] <= x[d, T-1, i], forall=[d, i])\n",
    "           ^^^^^^^^^^^^^^^^^^^^^^^^^^^^^^^^^^^^^^^^^^^^^^^^^^^^^^^^^^^^^^^^^^^^^^^^^^^^^^^^^^\n",
    "\n",
    "(more precise source location is available with Python 3.11 and later)\n",
    "\n",
    "\n",
    "IndexError: Index (7, 0) is out of range for shape (7, 5)"
   ]
  },
  {
   "cell_type": "markdown",
   "metadata": {
    "vscode": {
     "languageId": "plaintext"
    }
   },
   "source": [
    "## その他の変更\n",
    "\n",
    "- JijModeling は ABI3 wheel を提供するようになり、（フリースレッド版でない）Python 3.13もサポートするようになりました！"
   ]
  }
 ],
 "metadata": {
  "language_info": {
   "name": "python"
  }
 },
 "nbformat": 4,
 "nbformat_minor": 2
}
