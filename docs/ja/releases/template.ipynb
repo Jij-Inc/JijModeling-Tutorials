{
 "cells": [
  {
   "cell_type": "markdown",
   "metadata": {
    "vscode": {
     "languageId": "plaintext"
    }
   },
   "source": [
    "# JijModeling X.XX.X リリースノート"
   ]
  },
  {
   "cell_type": "markdown",
   "metadata": {},
   "source": [
    "## 機能強化"
   ]
  },
  {
   "cell_type": "markdown",
   "metadata": {},
   "source": [
    "### 機能1"
   ]
  },
  {
   "cell_type": "markdown",
   "metadata": {},
   "source": [
    "## バグ修正"
   ]
  },
  {
   "cell_type": "markdown",
   "metadata": {},
   "source": [
    "### バグ修正1："
   ]
  },
  {
   "cell_type": "markdown",
   "metadata": {
    "vscode": {
     "languageId": "plaintext"
    }
   },
   "source": [
    "## その他の変更\n",
    "\n",
    "- 変更1："
   ]
  }
 ],
 "metadata": {
  "language_info": {
   "name": "python"
  }
 },
 "nbformat": 4,
 "nbformat_minor": 2
}
