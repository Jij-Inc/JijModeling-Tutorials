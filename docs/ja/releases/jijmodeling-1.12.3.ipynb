{
 "cells": [
  {
   "cell_type": "markdown",
   "metadata": {
    "vscode": {
     "languageId": "plaintext"
    }
   },
   "source": [
    "# JijModeling 1.12.3 リリースノート"
   ]
  },
  {
   "cell_type": "markdown",
   "metadata": {},
   "source": [
    "## バグ修正"
   ]
  },
  {
   "cell_type": "markdown",
   "metadata": {},
   "source": [
    "### Interpreter の `eval_*` のパフォーマンスの改善\n",
    "\n",
    "JijModeling 1.12 系統では、大きな数理モデルに対して `Interpreter.eval_problem` などを呼び出した際に不必要に多くのメモリを消費し、実行時間に大きな悪影響がでていました。\n",
    "今回のリリースでは、メモリ消費を大幅に改善し、より高速に評価を行えるようにしました。"
   ]
  }
 ],
 "metadata": {
  "language_info": {
   "name": "python"
  }
 },
 "nbformat": 4,
 "nbformat_minor": 2
}
