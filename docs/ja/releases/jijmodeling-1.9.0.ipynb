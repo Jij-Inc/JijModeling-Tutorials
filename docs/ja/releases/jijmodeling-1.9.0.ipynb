{
 "cells": [
  {
   "cell_type": "markdown",
   "id": "04beff77-c455-41ed-becd-84c5a672b01b",
   "metadata": {
    "editable": true,
    "slideshow": {
     "slide_type": "slide"
    },
    "tags": []
   },
   "source": [
    "# JijModeling 1.9.0 リリースノート"
   ]
  },
  {
   "cell_type": "markdown",
   "id": "95bfad0d-95a3-4cdd-9769-3ecdcaf2c189",
   "metadata": {
    "editable": true,
    "slideshow": {
     "slide_type": "slide"
    },
    "tags": []
   },
   "source": [
    "## インスタンスデータのランダム生成\n",
    "\n",
    "- `jijmodeling` はプレースホルダーのランダムデータ生成をサポートするようになりました！\n",
    "  - ダミーデータを使用してモデルを配布したり、小さなトイ入力に対するモデルの動作をテストするのに役立ちます。\n",
    "- 詳細は、[`Problem.generate_random_dataset`](https://jij-inc.github.io/JijModeling-Tutorials/apis/jijmodeling.html#Problem.generate_random_dataset) および [`Problem.generate_random_instance`](https://jij-inc.github.io/JijModeling-Tutorials/apis/jijmodeling.html#Problem.generate_random_instance) のAPIドキュメントを参照してください。"
   ]
  },
  {
   "cell_type": "markdown",
   "id": "e2e69160-259e-45d7-8174-f059b04090db",
   "metadata": {
    "editable": true,
    "slideshow": {
     "slide_type": "subslide"
    },
    "tags": []
   },
   "source": [
    "### [`Problem.generate_random_dataset`](https://jij-inc.github.io/JijModeling-Tutorials/apis/jijmodeling.html#Problem.generate_random_dataset) および [`Problem.generate_random_instance`](https://jij-inc.github.io/JijModeling-Tutorials/apis/jijmodeling.html#Problem.generate_random_instance)\n",
    "\n",
    "- `Problem.generate_random_dataset` 関数は、`jm.Interpreter` に入力される値の辞書を生成します。\n",
    "- `Problem.generate_random_instance` を使用して、`Interpreter` を手動で初期化することなく直接OMMXインスタンスを生成します。"
   ]
  },
  {
   "cell_type": "markdown",
   "id": "b6ddf32e",
   "metadata": {},
   "source": [
    "#### 概要\n",
    "ランダム生成機能を使用するには、`Placeholder` 宣言でいくつかの情報を指定する必要があります。\n",
    "このバージョンでは、次のランダム生成関連の属性が追加されました:\n",
    "\n",
    "- `dtype`: 配列（またはスカラー）の要素の型。`jm.DataType.INTEGER` または `jm.DataType.FLOAT` のいずれかでなければなりません。\n",
    "- `jagged`: ジャギー配列を生成する場合は `True` に設定します。デフォルトは `False` です。\n",
    "- `shape`: $n$ 次元配列またはジャギー配列を生成するには、形状を指定する必要があります。これは、次元式または `None` を含むタプルでなければなりません。\n",
    "  - `None` は軸のサイズが不定であることを意味します。$n$ 次元配列の場合、各軸は親軸に関係なくランダムで固定サイズです。ジャギー配列の場合、同じ軸が親軸ごとに異なるサイズを持つことができます。\n",
    "\n",
    "`dtype` のみが指定されている場合、プレースホルダーは他の場合と同様にスカラー値と見なされます。"
   ]
  },
  {
   "cell_type": "markdown",
   "id": "1cb4949d",
   "metadata": {},
   "source": [
    "`Problem.generate_random_*` は次のキーワード引数を取ります:\n",
    "\n",
    "- `seed` (オプション): ランダムデータ生成のためのシード。省略された場合、環境エントロピーからサンプルを取得します。\n",
    "- `options` (オプション): 各プレースホルダーの値と軸サイズの範囲。\n",
    "- `default` (オプション): `options` 引数に存在しないプレースホルダーのデフォルト範囲オプション。\n",
    "\n",
    "`options` および `default` には範囲オブジェクトを指定します。具体的な構文は [APIリファレンスの「範囲パラメータと範囲構文」セクション](https://jij-inc.github.io/JijModeling-Tutorials/apis/jijmodeling.html#range-parameters-and-range-syntax) に記載されています。\n",
    "要するに、範囲オブジェクトは次のフィールドで構成されます:\n",
    "\n",
    "- `value`: プレースホルダーの値の範囲。（デフォルト: 閉区間 $[-1, 1]$ から一様にサンプル）\n",
    "- `size`: プレースホルダーの各軸のサイズの範囲 - スカラープレースホルダーの場合は無視されます。（デフォルト: 閉区間 $[1, 5] \\cap \\mathbb{N}$ から一様にサンプル）\n",
    "\n",
    "`jijmodeling.range`、`jijmodeling.range.value`、`jijmodeling.range.size` モジュールおよび組み込みの `range(N, M)` 関数を `size` 範囲に使用できます。"
   ]
  },
  {
   "cell_type": "markdown",
   "id": "e25480cb",
   "metadata": {},
   "source": [
    "#### 例"
   ]
  },
  {
   "cell_type": "code",
   "execution_count": null,
   "id": "733e7647",
   "metadata": {},
   "outputs": [
    {
     "data": {
      "text/latex": [
       "$$\\begin{array}{cccc}\\text{Problem:} & \\text{MyProblem} & & \\\\& & \\max \\quad \\displaystyle \\sum_{i = 0}^{n - 1} v_{i} \\cdot x_{i} & \\\\\\text{{s.t.}} & & & \\\\ & \\text{capacity} & \\displaystyle \\sum_{i = 0}^{n - 1} w_{i} \\cdot x_{i} \\leq C &  \\\\\\text{{where}} & & & \\\\& x & 1\\text{-dim binary variable}\\\\\\end{array}$$"
      ],
      "text/plain": [
       "<jijmodeling.Problem at 0x11bca60a0>"
      ]
     },
     "execution_count": 2,
     "metadata": {},
     "output_type": "execute_result"
    }
   ],
   "source": [
    "import jijmodeling as jm\n",
    "\n",
    "v = jm.Placeholder(\"v\", dtype=jm.DataType.INTEGER, shape=[None])\n",
    "N = v.len_at(0, latex=\"n\")\n",
    "w = jm.Placeholder(\"w\", dtype=jm.DataType.FLOAT, shape=[N])\n",
    "C = jm.Placeholder(\"C\", dtype=jm.DataType.FLOAT)\n",
    "x = jm.BinaryVar(\"x\", shape=[N])\n",
    "i = jm.Element(\"i\", belong_to=N)\n",
    "\n",
    "problem = jm.Problem(\"MyProblem\", sense=jm.ProblemSense.MAXIMIZE)\n",
    "problem += jm.sum(i, v[i] * x[i])\n",
    "problem += jm.Constraint(\"capacity\", jm.sum(i, w[i] * x[i]) <= C)\n",
    "\n",
    "problem"
   ]
  },
  {
   "cell_type": "code",
   "execution_count": null,
   "id": "fd88afc4",
   "metadata": {},
   "outputs": [
    {
     "data": {
      "text/plain": [
       "{'C': 13.010242975288078,\n",
       " 'v': array([7120., 9322., 9926., 7927., 7473.]),\n",
       " 'w': array([13.50008444, 12.61374381, 10.8334931 , 11.8245287 ,  7.90677762])}"
      ]
     },
     "execution_count": 3,
     "metadata": {},
     "output_type": "execute_result"
    }
   ],
   "source": [
    "# 生成されたデータの辞書を取得\n",
    "data_set = problem.generate_random_dataset(\n",
    "    seed=42,\n",
    "    # Default Options.\n",
    "    default={\n",
    "        \"value\": jm.range.open_closed(5, 15),  # 値を 5 < x <= 15 からサンプル\n",
    "    },\n",
    "    # プレースホルダー固有のオプション。\n",
    "    options={\n",
    "        \"v\": {\n",
    "            \"value\": range(1000, 10000),\n",
    "            \"size\": range(2, 10),  # 各軸の長さは 2 <= n < 10\n",
    "        }\n",
    "    },\n",
    ")\n",
    "data_set"
   ]
  },
  {
   "cell_type": "code",
   "execution_count": null,
   "id": "52c27896",
   "metadata": {},
   "outputs": [],
   "source": [
    "config = {\n",
    "    \"seed\": 42,\n",
    "    # デフォルトオプション。\n",
    "    \"default\": {\n",
    "        \"value\": jm.range.open_closed(5, 15),  # Samples values 5 < x <= 15\n",
    "    },\n",
    "    # プレースホルダー固有のオプション。\n",
    "    \"options\": {\n",
    "        \"v\": {\n",
    "            \"value\": range(1000, 10000),\n",
    "            \"size\": range(2, 10),  # 各軸の長さは 2 <= n < 10\n",
    "        }\n",
    "    },\n",
    "}\n",
    "\n",
    "# `generate_random_instance` は generate_random_dataset と `Interpreter.eval_problem` のラッパーです。\n",
    "instance = problem.generate_random_instance(**config)\n",
    "assert instance == jm.Interpreter(data_set).eval_problem(problem)"
   ]
  },
  {
   "cell_type": "code",
   "execution_count": null,
   "id": "5b07cfd4",
   "metadata": {},
   "outputs": [],
   "source": [
    "# $n$ 次元配列 vs ジャギー配列。\n",
    "\n",
    "N = jm.Placeholder(\"N\", dtype=jm.DataType.INTEGER)\n",
    "\n",
    "# `jagged` が指定されていない（または `False` に設定されている）場合、生成されたデータは $n$ 次元配列になります。\n",
    "ND = jm.Placeholder(\"ND\", dtype=jm.DataType.FLOAT, shape=[N, None])\n",
    "\n",
    "# `jagged` が `True` に設定されている場合、生成されたデータはジャギー配列になります。\n",
    "JD = jm.Placeholder(\"JD\", dtype=jm.DataType.FLOAT, shape=[N, None], jagged=True)\n",
    "\n",
    "W = jm.BinaryVar(\"W\", shape=[N])\n",
    "\n",
    "# ND と JD はどちらも ndim 3 ですが、`None` の意味が異なります。\n",
    "\n",
    "# ダミー問題を作成\n",
    "\n",
    "problem = jm.Problem(\"MyProblem2\")\n",
    "problem += jm.sum(i, ND[i, 0] * JD[i, 0] * W[i])\n",
    "data_set = problem.generate_random_dataset(\n",
    "    seed=42, default={\"size\": range(2, 5)}, options={\"N\": {\"value\": range(2, 7)}}\n",
    ")"
   ]
  },
  {
   "cell_type": "code",
   "execution_count": 6,
   "id": "ff67b7ad",
   "metadata": {},
   "outputs": [
    {
     "data": {
      "text/plain": [
       "array([[ 0.43851716,  0.70001689,  0.52274876,  0.16669862],\n",
       "       [ 0.36490574, -0.41864448,  0.6020486 , -0.35717673],\n",
       "       [ 0.42229989,  0.75553446,  0.23352309,  0.70278017],\n",
       "       [ 0.41508094,  0.41565856, -0.81427987, -0.64195438],\n",
       "       [-0.12760731,  0.20402936, -0.37202221, -0.02161649],\n",
       "       [-0.20201642,  0.57824385,  0.27011351, -0.53733093]])"
      ]
     },
     "execution_count": 6,
     "metadata": {},
     "output_type": "execute_result"
    }
   ],
   "source": [
    "data_set[\"ND\"]"
   ]
  },
  {
   "cell_type": "code",
   "execution_count": 7,
   "id": "a051675b",
   "metadata": {},
   "outputs": [
    {
     "data": {
      "text/plain": [
       "2"
      ]
     },
     "execution_count": 7,
     "metadata": {},
     "output_type": "execute_result"
    }
   ],
   "source": [
    "jd = data_set[\"JD\"]\n",
    "assert type(jd) is jm.JaggedArray\n",
    "jd.dim"
   ]
  },
  {
   "cell_type": "code",
   "execution_count": 8,
   "id": "d25e7004",
   "metadata": {},
   "outputs": [
    {
     "data": {
      "text/plain": [
       "[[0.24546263509057664, 0.7263253599570634, 0.8895181708443229],\n",
       " [0.4939994897028319,\n",
       "  0.5691758844274051,\n",
       "  -0.9103425154924141,\n",
       "  -0.0625037501158896],\n",
       " [0.40134384632666964, 0.6071495573420034, 0.6363935389166486],\n",
       " [-0.748701159594753,\n",
       "  0.1299655840672893,\n",
       "  0.1084981932704634,\n",
       "  0.7144708283472148],\n",
       " [0.03940420021641855,\n",
       "  -0.3650379384649608,\n",
       "  -0.6156945696387756,\n",
       "  0.2877456030741061],\n",
       " [-0.2834771222423055, 0.13862576961911643]]"
      ]
     },
     "execution_count": 8,
     "metadata": {},
     "output_type": "execute_result"
    }
   ],
   "source": [
    "[[jd.get([i, j]) for j in range(jd.size_at([i]))] for i in range(jd.size_at([]))]"
   ]
  }
 ],
 "metadata": {
  "kernelspec": {
   "display_name": ".venv",
   "language": "python",
   "name": "python3"
  },
  "language_info": {
   "codemirror_mode": {
    "name": "ipython",
    "version": 3
   },
   "file_extension": ".py",
   "mimetype": "text/x-python",
   "name": "python",
   "nbconvert_exporter": "python",
   "pygments_lexer": "ipython3",
   "version": "3.10.15"
  }
 },
 "nbformat": 4,
 "nbformat_minor": 5
}
