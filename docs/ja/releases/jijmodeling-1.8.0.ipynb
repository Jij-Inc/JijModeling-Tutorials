{
 "cells": [
  {
   "cell_type": "markdown",
   "id": "04beff77-c455-41ed-becd-84c5a672b01b",
   "metadata": {
    "editable": true,
    "slideshow": {
     "slide_type": "slide"
    },
    "tags": []
   },
   "source": [
    "# JijModeling 1.8.0 リリースノート"
   ]
  },
  {
   "cell_type": "code",
   "execution_count": 1,
   "id": "648529c3-c8f5-4244-8840-d0585878f39d",
   "metadata": {
    "editable": true,
    "execution": {
     "iopub.execute_input": "2024-11-04T23:58:09.289297Z",
     "iopub.status.busy": "2024-11-04T23:58:09.289099Z",
     "iopub.status.idle": "2024-11-04T23:58:20.086704Z",
     "shell.execute_reply": "2024-11-04T23:58:20.086414Z"
    },
    "slideshow": {
     "slide_type": ""
    },
    "tags": []
   },
   "outputs": [],
   "source": [
    "import jijmodeling as jm\n",
    "import ommx.v1\n",
    "import pytest"
   ]
  },
  {
   "cell_type": "markdown",
   "id": "95bfad0d-95a3-4cdd-9769-3ecdcaf2c189",
   "metadata": {
    "editable": true,
    "slideshow": {
     "slide_type": "slide"
    },
    "tags": []
   },
   "source": [
    "## Compiling into OMMX Message\n",
    "\n",
    "![image.png](./assets/jijmodeling-1.8.0_01.png)\n",
    "\n",
    "- `jijmodeling` 単体でモデルへのコンパイルが行えるようになりました\n",
    "  - [`jijmodeling_transpiler`](https://pypi.org/project/jijmodeling-transpiler/)の利用は必須ではなくなりました！"
   ]
  },
  {
   "cell_type": "markdown",
   "id": "e2e69160-259e-45d7-8174-f059b04090db",
   "metadata": {
    "editable": true,
    "slideshow": {
     "slide_type": "subslide"
    },
    "tags": []
   },
   "source": [
    "### `Interpreter.eval_scalar`\n",
    "\n",
    "- `eval_scalar` は決定変数を含まないJijModeling式を浮動小数点数値へと評価します。\n",
    "- テストやデバッグ用途に便利です。"
   ]
  },
  {
   "cell_type": "code",
   "execution_count": null,
   "id": "9e88861e-6dfc-42fb-af89-ecf32ffc5269",
   "metadata": {
    "execution": {
     "iopub.execute_input": "2024-11-04T23:58:20.088202Z",
     "iopub.status.busy": "2024-11-04T23:58:20.088071Z",
     "iopub.status.idle": "2024-11-04T23:58:20.090228Z",
     "shell.execute_reply": "2024-11-04T23:58:20.090022Z"
    }
   },
   "outputs": [],
   "source": [
    "# インスタンスデータによる初期化\n",
    "interpreter = jm.Interpreter({\"a\": [1, 2, 3]})\n",
    "\n",
    "# プレースホルダはインスタンスデータにより評価される\n",
    "a = jm.Placeholder(\"a\", ndim=1)\n",
    "assert interpreter.eval_scalar(a[1]) == 2.0"
   ]
  },
  {
   "cell_type": "code",
   "execution_count": null,
   "id": "bee355a4-80ec-4105-82cc-995fdda8768b",
   "metadata": {
    "execution": {
     "iopub.execute_input": "2024-11-04T23:58:20.091263Z",
     "iopub.status.busy": "2024-11-04T23:58:20.091168Z",
     "iopub.status.idle": "2024-11-04T23:58:20.094383Z",
     "shell.execute_reply": "2024-11-04T23:58:20.094172Z"
    }
   },
   "outputs": [
    {
     "data": {
      "text/latex": [
       "$$\\displaystyle \\sum_{i = 0}^{n - 1} a_{i}$$"
      ],
      "text/plain": [
       "sum(Element(name='i', belong_to=(NumberLit(value=0), ArrayLength(array=Placeholder(name='a', ndim=1), axis=0, latex='n'))), Placeholder(name='a', ndim=1)[Element(name='i', belong_to=(NumberLit(value=0), ArrayLength(array=Placeholder(name='a', ndim=1), axis=0, latex='n')))])"
      ]
     },
     "execution_count": 3,
     "metadata": {},
     "output_type": "execute_result"
    }
   ],
   "source": [
    "# 総和記号もサポート済\n",
    "n = a.len_at(0, latex=\"n\")\n",
    "i = jm.Element(\"i\", belong_to=n)\n",
    "sum_a = jm.sum(i, a[i])\n",
    "sum_a"
   ]
  },
  {
   "cell_type": "code",
   "execution_count": 4,
   "id": "8a6cf869-333d-464c-9edc-37bd9d987212",
   "metadata": {
    "execution": {
     "iopub.execute_input": "2024-11-04T23:58:20.095416Z",
     "iopub.status.busy": "2024-11-04T23:58:20.095328Z",
     "iopub.status.idle": "2024-11-04T23:58:20.096911Z",
     "shell.execute_reply": "2024-11-04T23:58:20.096711Z"
    }
   },
   "outputs": [],
   "source": [
    "assert interpreter.eval_scalar(sum_a) == 1 + 2 + 3"
   ]
  },
  {
   "cell_type": "code",
   "execution_count": null,
   "id": "597bb9d7-3cdf-4780-9ca5-3c88ae329677",
   "metadata": {
    "execution": {
     "iopub.execute_input": "2024-11-04T23:58:20.097950Z",
     "iopub.status.busy": "2024-11-04T23:58:20.097869Z",
     "iopub.status.idle": "2024-11-04T23:58:20.099495Z",
     "shell.execute_reply": "2024-11-04T23:58:20.099280Z"
    }
   },
   "outputs": [],
   "source": [
    "# 式が決定変数を含む場合は実行時エラー\n",
    "v = jm.BinaryVar(\"v\")\n",
    "with pytest.raises(jm.InterpreterError):\n",
    "    interpreter.eval_scalar(v)"
   ]
  },
  {
   "cell_type": "markdown",
   "id": "3a5e6de8-6ed9-477c-941b-7703145b16a6",
   "metadata": {},
   "source": [
    "### `Interpreter.eval_expr`\n",
    "\n",
    "決定変数を含む JijModeling 式は、`eval_expr` により `ommx.v1.Function` へと評価できます。"
   ]
  },
  {
   "cell_type": "code",
   "execution_count": null,
   "id": "99b52b79-6c2b-4f55-973e-88fdb8d868b6",
   "metadata": {
    "execution": {
     "iopub.execute_input": "2024-11-04T23:58:20.100524Z",
     "iopub.status.busy": "2024-11-04T23:58:20.100448Z",
     "iopub.status.idle": "2024-11-04T23:58:20.102557Z",
     "shell.execute_reply": "2024-11-04T23:58:20.102320Z"
    }
   },
   "outputs": [
    {
     "data": {
      "text/latex": [
       "$$\\displaystyle \\sum_{i = 0}^{n - 1} a_{i} \\cdot x_{i}$$"
      ],
      "text/plain": [
       "sum(Element(name='i', belong_to=(NumberLit(value=0), ArrayLength(array=Placeholder(name='a', ndim=1), axis=0, latex='n'))), Placeholder(name='a', ndim=1)[Element(name='i', belong_to=(NumberLit(value=0), ArrayLength(array=Placeholder(name='a', ndim=1), axis=0, latex='n')))] * BinaryVar(name='x', shape=[ArrayLength(array=Placeholder(name='a', ndim=1), axis=0, latex='n')])[Element(name='i', belong_to=(NumberLit(value=0), ArrayLength(array=Placeholder(name='a', ndim=1), axis=0, latex='n')))])"
      ]
     },
     "execution_count": 6,
     "metadata": {},
     "output_type": "execute_result"
    }
   ],
   "source": [
    "# 決定変数群\n",
    "x = jm.BinaryVar(\"x\", shape=(n,))\n",
    "\n",
    "# 線型関数\n",
    "f = jm.sum(i, a[i] * x[i])\n",
    "f"
   ]
  },
  {
   "cell_type": "code",
   "execution_count": 7,
   "id": "57b0539d-fb94-4b00-9622-9f5c998a2a67",
   "metadata": {
    "execution": {
     "iopub.execute_input": "2024-11-04T23:58:20.103629Z",
     "iopub.status.busy": "2024-11-04T23:58:20.103558Z",
     "iopub.status.idle": "2024-11-04T23:58:20.105816Z",
     "shell.execute_reply": "2024-11-04T23:58:20.105543Z"
    }
   },
   "outputs": [
    {
     "data": {
      "text/plain": [
       "Function(x0 + 2*x1 + 3*x2)"
      ]
     },
     "execution_count": 7,
     "metadata": {},
     "output_type": "execute_result"
    }
   ],
   "source": [
    "f_ = interpreter.eval_expr(f)\n",
    "assert type(f_) is ommx.v1.Function\n",
    "f_"
   ]
  },
  {
   "cell_type": "markdown",
   "id": "894d4ac4",
   "metadata": {},
   "source": [
    "- 決定変数は評価時に Interpreter へと登録されます。\n",
    "- 決定変数のIDは、`Interpreter` への登録時に 0 から連続的に付番されます。\n",
    "  - ここでは `x[0]` の ID は 0、`x[1]` は 1、……となります。\n",
    "- `ommx.v1.Function` には元の変数名の情報が含まれていないため、Python の `__repr__` 関数により表示すると、変数はIDによって `x0`, `x_1`, ... と表示されることに注意してください。"
   ]
  },
  {
   "cell_type": "code",
   "execution_count": null,
   "id": "6376a7da",
   "metadata": {
    "execution": {
     "iopub.execute_input": "2024-11-04T23:58:20.106866Z",
     "iopub.status.busy": "2024-11-04T23:58:20.106794Z",
     "iopub.status.idle": "2024-11-04T23:58:20.108823Z",
     "shell.execute_reply": "2024-11-04T23:58:20.108520Z"
    }
   },
   "outputs": [
    {
     "data": {
      "text/plain": [
       "Function(x3)"
      ]
     },
     "execution_count": 8,
     "metadata": {},
     "output_type": "execute_result"
    }
   ],
   "source": [
    "y = jm.BinaryVar(\"y\")\n",
    "interpreter.eval_expr(y)  # 変数名 `y` ではなく、ID により `x3` と表示される。"
   ]
  },
  {
   "cell_type": "code",
   "execution_count": null,
   "id": "9fa85ab7-0ef1-4896-aca6-2e3bc8a8aecd",
   "metadata": {
    "editable": true,
    "execution": {
     "iopub.execute_input": "2024-11-04T23:58:20.109915Z",
     "iopub.status.busy": "2024-11-04T23:58:20.109849Z",
     "iopub.status.idle": "2024-11-04T23:58:20.111723Z",
     "shell.execute_reply": "2024-11-04T23:58:20.111516Z"
    },
    "slideshow": {
     "slide_type": ""
    },
    "tags": []
   },
   "outputs": [],
   "source": [
    "# OMMX側の対応する決定変数を取得\n",
    "x0 = interpreter.get_decision_variable_by_name(\"x\", [0])\n",
    "x1 = interpreter.get_decision_variable_by_name(\"x\", [1])\n",
    "x2 = interpreter.get_decision_variable_by_name(\"x\", [2])\n",
    "assert type(x0) is ommx.v1.DecisionVariable\n",
    "\n",
    "# 取得した ommx.v1.Function を比較\n",
    "assert f_.almost_equal(ommx.v1.Function(x0 + 2*x1 + 3 * x2))"
   ]
  },
  {
   "cell_type": "markdown",
   "id": "f0e63430-5882-4be1-bb5a-4d2597c5b65f",
   "metadata": {
    "editable": true,
    "slideshow": {
     "slide_type": "subslide"
    },
    "tags": []
   },
   "source": [
    "### `Interpreter.eval_problem`"
   ]
  },
  {
   "cell_type": "code",
   "execution_count": 10,
   "id": "cabd239d-a7cf-4fab-bda8-1692d21f74be",
   "metadata": {
    "execution": {
     "iopub.execute_input": "2024-11-04T23:58:20.112769Z",
     "iopub.status.busy": "2024-11-04T23:58:20.112700Z",
     "iopub.status.idle": "2024-11-04T23:58:20.114967Z",
     "shell.execute_reply": "2024-11-04T23:58:20.114689Z"
    }
   },
   "outputs": [
    {
     "data": {
      "text/latex": [
       "$$\\begin{array}{cccc}\\text{Problem:} & \\text{release-1.8.0} & & \\\\& & \\min \\quad \\displaystyle \\sum_{i = 0}^{n - 1} a_{i} \\cdot x_{i} & \\\\\\text{{s.t.}} & & & \\\\ & \\text{quad} & \\displaystyle \\sum_{i = 0}^{n - 1} x_{i} \\cdot x_{i} = 1 &  \\\\\\text{{where}} & & & \\\\& x & 1\\text{-dim binary variable}\\\\\\end{array}$$"
      ],
      "text/plain": [
       "<jijmodeling.Problem at 0x12c5177c0>"
      ]
     },
     "execution_count": 10,
     "metadata": {},
     "output_type": "execute_result"
    }
   ],
   "source": [
    "problem = jm.Problem(\"release-1.8.0\")\n",
    "problem += f\n",
    "problem += jm.Constraint(\"quad\", jm.sum(i, x[i] * x[i]) == 1)\n",
    "problem"
   ]
  },
  {
   "cell_type": "code",
   "execution_count": 11,
   "id": "22987609-16fe-482a-bd56-408453bb2df5",
   "metadata": {
    "execution": {
     "iopub.execute_input": "2024-11-04T23:58:20.115969Z",
     "iopub.status.busy": "2024-11-04T23:58:20.115899Z",
     "iopub.status.idle": "2024-11-04T23:58:20.117485Z",
     "shell.execute_reply": "2024-11-04T23:58:20.117250Z"
    }
   },
   "outputs": [],
   "source": [
    "instance = interpreter.eval_problem(problem)\n",
    "assert type(instance) is ommx.v1.Instance"
   ]
  },
  {
   "cell_type": "markdown",
   "id": "8518ebe0-cead-41d1-8cbf-c64bb7623406",
   "metadata": {
    "editable": true,
    "slideshow": {
     "slide_type": "subslide"
    },
    "tags": []
   },
   "source": [
    "### 制限\n",
    "\n",
    "- `jijmodeling.CustomPenaltyTerm` は未対応です。\n",
    "  - 次リリースでOMMXの更新と共にサポート予定です。"
   ]
  }
 ],
 "metadata": {
  "kernelspec": {
   "display_name": ".venv",
   "language": "python",
   "name": "python3"
  },
  "language_info": {
   "codemirror_mode": {
    "name": "ipython",
    "version": 3
   },
   "file_extension": ".py",
   "mimetype": "text/x-python",
   "name": "python",
   "nbconvert_exporter": "python",
   "pygments_lexer": "ipython3",
   "version": "3.11.5"
  }
 },
 "nbformat": 4,
 "nbformat_minor": 5
}
