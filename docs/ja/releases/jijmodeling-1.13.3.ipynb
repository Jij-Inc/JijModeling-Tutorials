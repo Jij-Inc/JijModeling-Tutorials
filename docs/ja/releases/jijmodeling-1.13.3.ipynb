{
 "cells": [
  {
   "cell_type": "markdown",
   "metadata": {
    "vscode": {
     "languageId": "plaintext"
    }
   },
   "source": [
    "# JijModeling 1.13.3 リリースノート"
   ]
  },
  {
   "cell_type": "markdown",
   "metadata": {},
   "source": [
    "## バグ修正"
   ]
  },
  {
   "cell_type": "markdown",
   "metadata": {},
   "source": [
    "### 決定変数を含まない式に対する `min` / `max`"
   ]
  },
  {
   "cell_type": "markdown",
   "metadata": {},
   "source": [
    "以前のバージョンでは、決定変数を含まない式に対する`jm.min` / `jm.max` が誤ってエラーとなっていました："
   ]
  },
  {
   "cell_type": "markdown",
   "metadata": {},
   "source": [
    "```python\n",
    "import jijmodeling as jm\n",
    "a = jm.Placeholder(\"a\")\n",
    "b = jm.Placeholder(\"b\")\n",
    "x = jm.BinaryVar(\"x\")\n",
    "\n",
    "problem = jm.Problem(\"test\")\n",
    "problem += jm.max(a + 1, b) * x\n",
    "\n",
    "instance_data = {\"a\": 5, \"b\": 3}\n",
    "instance = jm.Interpreter(instance_data).eval_problem(problem)\n",
    "```"
   ]
  },
  {
   "cell_type": "markdown",
   "metadata": {
    "vscode": {
     "languageId": "plaintext"
    }
   },
   "source": [
    "```text\n",
    "File \"/var/folders/mg/mg6st30d18s7pxjjrk6pkxym0000gn/T/ipykernel_86045/4233095995.py\", line 7, col 12-24:\n",
    "\n",
    "    7  |  problem += jm.max(a + 1, b) * x\n",
    "                     ^^^^^^^^^^^^^^^^\n",
    "\n",
    "min and max operations are not supported for decision variables\n",
    "```"
   ]
  },
  {
   "cell_type": "markdown",
   "metadata": {},
   "source": [
    "1.13.3 以降では、決定変数を含まない式に対する `min` および `max` も正しく評価されるようになりました："
   ]
  },
  {
   "cell_type": "code",
   "execution_count": 1,
   "metadata": {},
   "outputs": [],
   "source": [
    "import jijmodeling as jm\n",
    "a = jm.Placeholder(\"a\")\n",
    "b = jm.Placeholder(\"b\")\n",
    "x = jm.BinaryVar(\"x\")\n",
    "\n",
    "problem = jm.Problem(\"test\")\n",
    "problem += jm.max(a + 1, b) * x\n",
    "\n",
    "instance_data = {\"a\": 5, \"b\": 3}\n",
    "instance = jm.Interpreter(instance_data).eval_problem(problem)"
   ]
  }
 ],
 "metadata": {
  "kernelspec": {
   "display_name": ".venv",
   "language": "python",
   "name": "python3"
  },
  "language_info": {
   "codemirror_mode": {
    "name": "ipython",
    "version": 3
   },
   "file_extension": ".py",
   "mimetype": "text/x-python",
   "name": "python",
   "nbconvert_exporter": "python",
   "pygments_lexer": "ipython3",
   "version": "3.13.0"
  }
 },
 "nbformat": 4,
 "nbformat_minor": 2
}
