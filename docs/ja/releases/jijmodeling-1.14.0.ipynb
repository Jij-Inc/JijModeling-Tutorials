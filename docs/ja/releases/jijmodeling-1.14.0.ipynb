{
 "cells": [
  {
   "cell_type": "markdown",
   "metadata": {},
   "source": [
    "# JijModeling 1.14.0 リリースノート"
   ]
  },
  {
   "cell_type": "markdown",
   "metadata": {},
   "source": [
    "## 破壊的変更"
   ]
  },
  {
   "cell_type": "markdown",
   "metadata": {},
   "source": [
    "### データセット読み込み機能の廃止\n",
    "\n",
    "JijModeling 1.13.1 以降、`jijmodeling.dataset` および `load_qplib` などの関連するデータセット読み込み機能は非推奨であると案内していました。\n",
    "当初は JijModeling 2 で削除する予定でしたが、OMMX でデータセット読み込み機能が十分にサポートされるようになったため、JijModeling 1.14.0 でこれらの機能を削除することにしました。\n",
    "本リリース以降は、JijModeling ではなく OMMX SDK の該当機能をご利用ください。\n",
    "\n",
    "OMMX への移行については、以下の公式ドキュメントを参照してください。\n",
    "\n",
    "1. [Downloading a MIPLIB Instance](https://jij-inc.github.io/ommx/ja/tutorial/download_miplib_instance.html)\n",
    "2. [Downloading a QPLIB Instance](https://jij-inc.github.io/ommx/ja/tutorial/download_qplib_instance.html)"
   ]
  }
 ],
 "metadata": {
  "language_info": {
   "name": "python"
  }
 },
 "nbformat": 4,
 "nbformat_minor": 2
}
