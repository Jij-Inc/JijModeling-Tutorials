{
 "cells": [
  {
   "cell_type": "markdown",
   "metadata": {
    "vscode": {
     "languageId": "plaintext"
    }
   },
   "source": [
    "# JijModeling 1.13.0rc1 リリースノート"
   ]
  },
  {
   "cell_type": "markdown",
   "metadata": {
    "vscode": {
     "languageId": "plaintext"
    }
   },
   "source": [
    "## その他の変更\n",
    "\n",
    "- OMMX Python SDK をバージョン 1.x 系から 2.0.0rc1 へと移行しました！\n",
    "  + OMMX Python SDK 2 は一部破壊的変更を含むため、影響範囲を測るため Release Candidate としてのリリースになっています\n",
    "  + バグ等をみつけた場合、御連絡ください。"
   ]
  }
 ],
 "metadata": {
  "language_info": {
   "name": "python"
  }
 },
 "nbformat": 4,
 "nbformat_minor": 2
}
