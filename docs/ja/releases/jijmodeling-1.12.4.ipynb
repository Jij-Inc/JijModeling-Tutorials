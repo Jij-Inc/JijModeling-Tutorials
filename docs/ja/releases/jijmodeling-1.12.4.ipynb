{
 "cells": [
  {
   "cell_type": "markdown",
   "metadata": {
    "vscode": {
     "languageId": "plaintext"
    }
   },
   "source": [
    "# JijModeling 1.12.4 リリースノート"
   ]
  },
  {
   "cell_type": "markdown",
   "metadata": {},
   "source": [
    "## バグ修正"
   ]
  },
  {
   "cell_type": "markdown",
   "metadata": {},
   "source": [
    "- アップストリームでの変更にあわせ、QPLIBハッシュを更新しました"
   ]
  },
  {
   "cell_type": "markdown",
   "id": "60031872",
   "metadata": {},
   "source": [
    "### PyO3依存関係の更新\n",
    "\n",
    "セキュリティ脆弱性に対処するため、PyO3依存関係を0.23.5から0.24.1にアップデートしました。"
   ]
  }
 ],
 "metadata": {
  "language_info": {
   "name": "python"
  }
 },
 "nbformat": 4,
 "nbformat_minor": 2
}
