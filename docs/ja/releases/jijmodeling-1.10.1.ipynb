{
 "cells": [
  {
   "cell_type": "markdown",
   "metadata": {},
   "source": [
    "# JijModeling 1.10.1 リリースノート\n",
    "\n",
    "他の添え字つき変数を参照する条件文を含む総和・総積の式の評価に失敗する問題を修正しました。以前のバージョン（<= 1.10.0）では、同一総和でスコープに導入された別の添え字に依存する条件を総和の1つのインデックスに適用すると、`InterpreterError` が発生していました。この問題は解決され、複雑な多インデックス総和内の条件が正しく評価されるようになりました。"
   ]
  },
  {
   "cell_type": "code",
   "execution_count": null,
   "metadata": {},
   "outputs": [],
   "source": [
    "import jijmodeling as jm\n",
    "\n",
    "n = jm.Placeholder(\"n\")\n",
    "m = jm.Placeholder(\"m\")\n",
    "x = jm.BinaryVar(\"x\", shape=(n, m))\n",
    "i = jm.Element(\"i\", belong_to=(0, n))\n",
    "j = jm.Element(\"j\", belong_to=(0, m))\n",
    "\n",
    "problem = jm.Problem(\"problem\")\n",
    "# 以前は、次の総和は失敗していました。なぜなら、同じ総和スコープ内で\n",
    "# i に依存する j の条件を含んでいるからです。\n",
    "problem += jm.sum([i, (j, j != i)], x[i, j])\n",
    "\n",
    "interpreter = jm.Interpreter({\"n\": 3, \"m\": 2})\n",
    "try:\n",
    "    # 1.10.1 より前は、これは InterpreterError を引き起こしていました。\n",
    "    # 現在は、正常に評価されます。\n",
    "    interpreter.eval_problem(problem)\n",
    "except jm.InterpreterError as e:\n",
    "    print(\"InterpreterError:\", e)"
   ]
  }
 ],
 "metadata": {
  "kernelspec": {
   "display_name": ".venv",
   "language": "python",
   "name": "python3"
  },
  "language_info": {
   "codemirror_mode": {
    "name": "ipython",
    "version": 3
   },
   "file_extension": ".py",
   "mimetype": "text/x-python",
   "name": "python",
   "nbconvert_exporter": "python",
   "pygments_lexer": "ipython3",
   "version": "3.10.12"
  }
 },
 "nbformat": 4,
 "nbformat_minor": 2
}
