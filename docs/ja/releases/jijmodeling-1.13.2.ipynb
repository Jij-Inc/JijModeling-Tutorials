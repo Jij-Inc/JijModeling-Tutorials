{
 "cells": [
  {
   "cell_type": "markdown",
   "metadata": {
    "vscode": {
     "languageId": "plaintext"
    }
   },
   "source": [
    "# JijModeling 1.13.2 リリースノート"
   ]
  },
  {
   "cell_type": "markdown",
   "metadata": {},
   "source": [
    "## 機能強化"
   ]
  },
  {
   "cell_type": "markdown",
   "metadata": {},
   "source": [
    "- `jijmodeling.dataset`のスタブファイルに`@deprecated`デコレータが含まれるようになり、IDEが非推奨のメソッド/関数について警告を表示するようになりました。"
   ]
  }
 ],
 "metadata": {
  "language_info": {
   "name": "python"
  }
 },
 "nbformat": 4,
 "nbformat_minor": 2
}
