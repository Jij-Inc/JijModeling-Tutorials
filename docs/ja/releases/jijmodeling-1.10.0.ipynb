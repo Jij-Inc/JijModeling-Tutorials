{
 "cells": [
  {
   "cell_type": "markdown",
   "metadata": {},
   "source": [
    "# JijModeling 1.10.0 リリースノート\n",
    "\n",
    "JijModeling 1.10.0 は、ライブラリの安定性と利便性を向上させる重要なバグ修正と機能強化を含みます。\n",
    "\n",
    "## 機能強化\n",
    "\n",
    "### `Interpreter` における one-hot 制約の検出\n",
    "\n",
    "`Interpreter` は、制約評価の仮定で次の形式の one-hot 制約を検出するようになりました:\n",
    "\n",
    "$$\n",
    "\\sum_{i=1}^{n} x_i = 1, \\quad x_i \\in \\{0, 1\\}\n",
    "$$\n",
    "\n",
    "この機能追加により、ソルバーのアダプタ実装時に利用可能な制約ヒントが提供されます。検出された制約ヒントは `ommx.v1.Instance` の `constraint_hints` プロパティからアクセスできます。"
   ]
  },
  {
   "cell_type": "code",
   "execution_count": null,
   "metadata": {},
   "outputs": [],
   "source": [
    "import jijmodeling as jm\n",
    "\n",
    "n = jm.Placeholder(\"n\")\n",
    "x = jm.BinaryVar(\"x\", shape=(n,))\n",
    "i = jm.Element(\"i\", belong_to=(0,n))\n",
    "\n",
    "problem = jm.Problem(\"problem\")\n",
    "# one-hot 制約を追加\n",
    "problem += jm.Constraint(\"onehot\", jm.sum(i, x[i]) == 1)\n",
    "\n",
    "interpreter = jm.Interpreter({\"n\": 3})\n",
    "instance = interpreter.eval_problem(problem)\n",
    "\n",
    "# 検出された制約ヒントの情報を表示\n",
    "print(instance.raw.constraint_hints)"
   ]
  },
  {
   "cell_type": "markdown",
   "metadata": {},
   "source": [
    "将来のアップデートでは、SOS1/SOS2 や n-hot 制約を含むさまざまな制約の検出が可能になる予定です。\n",
    "\n",
    "### 型ヒントの更なる改善\n",
    "\n",
    "Pythonサブモジュールを跨いだ型ヒントが大幅に改善され、これまで Pyright などで発生していた型エラーが解消されました。この改善は `pyo3-stub-gen` での機能改善（[参考リンク](https://github.com/Jij-Inc/pyo3-stub-gen/releases/tag/0.6.1)）に立脚しており、サブモジュールに対してもシームレスに型検査が行われるようになりました。\n",
    "\n",
    "以前は、以下のようなサブモジュールへの呼び出しで型エラーが頻繁に発生していました:\n",
    "\n",
    "![image.png](./assets/jijmodeling-1.10.0_01.png)\n",
    "\n",
    "本リリースでこの問題は解消し、より快適な開発体験が得られるようになります：\n",
    "\n",
    "![image.png](./assets/jijmodeling-1.10.0_02.png)\n",
    "\n",
    "## バグ修正\n",
    "\n",
    "### Jagged Array に対する `ndim` 計算の修正\n",
    "\n",
    "このリリースでは、Jagged Arrayの次元 (`ndim`) 計算方法を修正しました。このバグは `Interpreter` の初期化中にエラーを引き起こし、MIPLIB から読み込まれたインスタンスの評価を妨げていました。"
   ]
  },
  {
   "cell_type": "code",
   "execution_count": null,
   "metadata": {},
   "outputs": [],
   "source": [
    "import jijmodeling as jm\n",
    "\n",
    "# MIPLIB インスタンス \"air05\" をロード\n",
    "dataset = jm.dataset.Miplib()\n",
    "problem, instance_data = dataset.load(\"air05\")\n",
    "\n",
    "try:\n",
    "    # jijmodeling <= 1.9.0 では、これらのいずれかの行が InterpreterError を引き起こします\n",
    "    interpreter = jm.Interpreter(instance_data)\n",
    "    interpreter.eval_problem(problem)\n",
    "except jm.InterpreterError as e:\n",
    "    print(f\"InterpreterError: {e}\")"
   ]
  },
  {
   "cell_type": "markdown",
   "metadata": {},
   "source": [
    "### 目的関数の算術代入演算子 (`+=`) の挙動を修正\n",
    "\n",
    "目的関数に対する `+=` 演算子に関する長期に渡ったバグを修正しました。これまで目的関数に対する `+=` は目的関数を置き換えてしまっていましたが、本バージョン以降は新たに項が加算されます。"
   ]
  },
  {
   "cell_type": "code",
   "execution_count": null,
   "metadata": {},
   "outputs": [],
   "source": [
    "import jijmodeling as jm\n",
    "\n",
    "x = jm.BinaryVar(\"x\")\n",
    "y = jm.BinaryVar(\"y\")\n",
    "\n",
    "problem = jm.Problem(\"problem\")\n",
    "# x を目的関数に加算\n",
    "problem += x\n",
    "# y を目的関数に加算\n",
    "problem += y\n",
    "\n",
    "# jijmodeling <= 1.9.0 では x + y ではなく y になってしまっていた\n",
    "assert jm.is_same(problem.objective, x + y)"
   ]
  },
  {
   "cell_type": "markdown",
   "metadata": {},
   "source": [
    "## 変更履歴\n",
    "\n",
    "### バグ修正\n",
    "\n",
    "- Jagged Array の `ndim` 計算を修正し、Interpreter で MIPLIB 形式の評価をシームレスに行えるようになりました。\n",
    "- 目的関数に対する `+=` 演算子が既存の目的関数に項を適切に追加するように修正しました。\n",
    "\n",
    "### 機能強化\n",
    "\n",
    "- One-Hot 制約検出：次の形式の制約を one-hot 制約として検出できるようになりました：\n",
    "    $\n",
    "      \\displaystyle \\sum_{i=1}^{n} x_i = 1, \\quad x_i \\in \\{0, 1\\}\n",
    "    $\n",
    "  - 左辺: 正確に1つの総和記号。\n",
    "  - 総和の被演算子: インデックス付きの単一のバイナリ変数。\n",
    "  - 制約タイプ: 等式。\n",
    "  - 右辺: 定数 `1`。\n",
    "- `pyo3-stub-gen` の改善を通じて型ヒントサポートを向上させ、サブモジュールに対する Pyright エラーを解消しました。"
   ]
  }
 ],
 "metadata": {
  "kernelspec": {
   "display_name": ".venv",
   "language": "python",
   "name": "python3"
  },
  "language_info": {
   "codemirror_mode": {
    "name": "ipython",
    "version": 3
   },
   "file_extension": ".py",
   "mimetype": "text/x-python",
   "name": "python",
   "nbconvert_exporter": "python",
   "pygments_lexer": "ipython3",
   "version": "3.10.12"
  }
 },
 "nbformat": 4,
 "nbformat_minor": 2
}
