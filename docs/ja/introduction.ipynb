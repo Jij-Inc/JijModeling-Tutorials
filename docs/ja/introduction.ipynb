{
 "cells": [
  {
   "cell_type": "markdown",
   "metadata": {},
   "source": [
    "# はじめに\n",
    "\n",
    ":::{caution}\n",
    "これはPullRequest時の動作確認用のドキュメントです。\n",
    ":::\n",
    "\n",
    "## JijModelingとは\n",
    "\n",
    "`jijmodeling`は最適化問題を直感的に記述するために設計されたPythonパッケージです。`jijmodeling`の主な特徴は次のとおりです。\n",
    "\n",
    "- インスタンスデータなしで数理モデルを記述できるため、数理モデルの検証が迅速になり、再利用も容易になります。インスタンスのサイズが数理モデルの記述や操作のパフォーマンスに影響を与えることはありません。\n",
    "- 線形計画問題、混合整数計画問題、非線形計画問題など、さまざまな種類の最適化問題に対する共通のインターフェースとして機能します。\n",
    "- 数理モデルをプログラム的に操作できるため、数理モデルを部分毎に構築したり、制約の構築においてより複雑なロジックを記述しやすくなっています。\n",
    "- LaTeX出力をサポートしているのでJupyter環境と組み合わせることで、数理モデルが期待通りに構築されているかどうかを迅速かつ対話的に確認できます。\n",
    "\n",
    "`jijmodeling`は、Pythonコードを使用して数理モデルを記述するためのツールであり、数理モデルを評価または解決するものではありません。このような仕様になっているのは、インスタンスデータに依らず、数理モデルの代数構造に焦点を当てることで、数理モデルを論理的に考察し、検証し、より迅速に変更できるようにするためです。また、ソルバーが期待する入力形式を生成するためのスキーマとしても機能します。\n",
    "\n",
    "`jijmodeling`で記述した数理モデルをソルバーで解くには、実際のインスタンスデータと組み合わせて、[JijZeptサービス](https://www.jijzept.com)で提供されるツールでソルバー用の入力形式に変換する必要があります。"
   ]
  },
  {
   "cell_type": "markdown",
   "metadata": {},
   "source": [
    "## インストール\n",
    "\n",
    "`pip`を使用している場合、次のコマンドで`jijmodeling`をインストールできます：\n",
    "\n",
    "```bash\n",
    "pip install jijmodeling\n",
    "```\n",
    "\n",
    "`jijmodeling`はPython 3.9以上が必要であることに注意してください。"
   ]
  },
  {
   "cell_type": "code",
   "execution_count": 1,
   "metadata": {},
   "outputs": [
    {
     "data": {
      "text/plain": [
       "'1.12.4'"
      ]
     },
     "execution_count": 1,
     "metadata": {},
     "output_type": "execute_result"
    }
   ],
   "source": [
    "import jijmodeling\n",
    "jijmodeling.__version__"
   ]
  },
  {
   "cell_type": "markdown",
   "metadata": {},
   "source": [
    ":::{caution}\n",
    "本ドキュメントのコードを実行する際には、上記の`jijmodeling`のバージョンと同じものを使うことを強く推奨します。\n",
    ":::"
   ]
  }
 ],
 "metadata": {
  "kernelspec": {
   "display_name": "Python 3 (ipykernel)",
   "language": "python",
   "name": "python3"
  },
  "language_info": {
   "codemirror_mode": {
    "name": "ipython",
    "version": 3
   },
   "file_extension": ".py",
   "mimetype": "text/x-python",
   "name": "python",
   "nbconvert_exporter": "python",
   "pygments_lexer": "ipython3",
   "version": "3.9.18"
  }
 },
 "nbformat": 4,
 "nbformat_minor": 4
}
