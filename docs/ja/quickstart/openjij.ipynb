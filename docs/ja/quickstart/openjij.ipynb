{
 "cells": [
  {
   "cell_type": "markdown",
   "metadata": {},
   "source": [
    "# OpenJijで最適化問題を解く\n",
    "\n",
    "`jijmodeling`の使い方を理解するために基本的な例を見ていきましょう。以下では、シンプルな数理モデルを作成し、それを変換し、ソルバーで実行する手順を説明します。最初の2つのセクションでは、`jijmodeling`だけで十分ですが、LaTeX出力を簡単に確認するために[Jupyterノートブック](https://jupyter.org)を使用することをお勧めします。\n",
    "\n",
    "3つ目のセクションでは、 [`ommx-openjij-adapter`](https://pypi.org/project/ommx-openjij-adapter/)を使用します。`ommx-open-jij-adapter`は`pip`を使用してインストールできます。\n",
    "\n",
    "```bash\n",
    "pip install ommx-openjij-adapter\n",
    "```"
   ]
  },
  {
   "cell_type": "markdown",
   "metadata": {},
   "source": [
    "## 概要\n",
    "\n",
    "`jijmodeling`を記述方法は数理最適化に精通している人にとって自然に感じられるはずです。\n",
    "\n",
    "`jijmodeling`のクラス（`BinaryVar`や`Placeholder`など）を基本的な演算を使用して組み合わせることで数式が表現できます。`___Var`クラスはさまざまな種類の決定変数を指します。`Placeholder`は後で指定される定数や値を表します。つまり、問題を抽象化し、インスタンスデータとしてマークしたいものを表しています。もちろん、`jijmodeling`による数理モデルの構築には数値リテラルも使用できます。"
   ]
  },
  {
   "cell_type": "code",
   "execution_count": 1,
   "metadata": {},
   "outputs": [],
   "source": [
    "import jijmodeling as jm\n",
    "\n",
    "x = jm.BinaryVar(\"x\")\n",
    "y = jm.IntegerVar(\"y\", lower_bound=1, upper_bound=10)\n",
    "n = jm.Placeholder(\"n\")\n",
    "exp = x * (y ** 2) * n"
   ]
  },
  {
   "cell_type": "markdown",
   "metadata": {},
   "source": [
    "上記のプレースホルダーと変数は0次元（スカラー）ですが、これらのクラスを使用して配列や多次元変数および定数を表現することもできます（後で詳しく説明します）。\n",
    "\n",
    "`jijmodeling`では、上記の`exp`のような式を`Problem`オブジェクトに加えることで数理モデルを構築し、数理モデル全体を表現します。制約は、比較式をラップする`Constraint`クラスによって定義されます（`Constraint`では`<=`、`==`、および`>=`のみがサポートされています）。"
   ]
  },
  {
   "cell_type": "code",
   "execution_count": 2,
   "metadata": {},
   "outputs": [
    {
     "data": {
      "text/latex": [
       "$$\\begin{array}{cccc}\\text{Problem:} & \\text{my problem} & & \\\\& & \\min \\quad \\displaystyle n \\cdot \\left(a + b + c\\right) & \\\\\\text{{s.t.}} & & & \\\\ & \\text{c1} & \\displaystyle 2 \\cdot \\left(b + c\\right) \\leq 75 &  \\\\ & \\text{c2} & \\displaystyle a + b \\leq 40 &  \\\\\\text{{where}} & & & \\\\& a & 0\\text{-dim integer variable}\\\\ & & \\text{lower bound: }5 & \\\\ & & \\text{upper bound: }20 & \\\\& b & 0\\text{-dim integer variable}\\\\ & & \\text{lower bound: }1 & \\\\ & & \\text{upper bound: }20 & \\\\& c & 0\\text{-dim integer variable}\\\\ & & \\text{lower bound: }20 & \\\\ & & \\text{upper bound: }30 & \\\\\\end{array}$$"
      ],
      "text/plain": [
       "<jijmodeling.Problem at 0x60a9c990fbe0>"
      ]
     },
     "execution_count": 2,
     "metadata": {},
     "output_type": "execute_result"
    }
   ],
   "source": [
    "a = jm.IntegerVar(\"a\", lower_bound=5, upper_bound=20)\n",
    "b = jm.IntegerVar(\"b\", lower_bound=1, upper_bound=20)\n",
    "c = jm.IntegerVar(\"c\", lower_bound=20, upper_bound=30)\n",
    "n = jm.Placeholder(\"n\")\n",
    "\n",
    "problem = jm.Problem(\"my problem\")\n",
    "problem += n * (a + b + c)\n",
    "problem += jm.Constraint(\"c1\", 2 * (b + c) <= 75)\n",
    "problem += jm.Constraint(\"c2\", a + b <= 40)\n",
    "problem"
   ]
  },
  {
   "cell_type": "markdown",
   "metadata": {},
   "source": [
    "## モデルの作成\n",
    "\n",
    "一般的な[ナップサック問題](https://www.documentation.jijzept.com/docs/tutorial/knapsack)をどのようにモデル化するか見てみましょう。\n",
    "\n",
    "ナップサック問題とは、それぞれ価値と重量が設定された$N$個のアイテムがあるとき、重量制限$W$の範囲内で持ち帰れるアイテムの価値を最大化する問題です。以下では、アイテム$i$を持ち帰るかどうかをバイナリ変数$x_{i}$で表現し、アイテム$i$の重量を$w_i$、アイテム$i$の価値を$v_i$で表現するものとします。\n",
    "\n",
    "まず、これらの値を`jijmodeling`で定義してみましょう。"
   ]
  },
  {
   "cell_type": "code",
   "execution_count": 3,
   "metadata": {},
   "outputs": [],
   "source": [
    "# W: 重量制限（持ち帰れる重量の上限値）\n",
    "W = jm.Placeholder(\"W\")\n",
    "# v_i: アイテムiの価値\n",
    "values = jm.Placeholder(\"v\", ndim=1) \n",
    "# w_i: アイテムiの重量\n",
    "weights = jm.Placeholder(\"w\", ndim=1) \n",
    "# Nはプレースホルダーの0次元方向のサイズに基づいて自動的に決まるため、\n",
    "# 以下のように`len_at`メソッドを使って定義することができる。\n",
    "# また、LaTeX出力のために、ここでは`latex`パラメータを指定しておく。\n",
    "N = values.len_at(0, latex=\"N\")\n",
    "\n",
    "# x_i: アイテムiを持ち帰るかどうかを表すバイナリ変数\n",
    "# ここでは、`shape`パラメータを使って、N個の要素を持つベクトルを定義している。\n",
    "x = jm.BinaryVar(\"x\", shape=(N,))\n",
    "\n",
    "# 総和を取るためにインデックスを定義しておく。\n",
    "i = jm.Element(\"i\", (0, N))"
   ]
  },
  {
   "cell_type": "markdown",
   "metadata": {},
   "source": [
    "上記のコードの最後に定義した`Element`を利用して`jijmodeling.sum`を使用すると、シグマ記法に似たスタイルで総和を記述できます。上記のコードでは、インデックス`i`を0を含み$N$を含まないの区間として定義しています。これを事前に記述するのは奇妙に感じるかもしれませんが、そうすることで再利用が可能になり利便性が向上します。\n",
    "\n",
    "ナップサック問題では、重量制限を満たしながら持ち帰るアイテムの価値を最大化する必要があります。これを`jijmodeling`で表現すると以下のようになります。"
   ]
  },
  {
   "cell_type": "code",
   "execution_count": 4,
   "metadata": {},
   "outputs": [
    {
     "data": {
      "text/latex": [
       "$$\\begin{array}{cccc}\\text{Problem:} & \\text{knapsack} & & \\\\& & \\max \\quad \\displaystyle \\sum_{i = 0}^{N - 1} v_{i} \\cdot x_{i} & \\\\\\text{{s.t.}} & & & \\\\ & \\text{weight limit} & \\displaystyle \\sum_{i = 0}^{N - 1} w_{i} \\cdot x_{i} \\leq W &  \\\\\\text{{where}} & & & \\\\& x & 1\\text{-dim binary variable}\\\\\\end{array}$$"
      ],
      "text/plain": [
       "<jijmodeling.Problem at 0x60a9c8e48ff0>"
      ]
     },
     "execution_count": 4,
     "metadata": {},
     "output_type": "execute_result"
    }
   ],
   "source": [
    "problem = jm.Problem(\"knapsack\", sense = jm.ProblemSense.MAXIMIZE)\n",
    "problem += jm.sum(i, values[i] * x[i])\n",
    "problem += jm.Constraint(\"weight limit\", jm.sum(i, weights[i] * x[i]) <= W)\n",
    "problem"
   ]
  },
  {
   "cell_type": "markdown",
   "metadata": {},
   "source": [
    "`jijmodeling`の式は通常のPythonオブジェクトのように変数に格納できます。これにより、大規模な問題に取り組む際には複雑な式を小さなものから構築することができ、後で理解・修正しやすくなります。ナップサック問題のような小さい問題ではあまり役に立ちませんが、例として、上記のコードを次のように書き直すことができます。"
   ]
  },
  {
   "cell_type": "code",
   "execution_count": 5,
   "metadata": {},
   "outputs": [
    {
     "data": {
      "text/latex": [
       "$$\\begin{array}{cccc}\\text{Problem:} & \\text{knapsack} & & \\\\& & \\max \\quad \\displaystyle \\sum_{i = 0}^{N - 1} v_{i} \\cdot x_{i} & \\\\\\text{{s.t.}} & & & \\\\ & \\text{weight limit} & \\displaystyle \\sum_{i = 0}^{N - 1} w_{i} \\cdot x_{i} \\leq W &  \\\\\\text{{where}} & & & \\\\& x & 1\\text{-dim binary variable}\\\\\\end{array}$$"
      ],
      "text/plain": [
       "<jijmodeling.Problem at 0x60a9c9940b50>"
      ]
     },
     "execution_count": 5,
     "metadata": {},
     "output_type": "execute_result"
    }
   ],
   "source": [
    "chosen_v = values[i] * x[i]\n",
    "chosen_w = weights[i] * x[i]\n",
    "sum_of_values = jm.sum(i, chosen_v)\n",
    "sum_of_weights = jm.sum(i, chosen_w)\n",
    "weight_below_limit = sum_of_weights <= W\n",
    "\n",
    "problem = jm.Problem(\"knapsack\", sense = jm.ProblemSense.MAXIMIZE)\n",
    "problem += sum_of_values\n",
    "problem += jm.Constraint(\"weight limit\", weight_below_limit)\n",
    "problem"
   ]
  },
  {
   "cell_type": "markdown",
   "metadata": {},
   "source": [
    "これらの2つのコードが表すモデルは同等です。あなたの好みや利便に合わせてモデルを記述してみてください。"
   ]
  },
  {
   "cell_type": "markdown",
   "metadata": {},
   "source": [
    "## モデルを解く\n",
    "\n",
    "前述のコードによりモデルを構築することができましたが、`jijmodeling`だけではLaTeX出力する以外にはあまりできることはありません。インスタンスデータと組み合わせて、ソルバーの入力を生成することが必要になります。\n",
    "\n",
    "まずは数理モデルの `Placeholder` に入力するインスタンスデータを用意し、 `Interpreter` オブジェクトに登録します。\n",
    "\n",
    "`Interpreter` クラスのコンストラクタの引数に、以下のキーと値を持つ辞書を渡すことでインスタンスデータを登録できます：\n",
    "\n",
    "- キー：`Placeholder` オブジェクトの `name` プロパティに設定した文字列\n",
    "- 値：入力するデータ"
   ]
  },
  {
   "cell_type": "code",
   "execution_count": 6,
   "metadata": {},
   "outputs": [],
   "source": [
    "instance_data = {\n",
    " \"W\": 100,                                  # ナップサックの耐荷重のデータ\n",
    " \"v\": [100, 90, 80, 70, 60, 50, 40, 30],    # アイテムの価値のデータ\n",
    " \"w\": [1, 5, 10, 20, 30, 40, 50, 60, 70]    # アイテムの重さのデータ\n",
    "}\n",
    "interpreter = jm.Interpreter(instance_data)"
   ]
  },
  {
   "cell_type": "markdown",
   "metadata": {},
   "source": [
    "数理モデルをインスタンスに変換するには、`Interpreter.eval_problem` メソッドを使用します。インスタンスデータが登録された `Interpreter` オブジェクトの `eval_problem` メソッドに `Problem` オブジェクトを渡すと、その `Problem` オブジェクトが持つ `Placeholder` にインスタンスデータを入力され、インスタンスに変換されます:"
   ]
  },
  {
   "cell_type": "code",
   "execution_count": 7,
   "metadata": {},
   "outputs": [],
   "source": [
    "instance = interpreter.eval_problem(problem)"
   ]
  },
  {
   "cell_type": "markdown",
   "metadata": {},
   "source": [
    ":::{hint}\n",
    "`Interpreter.eval_problem` の返却値は `ommx.v1.Instance` オブジェクトです。OMMXについて詳しく知りたい場合は[こちら](https://github.com/Jij-Inc/ommx)を参照してください。\n",
    ":::"
   ]
  },
  {
   "cell_type": "markdown",
   "metadata": {},
   "source": [
    "OpenJijサンプラーの入力値に変換できるOMMXインスタンスを取得できました。`ommx-openjij-adapter`で実際サンプリングを行ってみましょう。"
   ]
  },
  {
   "cell_type": "code",
   "execution_count": 10,
   "metadata": {},
   "outputs": [
    {
     "name": "stdout",
     "output_type": "stream",
     "text": [
      "目的関数の最適値:: 389.0\n"
     ]
    }
   ],
   "source": [
    "from ommx_openjij_adapter import OMMXOpenJijSAAdapter\n",
    "\n",
    "# Solve through SCIP and retrieve results as an ommx.v1.Solution\n",
    "samples = OMMXOpenJijSAAdapter.sample(instance, num_reads=1)\n",
    "\n",
    "print(f\"目的関数の最適値:: {samples.best_feasible().objective}\")"
   ]
  },
  {
   "cell_type": "markdown",
   "metadata": {},
   "source": [
    "上記のコードは`openjij`のシミュレーテッドアニーリングを使用しており、`num_reads=1`は1回だけサンプリングすることを示しています。`num_reads`の値を増やすことで複数回サンプリングし、レスポンスオブジェクトを使用してさまざまな結果を探索することができます。しかし、今回の問題では、すべてのサンプルが最適解に到達するため、ここでは1回のサンプルを行い、見つかった「最良」の解を見てみることとします。"
   ]
  },
  {
   "cell_type": "markdown",
   "metadata": {},
   "source": [
    "上記のレスポンスオブジェクトは各決定変数に対して`openjij`が求めた値を示しています。OMMX AdapterやOpenJijを使用して結果をより良く処理および視覚化したり、同じ数理モデルを異なる目的で再利用したりするために、さらに多くのことができますが、それについてはそれぞれのドキュメントページを参照してください。"
   ]
  },
  {
   "cell_type": "markdown",
   "metadata": {},
   "source": [
    "## 次のステップ\n",
    "\n",
    "- [Examples](https://www.documentation.jijzept.com/docs/category/learn)\n",
    "- [JijZept](https://www.documentation.jijzept.com/docs/jijzept/)\n",
    "- [OMMX](https://jij-inc.github.io/ommx/en/introduction.html)"
   ]
  },
  {
   "cell_type": "code",
   "execution_count": null,
   "metadata": {},
   "outputs": [],
   "source": []
  }
 ],
 "metadata": {
  "kernelspec": {
   "display_name": "Python 3 (ipykernel)",
   "language": "python",
   "name": "python3"
  },
  "language_info": {
   "codemirror_mode": {
    "name": "ipython",
    "version": 3
   },
   "file_extension": ".py",
   "mimetype": "text/x-python",
   "name": "python",
   "nbconvert_exporter": "python",
   "pygments_lexer": "ipython3",
   "version": "3.9.18"
  }
 },
 "nbformat": 4,
 "nbformat_minor": 4
}
