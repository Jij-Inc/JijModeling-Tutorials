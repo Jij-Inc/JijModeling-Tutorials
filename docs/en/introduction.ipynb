{
 "cells": [
  {
   "cell_type": "markdown",
   "metadata": {},
   "source": [
    "# Introduction\n",
    "\n",
    "## What is JijModeling?\n",
    "\n",
    "`jijmodeling` is a Python package designed to intuitively describe optimization problems. The main features of `jijmodeling` are as follows:\n",
    "\n",
    "- You can describe mathematical models without instance data, which makes it quick to verify and easy to reuse mathematical models. The size of the instance does not affect the performance of describing or manipulating the mathematical model.\n",
    "- It functions as a common interface for various types of optimization problems, such as linear programming problems, mixed integer programming problems, and nonlinear programming problems.\n",
    "- You can programmatically manipulate mathematical models, making it easier to construct mathematical models in parts or describe more complex logic in constructing constraints.\n",
    "- It supports LaTeX output, so you can quickly and interactively check whether the mathematical model is constructed as expected when combined with the Jupyter environment.\n",
    "\n",
    "`jijmodeling` is a tool for describing mathematical models using Python code, not for evaluating or solving mathematical models. This specification focuses on the algebraic structure of mathematical models, independent of instance data, allowing for logical consideration, verification, and faster modification of mathematical models. It also functions as a schema for generating the input format expected by solvers.\n",
    "\n",
    "To solve the mathematical models described with `jijmodeling` using a solver, you need to combine them with actual instance data and convert them into the input format for a specific solver using other tools such as the [JijZept service](https://www.jijzept.com)."
   ]
  },
  {
   "cell_type": "markdown",
   "metadata": {},
   "source": [
    "## Installation\n",
    "\n",
    "If you are using `pip`, you can install `jijmodeling` with the following command:\n",
    "\n",
    "```bash\n",
    "pip install jijmodeling\n",
    "```\n",
    "\n",
    "Note that `jijmodeling` requires Python 3.9 or higher."
   ]
  },
  {
   "cell_type": "code",
   "execution_count": 1,
   "metadata": {},
   "outputs": [
    {
     "data": {
      "text/plain": [
       "'1.12.4'"
      ]
     },
     "execution_count": 1,
     "metadata": {},
     "output_type": "execute_result"
    }
   ],
   "source": [
    "import jijmodeling\n",
    "jijmodeling.__version__"
   ]
  },
  {
   "cell_type": "markdown",
   "metadata": {},
   "source": [
    ":::{caution}\n",
    "When running the code in this document, it is strongly recommended to use the same version of `jijmodeling` as above.\n",
    ":::"
   ]
  }
 ],
 "metadata": {
  "kernelspec": {
   "display_name": ".venv",
   "language": "python",
   "name": "python3"
  },
  "language_info": {
   "codemirror_mode": {
    "name": "ipython",
    "version": 3
   },
   "file_extension": ".py",
   "mimetype": "text/x-python",
   "name": "python",
   "nbconvert_exporter": "python",
   "pygments_lexer": "ipython3",
   "version": "3.11.4"
  }
 },
 "nbformat": 4,
 "nbformat_minor": 2
}
