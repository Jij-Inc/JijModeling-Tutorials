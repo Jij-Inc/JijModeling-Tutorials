{
 "cells": [
  {
   "cell_type": "markdown",
   "metadata": {
    "vscode": {
     "languageId": "plaintext"
    }
   },
   "source": [
    "# JijModeling 1.14.0 Release Notes"
   ]
  },
  {
   "cell_type": "markdown",
   "metadata": {},
   "source": [
    "## Breaking Change"
   ]
  },
  {
   "cell_type": "markdown",
   "metadata": {},
   "source": [
    "### Dataset loading feature is removed in favor of OMMX\n",
    "\n",
    "Since JijModeling 1.13.1, `jijmodeling.dataset` and related dataset loading feature like `load_qplib` has announced to be deprecated.\n",
    "The original announcement was that it will be removed in JijModeling 2, but given that OMMX now has a proper support of loading dataset loading feature, we decided to remove these features in this release of JijModeling 1.14.0.\n",
    "Since this release, you MUST use the corresponding feature in OMMX SDK instead of JijModeling.\n",
    "\n",
    "For migration to OMMX, see the following OMMX official documentations:\n",
    "\n",
    "1. [Downloading a MIPLIB Instance](https://jij-inc.github.io/ommx/en/tutorial/download_miplib_instance.html)\n",
    "2. [Downloading a QPLIB Instance](https://jij-inc.github.io/ommx/en/tutorial/download_qplib_instance.html)"
   ]
  }
 ],
 "metadata": {
  "language_info": {
   "name": "python"
  }
 },
 "nbformat": 4,
 "nbformat_minor": 2
}
