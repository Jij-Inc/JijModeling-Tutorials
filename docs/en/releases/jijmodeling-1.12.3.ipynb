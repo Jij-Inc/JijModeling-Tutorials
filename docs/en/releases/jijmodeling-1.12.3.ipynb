{
 "cells": [
  {
   "cell_type": "markdown",
   "metadata": {
    "vscode": {
     "languageId": "plaintext"
    }
   },
   "source": [
    "# JijModeling 1.12.3 Release Notes"
   ]
  },
  {
   "cell_type": "markdown",
   "metadata": {},
   "source": [
    "## Bugfixes"
   ]
  },
  {
   "cell_type": "markdown",
   "metadata": {},
   "source": [
    "### Further Performance Improvements in `Interpreter.eval_*`\n",
    "\n",
    "In JijModeling 1.12.x, `Interpreter.eval_*` consumes unnecessarily huge amount of memory for large problems, resulting in the severe runtime degredation.\n",
    "This performance issue is fixed in this release, and now `Interpreter.eval_*` runs much faster for large problems."
   ]
  }
 ],
 "metadata": {
  "language_info": {
   "name": "python"
  }
 },
 "nbformat": 4,
 "nbformat_minor": 2
}
