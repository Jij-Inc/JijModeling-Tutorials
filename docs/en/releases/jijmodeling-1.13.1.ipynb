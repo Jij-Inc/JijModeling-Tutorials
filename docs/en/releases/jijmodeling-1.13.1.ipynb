{
 "cells": [
  {
   "cell_type": "markdown",
   "metadata": {
    "vscode": {
     "languageId": "plaintext"
    }
   },
   "source": "# JijModeling 1.13.1 Release Notes"
  },
  {
   "cell_type": "markdown",
   "source": "## Other Changes\n\n- Updated QPLIB dataset hash to reflect the latest version of the dataset\n- **Deprecation Warning**: The `jijmodeling.dataset` module is deprecated and will be removed in JijModeling 2.0. Please use corresponding features of OMMX.",
   "metadata": {}
  }
 ],
 "metadata": {
  "language_info": {
   "name": "python"
  }
 },
 "nbformat": 4,
 "nbformat_minor": 2
}