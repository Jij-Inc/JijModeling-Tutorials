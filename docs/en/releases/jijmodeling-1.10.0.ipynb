{
 "cells": [
  {
   "cell_type": "markdown",
   "metadata": {},
   "source": [
    "# JijModeling 1.10.0 Release Notes\n",
    "\n",
    "JijModeling 1.10.0 provides critical bug fixes and feature enhancements to improve the stability and functionality of the library.\n",
    "\n",
    "## Feature Enhancements\n",
    "\n",
    "### 1-hot Constraint Detection in `Interpreter`\n",
    "\n",
    "The `Interpreter` now identifies 1-hot constraints during constraint evaluation in the following form:\n",
    "\n",
    "$$\n",
    "\\sum_{i=1}^{n} x_i = 1, \\quad x_i \\in \\{0, 1\\}\n",
    "$$\n",
    "\n",
    "This enhancement provides hints to improve solver performance for compatible solvers. Detected constraints can be accessed via the `constraint_hints` property in `ommx.v1.Instance`."
   ]
  },
  {
   "cell_type": "code",
   "execution_count": null,
   "metadata": {},
   "outputs": [],
   "source": [
    "import jijmodeling as jm\n",
    "\n",
    "n = jm.Placeholder(\"n\")\n",
    "x = jm.BinaryVar(\"x\", shape=(n,))\n",
    "i = jm.Element(\"i\", belong_to=(0,n))\n",
    "\n",
    "problem = jm.Problem(\"problem\")\n",
    "# Add 1-hot constraint\n",
    "problem += jm.Constraint(\"onehot\", jm.sum(i, x[i]) == 1)\n",
    "\n",
    "interpreter = jm.Interpreter({\"n\": 3})\n",
    "instance = interpreter.eval_problem(problem)\n",
    "\n",
    "# Display detected constraint information\n",
    "print(instance.raw.constraint_hints)"
   ]
  },
  {
   "cell_type": "markdown",
   "metadata": {},
   "source": [
    "Future updates will enable the detection of various constraints, including SOS1/SOS2 and n-hot constraints.\n",
    "\n",
    "### Further Improvements in Type Hints\n",
    "\n",
    "Type hinting across submodules has been significantly improved to resolve Pyright errors that previously occurred. This improvement leverages advancements in `pyo3-stub-gen` ([see](https://github.com/Jij-Inc/pyo3-stub-gen/releases/tag/0.6.1)) to ensure seamless type checking in submodules.\n",
    "\n",
    "Prior to this release, type errors were common in submodules:\n",
    "\n",
    "![image.png](./assets/jijmodeling-1.10.0_01.png)\n",
    "\n",
    "These issues are now resolved, ensuring a more robust developer experience:\n",
    "\n",
    "![image.png](./assets/jijmodeling-1.10.0_02.png)\n",
    "\n",
    "## Bug Fixes\n",
    "\n",
    "### Fixed `ndim` Calculation for Jagged Arrays\n",
    "\n",
    "This release resolves a logic error in calculating the ndim (number of dimensions) for jagged arrays. The bug caused errors during Interpreter initialization and prevented evaluation of instances loaded through the MIPLIB loader."
   ]
  },
  {
   "cell_type": "code",
   "execution_count": null,
   "metadata": {},
   "outputs": [],
   "source": [
    "import jijmodeling as jm\n",
    "\n",
    "# Load MIPLIB instance \"air05\"\n",
    "dataset = jm.dataset.Miplib()\n",
    "problem, instance_data = dataset.load(\"air05\")\n",
    "\n",
    "try:\n",
    "    # In jijmodeling <= 1.9.0, either of these two lines would raise an InterpreterError\n",
    "    interpreter = jm.Interpreter(instance_data)\n",
    "    interpreter.eval_problem(problem)\n",
    "except jm.InterpreterError as e:\n",
    "    print(f\"InterpreterError: {e}\")"
   ]
  },
  {
   "cell_type": "markdown",
   "metadata": {},
   "source": [
    "### Corrected Arithmetic Assignment Operator Behavior (`+=`) for Objective Functions\n",
    "\n",
    "A long-standing issue with the `+=` operator for objective functions has been fixed. Previously, adding to an existing objective would overwrite the original instead of appending to it."
   ]
  },
  {
   "cell_type": "code",
   "execution_count": null,
   "metadata": {},
   "outputs": [],
   "source": [
    "import jijmodeling as jm\n",
    "\n",
    "x = jm.BinaryVar(\"x\")\n",
    "y = jm.BinaryVar(\"y\")\n",
    "\n",
    "problem = jm.Problem(\"problem\")\n",
    "# Add x to objective function\n",
    "problem += x\n",
    "# Add y to objective function\n",
    "problem += y\n",
    "\n",
    "# In jijmodeling <= 1.9.0, the objective function would be y instead of x + y\n",
    "assert jm.is_same(problem.objective, x + y)"
   ]
  },
  {
   "cell_type": "markdown",
   "metadata": {},
   "source": [
    "## Changelog\n",
    "\n",
    "### Bug Fixes\n",
    "\n",
    "- Fixed incorrect `ndim` calculation for jagged arrays, ensuring seamless `Interpreter` initialization and MIPLIB loader evaluation.\n",
    "\n",
    "- Resolved behavior of the `+=` operator to properly append terms to existing objective functions.\n",
    "\n",
    "### Feature Enhancements\n",
    "\n",
    "- 1-Hot Constraint Detection:\n",
    "  Supported constraints must adhere to the following form:\n",
    "    $\n",
    "      \\displaystyle \\sum_{i=1}^{n} x_i = 1, \\quad x_i \\in \\{0, 1\\}\n",
    "    $\n",
    "    \n",
    "  - Left-hand side: exactly one summation symbol.\n",
    "  - Summation operand: a single binary variable with an index.\n",
    "  - Constraint type: equality.\n",
    "  - Right-hand side: a NumberLit with value of 1.\n",
    "- Resolved Pyright errors in submodules by improving type hint support through `pyo3-stub-gen` enhancements."
   ]
  }
 ],
 "metadata": {
  "kernelspec": {
   "display_name": ".venv",
   "language": "python",
   "name": "python3"
  },
  "language_info": {
   "codemirror_mode": {
    "name": "ipython",
    "version": 3
   },
   "file_extension": ".py",
   "mimetype": "text/x-python",
   "name": "python",
   "nbconvert_exporter": "python",
   "pygments_lexer": "ipython3",
   "version": "3.10.12"
  }
 },
 "nbformat": 4,
 "nbformat_minor": 2
}
