{
 "cells": [
  {
   "cell_type": "markdown",
   "metadata": {
    "vscode": {
     "languageId": "plaintext"
    }
   },
   "source": [
    "# JijModeling 1.13.0rc1 Release Notes"
   ]
  },
  {
   "cell_type": "markdown",
   "metadata": {
    "vscode": {
     "languageId": "plaintext"
    }
   },
   "source": [
    "## Other Changes\n",
    "\n",
    "- We migrated OMMX Python SDK from version 1.x to 2.0.0rc1!\n",
    "  + As this includes some breaking change, we make Release Candidate release for 1.13.0 at first. If there is problems, please get in touch!"
   ]
  }
 ],
 "metadata": {
  "language_info": {
   "name": "python"
  }
 },
 "nbformat": 4,
 "nbformat_minor": 2
}
