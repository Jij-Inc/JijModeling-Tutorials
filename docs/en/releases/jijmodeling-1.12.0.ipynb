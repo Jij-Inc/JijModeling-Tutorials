{
 "cells": [
  {
   "cell_type": "markdown",
   "metadata": {},
   "source": [
    "# JijModeling 1.12.0 Release Notes\n",
    "\n",
    "## Feature Enhancements\n",
    "\n",
    "### `Interpreter` now detects SOS1 constraints\n",
    "\n",
    "The recent OMMX version (Python SDK 1.8.3+ and/or Rust SDK v2.0.0-rc1+) adds a field for Special-Ordered Set of Type 1 (SOS1) constraint hints.\n",
    "SOS1 is a constraint on a list $x_1, \\ldots, x_n$ of non-negative variables which allows at most one of them to be non-zero.\n",
    "`jm.Interpreter` now can detect this type of constraints for arbitrary non-negative variables. More precisely, it detects SOS1 constraints expressed in the following form (and their algebraic equivalents):\n",
    "\n",
    "1. $\\sum_i \\delta_i \\leq 1$ for binary variables $\\delta_i$, or\n",
    "2. $\\sum_i \\delta_i \\leq 1$ together with $x_i \\leq M_i \\delta_i \\  \\forall i$.\n",
    "   Here, $x_i$ s are arbitrary decision variables with bound $L_i \\leq x_i \\leq M_i$ specified at the declaration time, where $L_i \\geq 0$ is constant.\n",
    "\n",
    "With this feature, you can now take an advantage of SOS1 constraints if you are using OMMX adapters with SOS1 constraint support (e.g. `ommx-pyscipopt-adapter`). "
   ]
  }
 ],
 "metadata": {
  "kernelspec": {
   "display_name": ".venv",
   "language": "python",
   "name": "python3"
  },
  "language_info": {
   "codemirror_mode": {
    "name": "ipython",
    "version": 3
   },
   "file_extension": ".py",
   "mimetype": "text/x-python",
   "name": "python",
   "nbconvert_exporter": "python",
   "pygments_lexer": "ipython3",
   "version": "3.10.12"
  }
 },
 "nbformat": 4,
 "nbformat_minor": 2
}
