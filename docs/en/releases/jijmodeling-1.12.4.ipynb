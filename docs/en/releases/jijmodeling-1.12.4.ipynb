{
 "cells": [
  {
   "cell_type": "markdown",
   "metadata": {
    "vscode": {
     "languageId": "plaintext"
    }
   },
   "source": [
    "# JijModeling 1.12.4 Release Notes"
   ]
  },
  {
   "cell_type": "markdown",
   "metadata": {},
   "source": [
    "## Bugfixes"
   ]
  },
  {
   "cell_type": "markdown",
   "metadata": {},
   "source": [
    "- Updates QPLIB hash according to the upstream change"
   ]
  },
  {
   "cell_type": "markdown",
   "id": "18a817b3",
   "metadata": {},
   "source": [
    "### PyO3 dependency update\n",
    "\n",
    "Updated PyO3 dependency from 0.23.5 to 0.24.1 to address a security vulnerability."
   ]
  }
 ],
 "metadata": {
  "language_info": {
   "name": "python"
  }
 },
 "nbformat": 4,
 "nbformat_minor": 2
}
