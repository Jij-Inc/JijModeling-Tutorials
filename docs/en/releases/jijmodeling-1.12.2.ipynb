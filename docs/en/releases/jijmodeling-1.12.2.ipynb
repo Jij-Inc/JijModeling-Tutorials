{
 "cells": [
  {
   "cell_type": "markdown",
   "metadata": {
    "vscode": {
     "languageId": "plaintext"
    }
   },
   "source": [
    "# JijModeling 1.12.2 Release Notes\n",
    "\n",
    "## Feature Enhancements"
   ]
  },
  {
   "cell_type": "markdown",
   "metadata": {},
   "source": [
    "### Error message with source code location\n",
    "\n",
    "Now the error messages in `Interpreter.eval_*` reports source code location and code fragment when available.\n",
    "Python provides detailed error span information only in Python 3.11 and later, it is recommended to use Python >= 3.11 to get useful message.\n",
    "\n",
    "The following is the example of error message with detailed source code locations, which is available Python 3.11+:"
   ]
  },
  {
   "cell_type": "code",
   "execution_count": 1,
   "metadata": {},
   "outputs": [
    {
     "data": {
      "text/latex": [
       "$$\\begin{array}{cccc}\\text{Problem:} & \\text{shift\\_optimization} & & \\\\& & \\min \\quad \\displaystyle \\sum_{d = 0}^{D - 1} \\sum_{t = 0}^{T - 1} \\sum_{i = 0}^{N - 1} x_{d, t, i} & \\\\\\text{{s.t.}} & & & \\\\ & \\text{night\\_shift} & \\displaystyle R_{d + 1, i} \\leq x_{d, T - 1, i} & \\forall d \\in \\left\\{0,\\ldots,D - 1\\right\\} \\forall i \\in \\left\\{0,\\ldots,N - 1\\right\\} \\\\\\text{{where}} & & & \\\\& x & 3\\text{-dim binary variable}\\\\\\end{array}$$"
      ],
      "text/plain": [
       "<jijmodeling.Problem at 0x14aa99600>"
      ]
     },
     "execution_count": 1,
     "metadata": {},
     "output_type": "execute_result"
    }
   ],
   "source": [
    "import jijmodeling as jm\n",
    "\n",
    "D = jm.Placeholder(\"D\", dtype=jm.DataType.INTEGER)\n",
    "T = jm.Placeholder(\"T\", dtype=jm.DataType.INTEGER)\n",
    "N = jm.Placeholder(\"N\", dtype=jm.DataType.INTEGER)\n",
    "H = jm.Placeholder(\"H\", shape=(D, T, N))\n",
    "R = jm.Placeholder(\"R\", shape=(D, N))\n",
    "\n",
    "x = jm.BinaryVar(\"x\", shape=(D, T, N))\n",
    "d = jm.Element(\"d\", belong_to=(0, D))\n",
    "t = jm.Element(\"t\", belong_to=(0, T))\n",
    "i = jm.Element(\"i\", belong_to=(0, N))\n",
    "\n",
    "problem = jm.Problem(name=\"shift_optimization\")\n",
    "problem += jm.Constraint(\"night_shift\", R[d+1, i] <= x[d, T-1, i], forall=[d, i])\n",
    "problem += jm.sum([d, t, i], x[d, t, i])\n",
    "\n",
    "problem"
   ]
  },
  {
   "cell_type": "code",
   "execution_count": 3,
   "metadata": {},
   "outputs": [
    {
     "name": "stdout",
     "output_type": "stream",
     "text": [
      "Traceback (most recent last):\n",
      "    while evaluating Problem `shift_optimization',\n",
      "        defeind at File \"/var/folders/mg/mg6st30d18s7pxjjrk6pkxym0000gn/T/ipykernel_49615/2988517098.py\", line 14, col 11-48\n",
      "    while evaluating constraint: `night_shift',\n",
      "        defeind at File \"/var/folders/mg/mg6st30d18s7pxjjrk6pkxym0000gn/T/ipykernel_49615/2988517098.py\", line 15, col 12-82\n",
      "    while evaluating expression `R[d + 1, i] - x[d, T - 1, i]',\n",
      "        defeind at File \"/var/folders/mg/mg6st30d18s7pxjjrk6pkxym0000gn/T/ipykernel_49615/2988517098.py\", line 15, col 41-66\n",
      "    while evaluating expression `R[d + 1, i]',\n",
      "        defeind at File \"/var/folders/mg/mg6st30d18s7pxjjrk6pkxym0000gn/T/ipykernel_49615/2988517098.py\", line 15, col 41-50\n",
      "\n",
      "File \"/var/folders/mg/mg6st30d18s7pxjjrk6pkxym0000gn/T/ipykernel_49615/2988517098.py\", line 15, col 41-50:\n",
      "\n",
      "    15  |  problem += jm.Constraint(\"night_shift\", R[d+1, i] <= x[d, T-1, i], forall=[d, i])\n",
      "                                                   ^^^^^^^^^\n",
      "\n",
      "IndexError: Index (7, 0) is out of range for shape (7, 5)\n"
     ]
    }
   ],
   "source": [
    "num_days = 7\n",
    "num_times = 3\n",
    "num_people = 5\n",
    "\n",
    "data = problem.generate_random_dataset(\n",
    "    options={\n",
    "        \"D\": {\"value\": num_days},\n",
    "        \"T\": {\"value\": num_times},\n",
    "        \n",
    "        \"N\": {\"value\": num_people},\n",
    "    }\n",
    ")\n",
    "interp = jm.Interpreter(data)\n",
    "\n",
    "try:\n",
    "    interp.eval_problem(problem)\n",
    "except Exception as e:\n",
    "    print(e)"
   ]
  },
  {
   "cell_type": "markdown",
   "metadata": {},
   "source": [
    "The same code generates the following message with Python <3.11, which contains linewise information only:"
   ]
  },
  {
   "cell_type": "raw",
   "metadata": {
    "vscode": {
     "languageId": "raw"
    }
   },
   "source": [
    "Traceback (most recent last):\n",
    "    while evaluating Problem `shift_optimization',\n",
    "        defeind at File \"/var/folders/mg/mg6st30d18s7pxjjrk6pkxym0000gn/T/ipykernel_62580/2988517098.py\", line 14, col 1-49\n",
    "    while evaluating constraint: `night_shift',\n",
    "        defeind at File \"/var/folders/mg/mg6st30d18s7pxjjrk6pkxym0000gn/T/ipykernel_62580/2988517098.py\", line 15, col 1-83\n",
    "    while evaluating expression `R[d + 1, i] - x[d, T - 1, i]',\n",
    "        defeind at File \"/var/folders/mg/mg6st30d18s7pxjjrk6pkxym0000gn/T/ipykernel_62580/2988517098.py\", line 15, col 1-83\n",
    "    while evaluating expression `R[d + 1, i]',\n",
    "        defeind at File \"/var/folders/mg/mg6st30d18s7pxjjrk6pkxym0000gn/T/ipykernel_62580/2988517098.py\", line 15, col 1-83\n",
    "\n",
    "File \"/var/folders/mg/mg6st30d18s7pxjjrk6pkxym0000gn/T/ipykernel_62580/2988517098.py\", line 15, col 1-83:\n",
    "\n",
    "    15  |  problem += jm.Constraint(\"night_shift\", R[d+1, i] <= x[d, T-1, i], forall=[d, i])\n",
    "           ^^^^^^^^^^^^^^^^^^^^^^^^^^^^^^^^^^^^^^^^^^^^^^^^^^^^^^^^^^^^^^^^^^^^^^^^^^^^^^^^^^\n",
    "\n",
    "(more precise source location is available with Python 3.11 and later)\n",
    "\n",
    "\n",
    "IndexError: Index (7, 0) is out of range for shape (7, 5)"
   ]
  },
  {
   "cell_type": "markdown",
   "metadata": {
    "vscode": {
     "languageId": "plaintext"
    }
   },
   "source": [
    "## Other Changes\n",
    "\n",
    "- Now JijModeling provides ABI3 wheels and supports (non-free-threaded) Python 3.13!"
   ]
  }
 ],
 "metadata": {
  "kernelspec": {
   "display_name": ".venv",
   "language": "python",
   "name": "python3"
  },
  "language_info": {
   "codemirror_mode": {
    "name": "ipython",
    "version": 3
   },
   "file_extension": ".py",
   "mimetype": "text/x-python",
   "name": "python",
   "nbconvert_exporter": "python",
   "pygments_lexer": "ipython3",
   "version": "3.12.8"
  }
 },
 "nbformat": 4,
 "nbformat_minor": 2
}
