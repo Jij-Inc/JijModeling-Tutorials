{
 "cells": [
  {
   "cell_type": "markdown",
   "id": "4bb9ca8e-e701-4e76-863a-c39115b5b33e",
   "metadata": {},
   "source": [
    "# Tips\n",
    "\n",
    "## Defining `Element` Along a Set\n",
    "\n",
    "Some users may want to create an index $i \\in \\{0, 1, 2\\}$ using Python's set `Set` as follows:\n",
    "\n",
    "```python\n",
    "import jijmodeling as jm\n",
    "i = jm.Element(\"i\", {0,1,2}) # This code will cause an error\n",
    "```\n",
    "\n",
    "However, the above notation is not supported in `jijmodeling`. In this example, you need to express it as an interval. (Since the interval of `Element` is a half-open interval, you need to write `(0, 3)` to represent $\\{0, 1, 2\\}$)"
   ]
  },
  {
   "cell_type": "code",
   "execution_count": null,
   "id": "ef8dcd2a-1aef-498c-b26f-13248b5169f1",
   "metadata": {},
   "outputs": [],
   "source": [
    "import jijmodeling as jm\n",
    "\n",
    "i = jm.Element(\"i\", (0, 3))"
   ]
  },
  {
   "cell_type": "markdown",
   "id": "2a8eb711-df28-4cc9-823e-2d8e11b2f903",
   "metadata": {},
   "source": [
    "For more complex use cases (such as when the index is not just a continuous integer), consider whether it can be expressed in one of the following two ways:\n",
    "\n",
    "The first option is to create a one-dimensional `Placeholder` representing the set. This option is useful when expressing a set containing discontinuous integers like $E = \\{2, 4, 10, 35, 36\\}$. This allows `Element` to function as if it were using a set. Using this method, an `Element` representing $e \\in E$ can be defined as follows:"
   ]
  },
  {
   "cell_type": "code",
   "execution_count": 25,
   "id": "aa8e6025-f3c6-4def-977c-07c7b2051b4c",
   "metadata": {},
   "outputs": [],
   "source": [
    "E = jm.Placeholder(\"E\", ndim=1)\n",
    "e = jm.Element(\"e\", E)"
   ]
  },
  {
   "cell_type": "markdown",
   "id": "d9fd8e1b-f33e-4dd8-9153-d1e515a8056a",
   "metadata": {},
   "source": [
    "However, note that the specific values within the set do not appear in the mathematical model. You need to specify the actual values of `E` when converting the mathematical model to an instance.\n",
    "\n",
    "Another option is to use conditions that restrict valid values within the range. This option is useful when using a set of integers that follow a rule. For how to apply conditions, refer to [here](../tutorials/expressions.ipynb)."
   ]
  },
  {
   "cell_type": "markdown",
   "id": "95eb11c4-b76a-41b0-8391-ab3141dd3d43",
   "metadata": {},
   "source": [
    "## Handling Conditional `Element`\n",
    "\n",
    "Often, the index of a sum in a mathematical model is conditional. For example, conditions like $i \\neq j$. These conditions are specified when defining the sum or constraint, not when creating the index. In `jijmodeling`, you can define a conditional index for `sum` as a tuple `(<element>, <condition>)` in the first argument. In this case, `<element>` is used as the index, and `<condition>` is set as the condition, and only those that satisfy `<condition>` are summed.\n",
    "\n",
    "For example, consider the sum of $x_i$ for even $i$. In `jijmodeling`, it can be defined as follows:"
   ]
  },
  {
   "cell_type": "code",
   "execution_count": null,
   "id": "e973ef97-c3a4-4715-b5d6-20cfe14e78c6",
   "metadata": {},
   "outputs": [],
   "source": [
    "import jijmodeling as jm\n",
    "\n",
    "i = jm.Element(\"i\", (0, 100))\n",
    "x = jm.BinaryVar(\"x\", shape=(100,))\n",
    "\n",
    "sum_over_even_is = jm.sum((i, i % 2 == 0), x[i])"
   ]
  },
  {
   "cell_type": "markdown",
   "id": "89c28142-20c3-4b4b-9539-c984b0bf48a4",
   "metadata": {},
   "source": [
    "It is also possible to compare with other `Element` used in the same sum. Additionally, the first argument of `sum` can be input in the form of `[[index 1, condition of index 1), (index 2, condition of index 2), ...]]`. Note that `condition of index 1` cannot use `index 2`, so be careful about the order of indices and conditions. As a specific example, the following shows a sum for two indices $i, j$ where $i \\neq j$ in `jijmodeling`."
   ]
  },
  {
   "cell_type": "code",
   "execution_count": 27,
   "id": "b44d2ba3-8d7c-4dd5-97d7-382fce2cb6f5",
   "metadata": {},
   "outputs": [
    {
     "data": {
      "text/latex": [
       "$$\\displaystyle \\sum_{i = 0}^{99} \\sum_{\\substack{j = 0\\\\j \\neq i}}^{99} x_{i, j}$$"
      ],
      "text/plain": [
       "sum(Element(name='i', belong_to=(NumberLit(value=0), NumberLit(value=100))), sum(Element(name='j', belong_to=(NumberLit(value=0), NumberLit(value=100))), Element(name='j', belong_to=(NumberLit(value=0), NumberLit(value=100))) != Element(name='i', belong_to=(NumberLit(value=0), NumberLit(value=100))), BinaryVar(name='x', shape=[NumberLit(value=100), NumberLit(value=100)])[Element(name='i', belong_to=(NumberLit(value=0), NumberLit(value=100))), Element(name='j', belong_to=(NumberLit(value=0), NumberLit(value=100)))]))"
      ]
     },
     "execution_count": 27,
     "metadata": {},
     "output_type": "execute_result"
    }
   ],
   "source": [
    "import jijmodeling as jm\n",
    "\n",
    "i = jm.Element(\"i\", (0, 100))\n",
    "j = jm.Element(\"j\", (0, 100))\n",
    "x = jm.BinaryVar(\"x\", shape=(100, 100))\n",
    "\n",
    "jm.sum([i, (j, j!= i)], x[i, j])"
   ]
  },
  {
   "cell_type": "markdown",
   "id": "d7f6000c-b47f-479b-b3f1-050376d14f4e",
   "metadata": {},
   "source": [
    "Similarly, the tuple notation can also be used in the `forall` argument of `Constraint`."
   ]
  },
  {
   "cell_type": "code",
   "execution_count": 28,
   "id": "69cec7eb-4966-410a-9596-3b5dcbff7858",
   "metadata": {},
   "outputs": [
    {
     "data": {
      "text/latex": [
       "\\begin{array}{cccc}\n",
       " & \\text{c1} & \\displaystyle x_{i, j} - x_{j, i} \\geq 0 & \\forall i \\in \\left\\{0,\\ldots,99\\right\\} \\forall j \\in \\left\\{j \\in \\left\\{0,\\ldots,99\\right\\} \\mid j \\neq i \\right\\} \\\\\n",
       "\\end{array}"
      ],
      "text/plain": [
       "Constraint(name=\"c1\", expression=x[i, j] - x[j, i] >= 0, forall=[i, (j, j != i)])"
      ]
     },
     "execution_count": 28,
     "metadata": {},
     "output_type": "execute_result"
    }
   ],
   "source": [
    "jm.Constraint(\"c1\", x[i, j] - x[j, i] >= 0, forall=[i, (j, j != i)])"
   ]
  },
  {
   "cell_type": "markdown",
   "id": "8c0835d5-93d7-4aec-ac2d-95882d4f6e66",
   "metadata": {},
   "source": [
    "Additionally, logical operations can be applied to indices, not just comparison operations. Here, logical operations refer to logical AND `&`, logical OR `|`, and exclusive OR `^`."
   ]
  },
  {
   "cell_type": "code",
   "execution_count": 29,
   "id": "5bf07854-be0d-42f1-b7b8-b3af40fc7fae",
   "metadata": {},
   "outputs": [
    {
     "data": {
      "text/latex": [
       "$$\\displaystyle \\sum_{\\substack{i = 0\\\\\\left(i \\bmod 2\\right) = 0 \\lor \\left(i \\bmod 5\\right) = 0}}^{99} x_{i, 0}$$"
      ],
      "text/plain": [
       "sum(Element(name='i', belong_to=(NumberLit(value=0), NumberLit(value=100))), (Element(name='i', belong_to=(NumberLit(value=0), NumberLit(value=100))) % NumberLit(value=2)) == NumberLit(value=0) | (Element(name='i', belong_to=(NumberLit(value=0), NumberLit(value=100))) % NumberLit(value=5)) == NumberLit(value=0), BinaryVar(name='x', shape=[NumberLit(value=100), NumberLit(value=100)])[Element(name='i', belong_to=(NumberLit(value=0), NumberLit(value=100))), NumberLit(value=0)])"
      ]
     },
     "execution_count": 29,
     "metadata": {},
     "output_type": "execute_result"
    }
   ],
   "source": [
    "jm.sum((i, (i % 2 == 0) | (i % 5 == 0)), x[i, 0])"
   ]
  },
  {
   "cell_type": "markdown",
   "id": "3d4425ad-e852-4841-94af-7ae601832d91",
   "metadata": {},
   "source": [
    "## Handling Constraints Bounded by Inequalities on Both Sides\n",
    "\n",
    "In mathematical optimization, there are cases where you want to handle constraints bounded by inequalities on both sides, such as $l \\leq x + y \\leq u$. These constraints are not directly supported in `jijmodeling`, and attempting to implement them as is will result in an exception `Converting <class> to boolean is unsupported`.\n",
    "\n",
    "Therefore, in `jijmodeling`, you need to split such constraints into two and describe each as a single inequality."
   ]
  },
  {
   "cell_type": "code",
   "execution_count": 30,
   "id": "58bf9c54-481e-4939-988a-3f200a89a6b0",
   "metadata": {},
   "outputs": [
    {
     "data": {
      "text/latex": [
       "$$\\begin{array}{cccc}\\text{Problem:} & \\text{problem} & & \\\\& & \\min \\quad \\displaystyle 0 & \\\\\\text{{s.t.}} & & & \\\\ & \\text{greater than l} & \\displaystyle l \\leq x + y &  \\\\ & \\text{less than u} & \\displaystyle x + y \\leq u &  \\\\\\text{{where}} & & & \\\\& x & 0\\text{-dim integer variable}\\\\ & & \\text{lower bound: }0 & \\\\ & & \\text{upper bound: }10 & \\\\& y & 0\\text{-dim integer variable}\\\\ & & \\text{lower bound: }5 & \\\\ & & \\text{upper bound: }20 & \\\\\\end{array}$$"
      ],
      "text/plain": [
       "<jijmodeling.Problem at 0x111050e40>"
      ]
     },
     "execution_count": 30,
     "metadata": {},
     "output_type": "execute_result"
    }
   ],
   "source": [
    "import jijmodeling as jm\n",
    "\n",
    "l, u = jm.Placeholder(\"l\"), jm.Placeholder(\"u\")\n",
    "x = jm.IntegerVar(\"x\", lower_bound=0, upper_bound=10)\n",
    "y = jm.IntegerVar(\"y\", lower_bound=5, upper_bound=20)\n",
    "\n",
    "problem = jm.Problem(\"problem\")\n",
    "problem += jm.Constraint(\"greater than l\", l <= x + y)\n",
    "problem += jm.Constraint(\"less than u\", x + y <= u)\n",
    "problem"
   ]
  },
  {
   "cell_type": "markdown",
   "id": "abadb7d3-9a6c-48b4-9fd0-f2e9460326c4",
   "metadata": {},
   "source": [
    "## Using Dependent Variables\n",
    "\n",
    "Suppose you want to write a constraint like the following in `jijmodeling`:\n",
    "\n",
    "$$\n",
    "\\begin{array}{cccc} & \\text{constraint:} &\n",
    "\\displaystyle y_{i} \\leq c & \\forall i \\in \\left\\{0,\\ldots,N - 1\\right\\} \\\\\n",
    "\\end{array}\\quad\n",
    "\\text{where}\\quad y_{i} = a_{i} x_{i} + b\n",
    "$$\n",
    "\n",
    "This constraint has $y_i$ as a dependent variable. In `jijmodeling`, it is not difficult to write such dependent variables. Additionally, if necessary, you can display it as $y_i$ in LaTeX using `set_latex`."
   ]
  },
  {
   "cell_type": "code",
   "execution_count": 31,
   "id": "27f6a0db-8109-46b0-8179-0ffe11f22041",
   "metadata": {},
   "outputs": [
    {
     "data": {
      "text/latex": [
       "\\begin{array}{cccc}\n",
       " & \\text{constraint} & \\displaystyle y_i \\leq c & \\forall i \\in \\left\\{0,\\ldots,N - 1\\right\\} \\\\\n",
       "\\end{array}"
      ],
      "text/plain": [
       "Constraint(name=\"constraint\", expression=a[i] * x[i] + b <= c, forall=[i])"
      ]
     },
     "execution_count": 31,
     "metadata": {},
     "output_type": "execute_result"
    }
   ],
   "source": [
    "import jijmodeling as jm\n",
    "\n",
    "a = jm.Placeholder(\"a\", ndim=1)\n",
    "b = jm.Placeholder(\"b\")\n",
    "N = a.len_at(0, latex=\"N\")\n",
    "x = jm.BinaryVar(\"x\", shape=(N,))\n",
    "i = jm.Element(\"i\", belong_to=N)\n",
    "c = jm.Placeholder(\"c\")\n",
    "\n",
    "y = a[i] * x[i] + b\n",
    "y.set_latex(\"y_i\")\n",
    "jm.Constraint(\"constraint\", y <= c, forall=i)"
   ]
  },
  {
   "cell_type": "markdown",
   "id": "1ddc8b18-a4f3-4f0b-be61-9214708a59df",
   "metadata": {},
   "source": [
    "However, the above code lacks flexibility. This is because $y$ is explicitly defined using the index $i$, and it cannot be reused if a similar expression is used in other parts of the mathematical model. To ensure this flexibility, it is better to use Python functions or `lambda` expressions."
   ]
  },
  {
   "cell_type": "code",
   "execution_count": 32,
   "id": "65499f90-4661-4c61-998e-9a31bf51d0f4",
   "metadata": {},
   "outputs": [
    {
     "data": {
      "text/latex": [
       "\\begin{array}{cccc}\n",
       " & \\text{constraint} & \\displaystyle y_{e.name} \\leq c & \\forall i \\in \\left\\{0,\\ldots,N - 1\\right\\} \\\\\n",
       "\\end{array}"
      ],
      "text/plain": [
       "Constraint(name=\"constraint\", expression=a[i] * x[i] + b <= c, forall=[i])"
      ]
     },
     "execution_count": 32,
     "metadata": {},
     "output_type": "execute_result"
    }
   ],
   "source": [
    "y = lambda e: a[e] * x[e] + b\n",
    "jm.Constraint(\"constraint\", y(i) <= c, forall=i)\n",
    "\n",
    "def y(e: jm.Element):\n",
    "  y = a[e] * x[e] + b\n",
    "  y.set_latex(\"y_{e.name}\")\n",
    "  return y\n",
    "jm.Constraint(\"constraint\", y(i) <= c, forall=i)"
   ]
  },
  {
   "cell_type": "markdown",
   "id": "bcaff435-052f-4bd2-9021-2f73a393f295",
   "metadata": {},
   "source": [
    "## Handling Multi-dimensional Variables with Different Lower and Upper Bounds\n",
    "\n",
    "When defining multi-dimensional decision variables, you usually specify `lower_bound` and `upper_bound` as scalar values. In this case, all decision variables are set with the same lower and upper bounds."
   ]
  },
  {
   "cell_type": "code",
   "execution_count": 33,
   "id": "d76ee44e-ccfe-48c3-8121-b29d26e57e67",
   "metadata": {},
   "outputs": [],
   "source": [
    "N = jm.Placeholder(\"N\")\n",
    "M = jm.Placeholder(\"M\")\n",
    "x = jm.IntegerVar(\"x\", shape=(N, M), lower_bound=0, upper_bound=5)"
   ]
  },
  {
   "cell_type": "markdown",
   "id": "0bd13a3a-601e-4824-b1f0-6b2661255486",
   "metadata": {},
   "source": [
    "In the above code, `N * M` integer variables `x` are defined with a lower bound of 0 and an upper bound of 5. So, what if you want to define them with different lower and upper bounds?\n",
    "\n",
    "One way to solve this problem is to specify `lower_bound` and `upper_bound` with `Placeholder`. For a 0-dimensional `Placeholder`, this works the same as when you provide a normal numeric literal. On the other hand, you can also use a `Placeholder` with the same dimensions as the decision variables, and specify the lower and upper bounds for each variable with that `Placeholder`.\n",
    "\n",
    "Below is an example of setting the upper bound of the variable $x_{i,j}$ individually to $ub_{i,j}$."
   ]
  },
  {
   "cell_type": "code",
   "execution_count": 39,
   "id": "8f3dcb86-7baa-4cea-b3ac-95275605f59c",
   "metadata": {},
   "outputs": [],
   "source": [
    "import jijmodeling as jm\n",
    "\n",
    "ub = jm.Placeholder(\"ub\", ndim=2)\n",
    "N = ub.len_at(0, latex=\"N\")\n",
    "M = ub.len_at(1, latex=\"M\")\n",
    "# Define integer variable x with lower bound 0 and upper bound ub\n",
    "x = jm.IntegerVar(\"x\", shape=(N,M), lower_bound=0, upper_bound=ub)"
   ]
  },
  {
   "cell_type": "markdown",
   "id": "df2c47ef-26d4-4df9-aeac-a5d587af2088",
   "metadata": {},
   "source": [
    "Note that the dimensions and shapes of the decision variables and `Placeholder` must match. Also, make sure that all decision variables have valid lower and upper bounds. In the above code, `N` and `M` are defined based on `ub`, so it is guaranteed that their shapes match.\n",
    "\n",
    "Additionally, if you want to use the transpose of `Placeholder` or specify other axes as the lower and upper bounds for some reason, you can use a special syntax with `Element`. For example, if you want to set the upper bound of the variable $x_{i,j}$ to the value of $ub_{j,i}$ by reversing the indices, you can do this by defining an `Element` that matches the axes and specifying the upper bound as `ub[j, i]` as follows:"
   ]
  },
  {
   "cell_type": "code",
   "execution_count": 35,
   "id": "d184be21-dfc9-435b-bc56-2db8ed2f4825",
   "metadata": {},
   "outputs": [],
   "source": [
    "ub = jm.Placeholder(\"ub\", ndim=2)\n",
    "N = ub.len_at(0, latex=\"N\")\n",
    "M = ub.len_at(1, latex=\"M\")\n",
    "i = jm.Element(\"i\", N)\n",
    "j = jm.Element(\"j\", M)\n",
    "x = jm.IntegerVar(\"x\", shape=(N, M), lower_bound=0, upper_bound=ub[j, i])"
   ]
  },
  {
   "cell_type": "markdown",
   "id": "cd412799-7e6b-4a7e-89c8-8ffa3fed18e8",
   "metadata": {},
   "source": [
    "As mentioned earlier, make sure that all variables have valid lower and upper bounds. Additionally, note that the above code only makes sense when `N` and `M` are equal. Also, note that this syntax cannot be used in sums and constraints."
   ]
  },
  {
   "cell_type": "markdown",
   "id": "f150d2cc-7922-4617-a560-435dc32b2385",
   "metadata": {},
   "source": [
    "## Handling Sums for Indices of Different Sizes\n",
    "\n",
    "In this tip, we will explain methods related to multi-dimensional `Element` and indexing, which may seem a bit niche.\n",
    "\n",
    "Suppose you have a 2-dimensional decision variable $x$ and want to write a constraint like the following:\n",
    "\n",
    "$$\n",
    "\\sum_{a \\in A_{n}} x_{n, a} = 0,\\quad \\forall n \\in \\{0,..., N-1\\}\n",
    "$$\n",
    "\n",
    "Here, $A$ is a 2-dimensional \"irregular array\" with $N$ rows. Therefore, you can interpret $A$ as a \"list of lists\" and use each list as an index.\n",
    "\n",
    "To clarify what this constraint means, let's consider an example with $A = [[1, 2, 3], [0, 1, 4, 5], [2, 3, 5]]$. Specifically, the constraint can be written as follows:\n",
    "\n",
    "$$\n",
    "\\sum_{a \\in \\{ 1, 2, 3 \\}} x_{0, a} = 0 \\ \\land \\ \\sum_{a \\in \\{ 0, 1, 4, 5 \\}} x_{1, a} = 0 \\ \\land \\ \\sum_{a \\in \\{ 2, 3, 5 \\}} x_{2, a} = 0\n",
    "$$\n",
    "\n",
    "In `jijmodeling`, you can write this constraint as follows:"
   ]
  },
  {
   "cell_type": "code",
   "execution_count": 40,
   "id": "7d89ced2-4ffc-4da1-9846-d7e78b1825c6",
   "metadata": {},
   "outputs": [
    {
     "data": {
      "text/latex": [
       "\\begin{array}{cccc}\n",
       " & \\text{constraint} & \\displaystyle \\sum_{a \\in A_{n}} x_{n, a} = 0 & \\forall n \\in \\left\\{0,\\ldots,N - 1\\right\\} \\\\\n",
       "\\end{array}"
      ],
      "text/plain": [
       "Constraint(name=\"constraint\", expression=sum(a in A[n], x[n, a]) == 0, forall=[n])"
      ]
     },
     "execution_count": 40,
     "metadata": {},
     "output_type": "execute_result"
    }
   ],
   "source": [
    "import jijmodeling as jm\n",
    "\n",
    "A = jm.Placeholder(\"A\", ndim=2)\n",
    "N = A.len_at(0, latex=\"N\")\n",
    "n = jm.Element(\"n\", N) # Number of rows in the \"irregular\" array\n",
    "a = jm.Element(\"a\", A[n]) # Index for each row\n",
    "x = jm.BinaryVar(\"x\", shape=(3,6))\n",
    "\n",
    "jm.Constraint(\"constraint\", jm.sum(a, x[n, a]) == 0, forall=n)"
   ]
  },
  {
   "cell_type": "markdown",
   "id": "16336462-6936-43a8-9c14-55d5b4873ca1",
   "metadata": {},
   "source": [
    "In the above example, we defined the shape of `x` with specific numbers. In an actual mathematical model, it is recommended to define the shape as a `Placeholder` or related to other parameters to avoid index errors. To correctly define such constraints, it is better to define enough decision variables `x`. Specifically, you can replace `(3, 6)` in the above code with `(number of rows in A, maximum number of columns in A)`. However, there is a problem that the `maximum number of columns in A` is unknown at the stage of constructing the mathematical model. Therefore, it is better to define an additional `Placeholder` and make it possible to specify it as instance data."
   ]
  },
  {
   "cell_type": "code",
   "execution_count": 41,
   "id": "87e1d812-e9b1-4ee5-bd89-5a3a070944ff",
   "metadata": {},
   "outputs": [],
   "source": [
    "# Define a Placeholder that means `maximum number of columns in A`\n",
    "max_A = jm.Placeholder(\"max_A\") \n",
    "x = jm.BinaryVar(\"x\", shape=(N, max_A + 1))\n",
    "\n",
    "problem = jm.Problem(\"problem\")\n",
    "problem += jm.Constraint(\"constraint\", jm.sum(a, x[n, a]) == 0, forall=n)"
   ]
  },
  {
   "cell_type": "markdown",
   "id": "4c3a952a-d1c4-47b7-98df-0d843c9bf6a7",
   "metadata": {},
   "source": [
    "It is recommended to construct instance data for use with `jijmodeling_transpiler` or JijZept as follows."
   ]
  },
  {
   "cell_type": "code",
   "execution_count": 42,
   "id": "0909b661-c3f5-4e60-b9b9-1b3acf65581a",
   "metadata": {},
   "outputs": [],
   "source": [
    "# Create an \"irregular\" array\n",
    "data_A = [\n",
    "    [1, 2, 3],\n",
    "    [0, 1, 4, 5],\n",
    "    [2, 3, 5],\n",
    "    # ...\n",
    "]\n",
    "# Get the maximum number of columns in the \"irregular\" array\n",
    "data_max_A = max(max(An) for An in data_A)\n",
    "\n",
    "instance_data = {\n",
    "    \"A\": data_A,\n",
    "    \"max_An\": data_max_A,\n",
    "}"
   ]
  }
 ],
 "metadata": {
  "kernelspec": {
   "display_name": "Python 3 (ipykernel)",
   "language": "python",
   "name": "python3"
  },
  "language_info": {
   "codemirror_mode": {
    "name": "ipython",
    "version": 3
   },
   "file_extension": ".py",
   "mimetype": "text/x-python",
   "name": "python",
   "nbconvert_exporter": "python",
   "pygments_lexer": "ipython3",
   "version": "3.9.18"
  }
 },
 "nbformat": 4,
 "nbformat_minor": 5
}
