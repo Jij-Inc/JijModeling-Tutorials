{
 "cells": [
  {
   "cell_type": "markdown",
   "id": "a2261f59-bb99-4459-a176-d28e8cf95ebc",
   "metadata": {},
   "source": [
    "# Formulating Models\n",
    "\n",
    "## What is a model? Why not use solvers directly?\n",
    "\n",
    "![Why not use solvers directly?](./assets/creating_models_01.png)\n",
    "\n",
    "`jijmodeling` is a modeler library that converts mathematical models readable by humans into data formats readable by computers. There are several types of optimization problems, and solvers specific to those problems only accept solver-specific data formats. Therefore, it is necessary to convert mathematical models into solver-specific data formats. By using `jijmodeling`, you can describe mathematical models in a single mathematical way and then adapt them to solver- or instance-specific details."
   ]
  },
  {
   "cell_type": "markdown",
   "id": "e11414fe-6780-4fbe-b3ec-77757c9801c3",
   "metadata": {},
   "source": [
    "## Example of a Mathematical Model\n",
    "\n",
    "Here we consider a simple binary linear minimization problem with $N$ real coefficients $d_n$.\n",
    "\n",
    "$$\n",
    "\\min \\sum_{n=0}^{N−1}d_n x_n, \\\\\n",
    "\\text{s.t.} \\space \\sum_{n=0}^{N-1} x_n = 1, \\\\\n",
    "\\text{where} \\space x_n \\in \\{0,1\\} \\space \\forall n \\in [0, N-1]\n",
    "$$\n",
    "\n",
    "This problem is a good example to learn the basic usage of `jijmodeling`. Specifically, you can learn:\n",
    "\n",
    "- Define decision variables $x_n$ and placeholders $N$ and $d_n$\n",
    "- Set the minimization of $\\sum_{n=0}^{N-1} d_n x_n$ as the objective function\n",
    "- Set the equality constraint $\\sum_{n=0}^{N-1} x_n = 1$\n",
    "\n",
    "For more practical and comprehensive examples, please refer to the [Learn](https://www.documentation.jijzept.com/docs/category/learn) section of the JijZept documentation site."
   ]
  },
  {
   "cell_type": "markdown",
   "id": "a6adedec-f3a5-489a-9ea0-75034ee26ba9",
   "metadata": {},
   "source": [
    "## Creating a `Problem` Object\n",
    "\n",
    "Let's actually use `jijmodeling`. First, we need to import it."
   ]
  },
  {
   "cell_type": "code",
   "execution_count": 1,
   "id": "87018bf3-c292-406d-8c35-b2af119ce214",
   "metadata": {},
   "outputs": [
    {
     "data": {
      "text/plain": [
       "'1.10.0'"
      ]
     },
     "execution_count": 1,
     "metadata": {},
     "output_type": "execute_result"
    }
   ],
   "source": [
    "import jijmodeling as jm\n",
    "jm.__version__   # 1.8.0"
   ]
  },
  {
   "cell_type": "markdown",
   "id": "6e0dbf78-5e3d-4bff-9781-f979a60dcad1",
   "metadata": {},
   "source": [
    ":::{caution}\n",
    "Before running the following code, it is strongly recommended to ensure that the version of `jijmodeling` in your environment matches this document.\n",
    ":::\n",
    "\n",
    "Now, let's build a mathematical model using `jijmodeling`."
   ]
  },
  {
   "cell_type": "code",
   "execution_count": 2,
   "id": "64448e12-b170-4e56-ae92-58c35386c900",
   "metadata": {},
   "outputs": [
    {
     "data": {
      "text/latex": [
       "$$\\begin{array}{cccc}\\text{Problem:} & \\text{my\\_first\\_problem} & & \\\\& & \\min \\quad \\displaystyle \\sum_{n = 0}^{N - 1} d_{n} \\cdot x_{n} & \\\\\\text{{s.t.}} & & & \\\\ & \\text{onehot} & \\displaystyle \\sum_{n = 0}^{N - 1} x_{n} = 1 &  \\\\\\text{{where}} & & & \\\\& x & 1\\text{-dim binary variable}\\\\\\end{array}$$"
      ],
      "text/plain": [
       "<jijmodeling.Problem at 0x126eb3fe0>"
      ]
     },
     "execution_count": 2,
     "metadata": {},
     "output_type": "execute_result"
    }
   ],
   "source": [
    "# Define the 'parameters'\n",
    "d = jm.Placeholder(\"d\", ndim=1)\n",
    "N = d.len_at(0, latex=\"N\")\n",
    "\n",
    "# Define the 'decision variables'\n",
    "x = jm.BinaryVar(\"x\", shape=(N,))\n",
    "\n",
    "# Prepare the index for summation\n",
    "n = jm.Element('n', belong_to=(0, N))\n",
    "\n",
    "# Create an object to manage the mathematical model\n",
    "problem = jm.Problem('my_first_problem')\n",
    "# Set the objective function\n",
    "problem += jm.sum(n, d[n] * x[n])\n",
    "# Set the constraint\n",
    "problem += jm.Constraint(\"onehot\", jm.sum(n, x[n]) == 1)\n",
    "\n",
    "# Display the mathematical model\n",
    "problem"
   ]
  },
  {
   "cell_type": "markdown",
   "id": "0336992b-b861-4449-8b27-670cc23efbb8",
   "metadata": {},
   "source": [
    "Did you understand which part of the code corresponds to the above mathematical model? In this page, we will explain the content and operations of each part of the code in more detail.\n",
    "\n",
    ":::{admonition} [Jupyter](https://jupyter.org/) Environment\n",
    ":class: note\n",
    "\n",
    "In environments like Jupyter Notebook, you can display the contents of the `Problem` object as shown in the image below. This allows you to interactively debug the model.\n",
    "\n",
    "![Jupyter example](./assets/creating_models_02.png)\n",
    "\n",
    ":::"
   ]
  },
  {
   "cell_type": "markdown",
   "id": "c343e3ef-d1a2-458e-bfb3-5442ed66be7e",
   "metadata": {},
   "source": [
    "## Decision Variables and Parameters\n",
    "\n",
    "The above mathematical model has two types of 'variables': 'decision variables' and 'parameters'. In `jijmodeling`, these are identified by the class used to declare the 'variables'.\n",
    "\n",
    "![Decision variables and Parameters](./assets/creating_models_03.png) <!-- https://docs.google.com/drawings/d/1MZwFljVOV0XZpTB_vYpOtd7_2jqn3xM3Wx1IAwB55EM/edit?usp=sharing -->\n",
    "\n",
    "- The value of $x_n$ is determined by solving the problem, so it is called a 'decision variable'.\n",
    "    - In this problem, the binary variable $x_n \\in \\{0, 1\\}$ is declared with `BinaryVar`. Other classes that can define decision variables include `IntegerVar` and `ContinuousVar`.\n",
    "    - For more detailed explanations, refer to [Types of Decision Variables](./types_and_bounds.ipynb).\n",
    "- The values of $N$ and $d$ are 'parameters' specified by the user.\n",
    "    - This problem is parameterized by $N$ and $d$.\n",
    "    - The actual values of the 'parameters' are not specified within the `Problem` object.\n",
    "    - 'Parameters' can be considered as containers for the 'instance data' of the problem. Specific instances have different values, but `jijmodeling` can describe mathematical models in a way that does not depend on specific values.\n",
    "    - Most 'parameters' are represented by explicitly defined `Placeholder` objects like `d` in the code above.\n",
    "    - $N$ is defined as the number of elements of $d$, and $N$ is treated as an 'implicit parameter'. This clarifies the meaning of $N$ in the mathematical model, and you only need to specify $d$ to generate an instance.\n",
    "\n",
    "\n",
    ":::{admonition} What is an Object?\n",
    ":class: tip\n",
    "\n",
    "In Python, every value has a type. For example, `1` is of type `int`, and `1.0` is of type `float`. You can get the type using the built-in function `type`, like `type(1.0)`. For a type `A`, a value of type `A` is called an `A` object.\n",
    "\n",
    ":::"
   ]
  },
  {
   "cell_type": "markdown",
   "id": "f296e18f-4ef9-4090-abd3-f08ca3794949",
   "metadata": {},
   "source": [
    "### Multidimensional Variables\n",
    "\n",
    "You can define variables that can use indices like arrays or matrices.\n",
    "In the above mathematical model, we want to define $N$ coefficients $d_n$ and $N$ decision variables $x_n$, so let's define a 1-dimensional `Placeholder` object `d` and a 1-dimensional `BinaryVar` object `x`. For `Placeholder`, it is sufficient to specify that it is 1-dimensional without specifying the number of values. On the other hand, for decision variables, you need to specify the number of dimensions and their length. However, in `jijmodeling`, you can define the length as a 'parameter', so you can write it as follows without using numbers."
   ]
  },
  {
   "cell_type": "code",
   "execution_count": 3,
   "id": "34521b8a",
   "metadata": {},
   "outputs": [],
   "source": [
    "# Define the coefficients d\n",
    "d = jm.Placeholder(\"d\", ndim=1)\n",
    "# Define N as the length of $d$\n",
    "N = d.len_at(0, latex=\"N\")\n",
    "# Define the decision variables $x$ using $N$\n",
    "x = jm.BinaryVar(\"x\", shape=(N,))"
   ]
  },
  {
   "cell_type": "markdown",
   "id": "1f481d27",
   "metadata": {},
   "source": [
    "`N` is of type `ArrayLength` and represents the number of elements of the `Placeholder` object `d`. The `0` given as the first argument of `len_at` means to count the number of elements in the 0th dimension, which is necessary because `Placeholder` can have any number of dimensions.\n",
    "\n",
    ":::{note} \n",
    "Summation and indices will be explained in more detail on the [next page](./expressions.ipynb). \n",
    ":::"
   ]
  },
  {
   "cell_type": "markdown",
   "id": "d4275d0b-a1b9-450b-b9f8-76c123cb6edc",
   "metadata": {},
   "source": [
    "## Objective Function\n",
    "Next, let's set $\\sum_{n=0}^{N-1} d_n x_n$ as the objective function to minimize in the `Problem` object. However, since $N$ is not fixed at the stage of constructing the `Problem` object, we cannot write a Python `for` loop. So, how should we perform the summation?\n",
    "\n",
    "To solve this question, `jijmodeling` has a dedicated `sum` function."
   ]
  },
  {
   "cell_type": "code",
   "execution_count": 4,
   "id": "4618a778-14f8-4f9e-808f-b6df2795f49f",
   "metadata": {},
   "outputs": [],
   "source": [
    "n = jm.Element('n', belong_to=(0, N))\n",
    "sum_dx = jm.sum(n, d[n] * x[n])"
   ]
  },
  {
   "cell_type": "markdown",
   "id": "d2e6f987-3c3d-4940-b982-2b14e1f33541",
   "metadata": {},
   "source": [
    "`Element` is a new type of variable corresponding to an index within a certain range. Consider the following case:\n",
    "\n",
    "> Given $n \\in [0, N-1]$, take the $n$-th element $d_n$ of $d \\in \\mathbb{R}^N$\n",
    "\n",
    "In `jijmodeling`, you can represent $d_n$ as `d[n]` using the `Element` object `n` corresponding to $n \\in [0, N-1]` and the `Placeholder` object `d` corresponding to $d$. Note that the `Element` object has a valid range specified.\n",
    "Then, to represent the summation $\\sum_{n} d_n x_n$, use the dedicated `sum` function of `jijmodeling`. Specify the `Element` object `n` representing the range to sum over as the first argument, and the expression to sum `d[n] * x[n]` as the second argument. This defines the expression `sum_dx` representing $\\sum_{n} d_n x_n$.\n",
    "\n",
    ":::{note}\n",
    "Expressions will be explained in more detail on the [next page](./expressions.ipynb).\n",
    ":::\n",
    "\n",
    "Then, you can create a `Problem` instance and add `sum_dx` to set $\\sum_n d_n x_n$ as the objective function as follows."
   ]
  },
  {
   "cell_type": "code",
   "execution_count": 5,
   "id": "690932b1-2f07-440c-9e64-a4e5ae9c7339",
   "metadata": {},
   "outputs": [],
   "source": [
    "problem = jm.Problem('my_first_problem')\n",
    "problem += sum_dx"
   ]
  },
  {
   "cell_type": "markdown",
   "id": "f38c7757-dc1f-43ee-a866-009355c7c44b",
   "metadata": {},
   "source": [
    "`Problem` objects are minimization problems by default. If you want to maximize the objective function, specify the `sense` argument when constructing the `Problem` as follows."
   ]
  },
  {
   "cell_type": "code",
   "execution_count": 6,
   "id": "1aaaf233-e038-4f37-a03c-c02f25d7e971",
   "metadata": {},
   "outputs": [],
   "source": [
    "problem = jm.Problem('my_first_problem', sense=jm.ProblemSense.MAXIMIZE)"
   ]
  },
  {
   "cell_type": "markdown",
   "id": "29940aac-e039-40c8-925d-e86f7b731e7b",
   "metadata": {},
   "source": [
    "## Equality Constraints\n",
    "\n",
    "Finally, let's create a `Constraint` object corresponding to the equality constraint.\n",
    "\n",
    "$$\n",
    "\\sum_{n=0}^{N-1} x_n = 1\n",
    "$$\n",
    "\n",
    "Using the `sum` function explained above, you can write this constraint as follows."
   ]
  },
  {
   "cell_type": "code",
   "execution_count": 7,
   "id": "39edb10b-8be1-429f-903a-da68446ab074",
   "metadata": {},
   "outputs": [
    {
     "data": {
      "text/latex": [
       "$$\\displaystyle \\sum_{n = 0}^{N - 1} x_{n} = 1$$"
      ],
      "text/plain": [
       "sum(Element(name='n', belong_to=(NumberLit(value=0), ArrayLength(array=Placeholder(name='d', ndim=1), axis=0, latex='N'))), BinaryVar(name='x', shape=[ArrayLength(array=Placeholder(name='d', ndim=1), axis=0, latex='N')])[Element(name='n', belong_to=(NumberLit(value=0), ArrayLength(array=Placeholder(name='d', ndim=1), axis=0, latex='N')))]) == NumberLit(value=1)"
      ]
     },
     "execution_count": 7,
     "metadata": {},
     "output_type": "execute_result"
    }
   ],
   "source": [
    "jm.sum(n, x[n]) == 1"
   ]
  },
  {
   "cell_type": "markdown",
   "id": "c7235ef8-8a17-4fc0-895d-29225bf58989",
   "metadata": {},
   "source": [
    "Note that `==` in `jijmodeling` expressions returns a new `jijmodeling` expression, unlike regular Python. Also, `Constraint` objects require the name of the constraint as the first argument and the comparison expression as the second argument. (In `jijmodeling`, you can use `==`, `<=`, and `>=` as comparison expressions)\n",
    "By adding the constructed `Constraint` object to the `Problem` object, you can add constraints to the mathematical model."
   ]
  },
  {
   "cell_type": "code",
   "execution_count": 8,
   "id": "b7432ad5-6d38-498b-b31e-f48f16ff598b",
   "metadata": {},
   "outputs": [],
   "source": [
    "problem += jm.Constraint(\"onehot\", jm.sum(n, x[n]) == 1)"
   ]
  },
  {
   "cell_type": "markdown",
   "id": "5277cb70-615a-4027-a2fc-817af2877dd8",
   "metadata": {},
   "source": [
    ":::{note}\n",
    "Constraints and penalties will be explained in more detail on the [next page](./constraint_and_penalty.ipynb).\n",
    ":::"
   ]
  }
 ],
 "metadata": {
  "kernelspec": {
   "display_name": ".venv",
   "language": "python",
   "name": "python3"
  },
  "language_info": {
   "codemirror_mode": {
    "name": "ipython",
    "version": 3
   },
   "file_extension": ".py",
   "mimetype": "text/x-python",
   "name": "python",
   "nbconvert_exporter": "python",
   "pygments_lexer": "ipython3",
   "version": "3.11.4"
  }
 },
 "nbformat": 4,
 "nbformat_minor": 5
}
