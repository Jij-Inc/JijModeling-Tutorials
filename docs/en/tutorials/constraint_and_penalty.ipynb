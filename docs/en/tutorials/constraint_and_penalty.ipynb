{
 "cells": [
  {
   "cell_type": "markdown",
   "id": "1822dbba-75f4-4658-ab75-e760ebb6790d",
   "metadata": {},
   "source": [
    "# Constraints and Penalties\n",
    "\n",
    "## Constrained Optimization Problems\n",
    "\n",
    "In mathematical optimization, a constraint is a condition that the solution must satisfy. For example, the following problem is a constrained optimization problem.\n",
    "\n",
    "$$\n",
    "\\begin{aligned}\n",
    "\\text{Minimize} & \\quad f(x) \\\\\n",
    "\\text{subject to} & \\quad g(x) = 0\n",
    "\\end{aligned}\n",
    "$$\n",
    "\n",
    "Here, $f$ and $g$ are functions of the decision variable $x$. The condition $g(x) = 0$ is called an equality constraint. The set of all $x$ that satisfy $g(x) = 0$ is called the feasible set. Constraints can also be inequality constraints like $g(x) \\leq 0$. For example, the following problem is also a constrained optimization problem.\n",
    "\n",
    "$$\n",
    "\\begin{aligned}\n",
    "\\text{Minimize} & \\quad f(x) \\\\\n",
    "\\text{subject to} & \\quad g(x) \\leq 0\n",
    "\\end{aligned}\n",
    "$$\n",
    "\n",
    "In `jijmodeling`, both equality and inequality constraints can be described using the `Constraint` class. For example, the equality constraint $\\sum_i x_i = 1$ can be expressed as follows."
   ]
  },
  {
   "cell_type": "code",
   "execution_count": 1,
   "id": "950b552b-8399-4c26-9a2b-1759457fd222",
   "metadata": {},
   "outputs": [
    {
     "data": {
      "text/latex": [
       "\\begin{array}{cccc}\n",
       " & \\text{onehot} & \\displaystyle \\sum_{n = 0}^{N - 1} x_{n} = 1 &  \\\\\n",
       "\\end{array}"
      ],
      "text/plain": [
       "Constraint(name=\"onehot\", expression=sum(n in [0..N), x[n]) == 1)"
      ]
     },
     "execution_count": 1,
     "metadata": {},
     "output_type": "execute_result"
    }
   ],
   "source": [
    "import jijmodeling as jm\n",
    "\n",
    "N = jm.Placeholder(\"N\")\n",
    "x = jm.BinaryVar(\"x\", shape=(N,))\n",
    "n = jm.Element('n', belong_to=(0, N))\n",
    "\n",
    "jm.Constraint(\"onehot\", jm.sum(n, x[n]) == 1)"
   ]
  },
  {
   "cell_type": "markdown",
   "id": "be4e1b56-775a-4ebb-bff2-6774bebe9097",
   "metadata": {},
   "source": [
    "Note that in the above code, the string \"onehot\" is specified as the first argument of `jm.Constraint`. Constraint objects have a name and a constraint expression. These names are used to check whether the constraints are satisfied. The constraint expression must be a logical expression using one of the three comparison operators `==`, `<=`, or `>=`. Multiple constraints can be imposed on a single problem as follows."
   ]
  },
  {
   "cell_type": "code",
   "execution_count": 2,
   "id": "affcab7c-20e8-41d7-b17b-5ac94c4a5d19",
   "metadata": {},
   "outputs": [],
   "source": [
    "x = jm.BinaryVar(\"x\", shape=(4,))\n",
    "problem = jm.Problem(\"constraint_sample\")\n",
    "problem += jm.Constraint(\"c01\", x[0] + x[1] <= 1)\n",
    "problem += jm.Constraint(\"c12\", x[1] + x[2] <= 1)\n",
    "problem += jm.Constraint(\"c23\", x[2] + x[3] >= 0)"
   ]
  },
  {
   "cell_type": "markdown",
   "id": "46b36de9-fe08-4f71-896b-60ebb630ca5d",
   "metadata": {},
   "source": [
    ":::{tip}\n",
    "\n",
    "Other comparison operators (e.g., `>`) and logical operators are not supported.\n",
    "\n",
    "```python\n",
    "x = jm.BinaryVar(\"x\", shape=(4,))\n",
    "jm.Constraint(\"unsupported\", (x[0] + x[1] <= 1) | (x[1] + x[2] <= 1))\n",
    "```"
   ]
  },
  {
   "cell_type": "markdown",
   "id": "c2c78d0a",
   "metadata": {},
   "source": [
    ":::"
   ]
  },
  {
   "cell_type": "markdown",
   "id": "476ca2df-d817-490a-8ffa-4418b30d4e1d",
   "metadata": {},
   "source": [
    "### `forall` Constraints\n",
    "Constraints are often indexed by variables. For example, the following problem is a constrained optimization problem.\n",
    "\n",
    "$$\n",
    "\\begin{aligned}\n",
    "\\text{Minimize} & \\quad \\sum_{i=0}^{N-1} \\sum_{j=0}^{M-1} a_{ij} x_{ij} \\\\\n",
    "\\text{subject to} & \\quad \\sum_{j = 0}^{M - 1} x_{ij} = 1 \\quad \\forall i \\in \\left\\{0, \\ldots, N - 1\\right\\}\n",
    "\\end{aligned}\n",
    "$$\n",
    "\n",
    "To express such $\\forall i \\in \\left\\{0, \\ldots, N - 1\\right\\}$, the `Constraint` object has a `forall` option. For example, the above problem can be expressed as follows."
   ]
  },
  {
   "cell_type": "code",
   "execution_count": 3,
   "id": "a69bfcfb-3206-4f2b-ae64-ecc9f8b1e3d2",
   "metadata": {},
   "outputs": [],
   "source": [
    "N = jm.Placeholder(\"N\")\n",
    "M = jm.Placeholder(\"M\")\n",
    "a = jm.Placeholder(\"a\", ndim=2)\n",
    "x = jm.BinaryVar(\"x\", shape=(N, M))\n",
    "i = jm.Element('i', belong_to=(0, N))\n",
    "j = jm.Element('j', belong_to=(0, M))\n",
    "\n",
    "problem = jm.Problem(\"forall_sample\")\n",
    "problem += jm.sum([i, j], a[i, j] * x[i, j])\n",
    "problem += jm.Constraint(\"onehot\", jm.sum(j, x[i, j]) == 1, forall=i)"
   ]
  },
  {
   "cell_type": "markdown",
   "id": "27d9f939-573b-4279-9964-3d3902d4277c",
   "metadata": {},
   "source": [
    "## What is a Penalty?\n",
    "\n",
    "[Penalty methods](https://en.wikipedia.org/wiki/Penalty_method) and [Lagrange multipliers](https://en.wikipedia.org/wiki/Lagrange_multiplier) are the most common methods for converting constrained optimization problems into unconstrained optimization problems. Here, we will look at the penalty method.\n",
    "\n",
    "$$\n",
    "\\begin{aligned}\n",
    "\\text{Minimize} & \\quad f(x) \\\\\n",
    "\\text{subject to} & \\quad g(x) = 0\n",
    "\\end{aligned}\n",
    "$$\n",
    "\n",
    "This problem is converted into the following unconstrained optimization problem.\n",
    "\n",
    "$$\n",
    "\\text{Minimize} \\quad f(x) + \\alpha p(x),\n",
    "$$\n",
    "\n",
    "In this conversion, $\\alpha$ (penalty coefficient or Lagrange multiplier) and $p(x)$ (penalty term) play important roles. Typically, $p(x)$ is defined as $p(x) = g(x)^2$. If the minimum value of $f(x) + \\alpha p(x)$ satisfies $p(x) = 0$, then that $x$ is the minimum value of the original constrained optimization problem. If the penalty $p(x)$ is positive, increasing the value of the penalty coefficient $\\alpha$ and solving the above unconstrained optimization problem increases the likelihood of obtaining the solution to the original optimization problem.\n",
    "\n",
    "Some solvers only accept unconstrained optimization problems. The \"U\" in QUBO stands for \"Unconstrained\". To input a mathematical model formulated as a constrained optimization problem in `jijmodeling` into a solver with a QUBO input format, it is necessary to convert it into an unconstrained optimization problem using `jijmodeling_transpiler` or JijZept. However, in actual optimization problems, the definition of $p$ is also important, so `jijmodeling` provides a feature to customize the penalty term."
   ]
  },
  {
   "cell_type": "markdown",
   "id": "f2322ccf-cc5d-4f5d-995e-a7d29f951c88",
   "metadata": {},
   "source": [
    "### Converting Constraints to Penalty Terms\n",
    "\n",
    "`jijmodeling` does not have the function to convert constraints into penalty terms. Here, we will explain how `jijmodeling_transpiler` converts constraints into penalty terms. Consider a simple problem like the following.\n",
    "\n",
    "$$\n",
    "\\begin{aligned}\n",
    "\\text{Minimize} & \\quad \\sum_{i=0}^{N-1} a_i x_i \\\\\n",
    "\\text{subject to} & \\quad \\sum_{i = 0}^{N - 1} x_i = 1\n",
    "\\end{aligned}\n",
    "$$\n",
    "\n",
    "This problem can be formulated in `jijmodeling` as follows."
   ]
  },
  {
   "cell_type": "code",
   "execution_count": 4,
   "id": "b5cbc45d-7e1a-4c7a-b3ac-4dbeb5a7152f",
   "metadata": {},
   "outputs": [
    {
     "data": {
      "text/latex": [
       "$$\\begin{array}{cccc}\\text{Problem:} & \\text{translate\\_constraint\\_to\\_penalty} & & \\\\& & \\min \\quad \\displaystyle \\sum_{i = 0}^{N - 1} a_{i} \\cdot x_{i} & \\\\\\text{{s.t.}} & & & \\\\ & \\text{onehot} & \\displaystyle \\sum_{i = 0}^{N - 1} x_{i} = 1 &  \\\\\\text{{where}} & & & \\\\& x & 1\\text{-dim binary variable}\\\\\\end{array}$$"
      ],
      "text/plain": [
       "<jijmodeling.Problem at 0x104e06c40>"
      ]
     },
     "execution_count": 4,
     "metadata": {},
     "output_type": "execute_result"
    }
   ],
   "source": [
    "import jijmodeling as jm\n",
    "\n",
    "a = jm.Placeholder(\"a\", ndim=1)\n",
    "N = a.len_at(0, latex=\"N\")\n",
    "\n",
    "i = jm.Element('i', belong_to=(0, N))\n",
    "x = jm.BinaryVar('x', shape=(N,))\n",
    "\n",
    "problem = jm.Problem('translate_constraint_to_penalty')\n",
    "problem += jm.sum(i, a[i]*x[i])\n",
    "problem += jm.Constraint(\n",
    "    'onehot',\n",
    "    jm.sum(i, x[i]) == 1,\n",
    ")\n",
    "problem"
   ]
  },
  {
   "cell_type": "markdown",
   "id": "3ad65535-6e38-45fd-ad69-628dc49d822d",
   "metadata": {},
   "source": [
    "In `jijmodeling_transpiler`, this constrained optimization problem is converted into the following unconstrained optimization problem.\n",
    "\n",
    "$$\n",
    "\\text{Minimize} \\quad \\sum_{i=0}^{N-1} a_i x_i + \\alpha \\left(\\sum_{i = 0}^{N - 1} x_i - 1\\right)^2\n",
    "$$\n",
    "\n",
    "Here, let's consider the case where $a = [1, 2]$ and $\\alpha = 5$."
   ]
  },
  {
   "cell_type": "code",
   "execution_count": 5,
   "id": "18e5a4d6-abe3-439f-950c-fd63a6f5c5c9",
   "metadata": {},
   "outputs": [],
   "source": [
    "import jijmodeling_transpiler as jmt\n",
    "\n",
    "instance_data = {\n",
    "    \"a\": [1, 2],\n",
    "}\n",
    "\n",
    "compiled_model = jmt.core.compile_model(problem, instance_data)\n",
    "pubo_builder = jmt.core.pubo.transpile_to_pubo(\n",
    "    compiled_model,\n",
    "    normalize=False  # Disable normalization for simplicity\n",
    ")\n",
    "qubo, constant = pubo_builder.get_qubo_dict(multipliers={ 'onehot': 5 })"
   ]
  },
  {
   "cell_type": "markdown",
   "id": "c1f8e1db",
   "metadata": {},
   "source": [
    "The result is as follows."
   ]
  },
  {
   "cell_type": "code",
   "execution_count": 6,
   "id": "5d99026f",
   "metadata": {},
   "outputs": [
    {
     "data": {
      "text/plain": [
       "{(0, 0): -4.0, (1, 1): -3.0, (0, 1): 10.0}"
      ]
     },
     "execution_count": 6,
     "metadata": {},
     "output_type": "execute_result"
    }
   ],
   "source": [
    "qubo"
   ]
  },
  {
   "cell_type": "code",
   "execution_count": 7,
   "id": "7859ea27",
   "metadata": {},
   "outputs": [
    {
     "data": {
      "text/plain": [
       "5.0"
      ]
     },
     "execution_count": 7,
     "metadata": {},
     "output_type": "execute_result"
    }
   ],
   "source": [
    "constant"
   ]
  },
  {
   "cell_type": "markdown",
   "id": "21a919ed-f93a-4349-801f-396bf304a84d",
   "metadata": {},
   "source": [
    "The reason why such `qubo` and `constant` are obtained is because the following calculations were performed.\n",
    "\n",
    "$$\n",
    "\\begin{aligned}\n",
    "\\sum_{i=0}^{N-1} a_i x_i + \\alpha \\left(\\sum_{i = 0}^{N - 1} x_i - 1\\right)^2\n",
    "&= x_1 + 2 x_2 + 5 (x_1 + x_2 - 1)^2 \\\\\n",
    "&= -4 x_1 - 3 x_2 + 10 x_1 x_2 + 5 \\\\\n",
    "&= \\begin{bmatrix}\n",
    "    x_1 & x_2 \\end{bmatrix}\n",
    "\\begin{bmatrix}\n",
    "    -4 & 10 \\\\\n",
    "     0 & -3\n",
    "\\end{bmatrix}\n",
    "\\begin{bmatrix}\n",
    "    x_1 \\\\\n",
    "    x_2\n",
    "\\end{bmatrix}\n",
    "+ 5\n",
    "\\end{aligned}\n",
    "$$\n",
    "\n",
    "The above calculation uses the fact that the binary variable $x_i$ satisfies $x_i^2 = x_i$.\n",
    "\n",
    "The conversion process of `jijmodeling_transpiler` is divided into two phases.\n",
    "\n",
    "- Convert to `CompiledInstance` object using `Problem` object and `instance_data`.\n",
    "- Convert `CompiledInstance` object to QUBO by specifying multipliers."
   ]
  },
  {
   "cell_type": "markdown",
   "id": "c1c8bedb-da30-4473-931d-c733bb4f1798",
   "metadata": {},
   "source": [
    ":::{note}\n",
    "\n",
    "`jijmodeling_transpiler` allows you to set the multipliers for each penalty term using the `multipliers` argument of the `get_qubo_dict` method. Additionally, `jijmodeling_transpiler` supports other relaxation methods such as the [Augmented Lagrangian method](https://en.wikipedia.org/wiki/Augmented_Lagrangian_method). For more details, refer to the [jijmodeling_transpiler reference](https://www.documentation.jijzept.com/docs/jijmodelingtranspiler/references/jijmodeling_transpiler/core/pubo/).\n",
    "\n",
    ":::"
   ]
  },
  {
   "cell_type": "markdown",
   "id": "25bb0d89-ffd6-4a8d-9968-9593f069b12a",
   "metadata": {},
   "source": [
    "### `CustomPenaltyTerm`\n",
    "\n",
    "The task of converting constraints into penalty terms is the role of `jijmodeling_transpiler` or various services of JijZept, but there may be cases where you want to set an original penalty term as needed. In `jijmodeling`, you can customize the penalty term using `CustomPenaltyTerm`. Here, we will explain how to define the same penalty term as in the previous example using `CustomPenaltyTerm`.\n",
    "\n",
    "$$\n",
    "\\text{Minimize} \\quad \\sum_{i=0}^{N-1} a_i x_i + \\alpha \\left(\\sum_{i = 0}^{N - 1} x_i - 1\\right)^2\n",
    "$$\n",
    "\n",
    "This problem can be expressed using `CustomPenaltyTerm` as follows."
   ]
  },
  {
   "cell_type": "code",
   "execution_count": 8,
   "id": "0950ad6a-6a95-4f4c-8b7b-62dc2f06e8d1",
   "metadata": {},
   "outputs": [],
   "source": [
    "import jijmodeling as jm\n",
    "\n",
    "a = jm.Placeholder(\"a\", ndim=1)\n",
    "N = a.len_at(0, latex=\"N\")\n",
    "\n",
    "i = jm.Element('i', belong_to=(0, N))\n",
    "x = jm.BinaryVar('x', shape=(N,))\n",
    "\n",
    "problem = jm.Problem('penalty_sample')\n",
    "problem += jm.sum(i, a[i]*x[i])\n",
    "problem += jm.CustomPenaltyTerm(\n",
    "    'onehot',\n",
    "    (jm.sum(i, x[i]) - 1)**2,\n",
    ")"
   ]
  },
  {
   "cell_type": "markdown",
   "id": "ded0e121-e881-4a2e-9e57-f36fc2f747f0",
   "metadata": {},
   "source": [
    "This point does not yet set the multiplier $\\alpha$. In this case, you can still use `jijmodeling_transpiler` as before."
   ]
  },
  {
   "cell_type": "code",
   "execution_count": 9,
   "id": "39ab04e0-a45a-411c-afd7-15010a80d56e",
   "metadata": {},
   "outputs": [],
   "source": [
    "import jijmodeling_transpiler as jmt\n",
    "\n",
    "instance_data = {\n",
    "    \"a\": [1, 2],\n",
    "}\n",
    "\n",
    "compiled_model = jmt.core.compile_model(problem, instance_data)\n",
    "pubo_builder = jmt.core.pubo.transpile_to_pubo(\n",
    "    compiled_model,\n",
    "    normalize=False  # Disable normalization for simplicity\n",
    ")\n",
    "qubo, constant = pubo_builder.get_qubo_dict(multipliers={ 'onehot': 5 })"
   ]
  },
  {
   "cell_type": "markdown",
   "id": "63d59c4a",
   "metadata": {},
   "source": [
    "Of course, the result is the same."
   ]
  },
  {
   "cell_type": "code",
   "execution_count": 10,
   "id": "0b029506",
   "metadata": {},
   "outputs": [
    {
     "data": {
      "text/plain": [
       "{(0, 0): -4.0, (1, 1): -3.0, (0, 1): 10.0}"
      ]
     },
     "execution_count": 10,
     "metadata": {},
     "output_type": "execute_result"
    }
   ],
   "source": [
    "qubo"
   ]
  },
  {
   "cell_type": "code",
   "execution_count": 11,
   "id": "4215230e",
   "metadata": {},
   "outputs": [
    {
     "data": {
      "text/plain": [
       "5.0"
      ]
     },
     "execution_count": 11,
     "metadata": {},
     "output_type": "execute_result"
    }
   ],
   "source": [
    "constant"
   ]
  },
  {
   "cell_type": "markdown",
   "id": "3e6ec543-b68a-4ef2-823c-75879644a355",
   "metadata": {},
   "source": [
    "Also, `CustomPenaltyTerm` has a `forall` argument."
   ]
  },
  {
   "cell_type": "code",
   "execution_count": 12,
   "id": "09ee70c1-7a14-4e22-ab92-49be8dcb768a",
   "metadata": {},
   "outputs": [
    {
     "data": {
      "text/latex": [
       "$$\\begin{array}{cccc}\\text{Problem:} & \\text{forall\\_penalty\\_sample} & & \\\\& & \\min \\quad \\displaystyle \\sum_{i = 0}^{N - 1} \\sum_{j = 0}^{M - 1} a_{i, j} \\cdot x_{i, j} & \\\\\\text{{penalty terms}} & & & \\\\ & \\text{onehot} & \\displaystyle \\left(\\left(\\sum_{j = 0}^{M - 1} x_{i, j} - 1\\right)^{2}\\right) & \\forall i \\in \\left\\{0,\\ldots,N - 1\\right\\} \\\\\\text{{where}} & & & \\\\& x & 2\\text{-dim binary variable}\\\\\\end{array}$$"
      ],
      "text/plain": [
       "<jijmodeling.Problem at 0x131e9b680>"
      ]
     },
     "execution_count": 12,
     "metadata": {},
     "output_type": "execute_result"
    }
   ],
   "source": [
    "import jijmodeling as jm\n",
    "\n",
    "a = jm.Placeholder(\"a\", ndim=2)\n",
    "N = a.len_at(0, latex=\"N\")\n",
    "M = a.len_at(1, latex=\"M\")\n",
    "\n",
    "i = jm.Element('i', belong_to=(0, N))\n",
    "j = jm.Element('j', belong_to=(0, M))\n",
    "x = jm.BinaryVar('x', shape=(N, M))\n",
    "\n",
    "problem = jm.Problem('forall_penalty_sample')\n",
    "problem += jm.sum([i, j], a[i, j]*x[i, j])\n",
    "problem += jm.CustomPenaltyTerm(\n",
    "    'onehot',\n",
    "    (jm.sum(j, x[i, j]) - 1)**2,\n",
    "    forall=i\n",
    ")\n",
    "problem"
   ]
  }
 ],
 "metadata": {
  "kernelspec": {
   "display_name": ".venv",
   "language": "python",
   "name": "python3"
  },
  "language_info": {
   "codemirror_mode": {
    "name": "ipython",
    "version": 3
   },
   "file_extension": ".py",
   "mimetype": "text/x-python",
   "name": "python",
   "nbconvert_exporter": "python",
   "pygments_lexer": "ipython3",
   "version": "3.11.4"
  }
 },
 "nbformat": 4,
 "nbformat_minor": 5
}
