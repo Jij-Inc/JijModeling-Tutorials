{
 "cells": [
  {
   "cell_type": "markdown",
   "metadata": {},
   "source": [
    "# Expressions\n",
    "\n",
    "## What is an Expression?\n",
    "\n",
    "Let's consider binary operations or unary operations on integer or real variables. For example, $x+y$ or $x^2$. Corresponding operations are also possible for variables defined in `jijmodeling`, and the results are called \"expressions\"."
   ]
  },
  {
   "cell_type": "code",
   "execution_count": 1,
   "metadata": {},
   "outputs": [],
   "source": [
    "import jijmodeling as jm\n",
    "\n",
    "x = jm.BinaryVar(\"x\")\n",
    "y = jm.BinaryVar(\"y\")\n",
    "z = x + y\n",
    "w = x ** 2"
   ]
  },
  {
   "cell_type": "markdown",
   "metadata": {},
   "source": [
    "`x` and `y` are `BinaryVar` objects, and `z` and `w` are \"expressions\". Note that these are \"dependent variables\" and are different from what we call \"decision variables\".\n",
    "\n",
    "![Expression Tree](./assets/expressions_01.png) <!-- https://docs.google.com/drawings/d/1g9hdbLD-nRSqPtLVU1NP1V-w0ITN0AAy4M4vV-0a4Ug/edit?usp=sharing -->"
   ]
  },
  {
   "cell_type": "markdown",
   "metadata": {},
   "source": [
    "## Built-in Operations\n",
    "\n",
    "Python's built-in operators (e.g., `+`) can be used for both decision variables (e.g., `BinaryVar`) and `Placeholder`."
   ]
  },
  {
   "cell_type": "code",
   "execution_count": 2,
   "metadata": {},
   "outputs": [
    {
     "data": {
      "text/plain": [
       "\"BinaryVar(name='x', shape=[]) + BinaryVar(name='y', shape=[])\""
      ]
     },
     "execution_count": 2,
     "metadata": {},
     "output_type": "execute_result"
    }
   ],
   "source": [
    "x = jm.BinaryVar(\"x\")\n",
    "y = jm.BinaryVar(\"y\")\n",
    "z = x + y\n",
    "repr(z)"
   ]
  },
  {
   "cell_type": "markdown",
   "metadata": {},
   "source": [
    "Such operations are algebraic processing (i.e., constructing expression trees). You can check the contents of the expression tree using Python's built-in `repr` function. In a Jupyter environment, you can also get a more beautiful display using LaTeX.\n",
    "\n",
    ":::{admonition} Degree of Expressions\n",
    ":class: tip \n",
    "Since built-in operations are not limited to linear operations, a function `is_linear` is provided to determine whether an expression is linear.\n",
    "\n",
    "```python\n",
    "x = jm.BinaryVar(\"x\")\n",
    "jm.is_linear(x)  # True\n",
    "\n",
    "w = x ** 2\n",
    "jm.is_linear(w)  # False\n",
    "```\n",
    "\n",
    "Functions such as `is_quadratic` and `is_higher_order` are also provided to check the degree of expressions.\n",
    ":::"
   ]
  },
  {
   "cell_type": "markdown",
   "metadata": {},
   "source": [
    "### Comparison Operations\n",
    "\n",
    "Equality operator `==` and other comparison operators (e.g., `<=`) can also be used to construct equality and inequality constraints. Note that to check if two expression trees are the same, you should use the `is_same` function instead of the equality operator `==`."
   ]
  },
  {
   "cell_type": "code",
   "execution_count": 3,
   "metadata": {},
   "outputs": [
    {
     "data": {
      "text/plain": [
       "\"BinaryVar(name='x', shape=[]) == BinaryVar(name='y', shape=[])\""
      ]
     },
     "execution_count": 3,
     "metadata": {},
     "output_type": "execute_result"
    }
   ],
   "source": [
    "x = jm.BinaryVar(\"x\")\n",
    "y = jm.BinaryVar(\"y\")\n",
    "repr(x == y)"
   ]
  },
  {
   "cell_type": "code",
   "execution_count": 4,
   "metadata": {},
   "outputs": [
    {
     "data": {
      "text/plain": [
       "False"
      ]
     },
     "execution_count": 4,
     "metadata": {},
     "output_type": "execute_result"
    }
   ],
   "source": [
    "jm.is_same(x, y)"
   ]
  },
  {
   "cell_type": "markdown",
   "metadata": {},
   "source": [
    "## Indexing and Summation\n",
    "\n",
    "Similar to Python's built-in `list` and `numpy.ndarray`, `jijmodeling` supports indexing elements of multi-dimensional decision variables and parameters."
   ]
  },
  {
   "cell_type": "code",
   "execution_count": 5,
   "metadata": {},
   "outputs": [
    {
     "data": {
      "text/latex": [
       "$$\\displaystyle x_{0, 2}$$"
      ],
      "text/plain": [
       "BinaryVar(name='x', shape=[NumberLit(value=3), NumberLit(value=4)])[NumberLit(value=0), NumberLit(value=2)]"
      ]
     },
     "execution_count": 5,
     "metadata": {},
     "output_type": "execute_result"
    }
   ],
   "source": [
    "x = jm.BinaryVar(\"x\", shape=(3, 4))\n",
    "x[0, 2]"
   ]
  },
  {
   "cell_type": "markdown",
   "metadata": {},
   "source": [
    ":::{note}\n",
    "`x[0][2]` and `x[0, 2]` refer to the same thing.\n",
    ":::\n",
    "\n",
    "`x[0, 2]` is also an expression. This is similar to the expression tree of `x` with the unary operator `**2` applied. `x[0]` is the expression tree of `x` with the unary operator `[0]` applied to take the 0th element. Also, if the expression does not contain decision variables, it can be specified as an index."
   ]
  },
  {
   "cell_type": "code",
   "execution_count": 6,
   "metadata": {},
   "outputs": [
    {
     "data": {
      "text/latex": [
       "$$\\displaystyle x_{2 \\cdot n, 3 \\cdot n}$$"
      ],
      "text/plain": [
       "BinaryVar(name='x', shape=[NumberLit(value=3), NumberLit(value=4)])[NumberLit(value=2) * Placeholder(name='n', ndim=0), NumberLit(value=3) * Placeholder(name='n', ndim=0)]"
      ]
     },
     "execution_count": 6,
     "metadata": {},
     "output_type": "execute_result"
    }
   ],
   "source": [
    "x = jm.BinaryVar(\"x\", shape=(3, 4))\n",
    "n = jm.Placeholder(\"n\")\n",
    "x[2*n, 3*n]"
   ]
  },
  {
   "cell_type": "markdown",
   "metadata": {},
   "source": [
    "There is a class `Element` for indexing. This can be used to represent variables $n$ in summation.\n",
    "\n",
    "$$\n",
    "\\sum_{n=0}^{N-1} x_n .\n",
    "$$\n",
    "\n",
    "In `jijmodeling`, three steps are required to represent summation."
   ]
  },
  {
   "cell_type": "code",
   "execution_count": 7,
   "metadata": {},
   "outputs": [
    {
     "data": {
      "text/latex": [
       "$$\\displaystyle \\sum_{n = 0}^{N - 1} x_{n}$$"
      ],
      "text/plain": [
       "sum(Element(name='n', belong_to=(NumberLit(value=0), Placeholder(name='N', ndim=0))), BinaryVar(name='x', shape=[Placeholder(name='N', ndim=0)])[Element(name='n', belong_to=(NumberLit(value=0), Placeholder(name='N', ndim=0)))])"
      ]
     },
     "execution_count": 7,
     "metadata": {},
     "output_type": "execute_result"
    }
   ],
   "source": [
    "N = jm.Placeholder(\"N\")\n",
    "x = jm.BinaryVar(\"x\", shape=(N,))\n",
    "\n",
    "# Step1. Introduce variable $n$ in summation with range [0, N-1]\n",
    "n = jm.Element('n', belong_to=(0, N))\n",
    "\n",
    "# Step2. Create expression $x_n$ using index access\n",
    "xn = x[n]\n",
    "\n",
    "# Step3. Sum $x_n$ along variable $n$\n",
    "jm.sum(n, xn)"
   ]
  },
  {
   "cell_type": "markdown",
   "metadata": {},
   "source": [
    "$$\n",
    "\\mathrm{jm.sum(\\overbrace{n}^{subscript}, \\underbrace{x[n]}_{operand})}\n",
    "$$"
   ]
  },
  {
   "cell_type": "markdown",
   "metadata": {},
   "source": [
    ":::{tip}\n",
    "Simple summations like the above can be written in shorthand.\n",
    "\n",
    "```python\n",
    "N = jm.Placeholder('N')\n",
    "x = jm.BinaryVar(name='x', shape=(N,))\n",
    "sum_x = x[:].sum()\n",
    "```\n",
    "\n",
    ":::"
   ]
  },
  {
   "cell_type": "markdown",
   "metadata": {},
   "source": [
    "Since `Element` objects themselves can be treated as expressions, you can also write $\\sum_n n x_n$ as follows."
   ]
  },
  {
   "cell_type": "code",
   "execution_count": 8,
   "metadata": {},
   "outputs": [
    {
     "data": {
      "text/latex": [
       "$$\\displaystyle \\sum_{n = 0}^{N - 1} n \\cdot x_{n}$$"
      ],
      "text/plain": [
       "sum(Element(name='n', belong_to=(NumberLit(value=0), Placeholder(name='N', ndim=0))), Element(name='n', belong_to=(NumberLit(value=0), Placeholder(name='N', ndim=0))) * BinaryVar(name='x', shape=[Placeholder(name='N', ndim=0)])[Element(name='n', belong_to=(NumberLit(value=0), Placeholder(name='N', ndim=0)))])"
      ]
     },
     "execution_count": 8,
     "metadata": {},
     "output_type": "execute_result"
    }
   ],
   "source": [
    "jm.sum(n, n * x[n])"
   ]
  },
  {
   "cell_type": "markdown",
   "metadata": {},
   "source": [
    "The result of `jm.sum` is also an expression. Therefore, you can easily describe models that include the same expression as follows."
   ]
  },
  {
   "cell_type": "code",
   "execution_count": 9,
   "metadata": {},
   "outputs": [
    {
     "data": {
      "text/latex": [
       "$$\\displaystyle \\sum_{n = 0}^{N - 1} x_{n} \\cdot \\left(- \\sum_{n = 0}^{N - 1} x_{n} + 1\\right)$$"
      ],
      "text/plain": [
       "sum(Element(name='n', belong_to=(NumberLit(value=0), Placeholder(name='N', ndim=0))), BinaryVar(name='x', shape=[Placeholder(name='N', ndim=0)])[Element(name='n', belong_to=(NumberLit(value=0), Placeholder(name='N', ndim=0)))]) * (- sum(Element(name='n', belong_to=(NumberLit(value=0), Placeholder(name='N', ndim=0))), BinaryVar(name='x', shape=[Placeholder(name='N', ndim=0)])[Element(name='n', belong_to=(NumberLit(value=0), Placeholder(name='N', ndim=0)))]) + NumberLit(value=1))"
      ]
     },
     "execution_count": 9,
     "metadata": {},
     "output_type": "execute_result"
    }
   ],
   "source": [
    "n = jm.Element('n', belong_to=(0, N))\n",
    "sum_x = jm.sum(n, x[n])\n",
    "sum_x * (1 - sum_x)"
   ]
  },
  {
   "cell_type": "markdown",
   "metadata": {},
   "source": [
    "## Summation over a Set\n",
    "In mathematical models, summation over a set $V$ is often performed. For example, the following summation.\n",
    "\n",
    "$$ \n",
    "\\sum_{v \\in V} x_v .\n",
    "$$\n",
    "\n",
    "In this summation, non-continuous indices (e.g., $[1, 4, 5, 9]$ or $[2, 6]$) are used along the set $V$.\n",
    "\n",
    ":::{tip}\n",
    "Summation over a set is often used in one-hot constraints for a given set $V$.\n",
    "\n",
    "$$ \n",
    "\\sum_{v \\in V} x_v = 1\n",
    "$$\n",
    "\n",
    "All expressions explained on this page can also be used as the second argument of the Constraint object.\n",
    ":::"
   ]
  },
  {
   "cell_type": "code",
   "execution_count": 10,
   "metadata": {},
   "outputs": [],
   "source": [
    "N = jm.Placeholder('N')\n",
    "x = jm.BinaryVar('x', shape=(N,))\n",
    "\n",
    "# Define set $V$ as a Placeholder object\n",
    "V = jm.Placeholder('V', ndim=1)\n",
    "\n",
    "# Define variable $v$ moving along $V$\n",
    "v = jm.Element('v', belong_to=V)\n",
    "\n",
    "# Sum along $V$\n",
    "sum_v = jm.sum(v, x[v])"
   ]
  },
  {
   "cell_type": "markdown",
   "metadata": {},
   "source": [
    "Also, the actual data for the set $V$ needs to be specified as follows."
   ]
  },
  {
   "cell_type": "code",
   "execution_count": 11,
   "metadata": {},
   "outputs": [],
   "source": [
    "problem = jm.Problem('Iterating over a Set')\n",
    "problem += sum_v\n",
    "\n",
    "instance_data = { \"N\": 10, \"V\": [1, 4, 5, 9]}\n",
    "interpreter = jm.Interpreter(instance_data)\n",
    "ommx_instance = interpreter.eval_problem(problem)"
   ]
  },
  {
   "cell_type": "markdown",
   "metadata": {},
   "source": [
    "### Jagged Arrays\n",
    "\n",
    "Sometimes, we need to consider groups of sets like $C_\\alpha$. For example, when setting K-hot constraints.\n",
    "\n",
    "$$\n",
    "\\sum_{i \\in C_\\alpha} x_i = K_\\alpha.\n",
    "$$\n",
    "\n",
    "These sets $C_\\alpha$ may have different numbers of elements. For example, as follows.\n",
    "\n",
    "$$\n",
    "\\begin{align*}\n",
    "C_1 &= [1, 4, 5, 9], \\\\\n",
    "C_2 &= [2, 6], \\\\\n",
    "C_3 &= [3, 7, 8]\n",
    "\\end{align*}\n",
    "$$\n",
    "\n",
    "You can represent such \"jagged\" arrays using `Placeholder` objects."
   ]
  },
  {
   "cell_type": "code",
   "execution_count": 12,
   "metadata": {},
   "outputs": [],
   "source": [
    "N = jm.Placeholder('N')\n",
    "x = jm.BinaryVar('x', shape=(N,))\n",
    "\n",
    "# Define a 2-dimensional Placeholder object\n",
    "C = jm.Placeholder('C', ndim=2)\n",
    "\n",
    "# Define the number of K-hot constraints\n",
    "# Note that the length in the 0th dimension cannot be obtained because it is a \"jagged\" array\n",
    "M = C.len_at(0, latex=\"M\")\n",
    "\n",
    "K = jm.Placeholder('K', ndim=1)\n",
    "\n",
    "# Define the index $/alpha$\n",
    "a = jm.Element(name='a', belong_to=(0, M), latex=r\"\\alpha\")\n",
    "# Define the variable moving along each $C_/alpha$\n",
    "i = jm.Element(name='i', belong_to=C[a]) \n",
    "\n",
    "# Define the K-hot constraint\n",
    "k_hot = jm.Constraint('k-hot_constraint', jm.sum(i, x[i]) == K[a], forall=a)"
   ]
  },
  {
   "cell_type": "markdown",
   "metadata": {},
   "source": [
    "Also, the actual data for $C$ needs to be passed as follows."
   ]
  },
  {
   "cell_type": "code",
   "execution_count": 14,
   "metadata": {},
   "outputs": [],
   "source": [
    "problem = jm.Problem('K-hot')\n",
    "problem += k_hot\n",
    "\n",
    "instance_data = {\n",
    "    \"N\": 10,\n",
    "    \"C\": [[1, 4, 5, 9],\n",
    "          [2, 6],\n",
    "          [3, 7, 8]],\n",
    "    \"K\": [1, 1, 2],\n",
    "}\n",
    "interpreter = jm.Interpreter(instance_data)\n",
    "ommx_instance = interpreter.eval_problem(problem)"
   ]
  },
  {
   "cell_type": "markdown",
   "metadata": {},
   "source": [
    "## Summation over Multiple Indices\n",
    "\n",
    "Consider a case where multiple summations are included, such as the following.\n",
    "\n",
    "$$\n",
    "\\sum_{i, j} Q_{ij} x_{ij}\n",
    "$$\n",
    "\n",
    "Such a case can be implemented in `jijmodeling` as follows."
   ]
  },
  {
   "cell_type": "code",
   "execution_count": 14,
   "metadata": {},
   "outputs": [],
   "source": [
    "# Define variables\n",
    "Q = jm.Placeholder('Q', ndim=2)\n",
    "I = Q.shape[0]\n",
    "J = Q.shape[1]\n",
    "x = jm.BinaryVar('x', shape=(I, J))\n",
    "i = jm.Element(name='i', belong_to=(0, I))\n",
    "j = jm.Element(name='j', belong_to=(0, J))\n",
    "# Sum along $i$ and $j$\n",
    "sum_ij = jm.sum([i, j], Q[i, j]*x[i, j])"
   ]
  },
  {
   "cell_type": "markdown",
   "metadata": {},
   "source": [
    "When there are multiple summations, you can specify the first argument of `jm.sum` as a list `[subscript1, subscript2, ...]` instead of using `jm.sum` multiple times. Of course, this results in the same mathematical model as using `jm.sum` multiple times because $\\sum_{i, j} = \\sum_{i} \\sum_{j}$."
   ]
  },
  {
   "cell_type": "code",
   "execution_count": 15,
   "metadata": {},
   "outputs": [],
   "source": [
    "sum_ij = jm.sum(i, jm.sum(j, Q[i, j]*x[i, j]))"
   ]
  },
  {
   "cell_type": "markdown",
   "metadata": {},
   "source": [
    "## Conditional Summation\n",
    "\n",
    "Consider a case where summation is taken over indices that satisfy a specific condition, such as the following.\n",
    "\n",
    "$$\n",
    "\\sum_{i<U} x_i \n",
    "$$\n",
    "\n",
    "Such a case can be implemented using `jijmodeling` as follows."
   ]
  },
  {
   "cell_type": "code",
   "execution_count": 16,
   "metadata": {},
   "outputs": [],
   "source": [
    "# Define variables\n",
    "I = jm.Placeholder('I')\n",
    "x = jm.BinaryVar('x', shape=(I,))\n",
    "i = jm.Element(name='i', belong_to=(0, I))\n",
    "U = jm.Placeholder('U')\n",
    "# Sum over indices that satisfy $i<U$\n",
    "sum_i = jm.sum((i, i<U), x[i])"
   ]
  },
  {
   "cell_type": "markdown",
   "metadata": {},
   "source": [
    "To sum over indices that satisfy a specific condition, you need to specify a tuple `(index, condition)` as the first argument of `jm.sum`.\n",
    "\n",
    "$$\n",
    "\\mathrm{jm.sum((\\underbrace{i}_{index}, \\overbrace{i<U}^{condition}), \\underbrace{x[i]}_{operand})}\n",
    "$$\n",
    "\n",
    "Comparison operators `<`, `<=`, `>=`, `>`, `==`, `!=` and logical operators `&`, `|` and their combinations can be used as conditions. For example,\n",
    "\n",
    "$$\n",
    "\\sum_{\\substack{i < U \\\\ i!=N}} d_i x_i\n",
    "$$\n",
    "\n",
    "can be implemented as follows."
   ]
  },
  {
   "cell_type": "code",
   "execution_count": 17,
   "metadata": {},
   "outputs": [],
   "source": [
    "# Define variables\n",
    "d = jm.Placeholder('d', ndim=1)\n",
    "I = d.shape[0]\n",
    "x = jm.BinaryVar('x', shape=(I,))\n",
    "U = jm.Placeholder('U')\n",
    "N = jm.Placeholder('N')\n",
    "i = jm.Element(name='i', belong_to=(0, I))\n",
    "# Sum over indices that satisfy $i<U$ and $i≠N$\n",
    "sum_i = jm.sum((i, (i<U)&(i!=N)), d[i]*x[i])"
   ]
  },
  {
   "cell_type": "markdown",
   "metadata": {},
   "source": [
    "$$\n",
    "\\mathrm{jm.sum((\\underbrace{i}_{subscript}, \\overbrace{(i<U)}^{condition 1} \\underbrace{\\&}_{logical operator} \\overbrace{(i!=N)}^{condition 2}), \\underbrace{d[i]*x[i ]}_{operand})}\n",
    "$$"
   ]
  },
  {
   "cell_type": "markdown",
   "metadata": {},
   "source": [
    "### Conditional Summation with Multiple Conditions\n",
    "Consider a case where there are conditions on multiple indices in the summation, such as the following.\n",
    "\n",
    "$$\n",
    "\\sum_{\\substack{i>L \\\\ i!=N}} \\sum_{j<i} R_{ij} x_{ij}\n",
    "$$\n",
    "\n",
    "Such a case can be implemented in `jijmodeling` as follows."
   ]
  },
  {
   "cell_type": "code",
   "execution_count": 18,
   "metadata": {},
   "outputs": [],
   "source": [
    "# Define variables\n",
    "R = jm.Placeholder('R', ndim=2)\n",
    "I = R.shape[0]\n",
    "J = R.shape[1]\n",
    "x = jm.BinaryVar('x', shape=(I, J))\n",
    "i = jm.Element(name='i', belong_to=(0, I))\n",
    "j = jm.Element(name='j', belong_to=(0, J))\n",
    "N = jm.Placeholder('N')\n",
    "L = jm.Placeholder('L')\n",
    "# Sum over indices that satisfy $i>L$, $i≠N$, and $j<i$\n",
    "sum_ij = jm.sum([(i, (i>L)&(i!=N)), (j, j<i)], R[i, j]*x[i, j])"
   ]
  },
  {
   "cell_type": "markdown",
   "metadata": {},
   "source": [
    "You need to specify the first argument of `jm.sum` as `[(index 1, condition of index 1), (index 2, condition of index 2), ...]`. By specifying it as `[(index1, condition of index1), (index2, condition of index2), ...]`, you can describe multiple summation operations with conditions on each index.\n",
    "\n",
    ":::{caution}\n",
    "`[(j, j<i), (i, (i>L)&(i!=N))]` will cause an error because $i$ is not defined at the point of $j<i$. This corresponds to the fact that you can write $\\sum_{\\substack{i>L \\\\ i!=N}} \\left( \\sum_{j<i} \\cdots \\right)$ in an expression, but you cannot write $\\sum_{j<i} \\left( \\sum_{\\substack{i>L \\\\ i!=N}} \\cdots \\right)$. Be careful about the order in which you impose conditions on indices in multiple summations.\n",
    ":::"
   ]
  }
 ],
 "metadata": {
  "kernelspec": {
   "display_name": "Python 3 (ipykernel)",
   "language": "python",
   "name": "python3"
  },
  "language_info": {
   "codemirror_mode": {
    "name": "ipython",
    "version": 3
   },
   "file_extension": ".py",
   "mimetype": "text/x-python",
   "name": "python",
   "nbconvert_exporter": "python",
   "pygments_lexer": "ipython3",
   "version": "3.9.18"
  }
 },
 "nbformat": 4,
 "nbformat_minor": 4
}
