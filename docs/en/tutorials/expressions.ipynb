{
 "cells": [
  {
   "cell_type": "markdown",
   "metadata": {},
   "source": [
    "# Expressions\n",
    "\n",
    "## What is an expression?\n",
    "\n",
    "In mathematics, we consider binary or unary operations on integer or real variables, e.g. $x + y$ or $x^2$. Corresponding operations are possible for variables defined in `jijmodeling`, and their results are called “expressions”:"
   ]
  },
  {
   "cell_type": "code",
   "execution_count": 1,
   "metadata": {},
   "outputs": [],
   "source": [
    "import jijmodeling as jm\n",
    "\n",
    "x = jm.BinaryVar(\"x\")\n",
    "y = jm.BinaryVar(\"y\")\n",
    "z = x + y\n",
    "w = x ** 2"
   ]
  },
  {
   "cell_type": "markdown",
   "metadata": {},
   "source": [
    "`x` and `y` are `BinaryVar` objects, and `z` and `w` are expressions. This is somewhat different from “dependent variables”. `z` is not a variable in the problem we are considering.\n",
    "\n",
    "![Expression Tree](./assets/expressions_01.png) <!-- https://docs.google.com/drawings/d/1g9hdbLD-nRSqPtLVU1NP1V-w0ITN0AAy4M4vV-0a4Ug/edit?usp=sharing -->"
   ]
  },
  {
   "cell_type": "markdown",
   "metadata": {},
   "source": [
    "## Builtin operators\n",
    "\n",
    "Python’s built-in operators e.g. `+` are overloaded for both decision variables (e.g. `BinaryVar`) and `Placeholder`s:"
   ]
  },
  {
   "cell_type": "code",
   "execution_count": 2,
   "metadata": {},
   "outputs": [
    {
     "data": {
      "text/plain": [
       "\"BinaryVar(name='x', shape=[]) + BinaryVar(name='y', shape=[])\""
      ]
     },
     "execution_count": 2,
     "metadata": {},
     "output_type": "execute_result"
    }
   ],
   "source": [
    "x = jm.BinaryVar(\"x\")\n",
    "y = jm.BinaryVar(\"y\")\n",
    "z = x + y\n",
    "repr(z)  # \"BinaryVar(name='x', shape=[]) + BinaryVar(name='y', shape=[])\""
   ]
  },
  {
   "cell_type": "markdown",
   "metadata": {},
   "source": [
    "This is a symbolical process, i.e. `z` is an expression tree like above. We can show the contents of the expression tree by the Python built-in function `repr`, or we will get more beautiful display using LaTeX if you are in Jupyter environment.\n",
    "\n",
    ":::{admonition} Order of expression\n",
    ":class: tip\n",
    "Operator overloading is not limited to linear operations, and we can check an expression only contains linear term using `is_linear` function:"
   ]
  },
  {
   "cell_type": "code",
   "execution_count": 4,
   "metadata": {},
   "outputs": [
    {
     "data": {
      "text/plain": [
       "True"
      ]
     },
     "execution_count": 4,
     "metadata": {},
     "output_type": "execute_result"
    }
   ],
   "source": [
    "x = jm.BinaryVar(\"x\")\n",
    "jm.is_linear(x)  # True"
   ]
  },
  {
   "cell_type": "code",
   "execution_count": 5,
   "metadata": {},
   "outputs": [
    {
     "data": {
      "text/plain": [
       "False"
      ]
     },
     "execution_count": 5,
     "metadata": {},
     "output_type": "execute_result"
    }
   ],
   "source": [
    "w = x ** 2\n",
    "jm.is_linear(w)  # False"
   ]
  },
  {
   "cell_type": "markdown",
   "metadata": {},
   "source": [
    "There are also `is_quadratic` and `is_higher_order` to check the order of expressions.\n",
    ":::"
   ]
  },
  {
   "cell_type": "markdown",
   "metadata": {},
   "source": [
    "### Comparison operators\n",
    "\n",
    "The equality operator `==` and other comparison operators e.g. `<=` are also overloaded to represent equality and inequality constraints. If you want to check if two expression trees are the same, you can use `is_same` function:"
   ]
  },
  {
   "cell_type": "code",
   "execution_count": 6,
   "metadata": {},
   "outputs": [
    {
     "data": {
      "text/plain": [
       "False"
      ]
     },
     "execution_count": 6,
     "metadata": {},
     "output_type": "execute_result"
    }
   ],
   "source": [
    "x = jm.BinaryVar(\"x\")\n",
    "y = jm.BinaryVar(\"y\")\n",
    "repr(x == y) # \"BinaryVar(name='x', shape=[]) == BinaryVar(name='y', shape=[])\"\n",
    "jm.is_same(x, y) # False"
   ]
  },
  {
   "cell_type": "markdown",
   "metadata": {},
   "source": [
    "## Indexing and Summation\n",
    "Similar to Python’s built-in `list` or `numpy.ndarray`, `jijmodeling` supports indexing to access elements of multidimensional decision variables or parameters:"
   ]
  },
  {
   "cell_type": "code",
   "execution_count": 7,
   "metadata": {},
   "outputs": [
    {
     "data": {
      "text/latex": [
       "$$\\displaystyle x_{0, 2}$$"
      ],
      "text/plain": [
       "BinaryVar(name='x', shape=[NumberLit(value=3), NumberLit(value=4)])[NumberLit(value=0), NumberLit(value=2)]"
      ]
     },
     "execution_count": 7,
     "metadata": {},
     "output_type": "execute_result"
    }
   ],
   "source": [
    "x = jm.BinaryVar(\"x\", shape=(3, 4))\n",
    "x[0, 2]"
   ]
  },
  {
   "cell_type": "markdown",
   "metadata": {},
   "source": [
    ":::{note}\n",
    "`x[0][2]` and `x[0, 2]` are equivalent.\n",
    ":::\n",
    "\n",
    "`x[0, 2]` is also an expression. This is similar to the case of `x ** 2`, which is an expression tree of the unary operator `**2` applied to `x`. `x[0]` is an expression tree of the \"take 0-th element\" unary operator `[0]` applied to `x`. The subscript can be an expression that contains no decision variables:"
   ]
  },
  {
   "cell_type": "code",
   "execution_count": 8,
   "metadata": {},
   "outputs": [
    {
     "data": {
      "text/latex": [
       "$$\\displaystyle x_{2 \\cdot n, 3 \\cdot n}$$"
      ],
      "text/plain": [
       "BinaryVar(name='x', shape=[NumberLit(value=3), NumberLit(value=4)])[NumberLit(value=2) * Placeholder(name='n', ndim=0), NumberLit(value=3) * Placeholder(name='n', ndim=0)]"
      ]
     },
     "execution_count": 8,
     "metadata": {},
     "output_type": "execute_result"
    }
   ],
   "source": [
    "x = jm.BinaryVar(\"x\", shape=(3, 4))\n",
    "n = jm.Placeholder(\"n\")\n",
    "x[2*n, 3*n]"
   ]
  },
  {
   "cell_type": "markdown",
   "metadata": {},
   "source": [
    "There is another type of variable for indexing, `Element`. It is used to represent internal variables like $n$ in\n",
    "\n",
    "$$\n",
    "\\sum_{n=0}^{N-1} x_n .\n",
    "$$\n",
    "\n",
    "To represent this summation, `jijmodeling` takes three steps:"
   ]
  },
  {
   "cell_type": "code",
   "execution_count": 9,
   "metadata": {},
   "outputs": [
    {
     "data": {
      "text/latex": [
       "$$\\displaystyle \\sum_{n = 0}^{N - 1} x_{n}$$"
      ],
      "text/plain": [
       "sum(Element(name='n', belong_to=(NumberLit(value=0), Placeholder(name='N', ndim=0))), BinaryVar(name='x', shape=[Placeholder(name='N', ndim=0)])[Element(name='n', belong_to=(NumberLit(value=0), Placeholder(name='N', ndim=0)))])"
      ]
     },
     "execution_count": 9,
     "metadata": {},
     "output_type": "execute_result"
    }
   ],
   "source": [
    "N = jm.Placeholder(\"N\")\n",
    "x = jm.BinaryVar(\"x\", shape=(N,))\n",
    "\n",
    "# Introduce an internal variable $n$ with its range $[0, N-1]$\n",
    "n = jm.Element('n', belong_to=(0, N))\n",
    "\n",
    "# Create operand expression $x_n$ using indexing expression\n",
    "xn = x[n]\n",
    "\n",
    "# Sum up integrand expression $x_n$ about the index $n$\n",
    "jm.sum(n, xn)"
   ]
  },
  {
   "cell_type": "markdown",
   "metadata": {},
   "source": [
    "$$\n",
    "\\mathrm{jm.sum(\\overbrace{n}^{subscript}, \\underbrace{x[n]}_{operand})}\n",
    "$$"
   ]
  },
  {
   "cell_type": "markdown",
   "metadata": {},
   "source": [
    ":::{tip}\n",
    "Such a simple sum can be written in abbreviated form as follows"
   ]
  },
  {
   "cell_type": "code",
   "execution_count": 10,
   "metadata": {},
   "outputs": [],
   "source": [
    "N = jm.Placeholder('N')\n",
    "x = jm.BinaryVar(name='x', shape=(N,))\n",
    "sum_x = x[:].sum()"
   ]
  },
  {
   "cell_type": "markdown",
   "metadata": {},
   "source": [
    ":::\n",
    "\n",
    "Since the `Element` object itself can be treated as an expression, we can write $\\sum_n n x_n$ as"
   ]
  },
  {
   "cell_type": "code",
   "execution_count": 11,
   "metadata": {},
   "outputs": [
    {
     "data": {
      "text/latex": [
       "$$\\displaystyle \\sum_{n = 0}^{N - 1} n \\cdot x_{n}$$"
      ],
      "text/plain": [
       "sum(Element(name='n', belong_to=(NumberLit(value=0), Placeholder(name='N', ndim=0))), Element(name='n', belong_to=(NumberLit(value=0), Placeholder(name='N', ndim=0))) * BinaryVar(name='x', shape=[Placeholder(name='N', ndim=0)])[Element(name='n', belong_to=(NumberLit(value=0), Placeholder(name='N', ndim=0)))])"
      ]
     },
     "execution_count": 11,
     "metadata": {},
     "output_type": "execute_result"
    }
   ],
   "source": [
    "jm.sum(n, n * x[n])"
   ]
  },
  {
   "cell_type": "markdown",
   "metadata": {},
   "source": [
    "The result of `jm.sum` is also an expression. This is helpful for modeling a complicated function repeating same portion like\n",
    "\n",
    "$$\n",
    "\\left(\\sum_{n=0}^{N-1} x_n \\right)\n",
    "\\left(1 - \\sum_{n=0}^{N-1} x_n \\right)\n",
    "$$\n",
    "\n",
    "into simple code:"
   ]
  },
  {
   "cell_type": "code",
   "execution_count": null,
   "metadata": {},
   "outputs": [
    {
     "data": {
      "text/latex": [
       "$$\\displaystyle \\sum_{n = 0}^{N - 1} x_{n} \\cdot \\left(- \\sum_{n = 0}^{N - 1} x_{n} + 1\\right)$$"
      ],
      "text/plain": [
       "sum(Element(name='n', belong_to=(NumberLit(value=0), Placeholder(name='N', ndim=0))), BinaryVar(name='x', shape=[Placeholder(name='N', ndim=0)])[Element(name='n', belong_to=(NumberLit(value=0), Placeholder(name='N', ndim=0)))]) * (- sum(Element(name='n', belong_to=(NumberLit(value=0), Placeholder(name='N', ndim=0))), BinaryVar(name='x', shape=[Placeholder(name='N', ndim=0)])[Element(name='n', belong_to=(NumberLit(value=0), Placeholder(name='N', ndim=0)))]) + NumberLit(value=1))"
      ]
     },
     "execution_count": 12,
     "metadata": {},
     "output_type": "execute_result"
    }
   ],
   "source": [
    "n = jm.Element('n', belong_to=(0, N))\n",
    "sum_x = jm.sum(n, x[n])\n",
    "sum_x * (1 - sum_x)"
   ]
  },
  {
   "cell_type": "markdown",
   "metadata": {},
   "source": [
    "## Iterating over a Set\n",
    "Mathematical models often take the sum over some set $V$, such as \n",
    "\n",
    "$$ \n",
    "\\sum_{v \\in V} x_v .\n",
    "$$\n",
    "\n",
    "For example, non-sequential indices like $[1, 4, 5, 9]$ or $[2, 6]$ are used as a set $V$.\n",
    "\n",
    ":::{tip}\n",
    "Such custom summations often appear in constraint like one-hot constraint for a given index set $V$:\n",
    "\n",
    "$$ \n",
    "\\sum_{v \\in V} x_v = 1\n",
    "$$\n",
    "\n",
    "All expressions explained in this page can be used also in `Constraint` objects.\n",
    ":::"
   ]
  },
  {
   "cell_type": "code",
   "execution_count": 13,
   "metadata": {},
   "outputs": [],
   "source": [
    "N = jm.Placeholder('N')\n",
    "x = jm.BinaryVar('x', shape=(N,))\n",
    "\n",
    "# `V` is defined as a `Placeholder` object\n",
    "V = jm.Placeholder('V', ndim=1)\n",
    "\n",
    "# `V` can be passed as the argument of `belong_to` option\n",
    "v = jm.Element('v', belong_to=V)\n",
    "\n",
    "# This `Element` object can be used for summation\n",
    "sum_v = jm.sum(v, x[v])"
   ]
  },
  {
   "cell_type": "markdown",
   "metadata": {},
   "source": [
    "Actual $V$ is passed as an instance data:"
   ]
  },
  {
   "cell_type": "code",
   "execution_count": 14,
   "metadata": {},
   "outputs": [],
   "source": [
    "import jijmodeling_transpiler as jmt\n",
    "\n",
    "problem = jm.Problem('Iterating over a Set')\n",
    "problem += sum_v\n",
    "\n",
    "instance_data = { \"N\": 10, \"V\": [1, 4, 5, 9]}\n",
    "compiled_model = jmt.core.compile_model(problem, instance_data)"
   ]
  },
  {
   "cell_type": "markdown",
   "metadata": {},
   "source": [
    "### Jagged array\n",
    "Sometimes we need to consider a series of index sets $C_\\alpha$, for example, to impose K-hot constraints:\n",
    "\n",
    "$$\n",
    "\\sum_{i \\in C_\\alpha} x_i = K_\\alpha.\n",
    "$$\n",
    "\n",
    "These index sets may be of different lengths, e.g.\n",
    "\n",
    "$$\n",
    "\\begin{align*}\n",
    "C_1 &= [1, 4, 5, 9], \\\\\n",
    "C_2 &= [2, 6], \\\\\n",
    "C_3 &= [3, 7, 8]\n",
    "\\end{align*}\n",
    "$$\n",
    "\n",
    "`Placeholder` object can be used to represent such a jagged array:\n"
   ]
  },
  {
   "cell_type": "code",
   "execution_count": 15,
   "metadata": {},
   "outputs": [],
   "source": [
    "N = jm.Placeholder('N')\n",
    "x = jm.BinaryVar('x', shape=(N,))\n",
    "\n",
    "# Define as 2-dim parameter\n",
    "C = jm.Placeholder('C', ndim=2)\n",
    "\n",
    "# Number of K-hot constraints\n",
    "# Be sure we cannot take `C.len_at(1)` since `C` will be a jagged array\n",
    "M = C.len_at(0, latex=\"M\")\n",
    "\n",
    "K = jm.Placeholder('K', ndim=1)\n",
    "\n",
    "# Usual index\n",
    "a = jm.Element(name='a', belong_to=(0, M), latex=r\"\\alpha\")\n",
    "# `belong_to` can take expression, `C[a]`\n",
    "i = jm.Element(name='i', belong_to=C[a]) \n",
    "\n",
    "# K-hot constraint\n",
    "k_hot = jm.Constraint('k-hot_constraint', jm.sum(i, x[i]) == K[a], forall=a)"
   ]
  },
  {
   "cell_type": "markdown",
   "metadata": {},
   "source": [
    "Then the actual data is passed as follows:"
   ]
  },
  {
   "cell_type": "code",
   "execution_count": 16,
   "metadata": {},
   "outputs": [],
   "source": [
    "problem = jm.Problem('K-hot')\n",
    "problem += k_hot\n",
    "\n",
    "instance_data = {\n",
    "    \"N\": 4,\n",
    "    \"C\": [[1, 4, 5, 9],\n",
    "          [2, 6],\n",
    "          [3, 7, 8]],\n",
    "    \"K\": [1, 1, 2],\n",
    "}\n",
    "compiled_model = jmt.core.compile_model(problem, instance_data)"
   ]
  },
  {
   "cell_type": "markdown",
   "metadata": {},
   "source": [
    "## Summation over multiple indices\n",
    "\n",
    "To compute multiple sums, one may write them in a formula as follows:\n",
    "\n",
    "$$\n",
    "\\sum_{i, j} Q_{ij} x_{ij}\n",
    "$$\n",
    "\n",
    "This can be implemented in JijModeling as follows."
   ]
  },
  {
   "cell_type": "code",
   "execution_count": 17,
   "metadata": {},
   "outputs": [],
   "source": [
    "# set variables\n",
    "Q = jm.Placeholder('Q', ndim=2)\n",
    "I = Q.shape[0]\n",
    "J = Q.shape[1]\n",
    "x = jm.BinaryVar('x', shape=(I, J))\n",
    "i = jm.Element(name='i', belong_to=(0, I))\n",
    "j = jm.Element(name='j', belong_to=(0, J))\n",
    "# compute the sum over the two indices i, j\n",
    "sum_ij = jm.sum([i, j], Q[i, j]*x[i, j])"
   ]
  },
  {
   "cell_type": "markdown",
   "metadata": {},
   "source": [
    "If there are multiple sums, multiple `jm.sum` can be omitted by making the subscripts a list `[subscript1, subscript2, ...]`.\n",
    "Of course, this can be written as $\\sum_{i, j} = \\sum_{i} \\sum_{j}$, as can be seen from"
   ]
  },
  {
   "cell_type": "code",
   "execution_count": 18,
   "metadata": {},
   "outputs": [],
   "source": [
    "sum_ij = jm.sum(i, jm.sum(j, Q[i, j]*x[i, j]))"
   ]
  },
  {
   "cell_type": "markdown",
   "metadata": {},
   "source": [
    "## Conditional Summation\n",
    "\n",
    "In addition to summing over the entire range of possible indices, you may want to sum only if the indexes satisfy certain conditions, as in the following.\n",
    "\n",
    "$$\n",
    "\\sum_{i<U} x_i \n",
    "$$\n",
    "\n",
    "This can be implemented using JijModeling as follows"
   ]
  },
  {
   "cell_type": "code",
   "execution_count": 19,
   "metadata": {},
   "outputs": [],
   "source": [
    "# Define variables to be used\n",
    "I = jm.Placeholder('I')\n",
    "x = jm.BinaryVar('x', shape=(I,))\n",
    "i = jm.Element(name='i', belong_to=(0, I))\n",
    "U = jm.Placeholder('U')\n",
    "# Calculate sum only for parts satisfying i<U\n",
    "sum_i = jm.sum((i, i<U), x[i])"
   ]
  },
  {
   "cell_type": "markdown",
   "metadata": {},
   "source": [
    "In the part of `jm.sum` specifying the index, use a tuple to specify `(index, condition)` like this.\n",
    "\n",
    "$$\n",
    "\\mathrm{jm.sum((\\underbrace{i}_{index}, \\overbrace{i<U}^{condition}), \\underbrace{x[i]}_{operand})}\n",
    "$$\n",
    "\n",
    "The comparison operators `<`, `<=`, `>=`, `>`, `==`, `!=` and logical operators `&`, `|` and their combinations can be used for the conditional expression that the subscript satisfies. For example,\n",
    "\n",
    "$$\n",
    "\\sum_{\\substack{i < U \\\\ i!=N}} d_i x_i\n",
    "$$\n",
    "\n",
    "can be implemented as follows"
   ]
  },
  {
   "cell_type": "code",
   "execution_count": 20,
   "metadata": {},
   "outputs": [],
   "source": [
    "# Define variables to be used\n",
    "d = jm.Placeholder('d', ndim=1)\n",
    "I = d.shape[0]\n",
    "x = jm.BinaryVar('x', shape=(I,))\n",
    "U = jm.Placeholder('U')\n",
    "N = jm.Placeholder('N')\n",
    "i = jm.Element(name='i', belong_to=(0, I))\n",
    "# Calculate sum only for the part satisfying i<U and i≠N\n",
    "sum_i = jm.sum((i, (i<U)&(i!=N)), d[i]*x[i])"
   ]
  },
  {
   "cell_type": "markdown",
   "metadata": {},
   "source": [
    "$$\n",
    "\\mathrm{jm.sum((\\underbrace{i}_{subscript}, \\overbrace{(i<U)}^{condition 1} \\underbrace{\\&}_{logical operator} \\overbrace{(i!=N)}^{condition 2}), \\underbrace{d[i]*x[i ]}_{operand})}\n",
    "$$"
   ]
  },
  {
   "cell_type": "markdown",
   "metadata": {},
   "source": [
    "### Multiple Summation with Conditions\n",
    "If there is a condition on the subscripts in a sum operation on multiple subscripts, e.g.\n",
    "\n",
    "$$\n",
    "\\sum_{\\substack{i>L \\\\ i!=N}} \\sum_{j<i} R_{ij} x_{ij}\n",
    "$$\n",
    "\n",
    "A formula such as the following can be implemented as follows"
   ]
  },
  {
   "cell_type": "code",
   "execution_count": 21,
   "metadata": {},
   "outputs": [],
   "source": [
    "# Define variables to be used\n",
    "R = jm.Placeholder('R', ndim=2)\n",
    "I = R.shape[0]\n",
    "J = R.shape[1]\n",
    "x = jm.BinaryVar('x', shape=(I, J))\n",
    "i = jm.Element(name='i', belong_to=(0, I))\n",
    "j = jm.Element(name='j', belong_to=(0, J))\n",
    "N = jm.Placeholder('N')\n",
    "L = jm.Placeholder('L')\n",
    "# Calculate sum only for the part satisfying i>L and i!=N and j<i\n",
    "sum_ij = jm.sum([(i, (i>L)&(i!=N)), (j, j<i)], R[i, j]*x[i, j])"
   ]
  },
  {
   "cell_type": "markdown",
   "metadata": {},
   "source": [
    "The part of `jm.sum` specifying the indexes should be replaced with `[[(index 1, condition of index 1), (index 2, condition of index 2), ...]] By making it look like `[(index1, condition of index1), (index2, condition of index2), ...]', multiple sum operations can be written with conditions attached to each index.\n",
    "\n",
    ":::{caution}\n",
    "`[(j, j<i), (i, (i>L)&(i!=N))]` will occur an error because $i$ is not yet defined in the $j<i$ part.\n",
    "This can be written in a formula like $\\sum_{\\substack{i>L \\\\ i!=N}} \\left( \\sum_{j<i} \\cdots \\right)$, but $\\sum_{j<i} \\left( \\sum_{\\substack{i>L \\\\ i!=N}} \\cdots \\right)$ corresponds to the fact that it cannot be written as Please note the order in which conditions are imposed on subscripts in multiple sums.\n",
    ":::"
   ]
  }
 ],
 "metadata": {
  "kernelspec": {
   "display_name": ".venv",
   "language": "python",
   "name": "python3"
  },
  "language_info": {
   "codemirror_mode": {
    "name": "ipython",
    "version": 3
   },
   "file_extension": ".py",
   "mimetype": "text/x-python",
   "name": "python",
   "nbconvert_exporter": "python",
   "pygments_lexer": "ipython3",
   "version": "3.11.5"
  }
 },
 "nbformat": 4,
 "nbformat_minor": 2
}
