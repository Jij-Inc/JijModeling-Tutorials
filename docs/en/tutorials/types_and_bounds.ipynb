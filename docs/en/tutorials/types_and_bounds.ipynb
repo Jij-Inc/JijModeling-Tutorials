{
 "cells": [
  {
   "cell_type": "markdown",
   "metadata": {},
   "source": [
    "# Types of Decision Variables\n",
    "\n",
    "`jijmodeling` supports integer variables `IntegerVar` and continuous variables `ContinuousVar` in addition to binary variables `BinaryVar` as decision variables. Unlike `BinaryVar`, `IntegerVar` and `ContinuousVar` require setting lower and upper bounds."
   ]
  },
  {
   "cell_type": "code",
   "execution_count": 1,
   "metadata": {},
   "outputs": [],
   "source": [
    "import jijmodeling as jm\n",
    "\n",
    "# Integer variable with lower bound 0 and upper bound 10\n",
    "x = jm.IntegerVar(\"x\", lower_bound=0, upper_bound=10)\n",
    "# Continuous variable with lower bound 0 and upper bound 2.5\n",
    "y = jm.ContinuousVar(\"y\", lower_bound=0.0, upper_bound=2.5)"
   ]
  },
  {
   "cell_type": "markdown",
   "metadata": {},
   "source": [
    "Additionally, `jijmodeling` supports semi-integer and semi-continuous variables that take values within a range or 0."
   ]
  },
  {
   "cell_type": "code",
   "execution_count": 2,
   "metadata": {},
   "outputs": [],
   "source": [
    "# Integer variable taking values in the interval [3, 10] or 0\n",
    "sx = jm.SemiIntegerVar(\"x\", lower_bound=3, upper_bound=10)\n",
    "# Continuous variable taking values in the interval [0.5, 2.0] or 0\n",
    "sy = jm.SemiContinuousVar(\"y\", lower_bound=0.5, upper_bound=2.0)"
   ]
  },
  {
   "cell_type": "markdown",
   "metadata": {},
   "source": [
    "The lower and upper bounds of variables can be set to either `Placeholder` or numerical values."
   ]
  },
  {
   "cell_type": "code",
   "execution_count": 3,
   "metadata": {},
   "outputs": [],
   "source": [
    "L = jm.Placeholder(\"Lower\")\n",
    "U = jm.Placeholder(\"Upper\")\n",
    "x = jm.IntegerVar(\"x\", lower_bound=L, upper_bound=U)\n",
    "y = jm.ContinuousVar(\"y\", lower_bound=L/2, upper_bound=U*U)"
   ]
  }
 ],
 "metadata": {
  "kernelspec": {
   "display_name": ".venv",
   "language": "python",
   "name": "python3"
  },
  "language_info": {
   "codemirror_mode": {
    "name": "ipython",
    "version": 3
   },
   "file_extension": ".py",
   "mimetype": "text/x-python",
   "name": "python",
   "nbconvert_exporter": "python",
   "pygments_lexer": "ipython3",
   "version": "3.11.4"
  }
 },
 "nbformat": 4,
 "nbformat_minor": 2
}
