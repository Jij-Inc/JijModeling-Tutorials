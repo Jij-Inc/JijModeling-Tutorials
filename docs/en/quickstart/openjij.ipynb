{
 "cells": [
  {
   "cell_type": "markdown",
   "metadata": {},
   "source": [
    "# Solving Optimization Problems with OpenJij\n",
    "\n",
    "Let's look at a basic example to understand how to use `jijmodeling`. Below, we will explain the steps to create a simple mathematical model, transform it, and run it with a solver. The first two sections are sufficient with just `jijmodeling`, but we recommend using [Jupyter Notebook](https://jupyter.org) to easily check LaTeX output.\n",
    "\n",
    "In the third section, we will use [`ommx-openjij-adapter`](https://pypi.org/project/ommx-openjij-adapter/) to solve our model through [OpenJij](https://openjij.github.io/OpenJij/index.html). `ommx-openjij-adapter` can be installed through `pip`:\n",
    "\n",
    "```bash\n",
    "pip install ommx-openjij-adapter\n",
    "```"
   ]
  },
  {
   "cell_type": "markdown",
   "metadata": {},
   "source": [
    "## Overview\n",
    "\n",
    "The way to describe `jijmodeling` should feel natural to those familiar with mathematical optimization.\n",
    "\n",
    "You can express formulas by combining `jijmodeling` classes (such as `BinaryVar` and `Placeholder`) using basic operations. The `___Var` classes refer to various types of decision variables. `Placeholder` represents constants or values to be specified later. In other words, it abstracts the problem and marks what you want to specify as instance data. Of course, numerical literals can also be used to construct mathematical models with `jijmodeling`."
   ]
  },
  {
   "cell_type": "code",
   "execution_count": 1,
   "metadata": {},
   "outputs": [],
   "source": [
    "import jijmodeling as jm\n",
    "\n",
    "x = jm.BinaryVar(\"x\")\n",
    "y = jm.IntegerVar(\"y\", lower_bound=1, upper_bound=10)\n",
    "n = jm.Placeholder(\"n\")\n",
    "exp = x * (y ** 2) * n"
   ]
  },
  {
   "cell_type": "markdown",
   "metadata": {},
   "source": [
    "The above placeholders and variables are 0-dimensional (scalars), but you can also use these classes to represent arrays and multi-dimensional variables and constants (explained later).\n",
    "\n",
    "In `jijmodeling`, you build a mathematical model by adding expressions like the above `exp` to a `Problem` object, representing the entire mathematical model. Constraints are defined by the `Constraint` class, which wraps comparison expressions (`Constraint` supports only `<=`, `==`, and `>=`)."
   ]
  },
  {
   "cell_type": "code",
   "execution_count": 2,
   "metadata": {},
   "outputs": [
    {
     "data": {
      "text/latex": [
       "$$\\begin{array}{cccc}\\text{Problem:} & \\text{my problem} & & \\\\& & \\min \\quad \\displaystyle n \\cdot \\left(a + b + c\\right) & \\\\\\text{{s.t.}} & & & \\\\ & \\text{c1} & \\displaystyle 2 \\cdot \\left(b + c\\right) \\leq 75 &  \\\\ & \\text{c2} & \\displaystyle a + b \\leq 40 &  \\\\\\text{{where}} & & & \\\\& a & 0\\text{-dim integer variable}\\\\ & & \\text{lower bound: }5 & \\\\ & & \\text{upper bound: }20 & \\\\& b & 0\\text{-dim integer variable}\\\\ & & \\text{lower bound: }1 & \\\\ & & \\text{upper bound: }20 & \\\\& c & 0\\text{-dim integer variable}\\\\ & & \\text{lower bound: }20 & \\\\ & & \\text{upper bound: }30 & \\\\\\end{array}$$"
      ],
      "text/plain": [
       "<jijmodeling.Problem at 0x5badb53ce740>"
      ]
     },
     "execution_count": 2,
     "metadata": {},
     "output_type": "execute_result"
    }
   ],
   "source": [
    "a = jm.IntegerVar(\"a\", lower_bound=5, upper_bound=20)\n",
    "b = jm.IntegerVar(\"b\", lower_bound=1, upper_bound=20)\n",
    "c = jm.IntegerVar(\"c\", lower_bound=20, upper_bound=30)\n",
    "n = jm.Placeholder(\"n\")\n",
    "\n",
    "problem = jm.Problem(\"my problem\")\n",
    "problem += n * (a + b + c)\n",
    "problem += jm.Constraint(\"c1\", 2 * (b + c) <= 75)\n",
    "problem += jm.Constraint(\"c2\", a + b <= 40)\n",
    "problem"
   ]
  },
  {
   "cell_type": "markdown",
   "metadata": {},
   "source": [
    "## Creating a Model\n",
    "\n",
    "Let's see how to model a common [knapsack problem](https://jij-inc.github.io/JijZept-Tutorials/en/src/02_knapsack.html).\n",
    "\n",
    "The knapsack problem is about maximizing the value of items you can carry within a weight limit $W$ when you have $N$ items, each with a value and weight. Below, we represent whether to carry item $i$ with a binary variable $x_{i}$, the weight of item $i$ with $w_i$, and the value of item $i$ with $v_i$.\n",
    "\n",
    "First, let's define these values with `jijmodeling`."
   ]
  },
  {
   "cell_type": "code",
   "execution_count": 3,
   "metadata": {},
   "outputs": [],
   "source": [
    "# W: Weight limit (maximum weight that can be carried)\n",
    "W = jm.Placeholder(\"W\")\n",
    "# v_i: Value of item i\n",
    "values = jm.Placeholder(\"v\", ndim=1) \n",
    "# w_i: Weight of item i\n",
    "weights = jm.Placeholder(\"w\", ndim=1) \n",
    "# N is automatically determined based on the size of the 0th dimension of the placeholder,\n",
    "# so it can be defined using the `len_at` method as follows.\n",
    "# Also, for LaTeX output, we specify the `latex` parameter here.\n",
    "N = values.len_at(0, latex=\"N\")\n",
    "\n",
    "# x_i: Binary variable representing whether to carry item i\n",
    "# Here, we define a vector with N elements using the `shape` parameter.\n",
    "x = jm.BinaryVar(\"x\", shape=(N,))\n",
    "\n",
    "# Define the index for summation.\n",
    "i = jm.Element(\"i\", (0, N))"
   ]
  },
  {
   "cell_type": "markdown",
   "metadata": {},
   "source": [
    "Using the `Element` defined at the end of the above code, you can write summations in a style similar to sigma notation using `jijmodeling.sum`. In the above code, the index `i` is defined as the interval including 0 and excluding $N$. It may feel strange to write this in advance, but it improves convenience by allowing reuse.\n",
    "\n",
    "In the knapsack problem, you need to maximize the value of the items you carry while satisfying the weight limit. This can be expressed in `jijmodeling` as follows."
   ]
  },
  {
   "cell_type": "code",
   "execution_count": 4,
   "metadata": {},
   "outputs": [
    {
     "data": {
      "text/latex": [
       "$$\\begin{array}{cccc}\\text{Problem:} & \\text{knapsack} & & \\\\& & \\max \\quad \\displaystyle \\sum_{i = 0}^{N - 1} v_{i} \\cdot x_{i} & \\\\\\text{{s.t.}} & & & \\\\ & \\text{weight limit} & \\displaystyle \\sum_{i = 0}^{N - 1} w_{i} \\cdot x_{i} \\leq W &  \\\\\\text{{where}} & & & \\\\& x & 1\\text{-dim binary variable}\\\\\\end{array}$$"
      ],
      "text/plain": [
       "<jijmodeling.Problem at 0x5badb53e17f0>"
      ]
     },
     "execution_count": 4,
     "metadata": {},
     "output_type": "execute_result"
    }
   ],
   "source": [
    "problem = jm.Problem(\"knapsack\", sense = jm.ProblemSense.MAXIMIZE)\n",
    "problem += jm.sum(i, values[i] * x[i])\n",
    "problem += jm.Constraint(\"weight limit\", jm.sum(i, weights[i] * x[i]) <= W)\n",
    "problem"
   ]
  },
  {
   "cell_type": "markdown",
   "metadata": {},
   "source": [
    "Expressions in `jijmodeling` can be stored in variables like regular Python objects. This allows you to build complex expressions from smaller ones when tackling large problems, making them easier to understand and modify later. While it may not be very useful for small problems like the knapsack problem, as an example, you can rewrite the above code as follows."
   ]
  },
  {
   "cell_type": "code",
   "execution_count": 5,
   "metadata": {},
   "outputs": [
    {
     "data": {
      "text/latex": [
       "$$\\begin{array}{cccc}\\text{Problem:} & \\text{knapsack} & & \\\\& & \\max \\quad \\displaystyle \\sum_{i = 0}^{N - 1} v_{i} \\cdot x_{i} & \\\\\\text{{s.t.}} & & & \\\\ & \\text{weight limit} & \\displaystyle \\sum_{i = 0}^{N - 1} w_{i} \\cdot x_{i} \\leq W &  \\\\\\text{{where}} & & & \\\\& x & 1\\text{-dim binary variable}\\\\\\end{array}$$"
      ],
      "text/plain": [
       "<jijmodeling.Problem at 0x5badb53ffc20>"
      ]
     },
     "execution_count": 5,
     "metadata": {},
     "output_type": "execute_result"
    }
   ],
   "source": [
    "chosen_v = values[i] * x[i]\n",
    "chosen_w = weights[i] * x[i]\n",
    "sum_of_values = jm.sum(i, chosen_v)\n",
    "sum_of_weights = jm.sum(i, chosen_w)\n",
    "weight_below_limit = sum_of_weights <= W\n",
    "\n",
    "problem = jm.Problem(\"knapsack\", sense = jm.ProblemSense.MAXIMIZE)\n",
    "problem += sum_of_values\n",
    "problem += jm.Constraint(\"weight limit\", weight_below_limit)\n",
    "problem"
   ]
  },
  {
   "cell_type": "markdown",
   "metadata": {},
   "source": [
    "The models represented by these two codes are equivalent. Feel free to describe the model according to your preference and convenience."
   ]
  },
  {
   "cell_type": "markdown",
   "metadata": {},
   "source": [
    "## Solving the Model\n",
    "\n",
    "With the above code, we were able to build a model, but that model alone doesn't do much besides LaTeX output. You need to combine it with instance data to generate input for the solver. First, we define the instance data to be input into the `Placeholder`s in our model, and register that data in the `Interpreter` object.\n",
    "\n",
    "You can register instance data by passing a dictionary with the following keys and values to the constructor of the `Interpreter` class:\n",
    "\n",
    "- Key: String set in the `name` property of the `Placeholder` object\n",
    "- Value: Data to be input"
   ]
  },
  {
   "cell_type": "code",
   "execution_count": 6,
   "metadata": {},
   "outputs": [],
   "source": [
    "instance_data = {\n",
    " \"W\": 100,                                  # Data of the knapsack's weight capacity\n",
    " \"v\": [100, 90, 80, 70, 60, 50, 40, 30],    # Data of item values\n",
    " \"w\": [1, 5, 10, 20, 30, 40, 50, 60, 70]    # Data of item weights\n",
    "}\n",
    "interpreter = jm.Interpreter(instance_data)"
   ]
  },
  {
   "cell_type": "markdown",
   "metadata": {},
   "source": [
    "To convert the mathematical model to an instance, use the `Interpreter.eval_problem` method. By passing the `Problem` object to the `eval_problem` method of the `Interpreter` object with registered instance data, the `Placeholder`s in the `Problem` object will be filled with the instance data and converted to an OMMX instance:"
   ]
  },
  {
   "cell_type": "code",
   "execution_count": 7,
   "metadata": {},
   "outputs": [],
   "source": [
    "instance = interpreter.eval_problem(problem)"
   ]
  },
  {
   "cell_type": "markdown",
   "metadata": {},
   "source": [
    ":::{hint}\n",
    "The return value of `Interpreter.eval_problem` is an `ommx.v1.Instance` object. For more details about OMMX, please refer to [here](https://jij-inc.github.io/ommx/en/introduction.html).\n",
    ":::"
   ]
  },
  {
   "cell_type": "markdown",
   "metadata": {},
   "source": [
    "Now we have an OMMX instance which we can use as input to the OpenJij sampler. Let’s use `ommx-openjij-adapter` to actually sample the problem:"
   ]
  },
  {
   "cell_type": "code",
   "execution_count": 17,
   "metadata": {},
   "outputs": [
    {
     "name": "stdout",
     "output_type": "stream",
     "text": [
      "Optimal value of the objective function: 369.234375\n"
     ]
    }
   ],
   "source": [
    "from ommx_openjij_adapter import OMMXOpenJijSAAdapter\n",
    "\n",
    "# Solve through SCIP and retrieve results as an ommx.v1.Solution\n",
    "samples = OMMXOpenJijSAAdapter.sample(instance, num_reads=1)\n",
    "\n",
    "print(f\"Optimal value of the objective function: {samples.best_feasible().objective}\")"
   ]
  },
  {
   "cell_type": "markdown",
   "metadata": {},
   "source": [
    "The above code uses simulated annealing from `openjij`, and `num_reads=1` indicates sampling only once. By increasing the value of `num_reads`, you can sample multiple times and explore various results using the response object. However, for this problem, all samples reach the optimal solution, so we sample once and look at the \"best\" solution found."
   ]
  },
  {
   "cell_type": "markdown",
   "metadata": {},
   "source": [
    "The above samples object shows the values found by `openjij` for each decision variable. You can do much more to better process and visualize the results using the OMMX Adapter and OpenJij, or reuse the same mathematical model for different purposes, but please refer to their respective documentation pages for more information."
   ]
  },
  {
   "cell_type": "markdown",
   "metadata": {},
   "source": [
    "## Next Steps\n",
    "\n",
    "- [Examples](https://jij-inc.github.io/JijZept-Tutorials/en/)\n",
    "- [JijZept](https://www.jijzept.com/en/)\n",
    "- [OMMX](https://jij-inc.github.io/ommx/en/introduction.html)"
   ]
  }
 ],
 "metadata": {
  "kernelspec": {
   "display_name": "Python 3 (ipykernel)",
   "language": "python",
   "name": "python3"
  },
  "language_info": {
   "codemirror_mode": {
    "name": "ipython",
    "version": 3
   },
   "file_extension": ".py",
   "mimetype": "text/x-python",
   "name": "python",
   "nbconvert_exporter": "python",
   "pygments_lexer": "ipython3",
   "version": "3.9.18"
  }
 },
 "nbformat": 4,
 "nbformat_minor": 4
}
