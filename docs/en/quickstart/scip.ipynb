{
 "cells": [
  {
   "cell_type": "markdown",
   "metadata": {},
   "source": [
    "# Solving Optimization Problems with SCIP\n",
    "\n",
    "To understand how to use `jijmodeling`, let's solve the knapsack problem on this page. However, since `jijmodeling` is a tool for describing mathematical models, it cannot solve optimization problems on its own. Therefore, we will solve it in combination with the mathematical optimization solver [SCIP](https://www.scipopt.org/).\n",
    "\n",
    "To use `jijmodeling` with SCIP, you need to install a Python package called `ommx-pyscipopt-adapter` ([GitHub](https://github.com/Jij-Inc/ommx/tree/main/python/ommx-pyscipopt-adapter), [PyPI](https://pypi.org/project/ommx-pyscipopt-adapter/)). Please install it with the following command:\n",
    "\n",
    "```bash\n",
    "pip install ommx-pyscipopt-adapter\n",
    "```"
   ]
  },
  {
   "cell_type": "markdown",
   "metadata": {},
   "source": [
    "## Problem Setting\n",
    "\n",
    "The knapsack problem can be formulated as a mathematical model as follows:\n",
    "\n",
    "$$\n",
    "\\begin{align*}\n",
    "\\mathrm{maximize} \\quad & \\sum_{i=0}^{N-1} v_i x_i \\\\\n",
    "\\mathrm{s.t.} \\quad & \\sum_{i=0}^{n-1} w_i x_i \\leq W, \\\\\n",
    "& x_{i} \\in \\{ 0, 1\\} \n",
    "\\end{align*}\n",
    "$$\n",
    "\n",
    ":::{hint}\n",
    "For more details on the formulation of the knapsack problem, please refer to [here](https://www.documentation.jijzept.com/docs/tutorial/knapsack/).\n",
    ":::\n",
    "\n",
    "The meaning of each parameter in this mathematical model is as follows:\n",
    "\n",
    "| Parameter | Description |\n",
    "| --- | --- |\n",
    "| $N$ |\tTotal number of items |\n",
    "| $v_{i}$ | Value of item $i$ |\n",
    "| $w_{i}$ | Weight of item $i$ |\n",
    "| $W$ | Weight capacity of the knapsack |\n",
    "\n",
    "In this explanation, we will solve an [instance](what_is_instance) obtained by inputting the following values into the parameters $v_{i}, w_{i}, W$ of the above mathematical model:\n",
    "\n",
    "| Parameter | Value |\n",
    "| --- | --- |\n",
    "| $v_{i}$ | `[10, 13, 18, 31, 7, 15]` |\n",
    "| $w_{i}$ | `[11, 15, 20, 35, 10, 33]` |\n",
    "| $W$ | `47` |\n",
    "\n",
    "(what_is_instance)=\n",
    ":::{admonition} What is an instance?\n",
    "In `jijmodeling`, an instance is a mathematical model with specific values assigned to its parameters.\n",
    ":::"
   ]
  },
  {
   "cell_type": "markdown",
   "metadata": {},
   "source": [
    "## Procedure for Generating an Instance\n",
    "\n",
    "Using `jijmodeling`, you can generate an instance to input into the solver in the following three steps:\n",
    "\n",
    "1. Formulate the knapsack problem with `jijmodeling`\n",
    "2. Register instance data in the `Interpreter` object\n",
    "3. Convert the mathematical model to an instance using the `Interpreter` object\n",
    "\n",
    "![Diagram of the process to generate an instance from a mathematical model](./assets/scip_01.png)"
   ]
  },
  {
   "cell_type": "markdown",
   "metadata": {},
   "source": [
    "## Step1. Formulate the Knapsack Problem with JijModeling\n",
    "\n",
    "The following Python code formulates the knapsack problem using `jijmodeling`:"
   ]
  },
  {
   "cell_type": "code",
   "execution_count": 1,
   "metadata": {},
   "outputs": [
    {
     "data": {
      "text/latex": [
       "$$\\begin{array}{cccc}\\text{Problem:} & \\text{problem} & & \\\\& & \\max \\quad \\displaystyle \\sum_{i = 0}^{N - 1} v_{i} \\cdot x_{i} & \\\\\\text{{s.t.}} & & & \\\\ & \\text{Weight Constraint} & \\displaystyle \\sum_{i = 0}^{N - 1} w_{i} \\cdot x_{i} \\leq W &  \\\\\\text{{where}} & & & \\\\& x & 1\\text{-dim binary variable}\\\\\\end{array}$$"
      ],
      "text/plain": [
       "<jijmodeling.Problem at 0x12567f6f0>"
      ]
     },
     "execution_count": 1,
     "metadata": {},
     "output_type": "execute_result"
    }
   ],
   "source": [
    "import jijmodeling as jm\n",
    "\n",
    "# Value of items\n",
    "v = jm.Placeholder(\"v\", ndim=1)\n",
    "# Weight of items\n",
    "w = jm.Placeholder(\"w\", ndim=1)\n",
    "# Weight capacity of the knapsack\n",
    "W = jm.Placeholder(\"W\")\n",
    "# Total number of items\n",
    "N = v.len_at(0, latex=\"N\")\n",
    "# Decision variable: 1 if item i is in the knapsack, 0 otherwise\n",
    "x = jm.BinaryVar(\"x\", shape=(N,)) \n",
    "# Index running over the assigned numbers of items\n",
    "i = jm.Element(\"i\", belong_to=(0, N))\n",
    "\n",
    "problem = jm.Problem(\"problem\", sense=jm.ProblemSense.MAXIMIZE)\n",
    "# Objective function\n",
    "problem += jm.sum(i, v[i] * x[i])\n",
    "# Constraint: Do not exceed the weight capacity of the knapsack\n",
    "problem += jm.Constraint(\"Weight Constraint\", jm.sum(i, w[i] * x[i]) <= W)\n",
    "problem"
   ]
  },
  {
   "cell_type": "markdown",
   "metadata": {},
   "source": [
    ":::{hint}\n",
    "For more details on how to formulate with `jijmodeling`, please refer to [here](../tutorials/expressions.ipynb).\n",
    ":::"
   ]
  },
  {
   "cell_type": "markdown",
   "metadata": {},
   "source": [
    "## Step2. Register Instance Data in the `Interpreter` Object\n",
    "\n",
    "Prepare the instance data to be input into the `Placeholder` of the mathematical model formulated in Step1, and register it in the `Interpreter` object.\n",
    "\n",
    "You can register instance data by passing a dictionary with the following keys and values to the constructor of the `Interpreter` class:\n",
    "\n",
    "- Key: String set in the `name` property of the `Placeholder` object\n",
    "- Value: Data to be input"
   ]
  },
  {
   "cell_type": "code",
   "execution_count": 2,
   "metadata": {},
   "outputs": [],
   "source": [
    "instance_data = {\n",
    "    \"v\": [10, 13, 18, 31, 7, 15],  # Data of item values\n",
    "    \"w\": [11, 15, 20, 35, 10, 33], # Data of item weights\n",
    "    \"W\": 47,                       # Data of the knapsack's weight capacity\n",
    "}\n",
    "interpreter = jm.Interpreter(instance_data)"
   ]
  },
  {
   "cell_type": "markdown",
   "metadata": {},
   "source": [
    "## Step3. Convert the Mathematical Model to an Instance Using the `Interpreter` Object\n",
    "\n",
    "To convert the mathematical model to an instance, use the `Interpreter.eval_problem` method. By passing the `Problem` object to the `eval_problem` method of the `Interpreter` object with registered instance data, the `Placeholder` in the `Problem` object will be filled with the instance data and converted to an instance:"
   ]
  },
  {
   "cell_type": "code",
   "execution_count": 3,
   "metadata": {},
   "outputs": [],
   "source": [
    "instance = interpreter.eval_problem(problem)"
   ]
  },
  {
   "cell_type": "markdown",
   "metadata": {},
   "source": [
    ":::{hint}\n",
    "The return value of `Interpreter.eval_problem` is an `ommx.v1.Instance` object. For more details about OMMX, please refer to [here](https://github.com/Jij-Inc/ommx).\n",
    ":::"
   ]
  },
  {
   "cell_type": "markdown",
   "metadata": {},
   "source": [
    "## Solving the Optimization Problem\n",
    "\n",
    "Now, let's solve the instance obtained in Step3 with the optimization solver SCIP. The following Python code can be used to obtain the optimal value of the objective function:"
   ]
  },
  {
   "cell_type": "code",
   "execution_count": 4,
   "metadata": {},
   "outputs": [
    {
     "name": "stdout",
     "output_type": "stream",
     "text": [
      "Optimal value of the objective function: 41.0\n"
     ]
    }
   ],
   "source": [
    "from ommx_pyscipopt_adapter import instance_to_model, model_to_solution\n",
    "\n",
    "# Convert the instance to a format readable by SCIP\n",
    "model = instance_to_model(instance)\n",
    "# Solve the instance with SCIP\n",
    "model.optimize()\n",
    "# Retrieve the results obtained by SCIP\n",
    "solution = model_to_solution(model, instance)\n",
    "\n",
    "print(f\"Optimal value of the objective function: {solution.objective}\")"
   ]
  },
  {
   "cell_type": "markdown",
   "metadata": {},
   "source": [
    "In addition, you can display the state of the decision variables as a `pandas.DataFrame` object using the `decision_variables` property of `solution`:"
   ]
  },
  {
   "cell_type": "code",
   "execution_count": 5,
   "metadata": {},
   "outputs": [
    {
     "data": {
      "text/html": [
       "<div>\n",
       "<style scoped>\n",
       "    .dataframe tbody tr th:only-of-type {\n",
       "        vertical-align: middle;\n",
       "    }\n",
       "\n",
       "    .dataframe tbody tr th {\n",
       "        vertical-align: top;\n",
       "    }\n",
       "\n",
       "    .dataframe thead tr th {\n",
       "        text-align: left;\n",
       "    }\n",
       "\n",
       "    .dataframe thead tr:last-of-type th {\n",
       "        text-align: right;\n",
       "    }\n",
       "</style>\n",
       "<table border=\"1\" class=\"dataframe\">\n",
       "  <thead>\n",
       "    <tr>\n",
       "      <th></th>\n",
       "      <th>name</th>\n",
       "      <th>subscripts</th>\n",
       "      <th>value</th>\n",
       "    </tr>\n",
       "    <tr>\n",
       "      <th></th>\n",
       "      <th></th>\n",
       "      <th></th>\n",
       "      <th></th>\n",
       "    </tr>\n",
       "    <tr>\n",
       "      <th>id</th>\n",
       "      <th></th>\n",
       "      <th></th>\n",
       "      <th></th>\n",
       "    </tr>\n",
       "  </thead>\n",
       "  <tbody>\n",
       "    <tr>\n",
       "      <th>0</th>\n",
       "      <td>x</td>\n",
       "      <td>[0]</td>\n",
       "      <td>1.0</td>\n",
       "    </tr>\n",
       "    <tr>\n",
       "      <th>1</th>\n",
       "      <td>x</td>\n",
       "      <td>[1]</td>\n",
       "      <td>1.0</td>\n",
       "    </tr>\n",
       "    <tr>\n",
       "      <th>2</th>\n",
       "      <td>x</td>\n",
       "      <td>[2]</td>\n",
       "      <td>1.0</td>\n",
       "    </tr>\n",
       "    <tr>\n",
       "      <th>3</th>\n",
       "      <td>x</td>\n",
       "      <td>[3]</td>\n",
       "      <td>0.0</td>\n",
       "    </tr>\n",
       "    <tr>\n",
       "      <th>4</th>\n",
       "      <td>x</td>\n",
       "      <td>[4]</td>\n",
       "      <td>0.0</td>\n",
       "    </tr>\n",
       "    <tr>\n",
       "      <th>5</th>\n",
       "      <td>x</td>\n",
       "      <td>[5]</td>\n",
       "      <td>0.0</td>\n",
       "    </tr>\n",
       "  </tbody>\n",
       "</table>\n",
       "</div>"
      ],
      "text/plain": [
       "   name subscripts value\n",
       "                        \n",
       "id                      \n",
       "0     x        [0]   1.0\n",
       "1     x        [1]   1.0\n",
       "2     x        [2]   1.0\n",
       "3     x        [3]   0.0\n",
       "4     x        [4]   0.0\n",
       "5     x        [5]   0.0"
      ]
     },
     "execution_count": 5,
     "metadata": {},
     "output_type": "execute_result"
    }
   ],
   "source": [
    "solution.decision_variables[[\"name\", \"subscripts\", \"value\"]]"
   ]
  },
  {
   "cell_type": "markdown",
   "metadata": {},
   "source": [
    ":::{hint}\n",
    "`ommx_pyscipopt_adapter` の `model_to_solution` の返却値は `ommx.v1.Solution` オブジェクトです。OMMXについて詳しく知りたい場合は[こちら](https://github.com/Jij-Inc/ommx)を参照してください。\n",
    ":::"
   ]
  }
 ],
 "metadata": {
  "kernelspec": {
   "display_name": ".venv",
   "language": "python",
   "name": "python3"
  },
  "language_info": {
   "codemirror_mode": {
    "name": "ipython",
    "version": 3
   },
   "file_extension": ".py",
   "mimetype": "text/x-python",
   "name": "python",
   "nbconvert_exporter": "python",
   "pygments_lexer": "ipython3",
   "version": "3.11.4"
  }
 },
 "nbformat": 4,
 "nbformat_minor": 2
}
