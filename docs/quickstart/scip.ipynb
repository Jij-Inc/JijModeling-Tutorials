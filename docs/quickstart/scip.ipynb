{
 "cells": [
  {
   "cell_type": "markdown",
   "metadata": {},
   "source": [
    "# SCIPで最適化問題を解く\n",
    "\n",
    "`jijmodeling` の使い方を理解するために、このページではナップサック問題を解いてみましょう。ただし、`jijmodeling` は数理モデルを記述するためのツールであるため、単独では最適化問題を解くことはできません。なので、数理最適化ソルバー[SCIP](https://www.scipopt.org/)と組み合わせて解くこととします。\n",
    "\n",
    "`jijmodeling` とSCIPを組み合わせて使うには、 `ommx-pyscipopt-adapter` ([GitHub](https://github.com/Jij-Inc/ommx/tree/main/python/ommx-pyscipopt-adapter), [PyPI](https://pypi.org/project/ommx-pyscipopt-adapter/)) というPythonパッケージをインストールする必要があります。以下のコマンドでインストールしてください。\n",
    "\n",
    "```bash\n",
    "pip install ommx-pyscipopt-adapter\n",
    "```"
   ]
  },
  {
   "cell_type": "markdown",
   "metadata": {},
   "source": [
    "## 問題設定\n",
    "\n",
    "ナップサック問題は以下のように数理モデルとして定式化することができます：\n",
    "\n",
    "$$\n",
    "\\begin{align*}\n",
    "\\mathrm{maximize} \\quad & \\sum_{i=0}^{N-1} v_i x_i \\\\\n",
    "\\mathrm{s.t.} \\quad & \\sum_{i=0}^{n-1} w_i x_i \\leq W, \\\\\n",
    "& x_{i} \\in \\{ 0, 1\\} \n",
    "\\end{align*}\n",
    "$$\n",
    "\n",
    ":::{hint}\n",
    "ナップサック問題の定式化について詳しく知りたい場合は [こちら](https://www.documentation.jijzept.com/docs/tutorial/knapsack/) を参照してください。\n",
    ":::\n",
    "\n",
    "この数理モデルにあるそれぞれのパラメーターの意味は以下の通りです：\n",
    "\n",
    "| パラメーター | 説明 |\n",
    "| --- | --- |\n",
    "| $N$ |\tアイテムの総数 |\n",
    "| $v_{i}$ | アイテム $i$ の価値 |\n",
    "| $w_{i}$ | アイテム $i$ の重さ |\n",
    "| $W$ | ナップサックの耐荷重 |\n",
    "\n",
    "今回の説明では、上記の数理モデルのパラメーター $v_{i}, w_{i}, W$ に、次の値を入力して得られる[インスタンス](what_is_instance)を解くことを考えます：\n",
    "\n",
    "| パラメーター | 値 |\n",
    "| --- | --- |\n",
    "| $v_{i}$ | `[10, 13, 18, 31, 7, 15]` |\n",
    "| $w_{i}$ | `[11, 15, 20, 35, 10, 33]` |\n",
    "| $W$ | `47` |\n",
    "\n",
    "(what_is_instance)=\n",
    ":::{admonition} インスタンスとは\n",
    "`jijmodeling` では、数理モデルのパラメータに具体的な値を入れたものを”インスタンス”と呼んでいます。\n",
    ":::"
   ]
  },
  {
   "cell_type": "markdown",
   "metadata": {},
   "source": [
    "## インスタンスの生成手順\n",
    "\n",
    "`jijmodeling` を使うと、ソルバーに入力するためのインスタンスを次の3ステップで生成できます：\n",
    "\n",
    "1. `jijmodeling` でナップサック問題を定式化する\n",
    "2. `Interpreter` オブジェクトにインスタンスデータを登録する\n",
    "3. `Interpreter` オブジェクトを使って数理モデルをインスタンスに変換する\n",
    "\n",
    "![Diagram of the process to generate an instance from a mathematical model](./assets/scip_01.png)"
   ]
  },
  {
   "cell_type": "markdown",
   "metadata": {},
   "source": [
    "## Step1. JijModelingでナップサック問題を定式化する\n",
    "\n",
    "`jijmodeling` を使用してナップサック問題を定式化すると、以下のPythonコードになります："
   ]
  },
  {
   "cell_type": "code",
   "execution_count": 13,
   "metadata": {},
   "outputs": [
    {
     "data": {
      "text/latex": [
       "$$\\begin{array}{cccc}\\text{Problem:} & \\text{problem} & & \\\\& & \\max \\quad \\displaystyle \\sum_{i = 0}^{N - 1} v_{i} \\cdot x_{i} & \\\\\\text{{s.t.}} & & & \\\\ & \\text{重量制限} & \\displaystyle \\sum_{i = 0}^{N - 1} w_{i} \\cdot x_{i} \\leq W &  \\\\\\text{{where}} & & & \\\\& x & 1\\text{-dim binary variable}\\\\\\end{array}$$"
      ],
      "text/plain": [
       "<jijmodeling.Problem at 0x1234887d0>"
      ]
     },
     "execution_count": 13,
     "metadata": {},
     "output_type": "execute_result"
    }
   ],
   "source": [
    "import jijmodeling as jm\n",
    "\n",
    "# アイテムの価値\n",
    "v = jm.Placeholder(\"v\", ndim=1)\n",
    "# アイテムの重さ\n",
    "w = jm.Placeholder(\"w\", ndim=1)\n",
    "# ナップサックの耐荷重\n",
    "W = jm.Placeholder(\"W\")\n",
    "# アイテムの総数\n",
    "N = v.len_at(0, latex=\"N\")\n",
    "# アイテムiをナップサックに入れる場合は1, 入れない場合は0を取る決定変数\n",
    "x = jm.BinaryVar(\"x\", shape=(N,)) \n",
    "# アイテムに割り当てられた番号を走る添え字\n",
    "i = jm.Element(\"i\", belong_to=(0, N))\n",
    "\n",
    "problem = jm.Problem(\"problem\", sense=jm.ProblemSense.MAXIMIZE)\n",
    "# 目的関数\n",
    "problem += jm.sum(i, v[i] * x[i])\n",
    "# 制約条件: ナップサックの耐荷重を超えない\n",
    "problem += jm.Constraint(\"重量制限\", jm.sum(i, w[i] * x[i]) <= W)\n",
    "problem"
   ]
  },
  {
   "cell_type": "markdown",
   "metadata": {},
   "source": [
    ":::{hint}\n",
    "`jijmodeling` での定式化の方法については詳しく知りたい場合は[こちら](../tutorials/expressions.ipynb)を参照してください。\n",
    ":::"
   ]
  },
  {
   "cell_type": "markdown",
   "metadata": {},
   "source": [
    "## Step2. `Interpreter` オブジェクトにインスタンスデータを登録する\n",
    "\n",
    "Step1で定式化した数理モデルの `Placeholder` に入力するインスタンスデータを用意し、 `Interpreter` オブジェクトに登録します。\n",
    "\n",
    "`Interpreter` クラスのコンストラクタの引数に、以下のキーと値を持つ辞書を渡すことでインスタンスデータを登録できます：\n",
    "\n",
    "- キー：`Placeholder` オブジェクトの `name` プロパティに設定した文字列\n",
    "- 値：入力するデータ"
   ]
  },
  {
   "cell_type": "code",
   "execution_count": 15,
   "metadata": {},
   "outputs": [],
   "source": [
    "instance_data = {\n",
    "    \"v\": [10, 13, 18, 31, 7, 15],  # アイテムの価値のデータ\n",
    "    \"w\": [11, 15, 20, 35, 10, 33], # アイテムの重さのデータ\n",
    "    \"W\": 47,                       # ナップサックの耐荷重のデータ\n",
    "}\n",
    "interpreter = jm.Interpreter(instance_data)"
   ]
  },
  {
   "cell_type": "markdown",
   "metadata": {},
   "source": [
    "## Step3. `Interpreter` オブジェクトを使って数理モデルをインスタンスに変換する\n",
    "\n",
    "数理モデルをインスタンスに変換するには、`Interpreter.eval_problem` メソッドを使用します。インスタンスデータが登録された `Interpreter` オブジェクトの `eval_problem` メソッドに `Problem` オブジェクトを渡すと、その `Problem` オブジェクトが持つ `Placeholder` にインスタンスデータを入力され、インスタンスに変換されます:"
   ]
  },
  {
   "cell_type": "code",
   "execution_count": 3,
   "metadata": {},
   "outputs": [],
   "source": [
    "instance = interpreter.eval_problem(problem)"
   ]
  },
  {
   "cell_type": "markdown",
   "metadata": {},
   "source": [
    ":::{hint}\n",
    "`Interpreter.eval_problem` の返却値は `ommx.v1.Instance` オブジェクトです。OMMXについて詳しく知りたい場合は[こちら](https://github.com/Jij-Inc/ommx)を参照してください。\n",
    ":::"
   ]
  },
  {
   "cell_type": "markdown",
   "metadata": {},
   "source": [
    "## 最適化問題を解く\n",
    "\n",
    "では、Step3で得られたインスタンスを最適化ソルバーSCIPで解いてみましょう。以下のPythonコードで目的関数の最適値を得ることができます:"
   ]
  },
  {
   "cell_type": "code",
   "execution_count": null,
   "metadata": {},
   "outputs": [
    {
     "name": "stdout",
     "output_type": "stream",
     "text": [
      "目的関数の最適値: 41.0\n"
     ]
    }
   ],
   "source": [
    "from ommx_pyscipopt_adapter import instance_to_model, model_to_solution\n",
    "\n",
    "# インスタンスをSCIPの読み取れる形に変換する\n",
    "model = instance_to_model(instance)\n",
    "# SCIPでインスタンスを解く\n",
    "model.optimize()\n",
    "# SCIPで得られた結果を取得する\n",
    "solution = model_to_solution(model, instance)\n",
    "\n",
    "print(f\"目的関数の最適値: {solution.objective}\")"
   ]
  },
  {
   "cell_type": "markdown",
   "metadata": {},
   "source": [
    "また、`solution` の `decision_variables` プロパティを使うことで `pandas.DataFrame` オブジェクトとして決定変数の状態を表示できます:"
   ]
  },
  {
   "cell_type": "code",
   "execution_count": 18,
   "metadata": {},
   "outputs": [
    {
     "data": {
      "text/html": [
       "<div>\n",
       "<style scoped>\n",
       "    .dataframe tbody tr th:only-of-type {\n",
       "        vertical-align: middle;\n",
       "    }\n",
       "\n",
       "    .dataframe tbody tr th {\n",
       "        vertical-align: top;\n",
       "    }\n",
       "\n",
       "    .dataframe thead tr th {\n",
       "        text-align: left;\n",
       "    }\n",
       "\n",
       "    .dataframe thead tr:last-of-type th {\n",
       "        text-align: right;\n",
       "    }\n",
       "</style>\n",
       "<table border=\"1\" class=\"dataframe\">\n",
       "  <thead>\n",
       "    <tr>\n",
       "      <th></th>\n",
       "      <th>name</th>\n",
       "      <th>subscripts</th>\n",
       "      <th>value</th>\n",
       "    </tr>\n",
       "    <tr>\n",
       "      <th></th>\n",
       "      <th></th>\n",
       "      <th></th>\n",
       "      <th></th>\n",
       "    </tr>\n",
       "    <tr>\n",
       "      <th>id</th>\n",
       "      <th></th>\n",
       "      <th></th>\n",
       "      <th></th>\n",
       "    </tr>\n",
       "  </thead>\n",
       "  <tbody>\n",
       "    <tr>\n",
       "      <th>0</th>\n",
       "      <td>x</td>\n",
       "      <td>[0]</td>\n",
       "      <td>1.0</td>\n",
       "    </tr>\n",
       "    <tr>\n",
       "      <th>1</th>\n",
       "      <td>x</td>\n",
       "      <td>[1]</td>\n",
       "      <td>1.0</td>\n",
       "    </tr>\n",
       "    <tr>\n",
       "      <th>2</th>\n",
       "      <td>x</td>\n",
       "      <td>[2]</td>\n",
       "      <td>1.0</td>\n",
       "    </tr>\n",
       "    <tr>\n",
       "      <th>3</th>\n",
       "      <td>x</td>\n",
       "      <td>[3]</td>\n",
       "      <td>0.0</td>\n",
       "    </tr>\n",
       "    <tr>\n",
       "      <th>4</th>\n",
       "      <td>x</td>\n",
       "      <td>[4]</td>\n",
       "      <td>0.0</td>\n",
       "    </tr>\n",
       "    <tr>\n",
       "      <th>5</th>\n",
       "      <td>x</td>\n",
       "      <td>[5]</td>\n",
       "      <td>0.0</td>\n",
       "    </tr>\n",
       "  </tbody>\n",
       "</table>\n",
       "</div>"
      ],
      "text/plain": [
       "   name subscripts value\n",
       "                        \n",
       "id                      \n",
       "0     x        [0]   1.0\n",
       "1     x        [1]   1.0\n",
       "2     x        [2]   1.0\n",
       "3     x        [3]   0.0\n",
       "4     x        [4]   0.0\n",
       "5     x        [5]   0.0"
      ]
     },
     "execution_count": 18,
     "metadata": {},
     "output_type": "execute_result"
    }
   ],
   "source": [
    "solution.decision_variables[[\"name\", \"subscripts\", \"value\"]]"
   ]
  },
  {
   "cell_type": "markdown",
   "metadata": {},
   "source": [
    ":::{hint}\n",
    "`ommx_pyscipopt_adapter` の `model_to_solution` の返却値は `ommx.v1.Solution` オブジェクトです。OMMXについて詳しく知りたい場合は[こちら](https://github.com/Jij-Inc/ommx)を参照してください。\n",
    ":::"
   ]
  }
 ],
 "metadata": {
  "kernelspec": {
   "display_name": ".venv",
   "language": "python",
   "name": "python3"
  },
  "language_info": {
   "codemirror_mode": {
    "name": "ipython",
    "version": 3
   },
   "file_extension": ".py",
   "mimetype": "text/x-python",
   "name": "python",
   "nbconvert_exporter": "python",
   "pygments_lexer": "ipython3",
   "version": "3.9.16"
  }
 },
 "nbformat": 4,
 "nbformat_minor": 2
}
