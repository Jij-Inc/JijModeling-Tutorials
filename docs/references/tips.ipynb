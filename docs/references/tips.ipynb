{
 "cells": [
  {
   "cell_type": "markdown",
   "id": "401c06b6-0401-4615-bdfe-05ec1e2c2ed5",
   "metadata": {},
   "source": [
    "# Tips\n",
    "\n",
    "## Adding terms to an objective function\n",
    "\n",
    "Objective functions in `Problem` are not mutable. Attempting to add another objective function replaces the previous one."
   ]
  },
  {
   "cell_type": "code",
   "execution_count": null,
   "id": "e52f2f5a-0db6-44e4-a2d4-90089b10f091",
   "metadata": {},
   "outputs": [],
   "source": [
    "import jijmodeling as jm\n",
    "\n",
    "c = jm.Placeholder(\"c\", ndim=1)\n",
    "N = c.len_at(0)\n",
    "x = jm.BinaryVar(\"x\", shape=(N,))\n",
    "i = jm.Element(\"i\", (0, N))\n",
    "problem = jm.Problem(\"my problem\")\n",
    "problem += jm.sum(i, c[i] * x[i]) # sets our objective function\n",
    "\n",
    "# if we later want this to have another variable, we need to write out\n",
    "#  a new expression as the new objective function\n",
    "d = jm.Placeholder(\"d\", ndim=1)\n",
    "M = d.len_at(0)\n",
    "y = jm.BinaryVar(\"y\", shape=(M,))\n",
    "j = jm.Element(\"j\", (0, M))\n",
    "problem += jm.sum(i, c[i] * x[i]) + jm.sum(j, d[j] * y[j])"
   ]
  },
  {
   "cell_type": "markdown",
   "id": "7287b601-5e1e-4d5c-a58d-ece7e05673e0",
   "metadata": {},
   "source": [
    "In cases where you want to build up a more complex objective function from simpler terms, you can simply store them in variables before writing out the final expression. For example:"
   ]
  },
  {
   "cell_type": "code",
   "execution_count": null,
   "id": "9a9caf33-e82c-4eef-94da-fc38638a0a1f",
   "metadata": {},
   "outputs": [],
   "source": [
    "sum_of_xs = jm.sum(i, c[i] * x[i])\n",
    "sum_of_ys = jm.sum(j, d[j] * y[j])\n",
    "problem += sum_of_xs + sum_of_ys"
   ]
  },
  {
   "cell_type": "markdown",
   "id": "27a7cd4e-0e1c-4395-88c9-0e2ed823a6c8",
   "metadata": {},
   "source": [
    "Note that `jijmodeling` does not support multiple objective functions in a single problem. Models must be adapted to work with a single objective function."
   ]
  },
  {
   "cell_type": "markdown",
   "id": "4bb9ca8e-e701-4e76-863a-c39115b5b33e",
   "metadata": {},
   "source": [
    "## Using specific sets of numbers with `Element`\n",
    "\n",
    "Some users might expect to be able to create an index $i \\in \\{0, 1, 2\\}$ using Python sets:\n",
    "```python\n",
    "import jijmodeling as jm\n",
    "i = jm.Element(\"i\", {0,1,2}) # does not work\n",
    "```\n",
    "\n",
    "However, the above is not supported. We can use a range-based notation to define the same index (note that because this range is half-open, we need to write `(0, 3)` to get $\\{0, 1, 2\\}$):"
   ]
  },
  {
   "cell_type": "code",
   "execution_count": null,
   "id": "ef8dcd2a-1aef-498c-b26f-13248b5169f1",
   "metadata": {},
   "outputs": [],
   "source": [
    "i = jm.Element(\"i\", (0, 3))"
   ]
  },
  {
   "cell_type": "markdown",
   "id": "2a8eb711-df28-4cc9-823e-2d8e11b2f903",
   "metadata": {},
   "source": [
    "For more complex use-cases where your index isn’t just a simple interval of integers, there are two options.\n",
    "\n",
    "One of them is to create a one-dimensional `Placeholder` representing your set. This is particularly useful for arbitrary sets of numbers, say  $E = \\{2, 4, 10, 35, 36\\}$. This makes `Element` work very much like the set notation above, but the values within the set are not specified as part of the model directly. To write an `Element` representing $e \\in E$:"
   ]
  },
  {
   "cell_type": "code",
   "execution_count": null,
   "id": "aa8e6025-f3c6-4def-977c-07c7b2051b4c",
   "metadata": {},
   "outputs": [],
   "source": [
    "E = jm.Placeholder(\"E\", ndim=1)\n",
    "e = jm.Element(\"e\", E)"
   ]
  },
  {
   "cell_type": "markdown",
   "id": "d9fd8e1b-f33e-4dd8-9153-d1e515a8056a",
   "metadata": {},
   "source": [
    "Then the actual values of `E` become part of the instance data when converting your model.\n",
    "\n",
    "The other alternative is to use a condition to restrict the valid values within a range. This is useful when which integers you want follow a logical rule. You can see this [other tip](../tutorials/expressions.ipynb) for how to do this."
   ]
  },
  {
   "cell_type": "markdown",
   "id": "95eb11c4-b76a-41b0-8391-ab3141dd3d43",
   "metadata": {},
   "source": [
    "## Using conditions with `Element`\n",
    "\n",
    "Often in models you’ll have some additional conditions for an index, such as $i \\neq j$. These conditions are specified when defining your summation or constraint, not when creating the element. In the index parameter of `sum` you can give a tuple `(<element>, <condition>)`. That `<element>` will be used as the index, but `<condition>` will be applied and only values for which it is true will be used.\n",
    "\n",
    "For example, to sum over all $x_i$ with even $i$: "
   ]
  },
  {
   "cell_type": "code",
   "execution_count": null,
   "id": "e973ef97-c3a4-4715-b5d6-20cfe14e78c6",
   "metadata": {},
   "outputs": [],
   "source": [
    "import jijmodeling as jm\n",
    "i = jm.Element(\"i\", (0, 100))\n",
    "x = jm.BinaryVar(\"x\", shape=(100,))\n",
    "\n",
    "sum_over_even_is = jm.sum((i, i % 2 == 0), x[i])"
   ]
  },
  {
   "cell_type": "markdown",
   "id": "89c28142-20c3-4b4b-9539-c984b0bf48a4",
   "metadata": {},
   "source": [
    "Conditions can refer to the value of other `Element`s being used in the same index. Note that they must be in order, that is, you can only refer to elements that come before it in the list. So to write a sum over two indices $i, j$ where $i \\neq j$, you can write:"
   ]
  },
  {
   "cell_type": "code",
   "execution_count": null,
   "id": "b44d2ba3-8d7c-4dd5-97d7-382fce2cb6f5",
   "metadata": {},
   "outputs": [],
   "source": [
    "import jijmodeling as jm\n",
    "\n",
    "i = jm.Element(\"i\", (0, 100))\n",
    "j = jm.Element(\"j\", (0, 100))\n",
    "x = jm.BinaryVar(\"x\", shape=(100, 100))\n",
    "\n",
    "jm.sum([i, (j, j!= i)], x[i, j])"
   ]
  },
  {
   "cell_type": "markdown",
   "id": "d7f6000c-b47f-479b-b3f1-050376d14f4e",
   "metadata": {},
   "source": [
    "The same conditional tuple notation can used in the `forall` list given to a constraint:"
   ]
  },
  {
   "cell_type": "code",
   "execution_count": null,
   "id": "69cec7eb-4966-410a-9596-3b5dcbff7858",
   "metadata": {},
   "outputs": [],
   "source": [
    "jm.Constraint(\"c1\", x[i, j] - x[j, i] >= 0, forall=[i, (j, j != i)])"
   ]
  },
  {
   "cell_type": "markdown",
   "id": "8c0835d5-93d7-4aec-ac2d-95882d4f6e66",
   "metadata": {},
   "source": [
    "To apply more complex conditions to an index, conditional expressions can be combined with the operators `&` (logical AND), `|` (logical OR), `^` (logical XOR):"
   ]
  },
  {
   "cell_type": "code",
   "execution_count": null,
   "id": "5bf07854-be0d-42f1-b7b8-b3af40fc7fae",
   "metadata": {},
   "outputs": [],
   "source": [
    "jm.sum((i, (i % 2 == 0) | (i % 5 == 0)), x[i, 0])"
   ]
  },
  {
   "cell_type": "markdown",
   "id": "3d4425ad-e852-4841-94af-7ae601832d91",
   "metadata": {},
   "source": [
    "## Handling two-sided constraints\n",
    " \n",
    "In mathematical models it’s common to have two-sided constraints, with inequalities like $l \\leq x + y \\leq u$. These are not directly supported in `jijmodeling`, and attempting to create an inequality like this should result in an exception saying `Converting <class> to boolean is unsupported`.\n",
    "\n",
    "Instead, you should separate this into two constraints, each with one inequality."
   ]
  },
  {
   "cell_type": "code",
   "execution_count": null,
   "id": "58bf9c54-481e-4939-988a-3f200a89a6b0",
   "metadata": {},
   "outputs": [],
   "source": [
    "import jijmodeling as jm\n",
    "\n",
    "l, u = jm.Placeholder(\"l\"), jm.Placeholder(\"u\")\n",
    "x = jm.IntegerVar(\"x\", lower_bound=0, upper_bound=10)\n",
    "y = jm.IntegerVar(\"y\", lower_bound=5, upper_bound=20)\n",
    "\n",
    "problem = jm.Problem(\"problem\")\n",
    "problem += jm.Constraint(\"greater than l\", l <= x + y)\n",
    "problem += jm.Constraint(\"less than u\", x + y <= u)\n",
    "problem"
   ]
  },
  {
   "cell_type": "markdown",
   "id": "abadb7d3-9a6c-48b4-9fd0-f2e9460326c4",
   "metadata": {},
   "source": [
    "## I want to use dependent variables\n",
    "\n",
    "Let’s suppose we want to write constraints such as:\n",
    "\n",
    "$$\n",
    "\\begin{array}{cccc} & \\text{constraint:} &\n",
    "\\displaystyle y_{i} \\leq c & \\forall i \\in \\left\\{0,\\ldots,N - 1\\right\\} \\\\ \\end{array}\\quad\n",
    "\\text{where}\\quad y_{i} = a_{i} x_{i} + b\n",
    "$$\n",
    "\n",
    "Here $y_i$ is a dependent variable. It’s easy enough to write such dependent expressions, and we can even use `set_latex` to force it to display as $y_i$ if we wish:"
   ]
  },
  {
   "cell_type": "code",
   "execution_count": null,
   "id": "27f6a0db-8109-46b0-8179-0ffe11f22041",
   "metadata": {},
   "outputs": [],
   "source": [
    "import jijmodeling as jm\n",
    "\n",
    "a = jm.Placeholder(\"a\", ndim=1)\n",
    "b = jm.Placeholder(\"b\")\n",
    "N = a.len_at(0, latex=\"N\")\n",
    "x = jm.BinaryVar(\"x\", shape=(N,))\n",
    "i = jm.Element(\"i\", belong_to=N)\n",
    "c = jm.Placeholder(\"c\")\n",
    "\n",
    "y = a[i] * x[i] + b\n",
    "y.set_latex(\"y_i\")\n",
    "jm.Constraint(\"constraint\", y <= c, forall=i)"
   ]
  },
  {
   "cell_type": "markdown",
   "id": "1ddc8b18-a4f3-4f0b-be61-9214708a59df",
   "metadata": {},
   "source": [
    "However, the above lacks some flexibility. `y` is defined explicitly using the index `i`. If this expressions shows up all throughout our model using different indices we’d need to define all combinations separately. In this situation, we can take advantage of of Python functions and lambdas."
   ]
  },
  {
   "cell_type": "code",
   "execution_count": null,
   "id": "65499f90-4661-4c61-998e-9a31bf51d0f4",
   "metadata": {},
   "outputs": [],
   "source": [
    "y = lambda e: a[e] * x[e] + b\n",
    "jm.Constraint(\"constraint\", y(i) <= c, forall=i)\n",
    "\n",
    "# or, for more complex definitions and/or specifying the latex representation\n",
    "def y(e: jm.Element):\n",
    "  y = a[e] * x[e] + b\n",
    "  y.set_latex(\"y_{e.name}\")\n",
    "  return y\n",
    "jm.Constraint(\"constraint\", y(i) <= c, forall=i)"
   ]
  },
  {
   "cell_type": "markdown",
   "id": "bcaff435-052f-4bd2-9021-2f73a393f295",
   "metadata": {},
   "source": [
    "## Multi-dimensional variables with different bounds\n",
    "\n",
    "When defining a multi-dimensional decision variable, one normally specifies a `lower_bound` and `upper_bound` as scalar values, applying the same bound to all member variables."
   ]
  },
  {
   "cell_type": "code",
   "execution_count": null,
   "id": "d76ee44e-ccfe-48c3-8121-b29d26e57e67",
   "metadata": {},
   "outputs": [],
   "source": [
    "N = jm.Placeholder(\"N\")\n",
    "M = jm.Placeholder(\"M\")\n",
    "x = jm.IntegerVar(\"x\", shape=(N, M), lower_bound=0, upper_bound=5)"
   ]
  },
  {
   "cell_type": "markdown",
   "id": "0bd13a3a-601e-4824-b1f0-6b2661255486",
   "metadata": {},
   "source": [
    "In the above, we have `N * M` variables, all of which have a lower bound of 0 and an upper bound of 5, represented by the 2-dimensional `x`. But what if we want them to have different bounds, while still treating them all as one single 2-dimensional variable?\n",
    "\n",
    "In the above, we have `N * M` variables, all of which have a lower bound of 0 and an upper bound of 5, represented by the 2-dimensional `x`. But what if we want them to have different bounds, while still treating them all as one single 2-dimensional variable?\n",
    "\n",
    "We can use `Placeholder`s as the parameters `lower_bound` and `upper_bound`. For scalar placeholders (with `ndim=0`), this works just like a regular number literal. But we can also use a `Placeholder` that has the same number of dimensions as the decision variable, and the elements of that placeholder will be used to specify the bounds. \n",
    "\n",
    "Here's how to set the upper bound of variable $x_{i,j}$ to be the value of $ub_{i,j}$:"
   ]
  },
  {
   "cell_type": "code",
   "execution_count": null,
   "id": "8f3dcb86-7baa-4cea-b3ac-95275605f59c",
   "metadata": {},
   "outputs": [],
   "source": [
    "import jijmodeling as jm\n",
    "\n",
    "ub = jm.Placeholder(\"ub\", ndim=2)\n",
    "N = ub.len_at(0, latex=\"N\")\n",
    "M = ub.len_at(1, latex=\"M\")\n",
    "# all will have a lower bound of 0, but the upper bound is determined using `ub`:\n",
    "x = jm.IntegerVar(\"x\", shape=(N,M), lower_bound=0, upper_bound=ub)"
   ]
  },
  {
   "cell_type": "markdown",
   "id": "df2c47ef-26d4-4df9-aeac-a5d587af2088",
   "metadata": {},
   "source": [
    "Note that this only works if the dimensionality matches. It’s also important to be sure all decision variables have valid bounds. This is done in the above code by defining `N` and `M` based on `ub`.\n",
    "\n",
    "If for some reason you want the bounds be specified as the *inverted* version of the placeholder, or some other scheme of matching axes, we support a special syntax using subscripts. To be clear, this is if you want the upper bound of variable $x_{i,j}$ to be the value of $ub_{j,i}$, with the indices flipped. To do this you can define `Element`s matching the axes, and then specify the upper bound as `ub[j, i]` like so:"
   ]
  },
  {
   "cell_type": "code",
   "execution_count": null,
   "id": "d184be21-dfc9-435b-bc56-2db8ed2f4825",
   "metadata": {},
   "outputs": [],
   "source": [
    "ub = jm.Placeholder(\"ub\", ndim=2)\n",
    "N = ub.len_at(0, latex=\"N\")\n",
    "M = ub.len_at(1, latex=\"M\")\n",
    "i = jm.Element(\"i\", N)\n",
    "j = jm.Element(\"j\", M)\n",
    "x = jm.IntegerVar(\"x\", shape=(N, M), lower_bound=0, upper_bound=ub[j, i])"
   ]
  },
  {
   "cell_type": "markdown",
   "id": "cd412799-7e6b-4a7e-89c8-8ffa3fed18e8",
   "metadata": {},
   "source": [
    "You must still ensure that all variables have valid bounds, so in this case it only makes sense if `N` equals `M`. Note also that this currently has a downside where you will *only* be able to use `x` in sums and constraints with `i` and `j`."
   ]
  },
  {
   "cell_type": "markdown",
   "id": "f150d2cc-7922-4617-a560-435dc32b2385",
   "metadata": {},
   "source": [
    "## Summation over lists of indices with varying sizes\n",
    "\n",
    "In this tip we’ll look over a use case which may seem somewhat niche, but it helps illustrate some techniques related to multi-dimensional placeholders and indexing, which can be more generally applicable.\n",
    "\n",
    "Say we have a two-dimensional decision variable $x$ and we want to write a constraint like the one below: \n",
    "\n",
    "$$\n",
    "\\sum_{a \\in A_{n}} x_{n, a} = 0,\\quad \\forall n \\in \\{0,..., N-1\\}\n",
    "$$\n",
    "\n",
    "Where $A$ is a 2-dimensional jagged array with $N$ rows. That is, $A$ can be thought of a “list of lists”, whose elements we want to use as the *indices* to point at specific decision variables within that row.\n",
    "\n",
    "To be clear on what this constraint means, consider as an example `A = [[1, 2, 3], [0, 1, 4, 5], [2, 3, 5]]`. The constraint would be expanded to:\n",
    "\n",
    "$$\n",
    "\\sum_{a \\in \\{ 1, 2, 3 \\}} x_{0, a} = 0 \\ \\land \\ \\sum_{a \\in \\{ 0, 1, 4, 5 \\}} x_{1, a} = 0 \\ \\land \\ \\sum_{a \\in \\{ 2, 3, 5 \\}} x_{2, a} = 0\n",
    "$$\n",
    "\n",
    "We can write that constraint as:"
   ]
  },
  {
   "cell_type": "code",
   "execution_count": null,
   "id": "7d89ced2-4ffc-4da1-9846-d7e78b1825c6",
   "metadata": {},
   "outputs": [],
   "source": [
    "import jijmodeling as jm\n",
    "\n",
    "A = jm.Placeholder(\"A\", ndim=2)\n",
    "N = A.len_at(0, latex=\"N\")\n",
    "n = jm.Element(\"n\", N) # number of rows in the jagged array\n",
    "a = jm.Element(\"a\", A[n]) # elements in a given row n\n",
    "x = jm.BinaryVar(\"x\", shape=(3,6))\n",
    "\n",
    "jm.Constraint(\"constraint\", jm.sum(a, x[n, a]) == 0, forall=n)"
   ]
  },
  {
   "cell_type": "markdown",
   "id": "16336462-6936-43a8-9c14-55d5b4873ca1",
   "metadata": {},
   "source": [
    "In the example above I defined the shape of `x` with arbitrary numbers (or rather, based on our previous example). In a real model you’ll likely want the shape to also be a parameter, or defined in relation to other parameters to avoid indexing errors. If you just want to make sure there are enough `x`s for this constraint to be valid you can try to define the shape in relation to `A`. `(3,6)` would be replaced by `(number of rows in A, maximum value in A)`. The number of rows is `N`, but we don’t know the largest *value* in `A` during model construction. We can do this by defining an additional placeholder, then just making sure its value in the instance data is obtained from what is actually in `A`."
   ]
  },
  {
   "cell_type": "code",
   "execution_count": null,
   "id": "87e1d812-e9b1-4ee5-bd89-5a3a070944ff",
   "metadata": {},
   "outputs": [],
   "source": [
    "# same A, N, and a as before\n",
    "# an additional parameter, meaning the greatest number found in A\n",
    "max_A = jm.Placeholder(\"max_A\") \n",
    "x = jm.BinaryVar(\"x\", shape=(N, max_A + 1))\n",
    "\n",
    "problem = jm.Problem(\"problem\")\n",
    "problem += jm.Constraint(\"constraint\", jm.sum(a, x[n, a]) == 0, forall=n)"
   ]
  },
  {
   "cell_type": "markdown",
   "id": "4c3a952a-d1c4-47b7-98df-0d843c9bf6a7",
   "metadata": {},
   "source": [
    "When defining your instance data for use with JijModeling-Transpiler or JijZept, you can write:"
   ]
  },
  {
   "cell_type": "code",
   "execution_count": null,
   "id": "0909b661-c3f5-4e60-b9b9-1b3acf65581a",
   "metadata": {},
   "outputs": [],
   "source": [
    "# jagged array\n",
    "data_A = [\n",
    "    [1, 2, 3],\n",
    "    [0, 1, 4, 5],\n",
    "    [2, 3, 5],\n",
    "    # ...\n",
    "]\n",
    "# the largest value in `data_A`\n",
    "data_max_A = max(max(An) for An in data_A)\n",
    "\n",
    "instance_data = {\n",
    "    \"A\": data_A,\n",
    "    \"max_An\": data_max_A,\n",
    "}"
   ]
  }
 ],
 "metadata": {
  "kernelspec": {
   "display_name": "Python 3 (ipykernel)",
   "language": "python",
   "name": "python3"
  },
  "language_info": {
   "codemirror_mode": {
    "name": "ipython",
    "version": 3
   },
   "file_extension": ".py",
   "mimetype": "text/x-python",
   "name": "python",
   "nbconvert_exporter": "python",
   "pygments_lexer": "ipython3",
   "version": "3.9.18"
  }
 },
 "nbformat": 4,
 "nbformat_minor": 5
}
