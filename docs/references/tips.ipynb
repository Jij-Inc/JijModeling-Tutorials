{
 "cells": [
  {
   "cell_type": "markdown",
   "id": "401c06b6-0401-4615-bdfe-05ec1e2c2ed5",
   "metadata": {},
   "source": [
    "# Tips\n",
    "\n",
    "## 目的関数への項の追加\n",
    "\n",
    "`Problem`の目的関数は上書きする仕様になっています。そのため、新しい目的関数を加えると既に設定されている目的関数を上書きしてしまうことに注意してください。"
   ]
  },
  {
   "cell_type": "code",
   "execution_count": 22,
   "id": "e52f2f5a-0db6-44e4-a2d4-90089b10f091",
   "metadata": {},
   "outputs": [],
   "source": [
    "import jijmodeling as jm\n",
    "\n",
    "c = jm.Placeholder(\"c\", ndim=1)\n",
    "N = c.len_at(0)\n",
    "x = jm.BinaryVar(\"x\", shape=(N,))\n",
    "i = jm.Element(\"i\", (0, N))\n",
    "problem = jm.Problem(\"my problem\")\n",
    "problem += jm.sum(i, c[i] * x[i]) # 目的関数を設定\n",
    "\n",
    "# 後から別の変数や式を追加したくなった場合は、\n",
    "# 新しい目的関数として式を作るところから始める必要があります\n",
    "d = jm.Placeholder(\"d\", ndim=1)\n",
    "M = d.len_at(0)\n",
    "y = jm.BinaryVar(\"y\", shape=(M,))\n",
    "j = jm.Element(\"j\", (0, M))\n",
    "problem += jm.sum(i, c[i] * x[i]) + jm.sum(j, d[j] * y[j])"
   ]
  },
  {
   "cell_type": "markdown",
   "id": "7287b601-5e1e-4d5c-a58d-ece7e05673e0",
   "metadata": {},
   "source": [
    "より複雑な目的関数を構築したい場合は、最終的な式を書き出す前に、簡単な項や式を組み立てから足し合わせることをおすすめします。例えば、以下のようにすると良いでしょう。"
   ]
  },
  {
   "cell_type": "code",
   "execution_count": 23,
   "id": "9a9caf33-e82c-4eef-94da-fc38638a0a1f",
   "metadata": {},
   "outputs": [],
   "source": [
    "sum_of_xs = jm.sum(i, c[i] * x[i])\n",
    "sum_of_ys = jm.sum(j, d[j] * y[j])\n",
    "problem += sum_of_xs + sum_of_ys"
   ]
  },
  {
   "cell_type": "markdown",
   "id": "27a7cd4e-0e1c-4395-88c9-0e2ed823a6c8",
   "metadata": {},
   "source": [
    ":::{caution}\n",
    "現在の`jijmodeling`では複数の目的関数を持つ数理モデルをサポートしていません。\n",
    ":::"
   ]
  },
  {
   "cell_type": "markdown",
   "id": "4bb9ca8e-e701-4e76-863a-c39115b5b33e",
   "metadata": {},
   "source": [
    "## 集合に沿った`Element`を定義したい場合\n",
    "\n",
    "一部のユーザーはPythonの集合`Set`を使用してインデックス$i \\in \\{0, 1, 2\\}$を以下のように作成したいと思うかもしれません。\n",
    "\n",
    "```python\n",
    "import jijmodeling as jm\n",
    "i = jm.Element(\"i\", {0,1,2}) # このコードはエラーが出る\n",
    "```\n",
    "\n",
    "しかし、`jijmodeling`では上記の書き方はサポートされていません。今回の例でいえば以下のように区間で表現する必要があります。（`Element`の区間は半壊区間であるため、$\\{0, 1, 2\\}$を表現するためには`(0, 3)`と書く必要があります）"
   ]
  },
  {
   "cell_type": "code",
   "execution_count": 24,
   "id": "ef8dcd2a-1aef-498c-b26f-13248b5169f1",
   "metadata": {},
   "outputs": [],
   "source": [
    "i = jm.Element(\"i\", (0, 3))"
   ]
  },
  {
   "cell_type": "markdown",
   "id": "2a8eb711-df28-4cc9-823e-2d8e11b2f903",
   "metadata": {},
   "source": [
    "より複雑なユースケースの場合（インデックスが単なる整数の連続値でない場合など）には、次の2つの方法のいずれかで表現できるかを検討してみてください。\n",
    "\n",
    "1つ目の選択肢は集合を表す一次元の`Placeholder`を作成することです。この選択肢は$E = \\{2, 4, 10, 35, 36\\}$のような不連続な整数を含む集合を表現するときに役に立ちます。これにより、 `Element`は集合を使ったかのように機能します。この方法を用いれば、$e \\in E$を表現する`Element`が以下のように定義できます。"
   ]
  },
  {
   "cell_type": "code",
   "execution_count": 25,
   "id": "aa8e6025-f3c6-4def-977c-07c7b2051b4c",
   "metadata": {},
   "outputs": [],
   "source": [
    "E = jm.Placeholder(\"E\", ndim=1)\n",
    "e = jm.Element(\"e\", E)"
   ]
  },
  {
   "cell_type": "markdown",
   "id": "d9fd8e1b-f33e-4dd8-9153-d1e515a8056a",
   "metadata": {},
   "source": [
    "ただし、数理モデルの中に具体的な集合内の値は現れないということに注意してください。その後、数理モデルをインスタンスに変換するときに`E`の実際の値を指定する必要があります。\n",
    "\n",
    "もう1つの選択肢は範囲内の有効な値を制限する条件を使用することです。この選択肢はルールに従う整数の集合を用いる場合に役に立ちます。条件の付け方については[こちら](../tutorials/expressions.ipynb)を参照してください。"
   ]
  },
  {
   "cell_type": "markdown",
   "id": "95eb11c4-b76a-41b0-8391-ab3141dd3d43",
   "metadata": {},
   "source": [
    "## 条件付きの`Element`を扱いたい場合\n",
    "\n",
    "しばしば、数理モデル中にある総和のインデックスには追加の条件が含まれていることがあります。例えば、$i \\neq j$のような条件です。これらの条件は、インデックスを作成するときではなく、総和や制約を定義するときに指定されます。`jijmodeling`では、`sum`の第1引数にタプル(<element>, <condition>)の形で条件付きのインデックスを定義することができます。この場合、<element>がインデックスとして使用され、<condition>が条件として設定され、<condition>が真であるときだけ足し合わされます。\n",
    "\n",
    "例えば、偶数の$i$に対する$x_i$の総和を考えてみましょう。`jijmodeling`では以下のように定義できます。"
   ]
  },
  {
   "cell_type": "code",
   "execution_count": 26,
   "id": "e973ef97-c3a4-4715-b5d6-20cfe14e78c6",
   "metadata": {},
   "outputs": [],
   "source": [
    "import jijmodeling as jm\n",
    "i = jm.Element(\"i\", (0, 100))\n",
    "x = jm.BinaryVar(\"x\", shape=(100,))\n",
    "\n",
    "sum_over_even_is = jm.sum((i, i % 2 == 0), x[i])"
   ]
  },
  {
   "cell_type": "markdown",
   "id": "89c28142-20c3-4b4b-9539-c984b0bf48a4",
   "metadata": {},
   "source": [
    "同じ総和で使用される他の`Element`と比較を行うことも可能です。また、`sum`の第1引数には`[[(index 1, condition of index 1), (index 2, condition of index 2), ...]]`の形で入力が可能です。\n",
    "この入力を利用する際の注意点として`condition of index 1`の中では`index 2`は使えない仕様のため、インデックスと条件の順序関係には気を付けるようにしてください。具体例として以下では`jijmodeling`で$i \\neq j$である2つのインデックス$i, j$に対する総和を示します。"
   ]
  },
  {
   "cell_type": "code",
   "execution_count": 27,
   "id": "b44d2ba3-8d7c-4dd5-97d7-382fce2cb6f5",
   "metadata": {},
   "outputs": [
    {
     "data": {
      "text/latex": [
       "$$\\displaystyle \\sum_{i = 0}^{99} \\sum_{\\substack{j = 0\\\\j \\neq i}}^{99} x_{i, j}$$"
      ],
      "text/plain": [
       "sum(Element(name='i', belong_to=(NumberLit(value=0), NumberLit(value=100))), sum(Element(name='j', belong_to=(NumberLit(value=0), NumberLit(value=100))), Element(name='j', belong_to=(NumberLit(value=0), NumberLit(value=100))) != Element(name='i', belong_to=(NumberLit(value=0), NumberLit(value=100))), BinaryVar(name='x', shape=[NumberLit(value=100), NumberLit(value=100)])[Element(name='i', belong_to=(NumberLit(value=0), NumberLit(value=100))), Element(name='j', belong_to=(NumberLit(value=0), NumberLit(value=100)))]))"
      ]
     },
     "execution_count": 27,
     "metadata": {},
     "output_type": "execute_result"
    }
   ],
   "source": [
    "import jijmodeling as jm\n",
    "\n",
    "i = jm.Element(\"i\", (0, 100))\n",
    "j = jm.Element(\"j\", (0, 100))\n",
    "x = jm.BinaryVar(\"x\", shape=(100, 100))\n",
    "\n",
    "jm.sum([i, (j, j!= i)], x[i, j])"
   ]
  },
  {
   "cell_type": "markdown",
   "id": "d7f6000c-b47f-479b-b3f1-050376d14f4e",
   "metadata": {},
   "source": [
    "また、同様のタプル表記は`Constraint`の引数`forall`でも利用できます。"
   ]
  },
  {
   "cell_type": "code",
   "execution_count": 28,
   "id": "69cec7eb-4966-410a-9596-3b5dcbff7858",
   "metadata": {},
   "outputs": [
    {
     "data": {
      "text/latex": [
       "\\begin{array}{cccc}\n",
       " & \\text{c1} & \\displaystyle x_{i, j} - x_{j, i} \\geq 0 & \\forall i \\in \\left\\{0,\\ldots,99\\right\\} \\forall j \\in \\left\\{j \\in \\left\\{0,\\ldots,99\\right\\} \\mid j \\neq i \\right\\} \\\\\n",
       "\\end{array}"
      ],
      "text/plain": [
       "Constraint(name=\"c1\", expression=x[i, j] - x[j, i] >= 0, forall=[i, (j, j != i)])"
      ]
     },
     "execution_count": 28,
     "metadata": {},
     "output_type": "execute_result"
    }
   ],
   "source": [
    "jm.Constraint(\"c1\", x[i, j] - x[j, i] >= 0, forall=[i, (j, j != i)])"
   ]
  },
  {
   "cell_type": "markdown",
   "id": "8c0835d5-93d7-4aec-ac2d-95882d4f6e66",
   "metadata": {},
   "source": [
    "インデックスに対してより複雑な条件を適用するには、条件式を演算子&（論理AND）、|（論理OR）、^（論理XOR）と組み合わせることができます：\n",
    "\n",
    "加えて、インデックスに対して比較演算だけでなく論理演算を適用することも可能です。ここでいう論理演算とは、論理積`&`、論理和`|`、排他的論理和`^`のことを指しています。"
   ]
  },
  {
   "cell_type": "code",
   "execution_count": 29,
   "id": "5bf07854-be0d-42f1-b7b8-b3af40fc7fae",
   "metadata": {},
   "outputs": [
    {
     "data": {
      "text/latex": [
       "$$\\displaystyle \\sum_{\\substack{i = 0\\\\\\left(i \\bmod 2\\right) = 0 \\lor \\left(i \\bmod 5\\right) = 0}}^{99} x_{i, 0}$$"
      ],
      "text/plain": [
       "sum(Element(name='i', belong_to=(NumberLit(value=0), NumberLit(value=100))), (Element(name='i', belong_to=(NumberLit(value=0), NumberLit(value=100))) % NumberLit(value=2)) == NumberLit(value=0) | (Element(name='i', belong_to=(NumberLit(value=0), NumberLit(value=100))) % NumberLit(value=5)) == NumberLit(value=0), BinaryVar(name='x', shape=[NumberLit(value=100), NumberLit(value=100)])[Element(name='i', belong_to=(NumberLit(value=0), NumberLit(value=100))), NumberLit(value=0)])"
      ]
     },
     "execution_count": 29,
     "metadata": {},
     "output_type": "execute_result"
    }
   ],
   "source": [
    "jm.sum((i, (i % 2 == 0) | (i % 5 == 0)), x[i, 0])"
   ]
  },
  {
   "cell_type": "markdown",
   "id": "3d4425ad-e852-4841-94af-7ae601832d91",
   "metadata": {},
   "source": [
    "## 両側を不等式で囲んだ制約を扱いたい場合\n",
    "\n",
    "数理最適化では$l \\leq x + y \\leq u$のような両側を不等式で囲んだ制約を扱いたいケースも存在します。このような制約は`jijmodeling`では直接サポートされておらず、そのまま実装しようとすると、`Converting <class> to boolean is unsupported`という例外が発生します。\n",
    "\n",
    "そのため、`jijmodeling`ではこのような制約を2つに分けて、それぞれ1つの不等式で記述する必要があります。"
   ]
  },
  {
   "cell_type": "code",
   "execution_count": 30,
   "id": "58bf9c54-481e-4939-988a-3f200a89a6b0",
   "metadata": {},
   "outputs": [
    {
     "data": {
      "text/latex": [
       "$$\\begin{array}{cccc}\\text{Problem:} & \\text{problem} & & \\\\& & \\min \\quad \\displaystyle 0 & \\\\\\text{{s.t.}} & & & \\\\ & \\text{greater than l} & \\displaystyle l \\leq x + y &  \\\\ & \\text{less than u} & \\displaystyle x + y \\leq u &  \\\\\\text{{where}} & & & \\\\& x & 0\\text{-dim integer variable}\\\\ & & \\text{lower bound: }0 & \\\\ & & \\text{upper bound: }10 & \\\\& y & 0\\text{-dim integer variable}\\\\ & & \\text{lower bound: }5 & \\\\ & & \\text{upper bound: }20 & \\\\\\end{array}$$"
      ],
      "text/plain": [
       "<jijmodeling.Problem at 0x111050e40>"
      ]
     },
     "execution_count": 30,
     "metadata": {},
     "output_type": "execute_result"
    }
   ],
   "source": [
    "import jijmodeling as jm\n",
    "\n",
    "l, u = jm.Placeholder(\"l\"), jm.Placeholder(\"u\")\n",
    "x = jm.IntegerVar(\"x\", lower_bound=0, upper_bound=10)\n",
    "y = jm.IntegerVar(\"y\", lower_bound=5, upper_bound=20)\n",
    "\n",
    "problem = jm.Problem(\"problem\")\n",
    "problem += jm.Constraint(\"greater than l\", l <= x + y)\n",
    "problem += jm.Constraint(\"less than u\", x + y <= u)\n",
    "problem"
   ]
  },
  {
   "cell_type": "markdown",
   "id": "abadb7d3-9a6c-48b4-9fd0-f2e9460326c4",
   "metadata": {},
   "source": [
    "## 従属変数を使いたい場合\n",
    "\n",
    "次のような制約を`jijmodeling`で書きたいとしましょう。\n",
    "\n",
    "$$\n",
    "\\begin{array}{cccc} & \\text{constraint:} &\n",
    "\\displaystyle y_{i} \\leq c & \\forall i \\in \\left\\{0,\\ldots,N - 1\\right\\} \\\\ \\end{array}\\quad\n",
    "\\text{where}\\quad y_{i} = a_{i} x_{i} + b\n",
    "$$\n",
    "\n",
    "この制約の中で$y_i$は従属変数となっています。`jijmodeling`では、このような従属変数を書くことも難しくありません。また、必要に応じて`set_latex`で$y_i$としてLaTeX表示することも可能です。"
   ]
  },
  {
   "cell_type": "code",
   "execution_count": 31,
   "id": "27f6a0db-8109-46b0-8179-0ffe11f22041",
   "metadata": {},
   "outputs": [
    {
     "data": {
      "text/latex": [
       "\\begin{array}{cccc}\n",
       " & \\text{constraint} & \\displaystyle y_i \\leq c & \\forall i \\in \\left\\{0,\\ldots,N - 1\\right\\} \\\\\n",
       "\\end{array}"
      ],
      "text/plain": [
       "Constraint(name=\"constraint\", expression=a[i] * x[i] + b <= c, forall=[i])"
      ]
     },
     "execution_count": 31,
     "metadata": {},
     "output_type": "execute_result"
    }
   ],
   "source": [
    "import jijmodeling as jm\n",
    "\n",
    "a = jm.Placeholder(\"a\", ndim=1)\n",
    "b = jm.Placeholder(\"b\")\n",
    "N = a.len_at(0, latex=\"N\")\n",
    "x = jm.BinaryVar(\"x\", shape=(N,))\n",
    "i = jm.Element(\"i\", belong_to=N)\n",
    "c = jm.Placeholder(\"c\")\n",
    "\n",
    "y = a[i] * x[i] + b\n",
    "y.set_latex(\"y_i\")\n",
    "jm.Constraint(\"constraint\", y <= c, forall=i)"
   ]
  },
  {
   "cell_type": "markdown",
   "id": "1ddc8b18-a4f3-4f0b-be61-9214708a59df",
   "metadata": {},
   "source": [
    "しかし、上記のコードは柔軟性に欠けている部分があります。なぜなら、$y$はインデックス$i$を明示的に使用して定義されており、同様の形の式が数理モデルの他の部分で使われていた場合に再利用することができないからです。この柔軟性を確保するには、Pythonの関数や`lambda`式を使うと良いでしょう、"
   ]
  },
  {
   "cell_type": "code",
   "execution_count": 32,
   "id": "65499f90-4661-4c61-998e-9a31bf51d0f4",
   "metadata": {},
   "outputs": [
    {
     "data": {
      "text/latex": [
       "\\begin{array}{cccc}\n",
       " & \\text{constraint} & \\displaystyle y_{e.name} \\leq c & \\forall i \\in \\left\\{0,\\ldots,N - 1\\right\\} \\\\\n",
       "\\end{array}"
      ],
      "text/plain": [
       "Constraint(name=\"constraint\", expression=a[i] * x[i] + b <= c, forall=[i])"
      ]
     },
     "execution_count": 32,
     "metadata": {},
     "output_type": "execute_result"
    }
   ],
   "source": [
    "y = lambda e: a[e] * x[e] + b\n",
    "jm.Constraint(\"constraint\", y(i) <= c, forall=i)\n",
    "\n",
    "def y(e: jm.Element):\n",
    "  y = a[e] * x[e] + b\n",
    "  y.set_latex(\"y_{e.name}\")\n",
    "  return y\n",
    "jm.Constraint(\"constraint\", y(i) <= c, forall=i)"
   ]
  },
  {
   "cell_type": "markdown",
   "id": "bcaff435-052f-4bd2-9021-2f73a393f295",
   "metadata": {},
   "source": [
    "## 異なる下限・上限を持つ多次元変数を扱いたい場合\n",
    "\n",
    "多次元の決定変数を定義する際には、通常、`lower_bound`と`upper_bound`をスカラー値として指定します。この場合、すべての決定変数は同じ下限・上限が設定されます。"
   ]
  },
  {
   "cell_type": "code",
   "execution_count": 33,
   "id": "d76ee44e-ccfe-48c3-8121-b29d26e57e67",
   "metadata": {},
   "outputs": [],
   "source": [
    "N = jm.Placeholder(\"N\")\n",
    "M = jm.Placeholder(\"M\")\n",
    "x = jm.IntegerVar(\"x\", shape=(N, M), lower_bound=0, upper_bound=5)"
   ]
  },
  {
   "cell_type": "markdown",
   "id": "0bd13a3a-601e-4824-b1f0-6b2661255486",
   "metadata": {},
   "source": [
    "上記のコードでは、`N * M`個の整数変数`x`が下限を0、上限を5として定義しています。では、異なる下限・上限を持つように定義したい場合はどうすれば良いのでしょうか？\n",
    "\n",
    "この疑問を解消する方法として、`lower_bound`と`upper_bound`を`Placeholder`で指定するという方法があります。0次元の`Placeholder`の場合、これは通常の数値リテラルを与えたときと同じように機能します。一方で、決定変数と同じ次元を持つ`Placeholder`を使用することもでき、その`Placeholder`によって各変数の下限・上限を指定することができます。\n",
    "\n",
    "以下は、変数$x_{i,j}$の上限を$ub_{i,j}$を個別に設定する例です。"
   ]
  },
  {
   "cell_type": "code",
   "execution_count": 39,
   "id": "8f3dcb86-7baa-4cea-b3ac-95275605f59c",
   "metadata": {},
   "outputs": [],
   "source": [
    "import jijmodeling as jm\n",
    "\n",
    "ub = jm.Placeholder(\"ub\", ndim=2)\n",
    "N = ub.len_at(0, latex=\"N\")\n",
    "M = ub.len_at(1, latex=\"M\")\n",
    "# 下限0、上限ubとする整数変数xを定義\n",
    "x = jm.IntegerVar(\"x\", shape=(N,M), lower_bound=0, upper_bound=ub)"
   ]
  },
  {
   "cell_type": "markdown",
   "id": "df2c47ef-26d4-4df9-aeac-a5d587af2088",
   "metadata": {},
   "source": [
    "決定変数と`Placeholder`の次元および形状が一致している必要があることに注意してください。また、すべての決定変数に有効な下限・上限が設定されていることにも注意してください。上記のコードでは`ub`に基づいて`N`および`M`を定義しているため、その形状が一致していることが保証できています。\n",
    "\n",
    "また、何らかの理由で`Placeholder`の転置や他の軸を指定して上限・下限として利用したい場合は、`Element`を使った特別な構文を利用することができます。例えば、変数$x_{i,j}$の上限をインデックスを反転させて$ub_{j,i}$の値にしたい場合です。これを行うには、軸に一致するElementを定義し、上限をub[j, i]として次のように指定します\n",
    "\n",
    "何らかの理由で、プレースホルダーの逆バージョンや、他の軸に一致するスキームとして境界を指定したい場合は、添字を使用する特別な構文をサポートしています。具体的には、変数$x_{i,j}$の上限をインデックスを反転させて$ub_{j,i}$の値にしたい場合です。これを行うには、軸に一致するElementを定義し、上限をub[j, i]として次のように指定します。"
   ]
  },
  {
   "cell_type": "code",
   "execution_count": 35,
   "id": "d184be21-dfc9-435b-bc56-2db8ed2f4825",
   "metadata": {},
   "outputs": [],
   "source": [
    "ub = jm.Placeholder(\"ub\", ndim=2)\n",
    "N = ub.len_at(0, latex=\"N\")\n",
    "M = ub.len_at(1, latex=\"M\")\n",
    "i = jm.Element(\"i\", N)\n",
    "j = jm.Element(\"j\", M)\n",
    "x = jm.IntegerVar(\"x\", shape=(N, M), lower_bound=0, upper_bound=ub[j, i])"
   ]
  },
  {
   "cell_type": "markdown",
   "id": "cd412799-7e6b-4a7e-89c8-8ffa3fed18e8",
   "metadata": {},
   "source": [
    "前述同様、すべての変数に有効な下限・上限が設定されていることに注意してください。加えて、上記のコードでは`N`と`M`が等しい場合にのみ意味があることにも注意してください。また、この構文は総和と制約の中では使えないことに注意してください。"
   ]
  },
  {
   "cell_type": "markdown",
   "id": "f150d2cc-7922-4617-a560-435dc32b2385",
   "metadata": {},
   "source": [
    "## 異なるサイズのインデックスに対する総和を扱いたい場合\n",
    "\n",
    "このTipでは少しニッチに思えるユースケースとして多次元の`Element`やインデックス付けに関する手法を説明していきます。\n",
    "\n",
    "2次元の決定変数$x$があり、次のような制約を書きたいとしましょう。\n",
    "\n",
    "$$\n",
    "\\sum_{a \\in A_{n}} x_{n, a} = 0,\\quad \\forall n \\in \\{0,..., N-1\\}\n",
    "$$\n",
    "\n",
    "ここで$A$は$N$行の2次元の”いびつな配列”です。そのため、$A$を「リストのリスト」と解釈すると、リスト毎にインデックスとして利用することができます。\n",
    "\n",
    "このような制約が何を意味するかを明確にするために、`A = [[1, 2, 3], [0, 1, 4, 5], [2, 3, 5]]`を例に考えてみましょう。具体的に制約を書き下すと以下のようになります。\n",
    "\n",
    "$$\n",
    "\\sum_{a \\in \\{ 1, 2, 3 \\}} x_{0, a} = 0 \\ \\land \\ \\sum_{a \\in \\{ 0, 1, 4, 5 \\}} x_{1, a} = 0 \\ \\land \\ \\sum_{a \\in \\{ 2, 3, 5 \\}} x_{2, a} = 0\n",
    "$$\n",
    "\n",
    "`jijmodeling`では、この制約を次のように書くことができます。"
   ]
  },
  {
   "cell_type": "code",
   "execution_count": 40,
   "id": "7d89ced2-4ffc-4da1-9846-d7e78b1825c6",
   "metadata": {},
   "outputs": [
    {
     "data": {
      "text/latex": [
       "\\begin{array}{cccc}\n",
       " & \\text{constraint} & \\displaystyle \\sum_{a \\in A_{n}} x_{n, a} = 0 & \\forall n \\in \\left\\{0,\\ldots,N - 1\\right\\} \\\\\n",
       "\\end{array}"
      ],
      "text/plain": [
       "Constraint(name=\"constraint\", expression=sum(a in A[n], x[n, a]) == 0, forall=[n])"
      ]
     },
     "execution_count": 40,
     "metadata": {},
     "output_type": "execute_result"
    }
   ],
   "source": [
    "import jijmodeling as jm\n",
    "\n",
    "A = jm.Placeholder(\"A\", ndim=2)\n",
    "N = A.len_at(0, latex=\"N\")\n",
    "n = jm.Element(\"n\", N) # \"いびつな\"配列の行数\n",
    "a = jm.Element(\"a\", A[n]) # 行毎のインデックス\n",
    "x = jm.BinaryVar(\"x\", shape=(3,6))\n",
    "\n",
    "jm.Constraint(\"constraint\", jm.sum(a, x[n, a]) == 0, forall=n)"
   ]
  },
  {
   "cell_type": "markdown",
   "id": "16336462-6936-43a8-9c14-55d5b4873ca1",
   "metadata": {},
   "source": [
    "上記の例では`x`の形状を具体的な数値で定義しました。実際の数理モデルでは形状も`Placeholder`にするかインデックスエラーを避けるために他のパラメータに関連して定義することをお勧めします。このような制約を正しく定義するためには十分な決定変数`x`を定義するのが良いでしょう。具体的には、上記のコードの`(3, 6)`を`(Aの行数, Aの列数の最大値)`に置き換えれば良いでしょう。しかし、`Aの行数`は`N`ですが、`Aの列数の最大値`は数理モデルの構築段階ではわからないという問題があります。そのため、追加で`Placeholder`を定義し、インスタンスデータとして指定できるようにしておくと良いでしょう。"
   ]
  },
  {
   "cell_type": "code",
   "execution_count": 41,
   "id": "87e1d812-e9b1-4ee5-bd89-5a3a070944ff",
   "metadata": {},
   "outputs": [],
   "source": [
    "# `Aの列数の最大値`を意味するPlaceholderを定義\n",
    "max_A = jm.Placeholder(\"max_A\") \n",
    "x = jm.BinaryVar(\"x\", shape=(N, max_A + 1))\n",
    "\n",
    "problem = jm.Problem(\"problem\")\n",
    "problem += jm.Constraint(\"constraint\", jm.sum(a, x[n, a]) == 0, forall=n)"
   ]
  },
  {
   "cell_type": "markdown",
   "id": "4c3a952a-d1c4-47b7-98df-0d843c9bf6a7",
   "metadata": {},
   "source": [
    "`jijmodeling_transpiler`やJijZeptで使用するインスタンスデータは以下のように構築すると良いでしょう。"
   ]
  },
  {
   "cell_type": "code",
   "execution_count": 42,
   "id": "0909b661-c3f5-4e60-b9b9-1b3acf65581a",
   "metadata": {},
   "outputs": [],
   "source": [
    "# \"いびつな\"配列を作成\n",
    "data_A = [\n",
    "    [1, 2, 3],\n",
    "    [0, 1, 4, 5],\n",
    "    [2, 3, 5],\n",
    "    # ...\n",
    "]\n",
    "# \"いびつな\"配列の列数の最大値を取得\n",
    "data_max_A = max(max(An) for An in data_A)\n",
    "\n",
    "instance_data = {\n",
    "    \"A\": data_A,\n",
    "    \"max_An\": data_max_A,\n",
    "}"
   ]
  }
 ],
 "metadata": {
  "kernelspec": {
   "display_name": ".venv",
   "language": "python",
   "name": "python3"
  },
  "language_info": {
   "codemirror_mode": {
    "name": "ipython",
    "version": 3
   },
   "file_extension": ".py",
   "mimetype": "text/x-python",
   "name": "python",
   "nbconvert_exporter": "python",
   "pygments_lexer": "ipython3",
   "version": "3.9.16"
  }
 },
 "nbformat": 4,
 "nbformat_minor": 5
}
