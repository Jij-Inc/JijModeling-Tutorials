{
 "cells": [
  {
   "cell_type": "markdown",
   "metadata": {},
   "source": [
    "# Cheat Sheet\n",
    ":::caution\n",
    "This document is out-dated. Go back to [latest page](../)\n",
    ":::"
   ]
  },
  {
   "cell_type": "markdown",
   "metadata": {},
   "source": [
    "## Summations\n",
    "### Sum over variables by index"
   ]
  },
  {
   "cell_type": "code",
   "execution_count": 1,
   "metadata": {},
   "outputs": [
    {
     "data": {
      "text/latex": [
       "$$\\displaystyle \\sum_{i = 0}^{N - 1} x_{i}$$"
      ],
      "text/plain": [
       "sum(Element(name='i', belong_to=(NumberLit(value=0), Placeholder(name='N', ndim=0))), BinaryVar(name='x', shape=[Placeholder(name='N', ndim=0)])[Element(name='i', belong_to=(NumberLit(value=0), Placeholder(name='N', ndim=0)))])"
      ]
     },
     "execution_count": 1,
     "metadata": {},
     "output_type": "execute_result"
    }
   ],
   "source": [
    "import jijmodeling as jm\n",
    "\n",
    "N = jm.Placeholder('N')\n",
    "x = jm.BinaryVar('x',shape=(N,))\n",
    "i = jm.Element('i', belong_to=(0, N))\n",
    "jm.sum(i,x[i])"
   ]
  },
  {
   "cell_type": "markdown",
   "metadata": {},
   "source": [
    "### Sum over variables with coefficients"
   ]
  },
  {
   "cell_type": "code",
   "execution_count": 2,
   "metadata": {},
   "outputs": [
    {
     "data": {
      "text/latex": [
       "$$\\displaystyle \\sum_{i = 0}^{N - 1} a_{i} \\cdot x_{i}$$"
      ],
      "text/plain": [
       "sum(Element(name='i', belong_to=(NumberLit(value=0), Placeholder(name='N', ndim=0))), Placeholder(name='a', ndim=1)[Element(name='i', belong_to=(NumberLit(value=0), Placeholder(name='N', ndim=0)))] * BinaryVar(name='x', shape=[Placeholder(name='N', ndim=0)])[Element(name='i', belong_to=(NumberLit(value=0), Placeholder(name='N', ndim=0)))])"
      ]
     },
     "execution_count": 2,
     "metadata": {},
     "output_type": "execute_result"
    }
   ],
   "source": [
    "import jijmodeling as jm\n",
    "\n",
    "N = jm.Placeholder('N')\n",
    "a = jm.Placeholder('a', ndim=1)\n",
    "x = jm.BinaryVar('x', shape=(N,))\n",
    "i = jm.Element('i', belong_to=(0, N))\n",
    "jm.sum(i,a[i] * x[i])"
   ]
  },
  {
   "cell_type": "markdown",
   "metadata": {},
   "source": [
    "### Sum over variables with indices in the set"
   ]
  },
  {
   "cell_type": "code",
   "execution_count": 3,
   "metadata": {},
   "outputs": [
    {
     "data": {
      "text/latex": [
       "$$\\displaystyle \\sum_{i \\in C} x_{i}$$"
      ],
      "text/plain": [
       "sum(Element(name='i', belong_to=Placeholder(name='C', ndim=1)), BinaryVar(name='x', shape=[Placeholder(name='N', ndim=0)])[Element(name='i', belong_to=Placeholder(name='C', ndim=1))])"
      ]
     },
     "execution_count": 3,
     "metadata": {},
     "output_type": "execute_result"
    }
   ],
   "source": [
    "import jijmodeling as jm\n",
    "\n",
    "N = jm.Placeholder('N')\n",
    "C = jm.Placeholder('C', ndim=1)\n",
    "x = jm.BinaryVar('x', shape=(N,))\n",
    "i = jm.Element('i', belong_to=C)\n",
    "jm.sum(i,x[i])"
   ]
  },
  {
   "cell_type": "markdown",
   "metadata": {},
   "source": [
    "### Sum over graph nodes in edges"
   ]
  },
  {
   "cell_type": "code",
   "execution_count": 4,
   "metadata": {},
   "outputs": [
    {
     "data": {
      "text/latex": [
       "$$\\displaystyle \\sum_{e \\in E} x_{e_{0}} \\cdot x_{e_{1}}$$"
      ],
      "text/plain": [
       "sum(Element(name='e', belong_to=Placeholder(name='E', ndim=2)), BinaryVar(name='x', shape=[Placeholder(name='V', ndim=0)])[Element(name='e', belong_to=Placeholder(name='E', ndim=2))[NumberLit(value=0)]] * BinaryVar(name='x', shape=[Placeholder(name='V', ndim=0)])[Element(name='e', belong_to=Placeholder(name='E', ndim=2))[NumberLit(value=1)]])"
      ]
     },
     "execution_count": 4,
     "metadata": {},
     "output_type": "execute_result"
    }
   ],
   "source": [
    "import jijmodeling as jm\n",
    "\n",
    "V = jm.Placeholder('V')\n",
    "E = jm.Placeholder('E', ndim=2)\n",
    "x = jm.BinaryVar('x', shape=(V,))\n",
    "e = jm.Element('e', belong_to=E)\n",
    "jm.sum(e, x[e[0]]*x[e[1]])"
   ]
  },
  {
   "cell_type": "markdown",
   "metadata": {},
   "source": [
    "### Sum with condition"
   ]
  },
  {
   "cell_type": "code",
   "execution_count": 5,
   "metadata": {},
   "outputs": [
    {
     "data": {
      "text/latex": [
       "$$\\displaystyle \\sum_{i = 0}^{N - 1} \\sum_{\\substack{j = 0\\\\i > j}}^{N - 1} J_{i, j} \\cdot x_{i} \\cdot x_{i}$$"
      ],
      "text/plain": [
       "sum(Element(name='i', belong_to=(NumberLit(value=0), Placeholder(name='N', ndim=0))), sum(Element(name='j', belong_to=(NumberLit(value=0), Placeholder(name='N', ndim=0))), Element(name='i', belong_to=(NumberLit(value=0), Placeholder(name='N', ndim=0))) > Element(name='j', belong_to=(NumberLit(value=0), Placeholder(name='N', ndim=0))), Placeholder(name='J', ndim=2)[Element(name='i', belong_to=(NumberLit(value=0), Placeholder(name='N', ndim=0))), Element(name='j', belong_to=(NumberLit(value=0), Placeholder(name='N', ndim=0)))] * BinaryVar(name='x', shape=[Placeholder(name='N', ndim=0)])[Element(name='i', belong_to=(NumberLit(value=0), Placeholder(name='N', ndim=0)))] * BinaryVar(name='x', shape=[Placeholder(name='N', ndim=0)])[Element(name='i', belong_to=(NumberLit(value=0), Placeholder(name='N', ndim=0)))]))"
      ]
     },
     "execution_count": 5,
     "metadata": {},
     "output_type": "execute_result"
    }
   ],
   "source": [
    "import jijmodeling as jm\n",
    "\n",
    "N = jm.Placeholder('N')\n",
    "J = jm.Placeholder('J', ndim=2)\n",
    "x = jm.BinaryVar('x', shape=(N,))\n",
    "i = jm.Element('i', belong_to=(0, N))\n",
    "j = jm.Element('j', belong_to=(0, N))\n",
    "jm.sum([i,(j,i>j)],J[i,j] * x[i] * x[i])"
   ]
  },
  {
   "cell_type": "markdown",
   "metadata": {},
   "source": [
    "### Sum over all elements in matrix except for diagonal elements"
   ]
  },
  {
   "cell_type": "code",
   "execution_count": 6,
   "metadata": {},
   "outputs": [
    {
     "data": {
      "text/latex": [
       "$$\\displaystyle \\sum_{i = 0}^{N - 1} \\sum_{\\substack{j = 0\\\\i \\neq j}}^{N - 1} J_{i, j}$$"
      ],
      "text/plain": [
       "sum(Element(name='i', belong_to=(NumberLit(value=0), Placeholder(name='N', ndim=0))), sum(Element(name='j', belong_to=(NumberLit(value=0), Placeholder(name='N', ndim=0))), Element(name='i', belong_to=(NumberLit(value=0), Placeholder(name='N', ndim=0))) != Element(name='j', belong_to=(NumberLit(value=0), Placeholder(name='N', ndim=0))), Placeholder(name='J', ndim=2)[Element(name='i', belong_to=(NumberLit(value=0), Placeholder(name='N', ndim=0))), Element(name='j', belong_to=(NumberLit(value=0), Placeholder(name='N', ndim=0)))]))"
      ]
     },
     "execution_count": 6,
     "metadata": {},
     "output_type": "execute_result"
    }
   ],
   "source": [
    "import jijmodeling as jm\n",
    "\n",
    "N = jm.Placeholder('N')\n",
    "J = jm.Placeholder('J', ndim=2)\n",
    "i = jm.Element('i', belong_to=(0, N))\n",
    "j = jm.Element('j', belong_to=(0, N))\n",
    "jm.sum([i,(j,i!=j)],J[i,j])"
   ]
  },
  {
   "cell_type": "markdown",
   "metadata": {},
   "source": [
    "### The range of a sum depends on the index of another sum."
   ]
  },
  {
   "cell_type": "code",
   "execution_count": 7,
   "metadata": {},
   "outputs": [
    {
     "data": {
      "text/latex": [
       "$$\\displaystyle \\sum_{i = 0}^{N - 1} \\sum_{j = 0}^{a_{i} - 1} x_{j}$$"
      ],
      "text/plain": [
       "sum(Element(name='i', belong_to=(NumberLit(value=0), Placeholder(name='N', ndim=0))), sum(Element(name='j', belong_to=(NumberLit(value=0), Placeholder(name='a', ndim=1)[Element(name='i', belong_to=(NumberLit(value=0), Placeholder(name='N', ndim=0)))])), BinaryVar(name='x', shape=[Placeholder(name='N', ndim=0)])[Element(name='j', belong_to=(NumberLit(value=0), Placeholder(name='a', ndim=1)[Element(name='i', belong_to=(NumberLit(value=0), Placeholder(name='N', ndim=0)))]))]))"
      ]
     },
     "execution_count": 7,
     "metadata": {},
     "output_type": "execute_result"
    }
   ],
   "source": [
    "import jijmodeling as jm\n",
    "\n",
    "N = jm.Placeholder('N')\n",
    "x = jm.BinaryVar('x', shape=(N,))\n",
    "a = jm.Placeholder('a', ndim=1)\n",
    "i = jm.Element('i', belong_to=(0,N))\n",
    "j = jm.Element('j', belong_to=a[i]) \n",
    "jm.sum(i, jm.sum(j, x[j]))"
   ]
  },
  {
   "cell_type": "markdown",
   "metadata": {},
   "source": [
    "## Constraints\n",
    "### One-hot constraint"
   ]
  },
  {
   "cell_type": "code",
   "execution_count": 8,
   "metadata": {},
   "outputs": [
    {
     "data": {
      "text/latex": [
       "\\begin{array}{cccc}\n",
       " & \\text{onehot\\_constraint} & \\displaystyle \\sum_{i = 0}^{N - 1} x_{i} = 1 &  \\\\\n",
       "\\end{array}"
      ],
      "text/plain": [
       "Constraint(name=\"onehot_constraint\", expression=sum(i in [0..N), x[i]) == 1)"
      ]
     },
     "execution_count": 8,
     "metadata": {},
     "output_type": "execute_result"
    }
   ],
   "source": [
    "import jijmodeling as jm\n",
    "\n",
    "N = jm.Placeholder('N')\n",
    "x = jm.BinaryVar('x',shape=(N,))\n",
    "i = jm.Element('i', belong_to=(0, N))\n",
    "jm.Constraint('onehot_constraint' , jm.sum(i,x[i]) == 1)"
   ]
  },
  {
   "cell_type": "markdown",
   "metadata": {},
   "source": [
    "### K-hot constraint"
   ]
  },
  {
   "cell_type": "code",
   "execution_count": 9,
   "metadata": {},
   "outputs": [
    {
     "data": {
      "text/latex": [
       "\\begin{array}{cccc}\n",
       " & \\text{k-hot\\_constraint} & \\displaystyle \\sum_{i = 0}^{N - 1} x_{i} = K &  \\\\\n",
       "\\end{array}"
      ],
      "text/plain": [
       "Constraint(name=\"k-hot_constraint\", expression=sum(i in [0..N), x[i]) == K)"
      ]
     },
     "execution_count": 9,
     "metadata": {},
     "output_type": "execute_result"
    }
   ],
   "source": [
    "import jijmodeling as jm\n",
    "\n",
    "K = jm.Placeholder('K')\n",
    "N = jm.Placeholder('N')\n",
    "x = jm.BinaryVar('x',shape=(N,))\n",
    "i = jm.Element('i', belong_to=(0, N))\n",
    "jm.Constraint('k-hot_constraint' , jm.sum(i,x[i]) == K)"
   ]
  },
  {
   "cell_type": "markdown",
   "metadata": {},
   "source": [
    "### K-hot constraint for each index of 2-dim Binary variable"
   ]
  },
  {
   "cell_type": "code",
   "execution_count": 10,
   "metadata": {},
   "outputs": [
    {
     "data": {
      "text/latex": [
       "\\begin{array}{cccc}\n",
       " & \\text{k-hot\\_constraint} & \\displaystyle \\sum_{i = 0}^{N - 1} x_{i, j} = K_{j} & \\forall j \\in \\left\\{0,\\ldots,N - 1\\right\\} \\\\\n",
       "\\end{array}"
      ],
      "text/plain": [
       "Constraint(name=\"k-hot_constraint\", expression=sum(i in [0..N), x[i, j]) == K[j], forall=[j])"
      ]
     },
     "execution_count": 10,
     "metadata": {},
     "output_type": "execute_result"
    }
   ],
   "source": [
    "import jijmodeling as jm\n",
    "\n",
    "K = jm.Placeholder('K', ndim=1)\n",
    "N = jm.Placeholder('N')\n",
    "x = jm.BinaryVar('x', shape=(N,N))\n",
    "i = jm.Element('i', belong_to=(0, N))\n",
    "j = jm.Element('j', belong_to=(0, N))\n",
    "jm.Constraint('k-hot_constraint' , jm.sum(i,x[i,j]) == K[j], forall=j)"
   ]
  },
  {
   "cell_type": "markdown",
   "metadata": {},
   "source": [
    "### K-hot constraint for each set"
   ]
  },
  {
   "cell_type": "code",
   "execution_count": 11,
   "metadata": {},
   "outputs": [
    {
     "data": {
      "text/latex": [
       "\\begin{array}{cccc}\n",
       " & \\text{k-hot\\_constraint} & \\displaystyle \\sum_{i \\in C_{\\alpha}} x_{i} = K_{\\alpha} & \\forall \\alpha \\in \\left\\{0,\\ldots,M - 1\\right\\} \\\\\n",
       "\\end{array}"
      ],
      "text/plain": [
       "Constraint(name=\"k-hot_constraint\", expression=sum(i in C[a], x[i]) == K[a], forall=[a])"
      ]
     },
     "execution_count": 11,
     "metadata": {},
     "output_type": "execute_result"
    }
   ],
   "source": [
    "K = jm.Placeholder('K', ndim=1)\n",
    "C = jm.Placeholder('C', ndim=2)\n",
    "N = jm.Placeholder('N') # for binary index\n",
    "M = jm.Placeholder('M') # for set index\n",
    "\n",
    "x = jm.BinaryVar('x', shape=(N,))\n",
    "a = jm.Element('a', belong_to=(0, M))\n",
    "a.set_latex(r'\\alpha')\n",
    "i = jm.Element('i', belong_to=C[a])\n",
    "\n",
    "jm.Constraint('k-hot_constraint' , jm.sum(i,x[i]) == K[a], forall=a)"
   ]
  },
  {
   "cell_type": "markdown",
   "metadata": {},
   "source": [
    "### Knapsack Constraint (Linear inequality constraint)"
   ]
  },
  {
   "cell_type": "code",
   "execution_count": 12,
   "metadata": {},
   "outputs": [
    {
     "data": {
      "text/latex": [
       "\\begin{array}{cccc}\n",
       " & \\text{weight} & \\displaystyle \\sum_{i = 0}^{N - 1} w_{i} \\cdot x_{i} \\leq W &  \\\\\n",
       "\\end{array}"
      ],
      "text/plain": [
       "Constraint(name=\"weight\", expression=sum(i in [0..N), w[i] * x[i]) <= W)"
      ]
     },
     "execution_count": 12,
     "metadata": {},
     "output_type": "execute_result"
    }
   ],
   "source": [
    "import jijmodeling as jm\n",
    "\n",
    "w = jm.Placeholder('w', ndim=1)\n",
    "W = jm.Placeholder('W')\n",
    "N = jm.Placeholder('N')\n",
    "x = jm.BinaryVar('x', shape=(N,))\n",
    "i = jm.Element('i', belong_to=(0, N))\n",
    "jm.Constraint('weight', jm.sum(i,w[i] * x[i])<=W)"
   ]
  },
  {
   "cell_type": "markdown",
   "metadata": {},
   "source": [
    "### Big-M inequality"
   ]
  },
  {
   "cell_type": "code",
   "execution_count": 13,
   "metadata": {},
   "outputs": [
    {
     "data": {
      "text/latex": [
       "\\begin{array}{cccc}\n",
       " & \\text{Big-M} & \\displaystyle t_{i} + c_{i, j} - M \\cdot \\left(- x_{i, j} + 1\\right) \\leq t_{j} & \\forall i \\in \\left\\{0,\\ldots,N - 1\\right\\} \\forall j \\in \\left\\{j \\in \\left\\{0,\\ldots,N - 1\\right\\} \\mid j \\neq i \\right\\} \\\\\n",
       "\\end{array}"
      ],
      "text/plain": [
       "Constraint(name=\"Big-M\", expression=t[i] + c[i, j] - M * (- x[i, j] + 1) <= t[j], forall=[i, (j, j != i)])"
      ]
     },
     "execution_count": 13,
     "metadata": {},
     "output_type": "execute_result"
    }
   ],
   "source": [
    "import jijmodeling as jm\n",
    "\n",
    "c = jm.Placeholder('c', ndim=2)\n",
    "N = c.len_at(0, latex='N')\n",
    "M = jm.Placeholder('M')\n",
    "\n",
    "x = jm.BinaryVar('x', shape=(N,N))\n",
    "e = jm.Placeholder('e', ndim=1)\n",
    "l = jm.Placeholder('l', ndim=1)\n",
    "t = jm.IntegerVar('t',shape=(N,),lower_bound=e,upper_bound=l)\n",
    "i = jm.Element('i', belong_to=(0,N))\n",
    "j = jm.Element('j',belong_to=(0,N))\n",
    "    \n",
    "jm.Constraint('Big-M',t[i] + c[i,j] - M * (1 - x[i,j]) <= t[j],forall=[(i),(j,j!=i)])"
   ]
  },
  {
   "cell_type": "code",
   "execution_count": null,
   "metadata": {},
   "outputs": [],
   "source": []
  }
 ],
 "metadata": {
  "kernelspec": {
   "display_name": ".venv",
   "language": "python",
   "name": "python3"
  },
  "language_info": {
   "codemirror_mode": {
    "name": "ipython",
    "version": 3
   },
   "file_extension": ".py",
   "mimetype": "text/x-python",
   "name": "python",
   "nbconvert_exporter": "python",
   "pygments_lexer": "ipython3",
   "version": "3.11.5"
  }
 },
 "nbformat": 4,
 "nbformat_minor": 2
}
